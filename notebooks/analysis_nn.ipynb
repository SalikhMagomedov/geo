{
 "cells": [
  {
   "cell_type": "code",
   "execution_count": 176,
   "metadata": {
    "collapsed": false,
    "pycharm": {
     "name": "#%%\n"
    }
   },
   "outputs": [],
   "source": [
    "import os.path\n",
    "from datetime import datetime as dt\n",
    "\n",
    "import keras.utils.vis_utils\n",
    "import keras_tuner as kt\n",
    "import numpy as np\n",
    "import pandas as pd\n",
    "import plotly.graph_objects as go\n",
    "import tensorflow as tf\n",
    "from IPython.display import display, clear_output\n",
    "from dateutil.relativedelta import relativedelta\n",
    "from keras import Sequential, layers, losses, metrics, activations\n",
    "from keras import callbacks\n",
    "from keras.api.keras import optimizers\n",
    "\n",
    "import file_helper"
   ]
  },
  {
   "cell_type": "code",
   "execution_count": 42,
   "metadata": {
    "collapsed": false,
    "pycharm": {
     "name": "#%%\n"
    }
   },
   "outputs": [
    {
     "data": {
      "text/plain": "[PhysicalDevice(name='/physical_device:GPU:0', device_type='GPU')]"
     },
     "execution_count": 42,
     "metadata": {},
     "output_type": "execute_result"
    }
   ],
   "source": [
    "tf.config.list_physical_devices('GPU')"
   ]
  },
  {
   "cell_type": "code",
   "execution_count": 43,
   "metadata": {
    "collapsed": false,
    "pycharm": {
     "name": "#%%\n"
    }
   },
   "outputs": [],
   "source": [
    "DATE_FORMAT = '%d.%m.%Y'"
   ]
  },
  {
   "cell_type": "code",
   "execution_count": 44,
   "metadata": {
    "collapsed": false,
    "pycharm": {
     "name": "#%%\n"
    }
   },
   "outputs": [],
   "source": [
    "def convert_string_to_date(string_date: str) -> dt:\n",
    "    return dt.strptime(string_date, DATE_FORMAT)\n",
    "\n",
    "def normalize_columns_in_dataframe(data: pd.DataFrame, columns: list[str] = None) -> None:\n",
    "    data_columns = data[columns]\n",
    "    min_values = data_columns.min()\n",
    "    max_values = data_columns.max()\n",
    "    data[columns] = (data_columns - min_values) / (max_values - min_values)"
   ]
  },
  {
   "cell_type": "code",
   "execution_count": 45,
   "metadata": {
    "collapsed": false,
    "pycharm": {
     "name": "#%%\n"
    }
   },
   "outputs": [],
   "source": [
    "geochem_data = pd.read_excel(file_helper.get_geo_chem_file_path(), 'dubki_h_tau')"
   ]
  },
  {
   "cell_type": "code",
   "execution_count": 46,
   "metadata": {
    "collapsed": false,
    "pycharm": {
     "name": "#%%\n"
    }
   },
   "outputs": [],
   "source": [
    "events_catalog_data = pd.read_csv(file_helper.get_events_catalog_file_path(), sep=';').iloc[10000:]\n",
    "events_catalog_data['Date'] = pd.to_datetime(events_catalog_data['Date'], format=DATE_FORMAT)"
   ]
  },
  {
   "cell_type": "code",
   "execution_count": 373,
   "metadata": {
    "collapsed": false,
    "pycharm": {
     "name": "#%%\n"
    }
   },
   "outputs": [],
   "source": [
    "DATE_TARGET_OFFSET = relativedelta(months=3)\n",
    "DATE_TARGET_DURATION = relativedelta(months=1)\n",
    "STARTING_EVENT_CLASS = 13"
   ]
  },
  {
   "cell_type": "code",
   "execution_count": 374,
   "metadata": {
    "collapsed": false,
    "pycharm": {
     "name": "#%%\n"
    }
   },
   "outputs": [],
   "source": [
    "def split_data(date_target_offset: relativedelta, date_target_duration: relativedelta, starting_event_class) -> (pd.DataFrame, pd.DataFrame):\n",
    "    preprocessed_data = pd.DataFrame(geochem_data).copy()\n",
    "\n",
    "    normalize_columns_in_dataframe(preprocessed_data, ['events', 'ascend', 'maximum', 'descend', 'minimum'])\n",
    "\n",
    "    breakpoint_date = convert_string_to_date('31.12.2021') - date_target_offset - date_target_duration\n",
    "    reserved_data = preprocessed_data[breakpoint_date < preprocessed_data['to date']].drop(['from date'], axis=1)\n",
    "    preprocessed_data = preprocessed_data[preprocessed_data['to date'] <= breakpoint_date]\n",
    "    preprocessed_data['target'] = preprocessed_data['to date'].map(lambda date: 1 if len(events_catalog_data[\n",
    "        ((date + date_target_offset) <= events_catalog_data['Date'])\n",
    "        & (events_catalog_data['Date'] <= (date + date_target_offset + date_target_duration))\n",
    "        & (starting_event_class <= events_catalog_data['Class'])\n",
    "    ]) > 0 else 0)\n",
    "    preprocessed_data = preprocessed_data.drop(['from date', 'to date'], axis=1)\n",
    "\n",
    "    return preprocessed_data, reserved_data"
   ]
  },
  {
   "cell_type": "code",
   "execution_count": 375,
   "metadata": {
    "collapsed": false,
    "pycharm": {
     "name": "#%%\n"
    }
   },
   "outputs": [],
   "source": [
    "preprocessed_data, reserved_data = split_data(DATE_TARGET_OFFSET, DATE_TARGET_DURATION, STARTING_EVENT_CLASS)"
   ]
  },
  {
   "cell_type": "code",
   "execution_count": 376,
   "metadata": {
    "collapsed": false,
    "pycharm": {
     "name": "#%%\n"
    }
   },
   "outputs": [],
   "source": [
    "# display(\n",
    "#     preprocessed_data.tail(),\n",
    "#     reserved_data.head()\n",
    "# )\n",
    "# geochem_data.head()"
   ]
  },
  {
   "cell_type": "code",
   "execution_count": 377,
   "metadata": {
    "collapsed": false,
    "pycharm": {
     "name": "#%%\n"
    }
   },
   "outputs": [],
   "source": [
    "RANDOM_STATE = 42\n",
    "TRAIN_FRAC = .8"
   ]
  },
  {
   "cell_type": "code",
   "execution_count": 378,
   "metadata": {
    "collapsed": false,
    "pycharm": {
     "name": "#%%\n"
    }
   },
   "outputs": [],
   "source": [
    "def generate_train_test(data: pd.DataFrame):\n",
    "    x = data.drop(['target'], axis=1)\n",
    "    y = data['target']\n",
    "\n",
    "    x_train, y_train = x.sample(frac=TRAIN_FRAC, random_state=RANDOM_STATE), y.sample(frac=TRAIN_FRAC, random_state=RANDOM_STATE)\n",
    "    x_test, y_test = x.drop(x_train.index), y.drop(y_train.index)\n",
    "\n",
    "    return (x_train, y_train), (x_test, y_test)"
   ]
  },
  {
   "cell_type": "code",
   "execution_count": 379,
   "metadata": {
    "collapsed": false,
    "pycharm": {
     "name": "#%%\n"
    }
   },
   "outputs": [],
   "source": [
    "def model_builder(hp: kt.HyperParameters):\n",
    "    # hp_date_target_offset_months = hp.Int('offset', 1, 12)\n",
    "    # hp_date_target_duration_months = hp.Int('duration', 1, 12)\n",
    "\n",
    "    hp_activation = hp.Choice('activation', values=['linear', 'relu', 'tanh', 'sigmoid'])\n",
    "    hp_units = hp.Int('units', min_value=8, max_value=128, step=8)\n",
    "    hp_activation_1 = hp.Choice('activation_1', values=['linear', 'relu', 'tanh', 'sigmoid'])\n",
    "    hp_units_1 = hp.Int('units_1', min_value=8, max_value=128, step=8)\n",
    "    hp_activation_2 = hp.Choice('activation_2', values=['linear', 'relu', 'tanh', 'sigmoid'])\n",
    "    hp_units_2 = hp.Int('units_2', min_value=8, max_value=128, step=8)\n",
    "    hp_learning_rate = hp.Choice('learning_rate', values=[1e-2, 1e-3, 1e-4])\n",
    "\n",
    "    model = Sequential([\n",
    "        layers.InputLayer((5,), name='input'),\n",
    "        layers.Dense(units=hp_units, activation=hp_activation, name='dense_0'),\n",
    "        layers.Dense(units=hp_units_1, activation=hp_activation_1, name='dense_1'),\n",
    "        layers.Dense(units=hp_units_2, activation=hp_activation_2, name='dense_2'),\n",
    "        layers.Dense(1, name='output')\n",
    "    ])\n",
    "\n",
    "    model.compile(\n",
    "        optimizer=optimizers.Adam(learning_rate=hp_learning_rate),\n",
    "        loss=losses.BinaryCrossentropy(from_logits=True),\n",
    "        metrics=[metrics.BinaryAccuracy(name='accuracy')]\n",
    "    )\n",
    "\n",
    "    return model"
   ]
  },
  {
   "cell_type": "code",
   "execution_count": 380,
   "metadata": {
    "collapsed": false,
    "pycharm": {
     "name": "#%%\n"
    }
   },
   "outputs": [
    {
     "name": "stdout",
     "output_type": "stream",
     "text": [
      "INFO:tensorflow:Reloading Oracle from existing project C:\\Users\\saaru\\PycharmProjects\\geo\\data/hypermodel/date_o_d/3/1\\geo_analysis\\oracle.json\n",
      "INFO:tensorflow:Reloading Tuner from C:\\Users\\saaru\\PycharmProjects\\geo\\data/hypermodel/date_o_d/3/1\\geo_analysis\\tuner0.json\n"
     ]
    }
   ],
   "source": [
    "tuner = kt.Hyperband(\n",
    "    model_builder,\n",
    "    objective='val_accuracy',\n",
    "    max_epochs=200,\n",
    "    factor=3,\n",
    "    directory=os.path.join(file_helper.get_root_path(), f'data/hypermodel/date_o_d/{DATE_TARGET_OFFSET.months}/{DATE_TARGET_DURATION.months}'),\n",
    "    project_name='geo_analysis'\n",
    ")"
   ]
  },
  {
   "cell_type": "code",
   "execution_count": 381,
   "metadata": {
    "collapsed": false,
    "pycharm": {
     "name": "#%%\n"
    }
   },
   "outputs": [],
   "source": [
    "stop_early = callbacks.EarlyStopping(monitor='val_loss', patience=10)"
   ]
  },
  {
   "cell_type": "code",
   "execution_count": 382,
   "outputs": [],
   "source": [
    "(x_train, y_train), (x_test, y_test) = generate_train_test(preprocessed_data)"
   ],
   "metadata": {
    "collapsed": false,
    "pycharm": {
     "name": "#%%\n"
    }
   }
  },
  {
   "cell_type": "code",
   "execution_count": 383,
   "metadata": {
    "collapsed": false,
    "pycharm": {
     "name": "#%%\n"
    }
   },
   "outputs": [
    {
     "name": "stdout",
     "output_type": "stream",
     "text": [
      "INFO:tensorflow:Oracle triggered exit\n"
     ]
    }
   ],
   "source": [
    "tuner.search(x_train, y_train, epochs=100, validation_split=.2, callbacks=[stop_early])\n",
    "\n",
    "best_hps = tuner.get_best_hyperparameters(num_trials=1)[0]"
   ]
  },
  {
   "cell_type": "code",
   "execution_count": 384,
   "metadata": {
    "collapsed": false,
    "pycharm": {
     "name": "#%%\n"
    }
   },
   "outputs": [],
   "source": [
    "def search_best_model(seed: int=None):\n",
    "    START_MONTH = 1\n",
    "    END_MONTH = 12\n",
    "\n",
    "    last_score = -1.\n",
    "    best_score = -1.\n",
    "    best_offset, best_duration = (-1, -1)\n",
    "\n",
    "    for offset in range(START_MONTH, END_MONTH + 1):\n",
    "        for duration in range(START_MONTH, END_MONTH + 1):\n",
    "            clear_output(wait=True)\n",
    "            print(f'{\"Offset\":10}: {offset}\\n{\"Duration\":10}: {duration}')\n",
    "            print(f'Best offset: {best_offset}\\nBest duration: {best_duration}')\n",
    "            print(f'Last score: {last_score}')\n",
    "            print(f'Best score: {best_score}')\n",
    "\n",
    "            date_target_offset = relativedelta(months=offset)\n",
    "            date_target_duration = relativedelta(months=duration)\n",
    "\n",
    "            stop_early = callbacks.EarlyStopping(monitor='val_loss', patience=10)\n",
    "\n",
    "            preprocessed_data, reserved_data = split_data(date_target_offset, date_target_duration, STARTING_EVENT_CLASS)\n",
    "            (x_train, y_train), _ = generate_train_test(preprocessed_data)\n",
    "\n",
    "            # split_index = int(x_train.shape[0] * .8)\n",
    "            #\n",
    "            # x_val, y_val = x_train[split_index:], y_train[split_index:]\n",
    "            # x_train, y_train = x_train[:split_index], y_train[:split_index]\n",
    "            #\n",
    "            # train_dataset = tf.data.Dataset.from_tensor_slices((x_train, y_train)).batch(32).cache().prefetch(tf.data.AUTOTUNE)\n",
    "            # val_dataset = tf.data.Dataset.from_tensor_slices((x_val, y_val)).batch(32).cache().prefetch(tf.data.AUTOTUNE)\n",
    "\n",
    "            tuner = kt.Hyperband(\n",
    "                model_builder,\n",
    "                objective='val_accuracy',\n",
    "                max_epochs=200,\n",
    "                factor=3,\n",
    "                seed=seed,\n",
    "                directory=os.path.join(file_helper.get_root_path(), f'data/hypermodel/date_o_d/{offset}/{duration}'),\n",
    "                project_name='geo_analysis'\n",
    "            )\n",
    "\n",
    "            tuner.search(\n",
    "                # train_dataset,\n",
    "                x_train, y_train,\n",
    "                epochs=100,\n",
    "                validation_split=.2,\n",
    "                # validation_data=val_dataset,\n",
    "                callbacks=[stop_early]\n",
    "            )\n",
    "            score = tuner.oracle.get_best_trials(num_trials=1)[0].score\n",
    "\n",
    "            if best_score < score:\n",
    "                best_score = score\n",
    "                best_hps = tuner.get_best_hyperparameters(num_trials=1)[0]\n",
    "                best_preprocessed = preprocessed_data\n",
    "                best_reserved = reserved_data\n",
    "                best_tuner = tuner\n",
    "                best_offset, best_duration = (offset, duration)\n",
    "            last_score = score\n",
    "\n",
    "    model = best_tuner.hypermodel.build(best_hps)\n",
    "\n",
    "    print(f'{\"Best score\":10}:{best_score}\\n{\"Offset\":10}:{best_offset}\\n{\"Duration\":10}:{best_duration}')\n",
    "\n",
    "    return model, best_preprocessed, best_reserved, best_hps"
   ]
  },
  {
   "cell_type": "code",
   "execution_count": 385,
   "metadata": {
    "collapsed": false,
    "pycharm": {
     "name": "#%%\n"
    }
   },
   "outputs": [],
   "source": [
    "# model, preprocessed_data, reserved_data, best_hps = search_best_model(seed=42)"
   ]
  },
  {
   "cell_type": "code",
   "execution_count": 386,
   "metadata": {
    "collapsed": false,
    "pycharm": {
     "name": "#%%\n"
    }
   },
   "outputs": [
    {
     "name": "stdout",
     "output_type": "stream",
     "text": [
      "activation          : tanh\n",
      "units               : 120\n",
      "activation_1        : relu\n",
      "units_1             : 72\n",
      "activation_2        : tanh\n",
      "units_2             : 64\n",
      "learning_rate       : 0.001\n",
      "tuner/epochs        : 200\n",
      "tuner/initial_epoch : 67\n",
      "tuner/bracket       : 2\n",
      "tuner/round         : 2\n",
      "tuner/trial_id      : 0228\n"
     ]
    }
   ],
   "source": [
    "print(*[f'{k:20}: {v}' for k, v in best_hps.values.items()], sep='\\n')"
   ]
  },
  {
   "cell_type": "code",
   "execution_count": 763,
   "metadata": {
    "collapsed": false,
    "pycharm": {
     "name": "#%%\n"
    }
   },
   "outputs": [],
   "source": [
    "# model = Sequential([\n",
    "#     layers.InputLayer(input_shape=(5,), name='input'),\n",
    "#     layers.Dense(120, activation=activations.tanh, name='dense_0'),\n",
    "#     layers.Dense(72, activation=activations.relu, name='dense_1'),\n",
    "#     layers.Dense(64, activation=activations.tanh, name='dense_2'),\n",
    "#     layers.Dense(1, name='output')\n",
    "# ])\n",
    "# model.compile(\n",
    "#     optimizer=optimizers.Adam(name='adam', learning_rate=.001),\n",
    "#     loss=losses.BinaryCrossentropy(name='binary_crossentropy', from_logits=True),\n",
    "#     metrics=[metrics.BinaryAccuracy(name='accuracy')]\n",
    "# )\n",
    "\n",
    "model = tuner.hypermodel.build(best_hps)"
   ]
  },
  {
   "cell_type": "code",
   "execution_count": 764,
   "outputs": [
    {
     "name": "stdout",
     "output_type": "stream",
     "text": [
      "0.5203116304952699 12.808219178082192\n",
      "Negatives: 96.09625668449198%\n",
      "Positives: 3.9037433155080214%\n"
     ]
    }
   ],
   "source": [
    "total_count = len(preprocessed_data)\n",
    "neg_count = len(preprocessed_data[preprocessed_data['target'] == 0]['target'])\n",
    "pos_count = len(preprocessed_data[preprocessed_data['target'] == 1]['target'])\n",
    "\n",
    "weight_0 = (1 / neg_count) * (total_count / 2.0)\n",
    "weight_1 = (1 / pos_count) * (total_count / 2.0)\n",
    "\n",
    "print(weight_0, weight_1)\n",
    "print(f'Negatives: {neg_count/total_count*100}%')\n",
    "print(f'Positives: {pos_count/total_count*100}%')"
   ],
   "metadata": {
    "collapsed": false,
    "pycharm": {
     "name": "#%%\n"
    }
   }
  },
  {
   "cell_type": "code",
   "execution_count": 765,
   "outputs": [
    {
     "name": "stdout",
     "output_type": "stream",
     "text": [
      "Epoch 1/256\n",
      "29/29 [==============================] - 1s 21ms/step - loss: 0.6948 - accuracy: 0.9607 - val_loss: 0.6215 - val_accuracy: 0.9588\n",
      "Epoch 2/256\n",
      "29/29 [==============================] - 0s 15ms/step - loss: 0.6780 - accuracy: 0.9607 - val_loss: 0.6169 - val_accuracy: 0.9588\n",
      "Epoch 3/256\n",
      "29/29 [==============================] - 0s 14ms/step - loss: 0.6390 - accuracy: 0.9579 - val_loss: 0.5437 - val_accuracy: 0.9588\n",
      "Epoch 4/256\n",
      "29/29 [==============================] - 0s 14ms/step - loss: 0.5872 - accuracy: 0.9201 - val_loss: 0.5079 - val_accuracy: 0.9321\n",
      "Epoch 5/256\n",
      "29/29 [==============================] - 0s 14ms/step - loss: 0.5227 - accuracy: 0.8616 - val_loss: 0.4086 - val_accuracy: 0.9165\n",
      "Epoch 6/256\n",
      "29/29 [==============================] - 0s 15ms/step - loss: 0.4750 - accuracy: 0.8145 - val_loss: 0.3505 - val_accuracy: 0.9076\n",
      "Epoch 7/256\n",
      "29/29 [==============================] - 0s 14ms/step - loss: 0.4428 - accuracy: 0.8139 - val_loss: 0.3304 - val_accuracy: 0.8987\n",
      "Epoch 8/256\n",
      "29/29 [==============================] - 1s 17ms/step - loss: 0.4175 - accuracy: 0.8201 - val_loss: 0.3122 - val_accuracy: 0.8853\n",
      "Epoch 9/256\n",
      "29/29 [==============================] - 0s 15ms/step - loss: 0.3968 - accuracy: 0.8262 - val_loss: 0.3126 - val_accuracy: 0.8853\n",
      "Epoch 10/256\n",
      "29/29 [==============================] - 0s 15ms/step - loss: 0.3736 - accuracy: 0.8320 - val_loss: 0.2973 - val_accuracy: 0.8864\n",
      "Epoch 11/256\n",
      "29/29 [==============================] - 1s 21ms/step - loss: 0.3528 - accuracy: 0.8373 - val_loss: 0.2788 - val_accuracy: 0.8898\n",
      "Epoch 12/256\n",
      "29/29 [==============================] - 0s 15ms/step - loss: 0.3318 - accuracy: 0.8457 - val_loss: 0.2669 - val_accuracy: 0.8987\n",
      "Epoch 13/256\n",
      "29/29 [==============================] - 0s 16ms/step - loss: 0.3150 - accuracy: 0.8510 - val_loss: 0.2577 - val_accuracy: 0.8987\n",
      "Epoch 14/256\n",
      "29/29 [==============================] - 0s 14ms/step - loss: 0.2999 - accuracy: 0.8579 - val_loss: 0.2484 - val_accuracy: 0.9120\n",
      "Epoch 15/256\n",
      "29/29 [==============================] - 0s 14ms/step - loss: 0.2837 - accuracy: 0.8708 - val_loss: 0.2394 - val_accuracy: 0.9187\n",
      "Epoch 16/256\n",
      "29/29 [==============================] - 0s 13ms/step - loss: 0.2726 - accuracy: 0.8769 - val_loss: 0.2352 - val_accuracy: 0.9276\n",
      "Epoch 17/256\n",
      "29/29 [==============================] - 0s 13ms/step - loss: 0.2544 - accuracy: 0.8947 - val_loss: 0.2196 - val_accuracy: 0.9287\n",
      "Epoch 18/256\n",
      "29/29 [==============================] - 0s 14ms/step - loss: 0.2436 - accuracy: 0.9025 - val_loss: 0.2128 - val_accuracy: 0.9376\n",
      "Epoch 19/256\n",
      "29/29 [==============================] - 0s 14ms/step - loss: 0.2330 - accuracy: 0.9025 - val_loss: 0.1967 - val_accuracy: 0.9443\n",
      "Epoch 20/256\n",
      "29/29 [==============================] - 0s 14ms/step - loss: 0.2276 - accuracy: 0.9047 - val_loss: 0.1947 - val_accuracy: 0.9454\n",
      "Epoch 21/256\n",
      "29/29 [==============================] - 0s 13ms/step - loss: 0.2182 - accuracy: 0.9086 - val_loss: 0.1888 - val_accuracy: 0.9432\n",
      "Epoch 22/256\n",
      "29/29 [==============================] - 0s 14ms/step - loss: 0.2143 - accuracy: 0.9106 - val_loss: 0.1830 - val_accuracy: 0.9465\n",
      "Epoch 23/256\n",
      "29/29 [==============================] - 0s 14ms/step - loss: 0.2056 - accuracy: 0.9136 - val_loss: 0.1707 - val_accuracy: 0.9477\n",
      "Epoch 24/256\n",
      "29/29 [==============================] - 0s 14ms/step - loss: 0.2025 - accuracy: 0.9162 - val_loss: 0.1713 - val_accuracy: 0.9477\n",
      "Epoch 25/256\n",
      "29/29 [==============================] - 0s 14ms/step - loss: 0.1982 - accuracy: 0.9164 - val_loss: 0.1644 - val_accuracy: 0.9477\n",
      "Epoch 26/256\n",
      "29/29 [==============================] - 0s 14ms/step - loss: 0.1937 - accuracy: 0.9198 - val_loss: 0.1705 - val_accuracy: 0.9432\n",
      "Epoch 27/256\n",
      "29/29 [==============================] - 0s 14ms/step - loss: 0.1861 - accuracy: 0.9220 - val_loss: 0.1616 - val_accuracy: 0.9488\n",
      "Epoch 28/256\n",
      "29/29 [==============================] - 0s 14ms/step - loss: 0.1863 - accuracy: 0.9248 - val_loss: 0.1576 - val_accuracy: 0.9510\n",
      "Epoch 29/256\n",
      "29/29 [==============================] - 0s 15ms/step - loss: 0.1814 - accuracy: 0.9245 - val_loss: 0.1618 - val_accuracy: 0.9477\n",
      "Epoch 30/256\n",
      "29/29 [==============================] - 0s 16ms/step - loss: 0.1787 - accuracy: 0.9245 - val_loss: 0.1444 - val_accuracy: 0.9566\n",
      "Epoch 31/256\n",
      "29/29 [==============================] - 1s 21ms/step - loss: 0.1753 - accuracy: 0.9281 - val_loss: 0.1457 - val_accuracy: 0.9532\n",
      "Epoch 32/256\n",
      "29/29 [==============================] - 0s 16ms/step - loss: 0.1701 - accuracy: 0.9326 - val_loss: 0.1434 - val_accuracy: 0.9543\n",
      "Epoch 33/256\n",
      "29/29 [==============================] - 0s 16ms/step - loss: 0.1680 - accuracy: 0.9326 - val_loss: 0.1433 - val_accuracy: 0.9566\n",
      "Epoch 34/256\n",
      "29/29 [==============================] - 0s 14ms/step - loss: 0.1649 - accuracy: 0.9326 - val_loss: 0.1302 - val_accuracy: 0.9621\n",
      "Epoch 35/256\n",
      "29/29 [==============================] - 0s 14ms/step - loss: 0.1601 - accuracy: 0.9337 - val_loss: 0.1232 - val_accuracy: 0.9621\n",
      "Epoch 36/256\n",
      "29/29 [==============================] - 0s 14ms/step - loss: 0.1595 - accuracy: 0.9334 - val_loss: 0.1226 - val_accuracy: 0.9633\n",
      "Epoch 37/256\n",
      "29/29 [==============================] - 0s 14ms/step - loss: 0.1592 - accuracy: 0.9343 - val_loss: 0.1203 - val_accuracy: 0.9621\n",
      "Epoch 38/256\n",
      "29/29 [==============================] - 0s 14ms/step - loss: 0.1559 - accuracy: 0.9357 - val_loss: 0.1202 - val_accuracy: 0.9633\n",
      "Epoch 39/256\n",
      "29/29 [==============================] - 0s 14ms/step - loss: 0.1568 - accuracy: 0.9340 - val_loss: 0.1188 - val_accuracy: 0.9621\n",
      "Epoch 40/256\n",
      "29/29 [==============================] - 0s 14ms/step - loss: 0.1543 - accuracy: 0.9365 - val_loss: 0.1239 - val_accuracy: 0.9621\n",
      "Epoch 41/256\n",
      "29/29 [==============================] - 0s 14ms/step - loss: 0.1480 - accuracy: 0.9379 - val_loss: 0.1113 - val_accuracy: 0.9644\n",
      "Epoch 42/256\n",
      "29/29 [==============================] - 0s 13ms/step - loss: 0.1460 - accuracy: 0.9387 - val_loss: 0.1085 - val_accuracy: 0.9644\n",
      "Epoch 43/256\n",
      "29/29 [==============================] - 0s 14ms/step - loss: 0.1435 - accuracy: 0.9401 - val_loss: 0.1057 - val_accuracy: 0.9666\n",
      "Epoch 44/256\n",
      "29/29 [==============================] - 0s 13ms/step - loss: 0.1426 - accuracy: 0.9404 - val_loss: 0.1091 - val_accuracy: 0.9655\n",
      "Epoch 45/256\n",
      "29/29 [==============================] - 0s 14ms/step - loss: 0.1426 - accuracy: 0.9412 - val_loss: 0.1092 - val_accuracy: 0.9644\n",
      "Epoch 46/256\n",
      "29/29 [==============================] - 0s 14ms/step - loss: 0.1417 - accuracy: 0.9401 - val_loss: 0.1148 - val_accuracy: 0.9633\n",
      "Epoch 47/256\n",
      "29/29 [==============================] - 0s 13ms/step - loss: 0.1377 - accuracy: 0.9415 - val_loss: 0.1041 - val_accuracy: 0.9655\n",
      "Epoch 48/256\n",
      "29/29 [==============================] - 0s 14ms/step - loss: 0.1385 - accuracy: 0.9418 - val_loss: 0.1004 - val_accuracy: 0.9666\n",
      "Epoch 49/256\n",
      "29/29 [==============================] - 0s 14ms/step - loss: 0.1399 - accuracy: 0.9409 - val_loss: 0.1070 - val_accuracy: 0.9644\n",
      "Epoch 50/256\n",
      "29/29 [==============================] - 0s 14ms/step - loss: 0.1361 - accuracy: 0.9429 - val_loss: 0.0994 - val_accuracy: 0.9688\n",
      "Epoch 51/256\n",
      "29/29 [==============================] - 0s 13ms/step - loss: 0.1332 - accuracy: 0.9421 - val_loss: 0.0972 - val_accuracy: 0.9677\n",
      "Epoch 52/256\n",
      "29/29 [==============================] - 0s 13ms/step - loss: 0.1316 - accuracy: 0.9446 - val_loss: 0.0972 - val_accuracy: 0.9677\n",
      "Epoch 53/256\n",
      "29/29 [==============================] - 0s 14ms/step - loss: 0.1297 - accuracy: 0.9435 - val_loss: 0.0968 - val_accuracy: 0.9677\n",
      "Epoch 54/256\n",
      "29/29 [==============================] - 0s 14ms/step - loss: 0.1313 - accuracy: 0.9435 - val_loss: 0.0982 - val_accuracy: 0.9666\n",
      "Epoch 55/256\n",
      "29/29 [==============================] - 0s 14ms/step - loss: 0.1298 - accuracy: 0.9437 - val_loss: 0.0948 - val_accuracy: 0.9644\n",
      "Epoch 56/256\n",
      "29/29 [==============================] - 0s 14ms/step - loss: 0.1278 - accuracy: 0.9418 - val_loss: 0.0967 - val_accuracy: 0.9633\n",
      "Epoch 57/256\n",
      "29/29 [==============================] - 0s 14ms/step - loss: 0.1282 - accuracy: 0.9435 - val_loss: 0.0941 - val_accuracy: 0.9666\n",
      "Epoch 58/256\n",
      "29/29 [==============================] - 0s 14ms/step - loss: 0.1324 - accuracy: 0.9448 - val_loss: 0.1062 - val_accuracy: 0.9655\n",
      "Epoch 59/256\n",
      "29/29 [==============================] - 0s 14ms/step - loss: 0.1352 - accuracy: 0.9412 - val_loss: 0.1033 - val_accuracy: 0.9644\n",
      "Epoch 60/256\n",
      "29/29 [==============================] - 0s 13ms/step - loss: 0.1236 - accuracy: 0.9460 - val_loss: 0.0933 - val_accuracy: 0.9655\n",
      "Epoch 61/256\n",
      "29/29 [==============================] - 0s 14ms/step - loss: 0.1233 - accuracy: 0.9448 - val_loss: 0.0840 - val_accuracy: 0.9722\n",
      "Epoch 62/256\n",
      "29/29 [==============================] - 0s 14ms/step - loss: 0.1240 - accuracy: 0.9446 - val_loss: 0.0892 - val_accuracy: 0.9666\n",
      "Epoch 63/256\n",
      "29/29 [==============================] - 0s 14ms/step - loss: 0.1380 - accuracy: 0.9457 - val_loss: 0.1382 - val_accuracy: 0.9543\n",
      "Epoch 64/256\n",
      "29/29 [==============================] - 0s 14ms/step - loss: 0.1333 - accuracy: 0.9448 - val_loss: 0.0987 - val_accuracy: 0.9655\n",
      "Epoch 65/256\n",
      "29/29 [==============================] - 0s 13ms/step - loss: 0.1206 - accuracy: 0.9474 - val_loss: 0.0861 - val_accuracy: 0.9655\n",
      "Epoch 66/256\n",
      "29/29 [==============================] - 0s 14ms/step - loss: 0.1193 - accuracy: 0.9471 - val_loss: 0.0839 - val_accuracy: 0.9722\n",
      "Epoch 67/256\n",
      "29/29 [==============================] - 0s 14ms/step - loss: 0.1247 - accuracy: 0.9485 - val_loss: 0.0990 - val_accuracy: 0.9655\n",
      "Epoch 68/256\n",
      "29/29 [==============================] - 0s 14ms/step - loss: 0.1192 - accuracy: 0.9465 - val_loss: 0.0897 - val_accuracy: 0.9722\n",
      "Epoch 69/256\n",
      "29/29 [==============================] - 0s 14ms/step - loss: 0.1199 - accuracy: 0.9457 - val_loss: 0.0916 - val_accuracy: 0.9677\n",
      "Epoch 70/256\n",
      "29/29 [==============================] - 0s 13ms/step - loss: 0.1221 - accuracy: 0.9490 - val_loss: 0.1037 - val_accuracy: 0.9666\n",
      "Epoch 71/256\n",
      "29/29 [==============================] - 0s 14ms/step - loss: 0.1192 - accuracy: 0.9471 - val_loss: 0.0869 - val_accuracy: 0.9677\n",
      "Epoch 72/256\n",
      "29/29 [==============================] - 0s 14ms/step - loss: 0.1158 - accuracy: 0.9485 - val_loss: 0.0810 - val_accuracy: 0.9710\n",
      "Epoch 73/256\n",
      "29/29 [==============================] - 0s 14ms/step - loss: 0.1174 - accuracy: 0.9513 - val_loss: 0.0925 - val_accuracy: 0.9666\n",
      "Epoch 74/256\n",
      "29/29 [==============================] - 0s 14ms/step - loss: 0.1122 - accuracy: 0.9496 - val_loss: 0.0774 - val_accuracy: 0.9688\n",
      "Epoch 75/256\n",
      "29/29 [==============================] - 0s 14ms/step - loss: 0.1114 - accuracy: 0.9493 - val_loss: 0.0730 - val_accuracy: 0.9710\n",
      "Epoch 76/256\n",
      "29/29 [==============================] - 0s 13ms/step - loss: 0.1131 - accuracy: 0.9496 - val_loss: 0.0756 - val_accuracy: 0.9688\n",
      "Epoch 77/256\n",
      "29/29 [==============================] - 0s 15ms/step - loss: 0.1114 - accuracy: 0.9501 - val_loss: 0.0813 - val_accuracy: 0.9666\n",
      "Epoch 78/256\n",
      "29/29 [==============================] - 0s 16ms/step - loss: 0.1137 - accuracy: 0.9496 - val_loss: 0.0805 - val_accuracy: 0.9688\n",
      "Epoch 79/256\n",
      "29/29 [==============================] - 0s 16ms/step - loss: 0.1135 - accuracy: 0.9499 - val_loss: 0.0805 - val_accuracy: 0.9666\n",
      "Epoch 80/256\n",
      "29/29 [==============================] - 0s 16ms/step - loss: 0.1097 - accuracy: 0.9499 - val_loss: 0.0804 - val_accuracy: 0.9677\n",
      "Epoch 81/256\n",
      "29/29 [==============================] - 0s 14ms/step - loss: 0.1167 - accuracy: 0.9513 - val_loss: 0.0804 - val_accuracy: 0.9699\n",
      "Epoch 82/256\n",
      "29/29 [==============================] - 0s 13ms/step - loss: 0.1120 - accuracy: 0.9510 - val_loss: 0.0785 - val_accuracy: 0.9699\n",
      "Epoch 83/256\n",
      "29/29 [==============================] - 0s 14ms/step - loss: 0.1252 - accuracy: 0.9451 - val_loss: 0.0823 - val_accuracy: 0.9677\n",
      "Epoch 84/256\n",
      "29/29 [==============================] - 0s 14ms/step - loss: 0.1126 - accuracy: 0.9518 - val_loss: 0.0743 - val_accuracy: 0.9688\n",
      "Epoch 85/256\n",
      "29/29 [==============================] - 0s 14ms/step - loss: 0.1227 - accuracy: 0.9521 - val_loss: 0.0824 - val_accuracy: 0.9710\n",
      "Epoch 86/256\n",
      "29/29 [==============================] - 0s 14ms/step - loss: 0.1178 - accuracy: 0.9471 - val_loss: 0.0842 - val_accuracy: 0.9677\n",
      "Epoch 87/256\n",
      "29/29 [==============================] - 0s 13ms/step - loss: 0.1134 - accuracy: 0.9504 - val_loss: 0.0774 - val_accuracy: 0.9699\n",
      "Epoch 88/256\n",
      "29/29 [==============================] - 0s 15ms/step - loss: 0.1138 - accuracy: 0.9538 - val_loss: 0.0931 - val_accuracy: 0.9666\n",
      "Epoch 89/256\n",
      "29/29 [==============================] - 0s 16ms/step - loss: 0.1108 - accuracy: 0.9543 - val_loss: 0.0796 - val_accuracy: 0.9699\n",
      "Epoch 90/256\n",
      "29/29 [==============================] - 0s 14ms/step - loss: 0.1070 - accuracy: 0.9526 - val_loss: 0.0711 - val_accuracy: 0.9722\n",
      "Epoch 91/256\n",
      "29/29 [==============================] - 0s 14ms/step - loss: 0.1075 - accuracy: 0.9546 - val_loss: 0.0740 - val_accuracy: 0.9699\n",
      "Epoch 92/256\n",
      "29/29 [==============================] - 0s 14ms/step - loss: 0.1052 - accuracy: 0.9543 - val_loss: 0.0745 - val_accuracy: 0.9699\n",
      "Epoch 93/256\n",
      "29/29 [==============================] - 0s 13ms/step - loss: 0.1047 - accuracy: 0.9524 - val_loss: 0.0783 - val_accuracy: 0.9677\n",
      "Epoch 94/256\n",
      "29/29 [==============================] - 0s 14ms/step - loss: 0.1094 - accuracy: 0.9507 - val_loss: 0.0791 - val_accuracy: 0.9677\n",
      "Epoch 95/256\n",
      "29/29 [==============================] - 0s 13ms/step - loss: 0.1037 - accuracy: 0.9540 - val_loss: 0.0737 - val_accuracy: 0.9666\n",
      "Epoch 96/256\n",
      "29/29 [==============================] - 0s 15ms/step - loss: 0.1088 - accuracy: 0.9540 - val_loss: 0.0774 - val_accuracy: 0.9710\n",
      "Epoch 97/256\n",
      "29/29 [==============================] - 0s 14ms/step - loss: 0.1019 - accuracy: 0.9554 - val_loss: 0.0750 - val_accuracy: 0.9699\n",
      "Epoch 98/256\n",
      "29/29 [==============================] - 0s 13ms/step - loss: 0.1043 - accuracy: 0.9557 - val_loss: 0.0731 - val_accuracy: 0.9710\n",
      "Epoch 99/256\n",
      "29/29 [==============================] - 0s 13ms/step - loss: 0.1044 - accuracy: 0.9532 - val_loss: 0.0812 - val_accuracy: 0.9677\n",
      "Epoch 100/256\n",
      "29/29 [==============================] - 0s 14ms/step - loss: 0.1045 - accuracy: 0.9543 - val_loss: 0.0748 - val_accuracy: 0.9688\n",
      "Epoch 101/256\n",
      "29/29 [==============================] - 0s 14ms/step - loss: 0.1024 - accuracy: 0.9543 - val_loss: 0.0789 - val_accuracy: 0.9677\n",
      "Epoch 102/256\n",
      "29/29 [==============================] - 0s 14ms/step - loss: 0.1048 - accuracy: 0.9549 - val_loss: 0.0740 - val_accuracy: 0.9699\n",
      "Epoch 103/256\n",
      "29/29 [==============================] - 0s 14ms/step - loss: 0.1055 - accuracy: 0.9546 - val_loss: 0.0842 - val_accuracy: 0.9710\n",
      "Epoch 104/256\n",
      "29/29 [==============================] - 0s 14ms/step - loss: 0.1057 - accuracy: 0.9549 - val_loss: 0.0814 - val_accuracy: 0.9699\n",
      "Epoch 105/256\n",
      "29/29 [==============================] - 0s 14ms/step - loss: 0.1007 - accuracy: 0.9568 - val_loss: 0.0691 - val_accuracy: 0.9699\n",
      "Epoch 106/256\n",
      "29/29 [==============================] - 0s 14ms/step - loss: 0.1001 - accuracy: 0.9563 - val_loss: 0.0636 - val_accuracy: 0.9722\n",
      "Epoch 107/256\n",
      "29/29 [==============================] - 0s 14ms/step - loss: 0.1026 - accuracy: 0.9543 - val_loss: 0.0629 - val_accuracy: 0.9744\n",
      "Epoch 108/256\n",
      "29/29 [==============================] - 0s 14ms/step - loss: 0.1169 - accuracy: 0.9487 - val_loss: 0.0754 - val_accuracy: 0.9688\n",
      "Epoch 109/256\n",
      "29/29 [==============================] - 0s 13ms/step - loss: 0.1247 - accuracy: 0.9426 - val_loss: 0.0909 - val_accuracy: 0.9666\n",
      "Epoch 110/256\n",
      "29/29 [==============================] - 0s 13ms/step - loss: 0.1327 - accuracy: 0.9437 - val_loss: 0.0809 - val_accuracy: 0.9666\n",
      "Epoch 111/256\n",
      "29/29 [==============================] - 0s 13ms/step - loss: 0.1170 - accuracy: 0.9479 - val_loss: 0.0750 - val_accuracy: 0.9710\n",
      "Epoch 112/256\n",
      "29/29 [==============================] - 0s 13ms/step - loss: 0.1111 - accuracy: 0.9521 - val_loss: 0.0657 - val_accuracy: 0.9744\n",
      "Epoch 113/256\n",
      "29/29 [==============================] - 0s 13ms/step - loss: 0.1113 - accuracy: 0.9552 - val_loss: 0.0690 - val_accuracy: 0.9744\n",
      "Epoch 114/256\n",
      "29/29 [==============================] - 0s 13ms/step - loss: 0.1041 - accuracy: 0.9524 - val_loss: 0.0733 - val_accuracy: 0.9688\n",
      "Epoch 115/256\n",
      "29/29 [==============================] - 0s 13ms/step - loss: 0.1045 - accuracy: 0.9554 - val_loss: 0.0773 - val_accuracy: 0.9699\n",
      "Epoch 116/256\n",
      "29/29 [==============================] - 0s 13ms/step - loss: 0.1028 - accuracy: 0.9574 - val_loss: 0.0749 - val_accuracy: 0.9688\n",
      "Epoch 117/256\n",
      "29/29 [==============================] - 0s 13ms/step - loss: 0.1050 - accuracy: 0.9552 - val_loss: 0.0897 - val_accuracy: 0.9644\n",
      "Epoch 118/256\n",
      "29/29 [==============================] - 0s 13ms/step - loss: 0.0978 - accuracy: 0.9571 - val_loss: 0.0683 - val_accuracy: 0.9733\n",
      "Epoch 119/256\n",
      "29/29 [==============================] - 0s 13ms/step - loss: 0.1021 - accuracy: 0.9588 - val_loss: 0.0681 - val_accuracy: 0.9688\n",
      "Epoch 120/256\n",
      "29/29 [==============================] - 0s 14ms/step - loss: 0.1004 - accuracy: 0.9535 - val_loss: 0.0796 - val_accuracy: 0.9699\n",
      "Epoch 121/256\n",
      "29/29 [==============================] - 0s 14ms/step - loss: 0.0959 - accuracy: 0.9574 - val_loss: 0.0682 - val_accuracy: 0.9699\n",
      "Epoch 122/256\n",
      "29/29 [==============================] - 0s 14ms/step - loss: 0.0928 - accuracy: 0.9577 - val_loss: 0.0648 - val_accuracy: 0.9710\n",
      "Epoch 123/256\n",
      "29/29 [==============================] - 0s 13ms/step - loss: 0.0922 - accuracy: 0.9593 - val_loss: 0.0658 - val_accuracy: 0.9699\n",
      "Epoch 124/256\n",
      "29/29 [==============================] - 0s 13ms/step - loss: 0.0939 - accuracy: 0.9582 - val_loss: 0.0633 - val_accuracy: 0.9722\n",
      "Epoch 125/256\n",
      "29/29 [==============================] - 0s 14ms/step - loss: 0.0958 - accuracy: 0.9571 - val_loss: 0.0743 - val_accuracy: 0.9677\n",
      "Epoch 126/256\n",
      "29/29 [==============================] - 0s 13ms/step - loss: 0.0975 - accuracy: 0.9571 - val_loss: 0.0822 - val_accuracy: 0.9666\n",
      "Epoch 127/256\n",
      "29/29 [==============================] - 0s 14ms/step - loss: 0.0953 - accuracy: 0.9579 - val_loss: 0.0723 - val_accuracy: 0.9699\n",
      "Epoch 128/256\n",
      "29/29 [==============================] - 0s 13ms/step - loss: 0.0953 - accuracy: 0.9591 - val_loss: 0.0660 - val_accuracy: 0.9688\n",
      "Epoch 129/256\n",
      "29/29 [==============================] - 0s 13ms/step - loss: 0.0933 - accuracy: 0.9577 - val_loss: 0.0642 - val_accuracy: 0.9722\n",
      "Epoch 130/256\n",
      "29/29 [==============================] - 0s 13ms/step - loss: 0.0942 - accuracy: 0.9579 - val_loss: 0.0632 - val_accuracy: 0.9710\n",
      "Epoch 131/256\n",
      "29/29 [==============================] - 0s 13ms/step - loss: 0.0958 - accuracy: 0.9585 - val_loss: 0.0633 - val_accuracy: 0.9710\n",
      "Epoch 132/256\n",
      "29/29 [==============================] - 0s 13ms/step - loss: 0.0931 - accuracy: 0.9579 - val_loss: 0.0690 - val_accuracy: 0.9699\n",
      "Epoch 133/256\n",
      "29/29 [==============================] - 0s 15ms/step - loss: 0.0961 - accuracy: 0.9588 - val_loss: 0.0837 - val_accuracy: 0.9677\n",
      "Epoch 134/256\n",
      "29/29 [==============================] - 0s 15ms/step - loss: 0.0956 - accuracy: 0.9585 - val_loss: 0.0671 - val_accuracy: 0.9699\n",
      "Epoch 135/256\n",
      "29/29 [==============================] - 1s 18ms/step - loss: 0.0980 - accuracy: 0.9585 - val_loss: 0.0682 - val_accuracy: 0.9699\n",
      "Epoch 136/256\n",
      "29/29 [==============================] - 0s 15ms/step - loss: 0.0965 - accuracy: 0.9585 - val_loss: 0.0730 - val_accuracy: 0.9722\n",
      "Epoch 137/256\n",
      "29/29 [==============================] - 0s 15ms/step - loss: 0.0906 - accuracy: 0.9604 - val_loss: 0.0646 - val_accuracy: 0.9722\n",
      "Epoch 138/256\n",
      "29/29 [==============================] - 0s 13ms/step - loss: 0.0945 - accuracy: 0.9585 - val_loss: 0.0675 - val_accuracy: 0.9733\n",
      "Epoch 139/256\n",
      "29/29 [==============================] - 0s 13ms/step - loss: 0.0916 - accuracy: 0.9596 - val_loss: 0.0657 - val_accuracy: 0.9710\n",
      "Epoch 140/256\n",
      "29/29 [==============================] - 0s 13ms/step - loss: 0.0943 - accuracy: 0.9607 - val_loss: 0.0702 - val_accuracy: 0.9699\n",
      "Epoch 141/256\n",
      "29/29 [==============================] - 0s 13ms/step - loss: 0.0916 - accuracy: 0.9585 - val_loss: 0.0663 - val_accuracy: 0.9744\n",
      "Epoch 142/256\n",
      "29/29 [==============================] - 0s 13ms/step - loss: 0.0966 - accuracy: 0.9591 - val_loss: 0.0663 - val_accuracy: 0.9722\n",
      "Epoch 143/256\n",
      "29/29 [==============================] - 0s 13ms/step - loss: 0.0894 - accuracy: 0.9591 - val_loss: 0.0710 - val_accuracy: 0.9710\n",
      "Epoch 144/256\n",
      "29/29 [==============================] - 0s 14ms/step - loss: 0.0930 - accuracy: 0.9599 - val_loss: 0.0725 - val_accuracy: 0.9699\n",
      "Epoch 145/256\n",
      "29/29 [==============================] - 0s 14ms/step - loss: 0.0898 - accuracy: 0.9591 - val_loss: 0.0840 - val_accuracy: 0.9688\n",
      "Epoch 146/256\n",
      "29/29 [==============================] - 0s 14ms/step - loss: 0.0948 - accuracy: 0.9616 - val_loss: 0.0725 - val_accuracy: 0.9688\n",
      "Epoch 147/256\n",
      "29/29 [==============================] - 0s 13ms/step - loss: 0.0907 - accuracy: 0.9604 - val_loss: 0.0594 - val_accuracy: 0.9733\n",
      "Epoch 148/256\n",
      "29/29 [==============================] - 0s 13ms/step - loss: 0.0961 - accuracy: 0.9585 - val_loss: 0.0621 - val_accuracy: 0.9755\n",
      "Epoch 149/256\n",
      "29/29 [==============================] - 0s 13ms/step - loss: 0.0929 - accuracy: 0.9588 - val_loss: 0.0744 - val_accuracy: 0.9722\n",
      "Epoch 150/256\n",
      "29/29 [==============================] - 0s 13ms/step - loss: 0.1053 - accuracy: 0.9577 - val_loss: 0.0934 - val_accuracy: 0.9633\n",
      "Epoch 151/256\n",
      "29/29 [==============================] - 0s 13ms/step - loss: 0.1085 - accuracy: 0.9585 - val_loss: 0.0936 - val_accuracy: 0.9677\n",
      "Epoch 152/256\n",
      "29/29 [==============================] - 0s 12ms/step - loss: 0.1179 - accuracy: 0.9513 - val_loss: 0.0571 - val_accuracy: 0.9788\n",
      "Epoch 153/256\n",
      "29/29 [==============================] - 0s 14ms/step - loss: 0.0987 - accuracy: 0.9579 - val_loss: 0.0608 - val_accuracy: 0.9744\n",
      "Epoch 154/256\n",
      "29/29 [==============================] - 0s 13ms/step - loss: 0.1028 - accuracy: 0.9604 - val_loss: 0.0778 - val_accuracy: 0.9677\n",
      "Epoch 155/256\n",
      "29/29 [==============================] - 0s 13ms/step - loss: 0.1105 - accuracy: 0.9571 - val_loss: 0.0797 - val_accuracy: 0.9755\n",
      "Epoch 156/256\n",
      "29/29 [==============================] - 0s 13ms/step - loss: 0.0995 - accuracy: 0.9565 - val_loss: 0.0493 - val_accuracy: 0.9788\n",
      "Epoch 157/256\n",
      "29/29 [==============================] - 0s 13ms/step - loss: 0.1263 - accuracy: 0.9526 - val_loss: 0.0943 - val_accuracy: 0.9699\n",
      "Epoch 158/256\n",
      "29/29 [==============================] - 0s 13ms/step - loss: 0.1057 - accuracy: 0.9565 - val_loss: 0.0735 - val_accuracy: 0.9722\n",
      "Epoch 159/256\n",
      "29/29 [==============================] - 0s 13ms/step - loss: 0.0959 - accuracy: 0.9591 - val_loss: 0.0747 - val_accuracy: 0.9688\n",
      "Epoch 160/256\n",
      "29/29 [==============================] - 0s 13ms/step - loss: 0.0928 - accuracy: 0.9599 - val_loss: 0.0777 - val_accuracy: 0.9699\n",
      "Epoch 161/256\n",
      "29/29 [==============================] - 0s 15ms/step - loss: 0.0901 - accuracy: 0.9607 - val_loss: 0.0678 - val_accuracy: 0.9722\n",
      "Epoch 162/256\n",
      "29/29 [==============================] - 0s 15ms/step - loss: 0.0883 - accuracy: 0.9618 - val_loss: 0.0612 - val_accuracy: 0.9722\n",
      "Epoch 163/256\n",
      "29/29 [==============================] - 1s 19ms/step - loss: 0.0899 - accuracy: 0.9621 - val_loss: 0.0592 - val_accuracy: 0.9733\n",
      "Epoch 164/256\n",
      "29/29 [==============================] - 0s 15ms/step - loss: 0.0847 - accuracy: 0.9624 - val_loss: 0.0668 - val_accuracy: 0.9710\n",
      "Epoch 165/256\n",
      "29/29 [==============================] - 0s 14ms/step - loss: 0.0859 - accuracy: 0.9613 - val_loss: 0.0699 - val_accuracy: 0.9688\n",
      "Epoch 166/256\n",
      "29/29 [==============================] - 0s 13ms/step - loss: 0.0836 - accuracy: 0.9613 - val_loss: 0.0666 - val_accuracy: 0.9710\n",
      "Epoch 167/256\n",
      "29/29 [==============================] - 0s 13ms/step - loss: 0.0890 - accuracy: 0.9610 - val_loss: 0.0747 - val_accuracy: 0.9699\n",
      "Epoch 168/256\n",
      "29/29 [==============================] - 0s 13ms/step - loss: 0.0817 - accuracy: 0.9630 - val_loss: 0.0606 - val_accuracy: 0.9722\n",
      "Epoch 169/256\n",
      "29/29 [==============================] - 0s 13ms/step - loss: 0.0838 - accuracy: 0.9641 - val_loss: 0.0598 - val_accuracy: 0.9733\n",
      "Epoch 170/256\n",
      "29/29 [==============================] - 0s 13ms/step - loss: 0.0892 - accuracy: 0.9627 - val_loss: 0.0699 - val_accuracy: 0.9699\n",
      "Epoch 171/256\n",
      "29/29 [==============================] - 0s 13ms/step - loss: 0.0861 - accuracy: 0.9616 - val_loss: 0.0659 - val_accuracy: 0.9722\n",
      "Epoch 172/256\n",
      "29/29 [==============================] - 0s 13ms/step - loss: 0.0871 - accuracy: 0.9616 - val_loss: 0.0668 - val_accuracy: 0.9688\n",
      "Epoch 173/256\n",
      "29/29 [==============================] - 0s 14ms/step - loss: 0.0860 - accuracy: 0.9635 - val_loss: 0.0654 - val_accuracy: 0.9722\n",
      "Epoch 174/256\n",
      "29/29 [==============================] - 0s 14ms/step - loss: 0.0868 - accuracy: 0.9635 - val_loss: 0.0493 - val_accuracy: 0.9777\n",
      "Epoch 175/256\n",
      "29/29 [==============================] - 0s 13ms/step - loss: 0.0982 - accuracy: 0.9596 - val_loss: 0.0648 - val_accuracy: 0.9710\n",
      "Epoch 176/256\n",
      "29/29 [==============================] - 0s 13ms/step - loss: 0.0919 - accuracy: 0.9610 - val_loss: 0.0655 - val_accuracy: 0.9733\n",
      "Epoch 177/256\n",
      "29/29 [==============================] - 0s 14ms/step - loss: 0.0902 - accuracy: 0.9607 - val_loss: 0.0670 - val_accuracy: 0.9710\n",
      "Epoch 178/256\n",
      "29/29 [==============================] - 0s 13ms/step - loss: 0.0866 - accuracy: 0.9630 - val_loss: 0.0639 - val_accuracy: 0.9744\n",
      "Epoch 179/256\n",
      "29/29 [==============================] - 0s 13ms/step - loss: 0.0845 - accuracy: 0.9643 - val_loss: 0.0562 - val_accuracy: 0.9755\n",
      "Epoch 180/256\n",
      "29/29 [==============================] - 0s 13ms/step - loss: 0.0822 - accuracy: 0.9635 - val_loss: 0.0553 - val_accuracy: 0.9788\n",
      "Epoch 181/256\n",
      "29/29 [==============================] - 0s 13ms/step - loss: 0.0841 - accuracy: 0.9635 - val_loss: 0.0607 - val_accuracy: 0.9755\n",
      "Epoch 182/256\n",
      "29/29 [==============================] - 0s 13ms/step - loss: 0.0835 - accuracy: 0.9657 - val_loss: 0.0538 - val_accuracy: 0.9788\n",
      "Epoch 183/256\n",
      "29/29 [==============================] - 0s 13ms/step - loss: 0.0809 - accuracy: 0.9657 - val_loss: 0.0545 - val_accuracy: 0.9777\n",
      "Epoch 184/256\n",
      "29/29 [==============================] - 0s 13ms/step - loss: 0.0875 - accuracy: 0.9604 - val_loss: 0.0718 - val_accuracy: 0.9710\n",
      "Epoch 185/256\n",
      "29/29 [==============================] - 0s 13ms/step - loss: 0.0819 - accuracy: 0.9646 - val_loss: 0.0646 - val_accuracy: 0.9722\n",
      "Epoch 186/256\n",
      "29/29 [==============================] - 0s 13ms/step - loss: 0.0833 - accuracy: 0.9646 - val_loss: 0.0720 - val_accuracy: 0.9744\n",
      "Epoch 187/256\n",
      "29/29 [==============================] - 0s 13ms/step - loss: 0.0841 - accuracy: 0.9630 - val_loss: 0.0637 - val_accuracy: 0.9733\n",
      "Epoch 188/256\n",
      "29/29 [==============================] - 0s 13ms/step - loss: 0.0868 - accuracy: 0.9632 - val_loss: 0.0560 - val_accuracy: 0.9733\n",
      "Epoch 189/256\n",
      "29/29 [==============================] - 0s 13ms/step - loss: 0.0826 - accuracy: 0.9646 - val_loss: 0.0524 - val_accuracy: 0.9777\n",
      "Epoch 190/256\n",
      "29/29 [==============================] - 0s 14ms/step - loss: 0.0942 - accuracy: 0.9610 - val_loss: 0.0630 - val_accuracy: 0.9744\n",
      "Epoch 191/256\n",
      "29/29 [==============================] - 0s 13ms/step - loss: 0.0977 - accuracy: 0.9604 - val_loss: 0.0761 - val_accuracy: 0.9710\n",
      "Epoch 192/256\n",
      "29/29 [==============================] - 0s 13ms/step - loss: 0.0875 - accuracy: 0.9630 - val_loss: 0.0580 - val_accuracy: 0.9777\n",
      "Epoch 193/256\n",
      "29/29 [==============================] - 0s 14ms/step - loss: 0.0932 - accuracy: 0.9604 - val_loss: 0.0708 - val_accuracy: 0.9688\n",
      "Epoch 194/256\n",
      "29/29 [==============================] - 0s 13ms/step - loss: 0.0823 - accuracy: 0.9657 - val_loss: 0.0626 - val_accuracy: 0.9699\n",
      "Epoch 195/256\n",
      "29/29 [==============================] - 0s 14ms/step - loss: 0.0868 - accuracy: 0.9616 - val_loss: 0.0704 - val_accuracy: 0.9733\n",
      "Epoch 196/256\n",
      "29/29 [==============================] - 0s 13ms/step - loss: 0.0855 - accuracy: 0.9630 - val_loss: 0.0665 - val_accuracy: 0.9710\n",
      "Epoch 197/256\n",
      "29/29 [==============================] - 0s 14ms/step - loss: 0.0820 - accuracy: 0.9630 - val_loss: 0.0523 - val_accuracy: 0.9811\n",
      "Epoch 198/256\n",
      "29/29 [==============================] - 0s 14ms/step - loss: 0.0868 - accuracy: 0.9627 - val_loss: 0.0520 - val_accuracy: 0.9788\n",
      "Epoch 199/256\n",
      "29/29 [==============================] - 0s 13ms/step - loss: 0.0843 - accuracy: 0.9643 - val_loss: 0.0586 - val_accuracy: 0.9722\n",
      "Epoch 200/256\n",
      "29/29 [==============================] - 0s 14ms/step - loss: 0.0794 - accuracy: 0.9652 - val_loss: 0.0522 - val_accuracy: 0.9766\n",
      "Epoch 201/256\n",
      "29/29 [==============================] - 0s 15ms/step - loss: 0.0798 - accuracy: 0.9666 - val_loss: 0.0514 - val_accuracy: 0.9822\n",
      "Epoch 202/256\n",
      "29/29 [==============================] - 0s 14ms/step - loss: 0.0819 - accuracy: 0.9671 - val_loss: 0.0558 - val_accuracy: 0.9755\n",
      "Epoch 203/256\n",
      "29/29 [==============================] - 0s 14ms/step - loss: 0.0852 - accuracy: 0.9641 - val_loss: 0.0747 - val_accuracy: 0.9722\n",
      "Epoch 204/256\n",
      "29/29 [==============================] - 0s 14ms/step - loss: 0.0791 - accuracy: 0.9657 - val_loss: 0.0751 - val_accuracy: 0.9733\n",
      "Epoch 205/256\n",
      "29/29 [==============================] - 0s 14ms/step - loss: 0.0816 - accuracy: 0.9666 - val_loss: 0.0574 - val_accuracy: 0.9744\n",
      "Epoch 206/256\n",
      "29/29 [==============================] - 0s 13ms/step - loss: 0.0852 - accuracy: 0.9632 - val_loss: 0.0654 - val_accuracy: 0.9755\n",
      "Epoch 207/256\n",
      "29/29 [==============================] - 0s 14ms/step - loss: 0.0796 - accuracy: 0.9643 - val_loss: 0.0531 - val_accuracy: 0.9788\n",
      "Epoch 208/256\n",
      "29/29 [==============================] - 0s 14ms/step - loss: 0.0923 - accuracy: 0.9616 - val_loss: 0.0593 - val_accuracy: 0.9733\n",
      "Epoch 209/256\n",
      "29/29 [==============================] - 0s 13ms/step - loss: 0.0893 - accuracy: 0.9643 - val_loss: 0.0765 - val_accuracy: 0.9688\n",
      "Epoch 210/256\n",
      "29/29 [==============================] - 0s 13ms/step - loss: 0.0810 - accuracy: 0.9646 - val_loss: 0.0586 - val_accuracy: 0.9733\n",
      "Epoch 211/256\n",
      "29/29 [==============================] - 0s 13ms/step - loss: 0.0802 - accuracy: 0.9652 - val_loss: 0.0503 - val_accuracy: 0.9788\n",
      "Epoch 212/256\n",
      "29/29 [==============================] - 0s 14ms/step - loss: 0.0820 - accuracy: 0.9663 - val_loss: 0.0595 - val_accuracy: 0.9744\n",
      "Epoch 213/256\n",
      "29/29 [==============================] - 0s 14ms/step - loss: 0.0799 - accuracy: 0.9655 - val_loss: 0.0569 - val_accuracy: 0.9755\n",
      "Epoch 214/256\n",
      "29/29 [==============================] - 0s 14ms/step - loss: 0.0882 - accuracy: 0.9649 - val_loss: 0.0666 - val_accuracy: 0.9744\n",
      "Epoch 215/256\n",
      "29/29 [==============================] - 0s 14ms/step - loss: 0.0808 - accuracy: 0.9660 - val_loss: 0.0518 - val_accuracy: 0.9800\n",
      "Epoch 216/256\n",
      "29/29 [==============================] - 0s 14ms/step - loss: 0.0808 - accuracy: 0.9635 - val_loss: 0.0505 - val_accuracy: 0.9811\n",
      "Epoch 217/256\n",
      "29/29 [==============================] - 0s 14ms/step - loss: 0.0875 - accuracy: 0.9657 - val_loss: 0.0535 - val_accuracy: 0.9800\n",
      "Epoch 218/256\n",
      "29/29 [==============================] - 0s 15ms/step - loss: 0.0805 - accuracy: 0.9671 - val_loss: 0.0557 - val_accuracy: 0.9744\n",
      "Epoch 219/256\n",
      "29/29 [==============================] - 1s 19ms/step - loss: 0.0816 - accuracy: 0.9655 - val_loss: 0.0617 - val_accuracy: 0.9733\n",
      "Epoch 220/256\n",
      "29/29 [==============================] - 0s 15ms/step - loss: 0.0824 - accuracy: 0.9655 - val_loss: 0.0591 - val_accuracy: 0.9766\n",
      "Epoch 221/256\n",
      "29/29 [==============================] - 0s 14ms/step - loss: 0.0843 - accuracy: 0.9632 - val_loss: 0.0623 - val_accuracy: 0.9766\n",
      "Epoch 222/256\n",
      "29/29 [==============================] - 0s 15ms/step - loss: 0.0831 - accuracy: 0.9646 - val_loss: 0.0491 - val_accuracy: 0.9833\n",
      "Epoch 223/256\n",
      "29/29 [==============================] - 0s 15ms/step - loss: 0.0826 - accuracy: 0.9657 - val_loss: 0.0519 - val_accuracy: 0.9744\n",
      "Epoch 224/256\n",
      "29/29 [==============================] - 0s 13ms/step - loss: 0.0932 - accuracy: 0.9624 - val_loss: 0.0864 - val_accuracy: 0.9699\n",
      "Epoch 225/256\n",
      "29/29 [==============================] - 0s 13ms/step - loss: 0.0825 - accuracy: 0.9632 - val_loss: 0.0630 - val_accuracy: 0.9722\n",
      "Epoch 226/256\n",
      "29/29 [==============================] - 0s 14ms/step - loss: 0.0860 - accuracy: 0.9624 - val_loss: 0.0608 - val_accuracy: 0.9722\n",
      "Epoch 227/256\n",
      "29/29 [==============================] - 0s 13ms/step - loss: 0.0924 - accuracy: 0.9646 - val_loss: 0.0505 - val_accuracy: 0.9788\n",
      "Epoch 228/256\n",
      "29/29 [==============================] - 0s 13ms/step - loss: 0.0908 - accuracy: 0.9630 - val_loss: 0.0546 - val_accuracy: 0.9777\n",
      "Epoch 229/256\n",
      "29/29 [==============================] - 0s 14ms/step - loss: 0.0806 - accuracy: 0.9660 - val_loss: 0.0534 - val_accuracy: 0.9777\n",
      "Epoch 230/256\n",
      "29/29 [==============================] - 0s 14ms/step - loss: 0.0859 - accuracy: 0.9646 - val_loss: 0.0670 - val_accuracy: 0.9755\n",
      "Epoch 231/256\n",
      "29/29 [==============================] - 0s 14ms/step - loss: 0.0818 - accuracy: 0.9621 - val_loss: 0.0546 - val_accuracy: 0.9800\n",
      "Epoch 232/256\n",
      "29/29 [==============================] - 0s 15ms/step - loss: 0.0826 - accuracy: 0.9649 - val_loss: 0.0576 - val_accuracy: 0.9777\n",
      "Epoch 233/256\n",
      "29/29 [==============================] - 0s 14ms/step - loss: 0.0810 - accuracy: 0.9635 - val_loss: 0.0565 - val_accuracy: 0.9755\n",
      "Epoch 234/256\n",
      "29/29 [==============================] - 0s 14ms/step - loss: 0.0796 - accuracy: 0.9652 - val_loss: 0.0482 - val_accuracy: 0.9844\n",
      "Epoch 235/256\n",
      "29/29 [==============================] - 0s 14ms/step - loss: 0.0850 - accuracy: 0.9674 - val_loss: 0.0954 - val_accuracy: 0.9666\n",
      "Epoch 236/256\n",
      "29/29 [==============================] - 0s 14ms/step - loss: 0.0936 - accuracy: 0.9630 - val_loss: 0.0502 - val_accuracy: 0.9800\n",
      "Epoch 237/256\n",
      "29/29 [==============================] - 0s 14ms/step - loss: 0.0868 - accuracy: 0.9649 - val_loss: 0.0663 - val_accuracy: 0.9777\n",
      "Epoch 238/256\n",
      "29/29 [==============================] - 0s 14ms/step - loss: 0.0792 - accuracy: 0.9666 - val_loss: 0.0533 - val_accuracy: 0.9744\n",
      "Epoch 239/256\n",
      "29/29 [==============================] - 0s 13ms/step - loss: 0.0784 - accuracy: 0.9671 - val_loss: 0.0566 - val_accuracy: 0.9777\n",
      "Epoch 240/256\n",
      "29/29 [==============================] - 0s 13ms/step - loss: 0.0821 - accuracy: 0.9649 - val_loss: 0.0765 - val_accuracy: 0.9733\n",
      "Epoch 241/256\n",
      "29/29 [==============================] - 0s 15ms/step - loss: 0.0771 - accuracy: 0.9663 - val_loss: 0.0478 - val_accuracy: 0.9811\n",
      "Epoch 242/256\n",
      "29/29 [==============================] - 0s 16ms/step - loss: 0.0752 - accuracy: 0.9677 - val_loss: 0.0521 - val_accuracy: 0.9766\n",
      "Epoch 243/256\n",
      "29/29 [==============================] - 0s 16ms/step - loss: 0.0790 - accuracy: 0.9655 - val_loss: 0.0639 - val_accuracy: 0.9777\n",
      "Epoch 244/256\n",
      "29/29 [==============================] - 1s 20ms/step - loss: 0.0771 - accuracy: 0.9649 - val_loss: 0.0498 - val_accuracy: 0.9811\n",
      "Epoch 245/256\n",
      "29/29 [==============================] - 0s 17ms/step - loss: 0.0739 - accuracy: 0.9677 - val_loss: 0.0524 - val_accuracy: 0.9766\n",
      "Epoch 246/256\n",
      "29/29 [==============================] - 0s 15ms/step - loss: 0.0764 - accuracy: 0.9669 - val_loss: 0.0489 - val_accuracy: 0.9800\n",
      "Epoch 247/256\n",
      "29/29 [==============================] - 0s 14ms/step - loss: 0.0751 - accuracy: 0.9685 - val_loss: 0.0486 - val_accuracy: 0.9822\n",
      "Epoch 248/256\n",
      "29/29 [==============================] - 0s 14ms/step - loss: 0.0733 - accuracy: 0.9694 - val_loss: 0.0521 - val_accuracy: 0.9766\n",
      "Epoch 249/256\n",
      "29/29 [==============================] - 0s 14ms/step - loss: 0.0787 - accuracy: 0.9674 - val_loss: 0.0730 - val_accuracy: 0.9755\n",
      "Epoch 250/256\n",
      "29/29 [==============================] - 0s 13ms/step - loss: 0.0811 - accuracy: 0.9646 - val_loss: 0.0482 - val_accuracy: 0.9777\n",
      "Epoch 251/256\n",
      "29/29 [==============================] - 0s 14ms/step - loss: 0.0835 - accuracy: 0.9652 - val_loss: 0.0493 - val_accuracy: 0.9822\n",
      "Epoch 252/256\n",
      "29/29 [==============================] - 0s 14ms/step - loss: 0.0878 - accuracy: 0.9638 - val_loss: 0.0700 - val_accuracy: 0.9677\n",
      "Epoch 253/256\n",
      "29/29 [==============================] - 0s 14ms/step - loss: 0.0975 - accuracy: 0.9627 - val_loss: 0.0810 - val_accuracy: 0.9777\n",
      "Epoch 254/256\n",
      "29/29 [==============================] - 0s 14ms/step - loss: 0.1033 - accuracy: 0.9610 - val_loss: 0.0556 - val_accuracy: 0.9822\n",
      "Epoch 255/256\n",
      "29/29 [==============================] - 0s 14ms/step - loss: 0.0813 - accuracy: 0.9643 - val_loss: 0.0482 - val_accuracy: 0.9811\n",
      "Epoch 256/256\n",
      "29/29 [==============================] - 0s 14ms/step - loss: 0.0941 - accuracy: 0.9624 - val_loss: 0.0584 - val_accuracy: 0.9755\n"
     ]
    }
   ],
   "source": [
    "# (x_train, y_train), (x_test, y_test) = generate_train_test(preprocessed_data)\n",
    "\n",
    "# For performance, change later model input\n",
    "split_index = int(x_train.shape[0] * .8)\n",
    "\n",
    "x_trains, y_trains = x_train[:split_index], y_train[:split_index]\n",
    "x_val, y_val = x_train[split_index:], y_train[split_index:]\n",
    "\n",
    "BATCH_SIZE = 128\n",
    "BUFFER_SIZE = 4096\n",
    "\n",
    "train_dataset = tf.data.Dataset.from_tensor_slices((x_trains, y_trains)).shuffle(BUFFER_SIZE).batch(BATCH_SIZE).cache().prefetch(tf.data.AUTOTUNE)\n",
    "val_dataset = tf.data.Dataset.from_tensor_slices((x_val, y_val)).shuffle(BUFFER_SIZE).batch(BATCH_SIZE).cache().prefetch(tf.data.AUTOTUNE)\n",
    "test_dataset = tf.data.Dataset.from_tensor_slices((x_test, y_test)).batch(BATCH_SIZE).cache().prefetch(tf.data.AUTOTUNE)\n",
    "\n",
    "history = model.fit(\n",
    "    # x_train, y_train,\n",
    "    train_dataset,\n",
    "    epochs=256,\n",
    "    # epochs=best_hps.get('tuner/epochs'),\n",
    "    # validation_split=.2,\n",
    "    validation_data=val_dataset,\n",
    "    # verbose=0,\n",
    "    class_weight={0: weight_0, 1: weight_1},\n",
    "    # callbacks=[stop_early],\n",
    ")\n",
    "# len(history.history['val_loss'])"
   ],
   "metadata": {
    "collapsed": false,
    "pycharm": {
     "name": "#%%\n"
    }
   }
  },
  {
   "cell_type": "code",
   "execution_count": 766,
   "outputs": [
    {
     "name": "stdout",
     "output_type": "stream",
     "text": [
      "Model: \"sequential_61\"\n",
      "_________________________________________________________________\n",
      " Layer (type)                Output Shape              Param #   \n",
      "=================================================================\n",
      " dense_0 (Dense)             (None, 120)               720       \n",
      "                                                                 \n",
      " dense_1 (Dense)             (None, 72)                8712      \n",
      "                                                                 \n",
      " dense_2 (Dense)             (None, 64)                4672      \n",
      "                                                                 \n",
      " output (Dense)              (None, 1)                 65        \n",
      "                                                                 \n",
      "=================================================================\n",
      "Total params: 14,169\n",
      "Trainable params: 14,169\n",
      "Non-trainable params: 0\n",
      "_________________________________________________________________\n"
     ]
    }
   ],
   "source": [
    "model.summary()"
   ],
   "metadata": {
    "collapsed": false,
    "pycharm": {
     "name": "#%%\n"
    }
   }
  },
  {
   "cell_type": "code",
   "execution_count": 767,
   "outputs": [
    {
     "data": {
      "image/png": "[encoded data removed]",
      "text/plain": "<IPython.core.display.Image object>"
     },
     "execution_count": 767,
     "metadata": {},
     "output_type": "execute_result"
    }
   ],
   "source": [
    "keras.utils.vis_utils.plot_model(model, show_shapes=True)"
   ],
   "metadata": {
    "collapsed": false,
    "pycharm": {
     "name": "#%%\n"
    }
   }
  },
  {
   "cell_type": "code",
   "execution_count": 768,
   "metadata": {
    "collapsed": false,
    "pycharm": {
     "name": "#%%\n"
    }
   },
   "outputs": [
    {
     "name": "stdout",
     "output_type": "stream",
     "text": [
      "9/9 [==============================] - 0s 10ms/step - loss: 0.0855 - accuracy: 0.9661\n"
     ]
    },
    {
     "data": {
      "text/plain": "[0.08552596718072891, 0.9661319255828857]"
     },
     "execution_count": 768,
     "metadata": {},
     "output_type": "execute_result"
    }
   ],
   "source": [
    "model.evaluate(test_dataset)"
   ]
  },
  {
   "cell_type": "code",
   "execution_count": 791,
   "outputs": [
    {
     "name": "stdout",
     "output_type": "stream",
     "text": [
      "=================================\n",
      "||           | Actual          ||\n",
      "|| Predicted | --------------- ||\n",
      "||           | True   | False  ||\n",
      "|| --------- + ------ + ------ ||\n",
      "|| Pos       |   41.0 |   37.0 ||\n",
      "|| --------- + ------ + ------ ||\n",
      "|| Neg       |    0.0 | 1044.0 ||\n",
      "=================================\n"
     ]
    }
   ],
   "source": [
    "y_pred = tf.round(tf.nn.sigmoid(model.predict(x_test)))\n",
    "\n",
    "tp = keras.metrics.TruePositives(name='tp')\n",
    "tp.update_state(y_test, y_pred)\n",
    "\n",
    "fp = keras.metrics.FalsePositives(name='fp')\n",
    "fp.update_state(y_test, y_pred)\n",
    "\n",
    "tn = keras.metrics.TrueNegatives(name='tn')\n",
    "tn.update_state(y_test, y_pred)\n",
    "\n",
    "fn = keras.metrics.FalseNegatives(name='fn')\n",
    "fn.update_state(y_test, y_pred)\n",
    "\n",
    "print(f'{\"=\" * 33}')\n",
    "print(f'|| {\" \" * 9} | {\"Actual\":15} ||')\n",
    "print(f'|| {\"Predicted\":9} | {\"-\" * 15} ||')\n",
    "print(f'|| {\" \" * 9} | {\"True\":6} | {\"False\":6} ||')\n",
    "print(f'|| {\"-\" * 9} + {\"-\" * 6} + {\"-\" * 6} ||')\n",
    "print(f'|| {\"Pos\":9} | {tp.result():6} | {fp.result():6} ||')\n",
    "print(f'|| {\"-\" * 9} + {\"-\" * 6} + {\"-\" * 6} ||')\n",
    "print(f'|| {\"Neg\":9} | {fn.result():6} | {tn.result():6} ||')\n",
    "print(f'{\"=\" * 33}')"
   ],
   "metadata": {
    "collapsed": false,
    "pycharm": {
     "name": "#%%\n"
    }
   }
  },
  {
   "cell_type": "code",
   "execution_count": 770,
   "metadata": {
    "collapsed": false,
    "pycharm": {
     "name": "#%%\n"
    }
   },
   "outputs": [],
   "source": [
    "condition = (convert_string_to_date('1.1.2021') <= reserved_data['to date'])\n",
    "\n",
    "X_pred = reserved_data[condition].drop(['to date'], axis=1)\n",
    "\n",
    "# X_pred = processed_data[condition]\n",
    "\n",
    "result_pred = model.predict(X_pred)\n",
    "result_proba = tf.nn.sigmoid(result_pred).numpy()"
   ]
  },
  {
   "cell_type": "code",
   "execution_count": 771,
   "metadata": {
    "collapsed": false,
    "pycharm": {
     "name": "#%%\n"
    }
   },
   "outputs": [
    {
     "data": {
      "application/vnd.plotly.v1+json": {
       "data": [
        {
         "groupnorm": "percent",
         "line": {
          "width": 0.25
         },
         "mode": "lines",
         "name": "No event",
         "stackgroup": "one",
         "text": [
          "[30.11.2021..30.12.2021]",
          "[01.12.2021..01.01.2022]",
          "[02.12.2021..02.01.2022]",
          "[03.12.2021..03.01.2022]",
          "[04.12.2021..04.01.2022]",
          "[05.12.2021..05.01.2022]",
          "[06.12.2021..06.01.2022]",
          "[07.12.2021..07.01.2022]",
          "[08.12.2021..08.01.2022]",
          "[09.12.2021..09.01.2022]",
          "[10.12.2021..10.01.2022]",
          "[11.12.2021..11.01.2022]",
          "[12.12.2021..12.01.2022]",
          "[13.12.2021..13.01.2022]",
          "[14.12.2021..14.01.2022]",
          "[15.12.2021..15.01.2022]",
          "[16.12.2021..16.01.2022]",
          "[17.12.2021..17.01.2022]",
          "[18.12.2021..18.01.2022]",
          "[19.12.2021..19.01.2022]",
          "[20.12.2021..20.01.2022]",
          "[21.12.2021..21.01.2022]",
          "[22.12.2021..22.01.2022]",
          "[23.12.2021..23.01.2022]",
          "[24.12.2021..24.01.2022]",
          "[25.12.2021..25.01.2022]",
          "[26.12.2021..26.01.2022]",
          "[27.12.2021..27.01.2022]",
          "[28.12.2021..28.01.2022]",
          "[29.12.2021..29.01.2022]",
          "[30.12.2021..30.01.2022]",
          "[01.01.2022..01.02.2022]",
          "[02.01.2022..02.02.2022]",
          "[03.01.2022..03.02.2022]",
          "[04.01.2022..04.02.2022]",
          "[05.01.2022..05.02.2022]",
          "[06.01.2022..06.02.2022]",
          "[07.01.2022..07.02.2022]",
          "[08.01.2022..08.02.2022]",
          "[09.01.2022..09.02.2022]",
          "[10.01.2022..10.02.2022]",
          "[11.01.2022..11.02.2022]",
          "[12.01.2022..12.02.2022]",
          "[13.01.2022..13.02.2022]",
          "[14.01.2022..14.02.2022]",
          "[15.01.2022..15.02.2022]",
          "[16.01.2022..16.02.2022]",
          "[17.01.2022..17.02.2022]",
          "[18.01.2022..18.02.2022]",
          "[19.01.2022..19.02.2022]",
          "[20.01.2022..20.02.2022]",
          "[21.01.2022..21.02.2022]",
          "[22.01.2022..22.02.2022]",
          "[23.01.2022..23.02.2022]",
          "[24.01.2022..24.02.2022]",
          "[25.01.2022..25.02.2022]",
          "[26.01.2022..26.02.2022]",
          "[27.01.2022..27.02.2022]",
          "[28.01.2022..28.02.2022]",
          "[29.01.2022..28.02.2022]",
          "[30.01.2022..28.02.2022]",
          "[31.01.2022..28.02.2022]",
          "[01.02.2022..01.03.2022]",
          "[02.02.2022..02.03.2022]",
          "[03.02.2022..03.03.2022]",
          "[04.02.2022..04.03.2022]",
          "[05.02.2022..05.03.2022]",
          "[06.02.2022..06.03.2022]",
          "[07.02.2022..07.03.2022]",
          "[08.02.2022..08.03.2022]",
          "[09.02.2022..09.03.2022]",
          "[10.02.2022..10.03.2022]",
          "[11.02.2022..11.03.2022]",
          "[12.02.2022..12.03.2022]",
          "[13.02.2022..13.03.2022]",
          "[14.02.2022..14.03.2022]",
          "[15.02.2022..15.03.2022]",
          "[16.02.2022..16.03.2022]",
          "[17.02.2022..17.03.2022]",
          "[18.02.2022..18.03.2022]",
          "[19.02.2022..19.03.2022]",
          "[20.02.2022..20.03.2022]",
          "[21.02.2022..21.03.2022]",
          "[22.02.2022..22.03.2022]",
          "[23.02.2022..23.03.2022]",
          "[24.02.2022..24.03.2022]",
          "[25.02.2022..25.03.2022]",
          "[26.02.2022..26.03.2022]",
          "[27.02.2022..27.03.2022]",
          "[28.02.2022..28.03.2022]",
          "[28.02.2022..28.03.2022]",
          "[28.02.2022..28.03.2022]",
          "[01.03.2022..01.04.2022]",
          "[02.03.2022..02.04.2022]",
          "[03.03.2022..03.04.2022]",
          "[04.03.2022..04.04.2022]",
          "[05.03.2022..05.04.2022]",
          "[06.03.2022..06.04.2022]",
          "[07.03.2022..07.04.2022]",
          "[08.03.2022..08.04.2022]",
          "[09.03.2022..09.04.2022]",
          "[10.03.2022..10.04.2022]",
          "[11.03.2022..11.04.2022]",
          "[12.03.2022..12.04.2022]",
          "[13.03.2022..13.04.2022]",
          "[14.03.2022..14.04.2022]",
          "[15.03.2022..15.04.2022]",
          "[16.03.2022..16.04.2022]",
          "[17.03.2022..17.04.2022]",
          "[18.03.2022..18.04.2022]",
          "[19.03.2022..19.04.2022]",
          "[20.03.2022..20.04.2022]",
          "[21.03.2022..21.04.2022]",
          "[22.03.2022..22.04.2022]",
          "[23.03.2022..23.04.2022]",
          "[24.03.2022..24.04.2022]",
          "[25.03.2022..25.04.2022]",
          "[26.03.2022..26.04.2022]",
          "[27.03.2022..27.04.2022]",
          "[28.03.2022..28.04.2022]",
          "[29.03.2022..29.04.2022]",
          "[30.03.2022..30.04.2022]",
          "[31.03.2022..30.04.2022]"
         ],
         "x": [
          "2021-08-31T00:00:00",
          "2021-09-01T00:00:00",
          "2021-09-02T00:00:00",
          "2021-09-03T00:00:00",
          "2021-09-04T00:00:00",
          "2021-09-05T00:00:00",
          "2021-09-06T00:00:00",
          "2021-09-07T00:00:00",
          "2021-09-08T00:00:00",
          "2021-09-09T00:00:00",
          "2021-09-10T00:00:00",
          "2021-09-11T00:00:00",
          "2021-09-12T00:00:00",
          "2021-09-13T00:00:00",
          "2021-09-14T00:00:00",
          "2021-09-15T00:00:00",
          "2021-09-16T00:00:00",
          "2021-09-17T00:00:00",
          "2021-09-18T00:00:00",
          "2021-09-19T00:00:00",
          "2021-09-20T00:00:00",
          "2021-09-21T00:00:00",
          "2021-09-22T00:00:00",
          "2021-09-23T00:00:00",
          "2021-09-24T00:00:00",
          "2021-09-25T00:00:00",
          "2021-09-26T00:00:00",
          "2021-09-27T00:00:00",
          "2021-09-28T00:00:00",
          "2021-09-29T00:00:00",
          "2021-09-30T00:00:00",
          "2021-10-01T00:00:00",
          "2021-10-02T00:00:00",
          "2021-10-03T00:00:00",
          "2021-10-04T00:00:00",
          "2021-10-05T00:00:00",
          "2021-10-06T00:00:00",
          "2021-10-07T00:00:00",
          "2021-10-08T00:00:00",
          "2021-10-09T00:00:00",
          "2021-10-10T00:00:00",
          "2021-10-11T00:00:00",
          "2021-10-12T00:00:00",
          "2021-10-13T00:00:00",
          "2021-10-14T00:00:00",
          "2021-10-15T00:00:00",
          "2021-10-16T00:00:00",
          "2021-10-17T00:00:00",
          "2021-10-18T00:00:00",
          "2021-10-19T00:00:00",
          "2021-10-20T00:00:00",
          "2021-10-21T00:00:00",
          "2021-10-22T00:00:00",
          "2021-10-23T00:00:00",
          "2021-10-24T00:00:00",
          "2021-10-25T00:00:00",
          "2021-10-26T00:00:00",
          "2021-10-27T00:00:00",
          "2021-10-28T00:00:00",
          "2021-10-29T00:00:00",
          "2021-10-30T00:00:00",
          "2021-10-31T00:00:00",
          "2021-11-01T00:00:00",
          "2021-11-02T00:00:00",
          "2021-11-03T00:00:00",
          "2021-11-04T00:00:00",
          "2021-11-05T00:00:00",
          "2021-11-06T00:00:00",
          "2021-11-07T00:00:00",
          "2021-11-08T00:00:00",
          "2021-11-09T00:00:00",
          "2021-11-10T00:00:00",
          "2021-11-11T00:00:00",
          "2021-11-12T00:00:00",
          "2021-11-13T00:00:00",
          "2021-11-14T00:00:00",
          "2021-11-15T00:00:00",
          "2021-11-16T00:00:00",
          "2021-11-17T00:00:00",
          "2021-11-18T00:00:00",
          "2021-11-19T00:00:00",
          "2021-11-20T00:00:00",
          "2021-11-21T00:00:00",
          "2021-11-22T00:00:00",
          "2021-11-23T00:00:00",
          "2021-11-24T00:00:00",
          "2021-11-25T00:00:00",
          "2021-11-26T00:00:00",
          "2021-11-27T00:00:00",
          "2021-11-28T00:00:00",
          "2021-11-29T00:00:00",
          "2021-11-30T00:00:00",
          "2021-12-01T00:00:00",
          "2021-12-02T00:00:00",
          "2021-12-03T00:00:00",
          "2021-12-04T00:00:00",
          "2021-12-05T00:00:00",
          "2021-12-06T00:00:00",
          "2021-12-07T00:00:00",
          "2021-12-08T00:00:00",
          "2021-12-09T00:00:00",
          "2021-12-10T00:00:00",
          "2021-12-11T00:00:00",
          "2021-12-12T00:00:00",
          "2021-12-13T00:00:00",
          "2021-12-14T00:00:00",
          "2021-12-15T00:00:00",
          "2021-12-16T00:00:00",
          "2021-12-17T00:00:00",
          "2021-12-18T00:00:00",
          "2021-12-19T00:00:00",
          "2021-12-20T00:00:00",
          "2021-12-21T00:00:00",
          "2021-12-22T00:00:00",
          "2021-12-23T00:00:00",
          "2021-12-24T00:00:00",
          "2021-12-25T00:00:00",
          "2021-12-26T00:00:00",
          "2021-12-27T00:00:00",
          "2021-12-28T00:00:00",
          "2021-12-29T00:00:00",
          "2021-12-30T00:00:00",
          "2021-12-31T00:00:00"
         ],
         "y": [
          1.0,
          1.0,
          1.0,
          1.0,
          1.0,
          1.0,
          1.0,
          1.0,
          1.0,
          1.0,
          1.0,
          1.0,
          1.0,
          1.0,
          1.0,
          1.0,
          1.0,
          1.0,
          1.0,
          1.0,
          1.0,
          1.0,
          1.0,
          1.0,
          1.0,
          1.0,
          1.0,
          1.0,
          1.0,
          1.0,
          1.0,
          1.0,
          1.0,
          1.0,
          1.0,
          1.0,
          1.0,
          1.0,
          1.0,
          1.0,
          1.0,
          1.0,
          1.0,
          1.0,
          1.0,
          1.0,
          1.0,
          1.0,
          1.0,
          1.0,
          1.0,
          1.0,
          1.0,
          1.0,
          1.0,
          1.0,
          1.0,
          1.0,
          1.0,
          1.0,
          1.0,
          1.0,
          1.0,
          1.0,
          1.0,
          1.0,
          1.0,
          1.0,
          1.0,
          1.0,
          1.0,
          1.0,
          1.0,
          1.0,
          1.0,
          1.0,
          1.0,
          1.0,
          1.0,
          1.0,
          1.0,
          1.0,
          1.0,
          1.0,
          1.0,
          1.0,
          1.0,
          1.0,
          1.0,
          1.0,
          1.0,
          1.0,
          1.0,
          1.0,
          1.0,
          1.0,
          1.0,
          1.0,
          1.0,
          1.0,
          1.0,
          1.0,
          1.0,
          1.0,
          1.0,
          1.0,
          1.0,
          1.0,
          1.0,
          1.0,
          1.0,
          1.0,
          1.0,
          1.0,
          1.0,
          1.0,
          1.0,
          1.0,
          1.0,
          1.0,
          1.0,
          1.0,
          1.0
         ],
         "type": "scatter"
        },
        {
         "line": {
          "width": 0.25
         },
         "mode": "lines",
         "name": "Event predicted",
         "stackgroup": "one",
         "text": [
          "[30.11.2021..30.12.2021]",
          "[01.12.2021..01.01.2022]",
          "[02.12.2021..02.01.2022]",
          "[03.12.2021..03.01.2022]",
          "[04.12.2021..04.01.2022]",
          "[05.12.2021..05.01.2022]",
          "[06.12.2021..06.01.2022]",
          "[07.12.2021..07.01.2022]",
          "[08.12.2021..08.01.2022]",
          "[09.12.2021..09.01.2022]",
          "[10.12.2021..10.01.2022]",
          "[11.12.2021..11.01.2022]",
          "[12.12.2021..12.01.2022]",
          "[13.12.2021..13.01.2022]",
          "[14.12.2021..14.01.2022]",
          "[15.12.2021..15.01.2022]",
          "[16.12.2021..16.01.2022]",
          "[17.12.2021..17.01.2022]",
          "[18.12.2021..18.01.2022]",
          "[19.12.2021..19.01.2022]",
          "[20.12.2021..20.01.2022]",
          "[21.12.2021..21.01.2022]",
          "[22.12.2021..22.01.2022]",
          "[23.12.2021..23.01.2022]",
          "[24.12.2021..24.01.2022]",
          "[25.12.2021..25.01.2022]",
          "[26.12.2021..26.01.2022]",
          "[27.12.2021..27.01.2022]",
          "[28.12.2021..28.01.2022]",
          "[29.12.2021..29.01.2022]",
          "[30.12.2021..30.01.2022]",
          "[01.01.2022..01.02.2022]",
          "[02.01.2022..02.02.2022]",
          "[03.01.2022..03.02.2022]",
          "[04.01.2022..04.02.2022]",
          "[05.01.2022..05.02.2022]",
          "[06.01.2022..06.02.2022]",
          "[07.01.2022..07.02.2022]",
          "[08.01.2022..08.02.2022]",
          "[09.01.2022..09.02.2022]",
          "[10.01.2022..10.02.2022]",
          "[11.01.2022..11.02.2022]",
          "[12.01.2022..12.02.2022]",
          "[13.01.2022..13.02.2022]",
          "[14.01.2022..14.02.2022]",
          "[15.01.2022..15.02.2022]",
          "[16.01.2022..16.02.2022]",
          "[17.01.2022..17.02.2022]",
          "[18.01.2022..18.02.2022]",
          "[19.01.2022..19.02.2022]",
          "[20.01.2022..20.02.2022]",
          "[21.01.2022..21.02.2022]",
          "[22.01.2022..22.02.2022]",
          "[23.01.2022..23.02.2022]",
          "[24.01.2022..24.02.2022]",
          "[25.01.2022..25.02.2022]",
          "[26.01.2022..26.02.2022]",
          "[27.01.2022..27.02.2022]",
          "[28.01.2022..28.02.2022]",
          "[29.01.2022..28.02.2022]",
          "[30.01.2022..28.02.2022]",
          "[31.01.2022..28.02.2022]",
          "[01.02.2022..01.03.2022]",
          "[02.02.2022..02.03.2022]",
          "[03.02.2022..03.03.2022]",
          "[04.02.2022..04.03.2022]",
          "[05.02.2022..05.03.2022]",
          "[06.02.2022..06.03.2022]",
          "[07.02.2022..07.03.2022]",
          "[08.02.2022..08.03.2022]",
          "[09.02.2022..09.03.2022]",
          "[10.02.2022..10.03.2022]",
          "[11.02.2022..11.03.2022]",
          "[12.02.2022..12.03.2022]",
          "[13.02.2022..13.03.2022]",
          "[14.02.2022..14.03.2022]",
          "[15.02.2022..15.03.2022]",
          "[16.02.2022..16.03.2022]",
          "[17.02.2022..17.03.2022]",
          "[18.02.2022..18.03.2022]",
          "[19.02.2022..19.03.2022]",
          "[20.02.2022..20.03.2022]",
          "[21.02.2022..21.03.2022]",
          "[22.02.2022..22.03.2022]",
          "[23.02.2022..23.03.2022]",
          "[24.02.2022..24.03.2022]",
          "[25.02.2022..25.03.2022]",
          "[26.02.2022..26.03.2022]",
          "[27.02.2022..27.03.2022]",
          "[28.02.2022..28.03.2022]",
          "[28.02.2022..28.03.2022]",
          "[28.02.2022..28.03.2022]",
          "[01.03.2022..01.04.2022]",
          "[02.03.2022..02.04.2022]",
          "[03.03.2022..03.04.2022]",
          "[04.03.2022..04.04.2022]",
          "[05.03.2022..05.04.2022]",
          "[06.03.2022..06.04.2022]",
          "[07.03.2022..07.04.2022]",
          "[08.03.2022..08.04.2022]",
          "[09.03.2022..09.04.2022]",
          "[10.03.2022..10.04.2022]",
          "[11.03.2022..11.04.2022]",
          "[12.03.2022..12.04.2022]",
          "[13.03.2022..13.04.2022]",
          "[14.03.2022..14.04.2022]",
          "[15.03.2022..15.04.2022]",
          "[16.03.2022..16.04.2022]",
          "[17.03.2022..17.04.2022]",
          "[18.03.2022..18.04.2022]",
          "[19.03.2022..19.04.2022]",
          "[20.03.2022..20.04.2022]",
          "[21.03.2022..21.04.2022]",
          "[22.03.2022..22.04.2022]",
          "[23.03.2022..23.04.2022]",
          "[24.03.2022..24.04.2022]",
          "[25.03.2022..25.04.2022]",
          "[26.03.2022..26.04.2022]",
          "[27.03.2022..27.04.2022]",
          "[28.03.2022..28.04.2022]",
          "[29.03.2022..29.04.2022]",
          "[30.03.2022..30.04.2022]",
          "[31.03.2022..30.04.2022]"
         ],
         "x": [
          "2021-08-31T00:00:00",
          "2021-09-01T00:00:00",
          "2021-09-02T00:00:00",
          "2021-09-03T00:00:00",
          "2021-09-04T00:00:00",
          "2021-09-05T00:00:00",
          "2021-09-06T00:00:00",
          "2021-09-07T00:00:00",
          "2021-09-08T00:00:00",
          "2021-09-09T00:00:00",
          "2021-09-10T00:00:00",
          "2021-09-11T00:00:00",
          "2021-09-12T00:00:00",
          "2021-09-13T00:00:00",
          "2021-09-14T00:00:00",
          "2021-09-15T00:00:00",
          "2021-09-16T00:00:00",
          "2021-09-17T00:00:00",
          "2021-09-18T00:00:00",
          "2021-09-19T00:00:00",
          "2021-09-20T00:00:00",
          "2021-09-21T00:00:00",
          "2021-09-22T00:00:00",
          "2021-09-23T00:00:00",
          "2021-09-24T00:00:00",
          "2021-09-25T00:00:00",
          "2021-09-26T00:00:00",
          "2021-09-27T00:00:00",
          "2021-09-28T00:00:00",
          "2021-09-29T00:00:00",
          "2021-09-30T00:00:00",
          "2021-10-01T00:00:00",
          "2021-10-02T00:00:00",
          "2021-10-03T00:00:00",
          "2021-10-04T00:00:00",
          "2021-10-05T00:00:00",
          "2021-10-06T00:00:00",
          "2021-10-07T00:00:00",
          "2021-10-08T00:00:00",
          "2021-10-09T00:00:00",
          "2021-10-10T00:00:00",
          "2021-10-11T00:00:00",
          "2021-10-12T00:00:00",
          "2021-10-13T00:00:00",
          "2021-10-14T00:00:00",
          "2021-10-15T00:00:00",
          "2021-10-16T00:00:00",
          "2021-10-17T00:00:00",
          "2021-10-18T00:00:00",
          "2021-10-19T00:00:00",
          "2021-10-20T00:00:00",
          "2021-10-21T00:00:00",
          "2021-10-22T00:00:00",
          "2021-10-23T00:00:00",
          "2021-10-24T00:00:00",
          "2021-10-25T00:00:00",
          "2021-10-26T00:00:00",
          "2021-10-27T00:00:00",
          "2021-10-28T00:00:00",
          "2021-10-29T00:00:00",
          "2021-10-30T00:00:00",
          "2021-10-31T00:00:00",
          "2021-11-01T00:00:00",
          "2021-11-02T00:00:00",
          "2021-11-03T00:00:00",
          "2021-11-04T00:00:00",
          "2021-11-05T00:00:00",
          "2021-11-06T00:00:00",
          "2021-11-07T00:00:00",
          "2021-11-08T00:00:00",
          "2021-11-09T00:00:00",
          "2021-11-10T00:00:00",
          "2021-11-11T00:00:00",
          "2021-11-12T00:00:00",
          "2021-11-13T00:00:00",
          "2021-11-14T00:00:00",
          "2021-11-15T00:00:00",
          "2021-11-16T00:00:00",
          "2021-11-17T00:00:00",
          "2021-11-18T00:00:00",
          "2021-11-19T00:00:00",
          "2021-11-20T00:00:00",
          "2021-11-21T00:00:00",
          "2021-11-22T00:00:00",
          "2021-11-23T00:00:00",
          "2021-11-24T00:00:00",
          "2021-11-25T00:00:00",
          "2021-11-26T00:00:00",
          "2021-11-27T00:00:00",
          "2021-11-28T00:00:00",
          "2021-11-29T00:00:00",
          "2021-11-30T00:00:00",
          "2021-12-01T00:00:00",
          "2021-12-02T00:00:00",
          "2021-12-03T00:00:00",
          "2021-12-04T00:00:00",
          "2021-12-05T00:00:00",
          "2021-12-06T00:00:00",
          "2021-12-07T00:00:00",
          "2021-12-08T00:00:00",
          "2021-12-09T00:00:00",
          "2021-12-10T00:00:00",
          "2021-12-11T00:00:00",
          "2021-12-12T00:00:00",
          "2021-12-13T00:00:00",
          "2021-12-14T00:00:00",
          "2021-12-15T00:00:00",
          "2021-12-16T00:00:00",
          "2021-12-17T00:00:00",
          "2021-12-18T00:00:00",
          "2021-12-19T00:00:00",
          "2021-12-20T00:00:00",
          "2021-12-21T00:00:00",
          "2021-12-22T00:00:00",
          "2021-12-23T00:00:00",
          "2021-12-24T00:00:00",
          "2021-12-25T00:00:00",
          "2021-12-26T00:00:00",
          "2021-12-27T00:00:00",
          "2021-12-28T00:00:00",
          "2021-12-29T00:00:00",
          "2021-12-30T00:00:00",
          "2021-12-31T00:00:00"
         ],
         "y": [
          5.100383055422324E-20,
          5.100383055422324E-20,
          5.100383055422324E-20,
          2.9076300028859635E-20,
          3.5360336212462434E-20,
          2.5327347856120255E-20,
          2.064691276546374E-20,
          2.1373293665558937E-20,
          1.7923367284257476E-20,
          1.7923367284257476E-20,
          1.8494291543568124E-20,
          1.889513648294536E-20,
          2.0587452696587954E-20,
          2.1049397525781874E-20,
          2.1753562487198915E-20,
          1.7939099871767323E-20,
          1.704092551378965E-20,
          1.6705204891779628E-20,
          1.763412064174101E-20,
          1.9677159819518954E-20,
          1.934787246547609E-20,
          1.934787246547609E-20,
          2.5710106297533562E-20,
          2.120874450038484E-20,
          2.1773240338489728E-20,
          2.3804097989278122E-20,
          1.966418019248526E-20,
          1.0205690581987467E-20,
          8.64218270714943E-21,
          8.10666403987804E-21,
          9.543607626440494E-21,
          9.287779403788596E-21,
          9.920525720364779E-21,
          1.0076636673938556E-20,
          1.083013601186971E-20,
          1.7727532274235547E-20,
          1.7727532274235547E-20,
          1.5088960213923502E-20,
          1.5088960213923502E-20,
          1.5088960213923502E-20,
          1.7607702560927597E-20,
          1.8169540758197232E-20,
          2.0158473922861113E-20,
          2.061786935555775E-20,
          1.7481077688134494E-20,
          1.6748274829182072E-20,
          1.355385678428E-20,
          1.566336283233342E-20,
          1.5146455728844473E-20,
          1.4833791150822232E-20,
          1.355845959202446E-20,
          1.450316285945824E-20,
          1.6431980026869974E-20,
          1.6963679446156843E-20,
          1.1730690937489172E-20,
          1.0515523843557561E-20,
          1.195535206094758E-20,
          1.2189801219056678E-20,
          1.1066977854524102E-20,
          1.46077155808281E-20,
          1.4896508243359944E-20,
          1.3180921920434326E-20,
          1.1893714988408876E-20,
          1.1996101207432188E-20,
          1.316368683688996E-20,
          1.484868201743532E-20,
          1.6404671757545787E-20,
          1.6404671757545787E-20,
          1.7934584305728093E-20,
          1.7981783683844766E-20,
          1.7586153859735737E-20,
          1.9470333970225153E-20,
          2.2098912008526938E-20,
          2.3034965422445857E-20,
          1.9282736838998942E-20,
          1.6403482685415242E-20,
          1.427395466601149E-20,
          1.2035658858405549E-20,
          1.2035658858405549E-20,
          1.1964340379966992E-20,
          1.1964340379966992E-20,
          9.952138721607223E-21,
          1.0761936424393133E-20,
          1.0953660572952873E-20,
          1.1157309370147874E-20,
          1.13788443325022E-20,
          1.2493496865105114E-20,
          1.3869191927834565E-20,
          1.3869191927834565E-20,
          1.3869191927834565E-20,
          1.219431355392164E-20,
          1.1766050485295113E-20,
          1.0855822231711469E-20,
          8.653530591177892E-21,
          1.269454941377595E-20,
          1.666739530608514E-20,
          1.8637140142359777E-20,
          2.266426410781279E-20,
          1.6561173683205966E-20,
          1.6561173683205966E-20,
          1.4130871807085422E-20,
          1.2504940068774475E-20,
          1.2239565341748406E-20,
          2.1910549088999262E-20,
          3.711262463610226E-20,
          5.1682470854511914E-20,
          5.331857594500498E-20,
          5.877093049029973E-20,
          4.471977498357484E-20,
          3.6867381740351623E-20,
          3.6867381740351623E-20,
          4.177415251053083E-20,
          5.763947019694936E-20,
          6.612054009275848E-20,
          1.5369500457375422E-19,
          9.64322505223374E-20,
          9.64322505223374E-20,
          9.64322505223374E-20,
          9.64322505223374E-20,
          6.052165825676821E-20,
          4.274456784720051E-20,
          3.549371908623661E-20,
          3.1156853139886567E-20
         ],
         "type": "scatter"
        }
       ],
       "layout": {
        "template": {
         "data": {
          "bar": [
           {
            "error_x": {
             "color": "#f2f5fa"
            },
            "error_y": {
             "color": "#f2f5fa"
            },
            "marker": {
             "line": {
              "color": "rgb(17,17,17)",
              "width": 0.5
             },
             "pattern": {
              "fillmode": "overlay",
              "size": 10,
              "solidity": 0.2
             }
            },
            "type": "bar"
           }
          ],
          "barpolar": [
           {
            "marker": {
             "line": {
              "color": "rgb(17,17,17)",
              "width": 0.5
             },
             "pattern": {
              "fillmode": "overlay",
              "size": 10,
              "solidity": 0.2
             }
            },
            "type": "barpolar"
           }
          ],
          "carpet": [
           {
            "aaxis": {
             "endlinecolor": "#A2B1C6",
             "gridcolor": "#506784",
             "linecolor": "#506784",
             "minorgridcolor": "#506784",
             "startlinecolor": "#A2B1C6"
            },
            "baxis": {
             "endlinecolor": "#A2B1C6",
             "gridcolor": "#506784",
             "linecolor": "#506784",
             "minorgridcolor": "#506784",
             "startlinecolor": "#A2B1C6"
            },
            "type": "carpet"
           }
          ],
          "choropleth": [
           {
            "colorbar": {
             "outlinewidth": 0,
             "ticks": ""
            },
            "type": "choropleth"
           }
          ],
          "contour": [
           {
            "colorbar": {
             "outlinewidth": 0,
             "ticks": ""
            },
            "colorscale": [
             [
              0.0,
              "#0d0887"
             ],
             [
              0.1111111111111111,
              "#46039f"
             ],
             [
              0.2222222222222222,
              "#7201a8"
             ],
             [
              0.3333333333333333,
              "#9c179e"
             ],
             [
              0.4444444444444444,
              "#bd3786"
             ],
             [
              0.5555555555555556,
              "#d8576b"
             ],
             [
              0.6666666666666666,
              "#ed7953"
             ],
             [
              0.7777777777777778,
              "#fb9f3a"
             ],
             [
              0.8888888888888888,
              "#fdca26"
             ],
             [
              1.0,
              "#f0f921"
             ]
            ],
            "type": "contour"
           }
          ],
          "contourcarpet": [
           {
            "colorbar": {
             "outlinewidth": 0,
             "ticks": ""
            },
            "type": "contourcarpet"
           }
          ],
          "heatmap": [
           {
            "colorbar": {
             "outlinewidth": 0,
             "ticks": ""
            },
            "colorscale": [
             [
              0.0,
              "#0d0887"
             ],
             [
              0.1111111111111111,
              "#46039f"
             ],
             [
              0.2222222222222222,
              "#7201a8"
             ],
             [
              0.3333333333333333,
              "#9c179e"
             ],
             [
              0.4444444444444444,
              "#bd3786"
             ],
             [
              0.5555555555555556,
              "#d8576b"
             ],
             [
              0.6666666666666666,
              "#ed7953"
             ],
             [
              0.7777777777777778,
              "#fb9f3a"
             ],
             [
              0.8888888888888888,
              "#fdca26"
             ],
             [
              1.0,
              "#f0f921"
             ]
            ],
            "type": "heatmap"
           }
          ],
          "heatmapgl": [
           {
            "colorbar": {
             "outlinewidth": 0,
             "ticks": ""
            },
            "colorscale": [
             [
              0.0,
              "#0d0887"
             ],
             [
              0.1111111111111111,
              "#46039f"
             ],
             [
              0.2222222222222222,
              "#7201a8"
             ],
             [
              0.3333333333333333,
              "#9c179e"
             ],
             [
              0.4444444444444444,
              "#bd3786"
             ],
             [
              0.5555555555555556,
              "#d8576b"
             ],
             [
              0.6666666666666666,
              "#ed7953"
             ],
             [
              0.7777777777777778,
              "#fb9f3a"
             ],
             [
              0.8888888888888888,
              "#fdca26"
             ],
             [
              1.0,
              "#f0f921"
             ]
            ],
            "type": "heatmapgl"
           }
          ],
          "histogram": [
           {
            "marker": {
             "pattern": {
              "fillmode": "overlay",
              "size": 10,
              "solidity": 0.2
             }
            },
            "type": "histogram"
           }
          ],
          "histogram2d": [
           {
            "colorbar": {
             "outlinewidth": 0,
             "ticks": ""
            },
            "colorscale": [
             [
              0.0,
              "#0d0887"
             ],
             [
              0.1111111111111111,
              "#46039f"
             ],
             [
              0.2222222222222222,
              "#7201a8"
             ],
             [
              0.3333333333333333,
              "#9c179e"
             ],
             [
              0.4444444444444444,
              "#bd3786"
             ],
             [
              0.5555555555555556,
              "#d8576b"
             ],
             [
              0.6666666666666666,
              "#ed7953"
             ],
             [
              0.7777777777777778,
              "#fb9f3a"
             ],
             [
              0.8888888888888888,
              "#fdca26"
             ],
             [
              1.0,
              "#f0f921"
             ]
            ],
            "type": "histogram2d"
           }
          ],
          "histogram2dcontour": [
           {
            "colorbar": {
             "outlinewidth": 0,
             "ticks": ""
            },
            "colorscale": [
             [
              0.0,
              "#0d0887"
             ],
             [
              0.1111111111111111,
              "#46039f"
             ],
             [
              0.2222222222222222,
              "#7201a8"
             ],
             [
              0.3333333333333333,
              "#9c179e"
             ],
             [
              0.4444444444444444,
              "#bd3786"
             ],
             [
              0.5555555555555556,
              "#d8576b"
             ],
             [
              0.6666666666666666,
              "#ed7953"
             ],
             [
              0.7777777777777778,
              "#fb9f3a"
             ],
             [
              0.8888888888888888,
              "#fdca26"
             ],
             [
              1.0,
              "#f0f921"
             ]
            ],
            "type": "histogram2dcontour"
           }
          ],
          "mesh3d": [
           {
            "colorbar": {
             "outlinewidth": 0,
             "ticks": ""
            },
            "type": "mesh3d"
           }
          ],
          "parcoords": [
           {
            "line": {
             "colorbar": {
              "outlinewidth": 0,
              "ticks": ""
             }
            },
            "type": "parcoords"
           }
          ],
          "pie": [
           {
            "automargin": true,
            "type": "pie"
           }
          ],
          "scatter": [
           {
            "marker": {
             "line": {
              "color": "#283442"
             }
            },
            "type": "scatter"
           }
          ],
          "scatter3d": [
           {
            "line": {
             "colorbar": {
              "outlinewidth": 0,
              "ticks": ""
             }
            },
            "marker": {
             "colorbar": {
              "outlinewidth": 0,
              "ticks": ""
             }
            },
            "type": "scatter3d"
           }
          ],
          "scattercarpet": [
           {
            "marker": {
             "colorbar": {
              "outlinewidth": 0,
              "ticks": ""
             }
            },
            "type": "scattercarpet"
           }
          ],
          "scattergeo": [
           {
            "marker": {
             "colorbar": {
              "outlinewidth": 0,
              "ticks": ""
             }
            },
            "type": "scattergeo"
           }
          ],
          "scattergl": [
           {
            "marker": {
             "line": {
              "color": "#283442"
             }
            },
            "type": "scattergl"
           }
          ],
          "scattermapbox": [
           {
            "marker": {
             "colorbar": {
              "outlinewidth": 0,
              "ticks": ""
             }
            },
            "type": "scattermapbox"
           }
          ],
          "scatterpolar": [
           {
            "marker": {
             "colorbar": {
              "outlinewidth": 0,
              "ticks": ""
             }
            },
            "type": "scatterpolar"
           }
          ],
          "scatterpolargl": [
           {
            "marker": {
             "colorbar": {
              "outlinewidth": 0,
              "ticks": ""
             }
            },
            "type": "scatterpolargl"
           }
          ],
          "scatterternary": [
           {
            "marker": {
             "colorbar": {
              "outlinewidth": 0,
              "ticks": ""
             }
            },
            "type": "scatterternary"
           }
          ],
          "surface": [
           {
            "colorbar": {
             "outlinewidth": 0,
             "ticks": ""
            },
            "colorscale": [
             [
              0.0,
              "#0d0887"
             ],
             [
              0.1111111111111111,
              "#46039f"
             ],
             [
              0.2222222222222222,
              "#7201a8"
             ],
             [
              0.3333333333333333,
              "#9c179e"
             ],
             [
              0.4444444444444444,
              "#bd3786"
             ],
             [
              0.5555555555555556,
              "#d8576b"
             ],
             [
              0.6666666666666666,
              "#ed7953"
             ],
             [
              0.7777777777777778,
              "#fb9f3a"
             ],
             [
              0.8888888888888888,
              "#fdca26"
             ],
             [
              1.0,
              "#f0f921"
             ]
            ],
            "type": "surface"
           }
          ],
          "table": [
           {
            "cells": {
             "fill": {
              "color": "#506784"
             },
             "line": {
              "color": "rgb(17,17,17)"
             }
            },
            "header": {
             "fill": {
              "color": "#2a3f5f"
             },
             "line": {
              "color": "rgb(17,17,17)"
             }
            },
            "type": "table"
           }
          ]
         },
         "layout": {
          "annotationdefaults": {
           "arrowcolor": "#f2f5fa",
           "arrowhead": 0,
           "arrowwidth": 1
          },
          "autotypenumbers": "strict",
          "coloraxis": {
           "colorbar": {
            "outlinewidth": 0,
            "ticks": ""
           }
          },
          "colorscale": {
           "diverging": [
            [
             0,
             "#8e0152"
            ],
            [
             0.1,
             "#c51b7d"
            ],
            [
             0.2,
             "#de77ae"
            ],
            [
             0.3,
             "#f1b6da"
            ],
            [
             0.4,
             "#fde0ef"
            ],
            [
             0.5,
             "#f7f7f7"
            ],
            [
             0.6,
             "#e6f5d0"
            ],
            [
             0.7,
             "#b8e186"
            ],
            [
             0.8,
             "#7fbc41"
            ],
            [
             0.9,
             "#4d9221"
            ],
            [
             1,
             "#276419"
            ]
           ],
           "sequential": [
            [
             0.0,
             "#0d0887"
            ],
            [
             0.1111111111111111,
             "#46039f"
            ],
            [
             0.2222222222222222,
             "#7201a8"
            ],
            [
             0.3333333333333333,
             "#9c179e"
            ],
            [
             0.4444444444444444,
             "#bd3786"
            ],
            [
             0.5555555555555556,
             "#d8576b"
            ],
            [
             0.6666666666666666,
             "#ed7953"
            ],
            [
             0.7777777777777778,
             "#fb9f3a"
            ],
            [
             0.8888888888888888,
             "#fdca26"
            ],
            [
             1.0,
             "#f0f921"
            ]
           ],
           "sequentialminus": [
            [
             0.0,
             "#0d0887"
            ],
            [
             0.1111111111111111,
             "#46039f"
            ],
            [
             0.2222222222222222,
             "#7201a8"
            ],
            [
             0.3333333333333333,
             "#9c179e"
            ],
            [
             0.4444444444444444,
             "#bd3786"
            ],
            [
             0.5555555555555556,
             "#d8576b"
            ],
            [
             0.6666666666666666,
             "#ed7953"
            ],
            [
             0.7777777777777778,
             "#fb9f3a"
            ],
            [
             0.8888888888888888,
             "#fdca26"
            ],
            [
             1.0,
             "#f0f921"
            ]
           ]
          },
          "colorway": [
           "#636efa",
           "#EF553B",
           "#00cc96",
           "#ab63fa",
           "#FFA15A",
           "#19d3f3",
           "#FF6692",
           "#B6E880",
           "#FF97FF",
           "#FECB52"
          ],
          "font": {
           "color": "#f2f5fa"
          },
          "geo": {
           "bgcolor": "rgb(17,17,17)",
           "lakecolor": "rgb(17,17,17)",
           "landcolor": "rgb(17,17,17)",
           "showlakes": true,
           "showland": true,
           "subunitcolor": "#506784"
          },
          "hoverlabel": {
           "align": "left"
          },
          "hovermode": "closest",
          "mapbox": {
           "style": "dark"
          },
          "paper_bgcolor": "rgb(17,17,17)",
          "plot_bgcolor": "rgb(17,17,17)",
          "polar": {
           "angularaxis": {
            "gridcolor": "#506784",
            "linecolor": "#506784",
            "ticks": ""
           },
           "bgcolor": "rgb(17,17,17)",
           "radialaxis": {
            "gridcolor": "#506784",
            "linecolor": "#506784",
            "ticks": ""
           }
          },
          "scene": {
           "xaxis": {
            "backgroundcolor": "rgb(17,17,17)",
            "gridcolor": "#506784",
            "gridwidth": 2,
            "linecolor": "#506784",
            "showbackground": true,
            "ticks": "",
            "zerolinecolor": "#C8D4E3"
           },
           "yaxis": {
            "backgroundcolor": "rgb(17,17,17)",
            "gridcolor": "#506784",
            "gridwidth": 2,
            "linecolor": "#506784",
            "showbackground": true,
            "ticks": "",
            "zerolinecolor": "#C8D4E3"
           },
           "zaxis": {
            "backgroundcolor": "rgb(17,17,17)",
            "gridcolor": "#506784",
            "gridwidth": 2,
            "linecolor": "#506784",
            "showbackground": true,
            "ticks": "",
            "zerolinecolor": "#C8D4E3"
           }
          },
          "shapedefaults": {
           "line": {
            "color": "#f2f5fa"
           }
          },
          "sliderdefaults": {
           "bgcolor": "#C8D4E3",
           "bordercolor": "rgb(17,17,17)",
           "borderwidth": 1,
           "tickwidth": 0
          },
          "ternary": {
           "aaxis": {
            "gridcolor": "#506784",
            "linecolor": "#506784",
            "ticks": ""
           },
           "baxis": {
            "gridcolor": "#506784",
            "linecolor": "#506784",
            "ticks": ""
           },
           "bgcolor": "rgb(17,17,17)",
           "caxis": {
            "gridcolor": "#506784",
            "linecolor": "#506784",
            "ticks": ""
           }
          },
          "title": {
           "x": 0.05
          },
          "updatemenudefaults": {
           "bgcolor": "#506784",
           "borderwidth": 0
          },
          "xaxis": {
           "automargin": true,
           "gridcolor": "#283442",
           "linecolor": "#506784",
           "ticks": "",
           "title": {
            "standoff": 15
           },
           "zerolinecolor": "#283442",
           "zerolinewidth": 2
          },
          "yaxis": {
           "automargin": true,
           "gridcolor": "#283442",
           "linecolor": "#506784",
           "ticks": "",
           "title": {
            "standoff": 15
           },
           "zerolinecolor": "#283442",
           "zerolinewidth": 2
          }
         }
        },
        "title": {
         "text": "Probability of event"
        }
       },
       "config": {
        "plotlyServerURL": "https://plot.ly"
       }
      },
      "text/html": "<div>                            <div id=\"5422dbf5-2c33-47ab-b2cb-0e9ba5b43144\" class=\"plotly-graph-div\" style=\"height:525px; width:100%;\"></div>            <script type=\"text/javascript\">                require([\"plotly\"], function(Plotly) {                    window.PLOTLYENV=window.PLOTLYENV || {};                                    if (document.getElementById(\"5422dbf5-2c33-47ab-b2cb-0e9ba5b43144\")) {                    Plotly.newPlot(                        \"5422dbf5-2c33-47ab-b2cb-0e9ba5b43144\",                        [{\"groupnorm\":\"percent\",\"line\":{\"width\":0.25},\"mode\":\"lines\",\"name\":\"No event\",\"stackgroup\":\"one\",\"text\":[\"[30.11.2021..30.12.2021]\",\"[01.12.2021..01.01.2022]\",\"[02.12.2021..02.01.2022]\",\"[03.12.2021..03.01.2022]\",\"[04.12.2021..04.01.2022]\",\"[05.12.2021..05.01.2022]\",\"[06.12.2021..06.01.2022]\",\"[07.12.2021..07.01.2022]\",\"[08.12.2021..08.01.2022]\",\"[09.12.2021..09.01.2022]\",\"[10.12.2021..10.01.2022]\",\"[11.12.2021..11.01.2022]\",\"[12.12.2021..12.01.2022]\",\"[13.12.2021..13.01.2022]\",\"[14.12.2021..14.01.2022]\",\"[15.12.2021..15.01.2022]\",\"[16.12.2021..16.01.2022]\",\"[17.12.2021..17.01.2022]\",\"[18.12.2021..18.01.2022]\",\"[19.12.2021..19.01.2022]\",\"[20.12.2021..20.01.2022]\",\"[21.12.2021..21.01.2022]\",\"[22.12.2021..22.01.2022]\",\"[23.12.2021..23.01.2022]\",\"[24.12.2021..24.01.2022]\",\"[25.12.2021..25.01.2022]\",\"[26.12.2021..26.01.2022]\",\"[27.12.2021..27.01.2022]\",\"[28.12.2021..28.01.2022]\",\"[29.12.2021..29.01.2022]\",\"[30.12.2021..30.01.2022]\",\"[01.01.2022..01.02.2022]\",\"[02.01.2022..02.02.2022]\",\"[03.01.2022..03.02.2022]\",\"[04.01.2022..04.02.2022]\",\"[05.01.2022..05.02.2022]\",\"[06.01.2022..06.02.2022]\",\"[07.01.2022..07.02.2022]\",\"[08.01.2022..08.02.2022]\",\"[09.01.2022..09.02.2022]\",\"[10.01.2022..10.02.2022]\",\"[11.01.2022..11.02.2022]\",\"[12.01.2022..12.02.2022]\",\"[13.01.2022..13.02.2022]\",\"[14.01.2022..14.02.2022]\",\"[15.01.2022..15.02.2022]\",\"[16.01.2022..16.02.2022]\",\"[17.01.2022..17.02.2022]\",\"[18.01.2022..18.02.2022]\",\"[19.01.2022..19.02.2022]\",\"[20.01.2022..20.02.2022]\",\"[21.01.2022..21.02.2022]\",\"[22.01.2022..22.02.2022]\",\"[23.01.2022..23.02.2022]\",\"[24.01.2022..24.02.2022]\",\"[25.01.2022..25.02.2022]\",\"[26.01.2022..26.02.2022]\",\"[27.01.2022..27.02.2022]\",\"[28.01.2022..28.02.2022]\",\"[29.01.2022..28.02.2022]\",\"[30.01.2022..28.02.2022]\",\"[31.01.2022..28.02.2022]\",\"[01.02.2022..01.03.2022]\",\"[02.02.2022..02.03.2022]\",\"[03.02.2022..03.03.2022]\",\"[04.02.2022..04.03.2022]\",\"[05.02.2022..05.03.2022]\",\"[06.02.2022..06.03.2022]\",\"[07.02.2022..07.03.2022]\",\"[08.02.2022..08.03.2022]\",\"[09.02.2022..09.03.2022]\",\"[10.02.2022..10.03.2022]\",\"[11.02.2022..11.03.2022]\",\"[12.02.2022..12.03.2022]\",\"[13.02.2022..13.03.2022]\",\"[14.02.2022..14.03.2022]\",\"[15.02.2022..15.03.2022]\",\"[16.02.2022..16.03.2022]\",\"[17.02.2022..17.03.2022]\",\"[18.02.2022..18.03.2022]\",\"[19.02.2022..19.03.2022]\",\"[20.02.2022..20.03.2022]\",\"[21.02.2022..21.03.2022]\",\"[22.02.2022..22.03.2022]\",\"[23.02.2022..23.03.2022]\",\"[24.02.2022..24.03.2022]\",\"[25.02.2022..25.03.2022]\",\"[26.02.2022..26.03.2022]\",\"[27.02.2022..27.03.2022]\",\"[28.02.2022..28.03.2022]\",\"[28.02.2022..28.03.2022]\",\"[28.02.2022..28.03.2022]\",\"[01.03.2022..01.04.2022]\",\"[02.03.2022..02.04.2022]\",\"[03.03.2022..03.04.2022]\",\"[04.03.2022..04.04.2022]\",\"[05.03.2022..05.04.2022]\",\"[06.03.2022..06.04.2022]\",\"[07.03.2022..07.04.2022]\",\"[08.03.2022..08.04.2022]\",\"[09.03.2022..09.04.2022]\",\"[10.03.2022..10.04.2022]\",\"[11.03.2022..11.04.2022]\",\"[12.03.2022..12.04.2022]\",\"[13.03.2022..13.04.2022]\",\"[14.03.2022..14.04.2022]\",\"[15.03.2022..15.04.2022]\",\"[16.03.2022..16.04.2022]\",\"[17.03.2022..17.04.2022]\",\"[18.03.2022..18.04.2022]\",\"[19.03.2022..19.04.2022]\",\"[20.03.2022..20.04.2022]\",\"[21.03.2022..21.04.2022]\",\"[22.03.2022..22.04.2022]\",\"[23.03.2022..23.04.2022]\",\"[24.03.2022..24.04.2022]\",\"[25.03.2022..25.04.2022]\",\"[26.03.2022..26.04.2022]\",\"[27.03.2022..27.04.2022]\",\"[28.03.2022..28.04.2022]\",\"[29.03.2022..29.04.2022]\",\"[30.03.2022..30.04.2022]\",\"[31.03.2022..30.04.2022]\"],\"x\":[\"2021-08-31T00:00:00\",\"2021-09-01T00:00:00\",\"2021-09-02T00:00:00\",\"2021-09-03T00:00:00\",\"2021-09-04T00:00:00\",\"2021-09-05T00:00:00\",\"2021-09-06T00:00:00\",\"2021-09-07T00:00:00\",\"2021-09-08T00:00:00\",\"2021-09-09T00:00:00\",\"2021-09-10T00:00:00\",\"2021-09-11T00:00:00\",\"2021-09-12T00:00:00\",\"2021-09-13T00:00:00\",\"2021-09-14T00:00:00\",\"2021-09-15T00:00:00\",\"2021-09-16T00:00:00\",\"2021-09-17T00:00:00\",\"2021-09-18T00:00:00\",\"2021-09-19T00:00:00\",\"2021-09-20T00:00:00\",\"2021-09-21T00:00:00\",\"2021-09-22T00:00:00\",\"2021-09-23T00:00:00\",\"2021-09-24T00:00:00\",\"2021-09-25T00:00:00\",\"2021-09-26T00:00:00\",\"2021-09-27T00:00:00\",\"2021-09-28T00:00:00\",\"2021-09-29T00:00:00\",\"2021-09-30T00:00:00\",\"2021-10-01T00:00:00\",\"2021-10-02T00:00:00\",\"2021-10-03T00:00:00\",\"2021-10-04T00:00:00\",\"2021-10-05T00:00:00\",\"2021-10-06T00:00:00\",\"2021-10-07T00:00:00\",\"2021-10-08T00:00:00\",\"2021-10-09T00:00:00\",\"2021-10-10T00:00:00\",\"2021-10-11T00:00:00\",\"2021-10-12T00:00:00\",\"2021-10-13T00:00:00\",\"2021-10-14T00:00:00\",\"2021-10-15T00:00:00\",\"2021-10-16T00:00:00\",\"2021-10-17T00:00:00\",\"2021-10-18T00:00:00\",\"2021-10-19T00:00:00\",\"2021-10-20T00:00:00\",\"2021-10-21T00:00:00\",\"2021-10-22T00:00:00\",\"2021-10-23T00:00:00\",\"2021-10-24T00:00:00\",\"2021-10-25T00:00:00\",\"2021-10-26T00:00:00\",\"2021-10-27T00:00:00\",\"2021-10-28T00:00:00\",\"2021-10-29T00:00:00\",\"2021-10-30T00:00:00\",\"2021-10-31T00:00:00\",\"2021-11-01T00:00:00\",\"2021-11-02T00:00:00\",\"2021-11-03T00:00:00\",\"2021-11-04T00:00:00\",\"2021-11-05T00:00:00\",\"2021-11-06T00:00:00\",\"2021-11-07T00:00:00\",\"2021-11-08T00:00:00\",\"2021-11-09T00:00:00\",\"2021-11-10T00:00:00\",\"2021-11-11T00:00:00\",\"2021-11-12T00:00:00\",\"2021-11-13T00:00:00\",\"2021-11-14T00:00:00\",\"2021-11-15T00:00:00\",\"2021-11-16T00:00:00\",\"2021-11-17T00:00:00\",\"2021-11-18T00:00:00\",\"2021-11-19T00:00:00\",\"2021-11-20T00:00:00\",\"2021-11-21T00:00:00\",\"2021-11-22T00:00:00\",\"2021-11-23T00:00:00\",\"2021-11-24T00:00:00\",\"2021-11-25T00:00:00\",\"2021-11-26T00:00:00\",\"2021-11-27T00:00:00\",\"2021-11-28T00:00:00\",\"2021-11-29T00:00:00\",\"2021-11-30T00:00:00\",\"2021-12-01T00:00:00\",\"2021-12-02T00:00:00\",\"2021-12-03T00:00:00\",\"2021-12-04T00:00:00\",\"2021-12-05T00:00:00\",\"2021-12-06T00:00:00\",\"2021-12-07T00:00:00\",\"2021-12-08T00:00:00\",\"2021-12-09T00:00:00\",\"2021-12-10T00:00:00\",\"2021-12-11T00:00:00\",\"2021-12-12T00:00:00\",\"2021-12-13T00:00:00\",\"2021-12-14T00:00:00\",\"2021-12-15T00:00:00\",\"2021-12-16T00:00:00\",\"2021-12-17T00:00:00\",\"2021-12-18T00:00:00\",\"2021-12-19T00:00:00\",\"2021-12-20T00:00:00\",\"2021-12-21T00:00:00\",\"2021-12-22T00:00:00\",\"2021-12-23T00:00:00\",\"2021-12-24T00:00:00\",\"2021-12-25T00:00:00\",\"2021-12-26T00:00:00\",\"2021-12-27T00:00:00\",\"2021-12-28T00:00:00\",\"2021-12-29T00:00:00\",\"2021-12-30T00:00:00\",\"2021-12-31T00:00:00\"],\"y\":[1.0,1.0,1.0,1.0,1.0,1.0,1.0,1.0,1.0,1.0,1.0,1.0,1.0,1.0,1.0,1.0,1.0,1.0,1.0,1.0,1.0,1.0,1.0,1.0,1.0,1.0,1.0,1.0,1.0,1.0,1.0,1.0,1.0,1.0,1.0,1.0,1.0,1.0,1.0,1.0,1.0,1.0,1.0,1.0,1.0,1.0,1.0,1.0,1.0,1.0,1.0,1.0,1.0,1.0,1.0,1.0,1.0,1.0,1.0,1.0,1.0,1.0,1.0,1.0,1.0,1.0,1.0,1.0,1.0,1.0,1.0,1.0,1.0,1.0,1.0,1.0,1.0,1.0,1.0,1.0,1.0,1.0,1.0,1.0,1.0,1.0,1.0,1.0,1.0,1.0,1.0,1.0,1.0,1.0,1.0,1.0,1.0,1.0,1.0,1.0,1.0,1.0,1.0,1.0,1.0,1.0,1.0,1.0,1.0,1.0,1.0,1.0,1.0,1.0,1.0,1.0,1.0,1.0,1.0,1.0,1.0,1.0,1.0],\"type\":\"scatter\"},{\"line\":{\"width\":0.25},\"mode\":\"lines\",\"name\":\"Event predicted\",\"stackgroup\":\"one\",\"text\":[\"[30.11.2021..30.12.2021]\",\"[01.12.2021..01.01.2022]\",\"[02.12.2021..02.01.2022]\",\"[03.12.2021..03.01.2022]\",\"[04.12.2021..04.01.2022]\",\"[05.12.2021..05.01.2022]\",\"[06.12.2021..06.01.2022]\",\"[07.12.2021..07.01.2022]\",\"[08.12.2021..08.01.2022]\",\"[09.12.2021..09.01.2022]\",\"[10.12.2021..10.01.2022]\",\"[11.12.2021..11.01.2022]\",\"[12.12.2021..12.01.2022]\",\"[13.12.2021..13.01.2022]\",\"[14.12.2021..14.01.2022]\",\"[15.12.2021..15.01.2022]\",\"[16.12.2021..16.01.2022]\",\"[17.12.2021..17.01.2022]\",\"[18.12.2021..18.01.2022]\",\"[19.12.2021..19.01.2022]\",\"[20.12.2021..20.01.2022]\",\"[21.12.2021..21.01.2022]\",\"[22.12.2021..22.01.2022]\",\"[23.12.2021..23.01.2022]\",\"[24.12.2021..24.01.2022]\",\"[25.12.2021..25.01.2022]\",\"[26.12.2021..26.01.2022]\",\"[27.12.2021..27.01.2022]\",\"[28.12.2021..28.01.2022]\",\"[29.12.2021..29.01.2022]\",\"[30.12.2021..30.01.2022]\",\"[01.01.2022..01.02.2022]\",\"[02.01.2022..02.02.2022]\",\"[03.01.2022..03.02.2022]\",\"[04.01.2022..04.02.2022]\",\"[05.01.2022..05.02.2022]\",\"[06.01.2022..06.02.2022]\",\"[07.01.2022..07.02.2022]\",\"[08.01.2022..08.02.2022]\",\"[09.01.2022..09.02.2022]\",\"[10.01.2022..10.02.2022]\",\"[11.01.2022..11.02.2022]\",\"[12.01.2022..12.02.2022]\",\"[13.01.2022..13.02.2022]\",\"[14.01.2022..14.02.2022]\",\"[15.01.2022..15.02.2022]\",\"[16.01.2022..16.02.2022]\",\"[17.01.2022..17.02.2022]\",\"[18.01.2022..18.02.2022]\",\"[19.01.2022..19.02.2022]\",\"[20.01.2022..20.02.2022]\",\"[21.01.2022..21.02.2022]\",\"[22.01.2022..22.02.2022]\",\"[23.01.2022..23.02.2022]\",\"[24.01.2022..24.02.2022]\",\"[25.01.2022..25.02.2022]\",\"[26.01.2022..26.02.2022]\",\"[27.01.2022..27.02.2022]\",\"[28.01.2022..28.02.2022]\",\"[29.01.2022..28.02.2022]\",\"[30.01.2022..28.02.2022]\",\"[31.01.2022..28.02.2022]\",\"[01.02.2022..01.03.2022]\",\"[02.02.2022..02.03.2022]\",\"[03.02.2022..03.03.2022]\",\"[04.02.2022..04.03.2022]\",\"[05.02.2022..05.03.2022]\",\"[06.02.2022..06.03.2022]\",\"[07.02.2022..07.03.2022]\",\"[08.02.2022..08.03.2022]\",\"[09.02.2022..09.03.2022]\",\"[10.02.2022..10.03.2022]\",\"[11.02.2022..11.03.2022]\",\"[12.02.2022..12.03.2022]\",\"[13.02.2022..13.03.2022]\",\"[14.02.2022..14.03.2022]\",\"[15.02.2022..15.03.2022]\",\"[16.02.2022..16.03.2022]\",\"[17.02.2022..17.03.2022]\",\"[18.02.2022..18.03.2022]\",\"[19.02.2022..19.03.2022]\",\"[20.02.2022..20.03.2022]\",\"[21.02.2022..21.03.2022]\",\"[22.02.2022..22.03.2022]\",\"[23.02.2022..23.03.2022]\",\"[24.02.2022..24.03.2022]\",\"[25.02.2022..25.03.2022]\",\"[26.02.2022..26.03.2022]\",\"[27.02.2022..27.03.2022]\",\"[28.02.2022..28.03.2022]\",\"[28.02.2022..28.03.2022]\",\"[28.02.2022..28.03.2022]\",\"[01.03.2022..01.04.2022]\",\"[02.03.2022..02.04.2022]\",\"[03.03.2022..03.04.2022]\",\"[04.03.2022..04.04.2022]\",\"[05.03.2022..05.04.2022]\",\"[06.03.2022..06.04.2022]\",\"[07.03.2022..07.04.2022]\",\"[08.03.2022..08.04.2022]\",\"[09.03.2022..09.04.2022]\",\"[10.03.2022..10.04.2022]\",\"[11.03.2022..11.04.2022]\",\"[12.03.2022..12.04.2022]\",\"[13.03.2022..13.04.2022]\",\"[14.03.2022..14.04.2022]\",\"[15.03.2022..15.04.2022]\",\"[16.03.2022..16.04.2022]\",\"[17.03.2022..17.04.2022]\",\"[18.03.2022..18.04.2022]\",\"[19.03.2022..19.04.2022]\",\"[20.03.2022..20.04.2022]\",\"[21.03.2022..21.04.2022]\",\"[22.03.2022..22.04.2022]\",\"[23.03.2022..23.04.2022]\",\"[24.03.2022..24.04.2022]\",\"[25.03.2022..25.04.2022]\",\"[26.03.2022..26.04.2022]\",\"[27.03.2022..27.04.2022]\",\"[28.03.2022..28.04.2022]\",\"[29.03.2022..29.04.2022]\",\"[30.03.2022..30.04.2022]\",\"[31.03.2022..30.04.2022]\"],\"x\":[\"2021-08-31T00:00:00\",\"2021-09-01T00:00:00\",\"2021-09-02T00:00:00\",\"2021-09-03T00:00:00\",\"2021-09-04T00:00:00\",\"2021-09-05T00:00:00\",\"2021-09-06T00:00:00\",\"2021-09-07T00:00:00\",\"2021-09-08T00:00:00\",\"2021-09-09T00:00:00\",\"2021-09-10T00:00:00\",\"2021-09-11T00:00:00\",\"2021-09-12T00:00:00\",\"2021-09-13T00:00:00\",\"2021-09-14T00:00:00\",\"2021-09-15T00:00:00\",\"2021-09-16T00:00:00\",\"2021-09-17T00:00:00\",\"2021-09-18T00:00:00\",\"2021-09-19T00:00:00\",\"2021-09-20T00:00:00\",\"2021-09-21T00:00:00\",\"2021-09-22T00:00:00\",\"2021-09-23T00:00:00\",\"2021-09-24T00:00:00\",\"2021-09-25T00:00:00\",\"2021-09-26T00:00:00\",\"2021-09-27T00:00:00\",\"2021-09-28T00:00:00\",\"2021-09-29T00:00:00\",\"2021-09-30T00:00:00\",\"2021-10-01T00:00:00\",\"2021-10-02T00:00:00\",\"2021-10-03T00:00:00\",\"2021-10-04T00:00:00\",\"2021-10-05T00:00:00\",\"2021-10-06T00:00:00\",\"2021-10-07T00:00:00\",\"2021-10-08T00:00:00\",\"2021-10-09T00:00:00\",\"2021-10-10T00:00:00\",\"2021-10-11T00:00:00\",\"2021-10-12T00:00:00\",\"2021-10-13T00:00:00\",\"2021-10-14T00:00:00\",\"2021-10-15T00:00:00\",\"2021-10-16T00:00:00\",\"2021-10-17T00:00:00\",\"2021-10-18T00:00:00\",\"2021-10-19T00:00:00\",\"2021-10-20T00:00:00\",\"2021-10-21T00:00:00\",\"2021-10-22T00:00:00\",\"2021-10-23T00:00:00\",\"2021-10-24T00:00:00\",\"2021-10-25T00:00:00\",\"2021-10-26T00:00:00\",\"2021-10-27T00:00:00\",\"2021-10-28T00:00:00\",\"2021-10-29T00:00:00\",\"2021-10-30T00:00:00\",\"2021-10-31T00:00:00\",\"2021-11-01T00:00:00\",\"2021-11-02T00:00:00\",\"2021-11-03T00:00:00\",\"2021-11-04T00:00:00\",\"2021-11-05T00:00:00\",\"2021-11-06T00:00:00\",\"2021-11-07T00:00:00\",\"2021-11-08T00:00:00\",\"2021-11-09T00:00:00\",\"2021-11-10T00:00:00\",\"2021-11-11T00:00:00\",\"2021-11-12T00:00:00\",\"2021-11-13T00:00:00\",\"2021-11-14T00:00:00\",\"2021-11-15T00:00:00\",\"2021-11-16T00:00:00\",\"2021-11-17T00:00:00\",\"2021-11-18T00:00:00\",\"2021-11-19T00:00:00\",\"2021-11-20T00:00:00\",\"2021-11-21T00:00:00\",\"2021-11-22T00:00:00\",\"2021-11-23T00:00:00\",\"2021-11-24T00:00:00\",\"2021-11-25T00:00:00\",\"2021-11-26T00:00:00\",\"2021-11-27T00:00:00\",\"2021-11-28T00:00:00\",\"2021-11-29T00:00:00\",\"2021-11-30T00:00:00\",\"2021-12-01T00:00:00\",\"2021-12-02T00:00:00\",\"2021-12-03T00:00:00\",\"2021-12-04T00:00:00\",\"2021-12-05T00:00:00\",\"2021-12-06T00:00:00\",\"2021-12-07T00:00:00\",\"2021-12-08T00:00:00\",\"2021-12-09T00:00:00\",\"2021-12-10T00:00:00\",\"2021-12-11T00:00:00\",\"2021-12-12T00:00:00\",\"2021-12-13T00:00:00\",\"2021-12-14T00:00:00\",\"2021-12-15T00:00:00\",\"2021-12-16T00:00:00\",\"2021-12-17T00:00:00\",\"2021-12-18T00:00:00\",\"2021-12-19T00:00:00\",\"2021-12-20T00:00:00\",\"2021-12-21T00:00:00\",\"2021-12-22T00:00:00\",\"2021-12-23T00:00:00\",\"2021-12-24T00:00:00\",\"2021-12-25T00:00:00\",\"2021-12-26T00:00:00\",\"2021-12-27T00:00:00\",\"2021-12-28T00:00:00\",\"2021-12-29T00:00:00\",\"2021-12-30T00:00:00\",\"2021-12-31T00:00:00\"],\"y\":[5.100383055422324e-20,5.100383055422324e-20,5.100383055422324e-20,2.9076300028859635e-20,3.5360336212462434e-20,2.5327347856120255e-20,2.064691276546374e-20,2.1373293665558937e-20,1.7923367284257476e-20,1.7923367284257476e-20,1.8494291543568124e-20,1.889513648294536e-20,2.0587452696587954e-20,2.1049397525781874e-20,2.1753562487198915e-20,1.7939099871767323e-20,1.704092551378965e-20,1.6705204891779628e-20,1.763412064174101e-20,1.9677159819518954e-20,1.934787246547609e-20,1.934787246547609e-20,2.5710106297533562e-20,2.120874450038484e-20,2.1773240338489728e-20,2.3804097989278122e-20,1.966418019248526e-20,1.0205690581987467e-20,8.64218270714943e-21,8.10666403987804e-21,9.543607626440494e-21,9.287779403788596e-21,9.920525720364779e-21,1.0076636673938556e-20,1.083013601186971e-20,1.7727532274235547e-20,1.7727532274235547e-20,1.5088960213923502e-20,1.5088960213923502e-20,1.5088960213923502e-20,1.7607702560927597e-20,1.8169540758197232e-20,2.0158473922861113e-20,2.061786935555775e-20,1.7481077688134494e-20,1.6748274829182072e-20,1.355385678428e-20,1.566336283233342e-20,1.5146455728844473e-20,1.4833791150822232e-20,1.355845959202446e-20,1.450316285945824e-20,1.6431980026869974e-20,1.6963679446156843e-20,1.1730690937489172e-20,1.0515523843557561e-20,1.195535206094758e-20,1.2189801219056678e-20,1.1066977854524102e-20,1.46077155808281e-20,1.4896508243359944e-20,1.3180921920434326e-20,1.1893714988408876e-20,1.1996101207432188e-20,1.316368683688996e-20,1.484868201743532e-20,1.6404671757545787e-20,1.6404671757545787e-20,1.7934584305728093e-20,1.7981783683844766e-20,1.7586153859735737e-20,1.9470333970225153e-20,2.2098912008526938e-20,2.3034965422445857e-20,1.9282736838998942e-20,1.6403482685415242e-20,1.427395466601149e-20,1.2035658858405549e-20,1.2035658858405549e-20,1.1964340379966992e-20,1.1964340379966992e-20,9.952138721607223e-21,1.0761936424393133e-20,1.0953660572952873e-20,1.1157309370147874e-20,1.13788443325022e-20,1.2493496865105114e-20,1.3869191927834565e-20,1.3869191927834565e-20,1.3869191927834565e-20,1.219431355392164e-20,1.1766050485295113e-20,1.0855822231711469e-20,8.653530591177892e-21,1.269454941377595e-20,1.666739530608514e-20,1.8637140142359777e-20,2.266426410781279e-20,1.6561173683205966e-20,1.6561173683205966e-20,1.4130871807085422e-20,1.2504940068774475e-20,1.2239565341748406e-20,2.1910549088999262e-20,3.711262463610226e-20,5.1682470854511914e-20,5.331857594500498e-20,5.877093049029973e-20,4.471977498357484e-20,3.6867381740351623e-20,3.6867381740351623e-20,4.177415251053083e-20,5.763947019694936e-20,6.612054009275848e-20,1.5369500457375422e-19,9.64322505223374e-20,9.64322505223374e-20,9.64322505223374e-20,9.64322505223374e-20,6.052165825676821e-20,4.274456784720051e-20,3.549371908623661e-20,3.1156853139886567e-20],\"type\":\"scatter\"}],                        {\"template\":{\"data\":{\"bar\":[{\"error_x\":{\"color\":\"#f2f5fa\"},\"error_y\":{\"color\":\"#f2f5fa\"},\"marker\":{\"line\":{\"color\":\"rgb(17,17,17)\",\"width\":0.5},\"pattern\":{\"fillmode\":\"overlay\",\"size\":10,\"solidity\":0.2}},\"type\":\"bar\"}],\"barpolar\":[{\"marker\":{\"line\":{\"color\":\"rgb(17,17,17)\",\"width\":0.5},\"pattern\":{\"fillmode\":\"overlay\",\"size\":10,\"solidity\":0.2}},\"type\":\"barpolar\"}],\"carpet\":[{\"aaxis\":{\"endlinecolor\":\"#A2B1C6\",\"gridcolor\":\"#506784\",\"linecolor\":\"#506784\",\"minorgridcolor\":\"#506784\",\"startlinecolor\":\"#A2B1C6\"},\"baxis\":{\"endlinecolor\":\"#A2B1C6\",\"gridcolor\":\"#506784\",\"linecolor\":\"#506784\",\"minorgridcolor\":\"#506784\",\"startlinecolor\":\"#A2B1C6\"},\"type\":\"carpet\"}],\"choropleth\":[{\"colorbar\":{\"outlinewidth\":0,\"ticks\":\"\"},\"type\":\"choropleth\"}],\"contour\":[{\"colorbar\":{\"outlinewidth\":0,\"ticks\":\"\"},\"colorscale\":[[0.0,\"#0d0887\"],[0.1111111111111111,\"#46039f\"],[0.2222222222222222,\"#7201a8\"],[0.3333333333333333,\"#9c179e\"],[0.4444444444444444,\"#bd3786\"],[0.5555555555555556,\"#d8576b\"],[0.6666666666666666,\"#ed7953\"],[0.7777777777777778,\"#fb9f3a\"],[0.8888888888888888,\"#fdca26\"],[1.0,\"#f0f921\"]],\"type\":\"contour\"}],\"contourcarpet\":[{\"colorbar\":{\"outlinewidth\":0,\"ticks\":\"\"},\"type\":\"contourcarpet\"}],\"heatmap\":[{\"colorbar\":{\"outlinewidth\":0,\"ticks\":\"\"},\"colorscale\":[[0.0,\"#0d0887\"],[0.1111111111111111,\"#46039f\"],[0.2222222222222222,\"#7201a8\"],[0.3333333333333333,\"#9c179e\"],[0.4444444444444444,\"#bd3786\"],[0.5555555555555556,\"#d8576b\"],[0.6666666666666666,\"#ed7953\"],[0.7777777777777778,\"#fb9f3a\"],[0.8888888888888888,\"#fdca26\"],[1.0,\"#f0f921\"]],\"type\":\"heatmap\"}],\"heatmapgl\":[{\"colorbar\":{\"outlinewidth\":0,\"ticks\":\"\"},\"colorscale\":[[0.0,\"#0d0887\"],[0.1111111111111111,\"#46039f\"],[0.2222222222222222,\"#7201a8\"],[0.3333333333333333,\"#9c179e\"],[0.4444444444444444,\"#bd3786\"],[0.5555555555555556,\"#d8576b\"],[0.6666666666666666,\"#ed7953\"],[0.7777777777777778,\"#fb9f3a\"],[0.8888888888888888,\"#fdca26\"],[1.0,\"#f0f921\"]],\"type\":\"heatmapgl\"}],\"histogram\":[{\"marker\":{\"pattern\":{\"fillmode\":\"overlay\",\"size\":10,\"solidity\":0.2}},\"type\":\"histogram\"}],\"histogram2d\":[{\"colorbar\":{\"outlinewidth\":0,\"ticks\":\"\"},\"colorscale\":[[0.0,\"#0d0887\"],[0.1111111111111111,\"#46039f\"],[0.2222222222222222,\"#7201a8\"],[0.3333333333333333,\"#9c179e\"],[0.4444444444444444,\"#bd3786\"],[0.5555555555555556,\"#d8576b\"],[0.6666666666666666,\"#ed7953\"],[0.7777777777777778,\"#fb9f3a\"],[0.8888888888888888,\"#fdca26\"],[1.0,\"#f0f921\"]],\"type\":\"histogram2d\"}],\"histogram2dcontour\":[{\"colorbar\":{\"outlinewidth\":0,\"ticks\":\"\"},\"colorscale\":[[0.0,\"#0d0887\"],[0.1111111111111111,\"#46039f\"],[0.2222222222222222,\"#7201a8\"],[0.3333333333333333,\"#9c179e\"],[0.4444444444444444,\"#bd3786\"],[0.5555555555555556,\"#d8576b\"],[0.6666666666666666,\"#ed7953\"],[0.7777777777777778,\"#fb9f3a\"],[0.8888888888888888,\"#fdca26\"],[1.0,\"#f0f921\"]],\"type\":\"histogram2dcontour\"}],\"mesh3d\":[{\"colorbar\":{\"outlinewidth\":0,\"ticks\":\"\"},\"type\":\"mesh3d\"}],\"parcoords\":[{\"line\":{\"colorbar\":{\"outlinewidth\":0,\"ticks\":\"\"}},\"type\":\"parcoords\"}],\"pie\":[{\"automargin\":true,\"type\":\"pie\"}],\"scatter\":[{\"marker\":{\"line\":{\"color\":\"#283442\"}},\"type\":\"scatter\"}],\"scatter3d\":[{\"line\":{\"colorbar\":{\"outlinewidth\":0,\"ticks\":\"\"}},\"marker\":{\"colorbar\":{\"outlinewidth\":0,\"ticks\":\"\"}},\"type\":\"scatter3d\"}],\"scattercarpet\":[{\"marker\":{\"colorbar\":{\"outlinewidth\":0,\"ticks\":\"\"}},\"type\":\"scattercarpet\"}],\"scattergeo\":[{\"marker\":{\"colorbar\":{\"outlinewidth\":0,\"ticks\":\"\"}},\"type\":\"scattergeo\"}],\"scattergl\":[{\"marker\":{\"line\":{\"color\":\"#283442\"}},\"type\":\"scattergl\"}],\"scattermapbox\":[{\"marker\":{\"colorbar\":{\"outlinewidth\":0,\"ticks\":\"\"}},\"type\":\"scattermapbox\"}],\"scatterpolar\":[{\"marker\":{\"colorbar\":{\"outlinewidth\":0,\"ticks\":\"\"}},\"type\":\"scatterpolar\"}],\"scatterpolargl\":[{\"marker\":{\"colorbar\":{\"outlinewidth\":0,\"ticks\":\"\"}},\"type\":\"scatterpolargl\"}],\"scatterternary\":[{\"marker\":{\"colorbar\":{\"outlinewidth\":0,\"ticks\":\"\"}},\"type\":\"scatterternary\"}],\"surface\":[{\"colorbar\":{\"outlinewidth\":0,\"ticks\":\"\"},\"colorscale\":[[0.0,\"#0d0887\"],[0.1111111111111111,\"#46039f\"],[0.2222222222222222,\"#7201a8\"],[0.3333333333333333,\"#9c179e\"],[0.4444444444444444,\"#bd3786\"],[0.5555555555555556,\"#d8576b\"],[0.6666666666666666,\"#ed7953\"],[0.7777777777777778,\"#fb9f3a\"],[0.8888888888888888,\"#fdca26\"],[1.0,\"#f0f921\"]],\"type\":\"surface\"}],\"table\":[{\"cells\":{\"fill\":{\"color\":\"#506784\"},\"line\":{\"color\":\"rgb(17,17,17)\"}},\"header\":{\"fill\":{\"color\":\"#2a3f5f\"},\"line\":{\"color\":\"rgb(17,17,17)\"}},\"type\":\"table\"}]},\"layout\":{\"annotationdefaults\":{\"arrowcolor\":\"#f2f5fa\",\"arrowhead\":0,\"arrowwidth\":1},\"autotypenumbers\":\"strict\",\"coloraxis\":{\"colorbar\":{\"outlinewidth\":0,\"ticks\":\"\"}},\"colorscale\":{\"diverging\":[[0,\"#8e0152\"],[0.1,\"#c51b7d\"],[0.2,\"#de77ae\"],[0.3,\"#f1b6da\"],[0.4,\"#fde0ef\"],[0.5,\"#f7f7f7\"],[0.6,\"#e6f5d0\"],[0.7,\"#b8e186\"],[0.8,\"#7fbc41\"],[0.9,\"#4d9221\"],[1,\"#276419\"]],\"sequential\":[[0.0,\"#0d0887\"],[0.1111111111111111,\"#46039f\"],[0.2222222222222222,\"#7201a8\"],[0.3333333333333333,\"#9c179e\"],[0.4444444444444444,\"#bd3786\"],[0.5555555555555556,\"#d8576b\"],[0.6666666666666666,\"#ed7953\"],[0.7777777777777778,\"#fb9f3a\"],[0.8888888888888888,\"#fdca26\"],[1.0,\"#f0f921\"]],\"sequentialminus\":[[0.0,\"#0d0887\"],[0.1111111111111111,\"#46039f\"],[0.2222222222222222,\"#7201a8\"],[0.3333333333333333,\"#9c179e\"],[0.4444444444444444,\"#bd3786\"],[0.5555555555555556,\"#d8576b\"],[0.6666666666666666,\"#ed7953\"],[0.7777777777777778,\"#fb9f3a\"],[0.8888888888888888,\"#fdca26\"],[1.0,\"#f0f921\"]]},\"colorway\":[\"#636efa\",\"#EF553B\",\"#00cc96\",\"#ab63fa\",\"#FFA15A\",\"#19d3f3\",\"#FF6692\",\"#B6E880\",\"#FF97FF\",\"#FECB52\"],\"font\":{\"color\":\"#f2f5fa\"},\"geo\":{\"bgcolor\":\"rgb(17,17,17)\",\"lakecolor\":\"rgb(17,17,17)\",\"landcolor\":\"rgb(17,17,17)\",\"showlakes\":true,\"showland\":true,\"subunitcolor\":\"#506784\"},\"hoverlabel\":{\"align\":\"left\"},\"hovermode\":\"closest\",\"mapbox\":{\"style\":\"dark\"},\"paper_bgcolor\":\"rgb(17,17,17)\",\"plot_bgcolor\":\"rgb(17,17,17)\",\"polar\":{\"angularaxis\":{\"gridcolor\":\"#506784\",\"linecolor\":\"#506784\",\"ticks\":\"\"},\"bgcolor\":\"rgb(17,17,17)\",\"radialaxis\":{\"gridcolor\":\"#506784\",\"linecolor\":\"#506784\",\"ticks\":\"\"}},\"scene\":{\"xaxis\":{\"backgroundcolor\":\"rgb(17,17,17)\",\"gridcolor\":\"#506784\",\"gridwidth\":2,\"linecolor\":\"#506784\",\"showbackground\":true,\"ticks\":\"\",\"zerolinecolor\":\"#C8D4E3\"},\"yaxis\":{\"backgroundcolor\":\"rgb(17,17,17)\",\"gridcolor\":\"#506784\",\"gridwidth\":2,\"linecolor\":\"#506784\",\"showbackground\":true,\"ticks\":\"\",\"zerolinecolor\":\"#C8D4E3\"},\"zaxis\":{\"backgroundcolor\":\"rgb(17,17,17)\",\"gridcolor\":\"#506784\",\"gridwidth\":2,\"linecolor\":\"#506784\",\"showbackground\":true,\"ticks\":\"\",\"zerolinecolor\":\"#C8D4E3\"}},\"shapedefaults\":{\"line\":{\"color\":\"#f2f5fa\"}},\"sliderdefaults\":{\"bgcolor\":\"#C8D4E3\",\"bordercolor\":\"rgb(17,17,17)\",\"borderwidth\":1,\"tickwidth\":0},\"ternary\":{\"aaxis\":{\"gridcolor\":\"#506784\",\"linecolor\":\"#506784\",\"ticks\":\"\"},\"baxis\":{\"gridcolor\":\"#506784\",\"linecolor\":\"#506784\",\"ticks\":\"\"},\"bgcolor\":\"rgb(17,17,17)\",\"caxis\":{\"gridcolor\":\"#506784\",\"linecolor\":\"#506784\",\"ticks\":\"\"}},\"title\":{\"x\":0.05},\"updatemenudefaults\":{\"bgcolor\":\"#506784\",\"borderwidth\":0},\"xaxis\":{\"automargin\":true,\"gridcolor\":\"#283442\",\"linecolor\":\"#506784\",\"ticks\":\"\",\"title\":{\"standoff\":15},\"zerolinecolor\":\"#283442\",\"zerolinewidth\":2},\"yaxis\":{\"automargin\":true,\"gridcolor\":\"#283442\",\"linecolor\":\"#506784\",\"ticks\":\"\",\"title\":{\"standoff\":15},\"zerolinecolor\":\"#283442\",\"zerolinewidth\":2}}},\"title\":{\"text\":\"Probability of event\"}},                        {\"responsive\": true}                    ).then(function(){\n                            \nvar gd = document.getElementById('5422dbf5-2c33-47ab-b2cb-0e9ba5b43144');\nvar x = new MutationObserver(function (mutations, observer) {{\n        var display = window.getComputedStyle(gd).display;\n        if (!display || display === 'none') {{\n            console.log([gd, 'removed!']);\n            Plotly.purge(gd);\n            observer.disconnect();\n        }}\n}});\n\n// Listen for the removal of the full notebook cells\nvar notebookContainer = gd.closest('#notebook-container');\nif (notebookContainer) {{\n    x.observe(notebookContainer, {childList: true});\n}}\n\n// Listen for the clearing of the current output cell\nvar outputEl = gd.closest('.output');\nif (outputEl) {{\n    x.observe(outputEl, {childList: true});\n}}\n\n                        })                };                });            </script>        </div>"
     },
     "metadata": {},
     "output_type": "display_data"
    }
   ],
   "source": [
    "figure_x = reserved_data[condition]['to date']\n",
    "figure_x_text = figure_x.map(lambda e: f'[{(e + DATE_TARGET_OFFSET).strftime(\"%d.%m.%Y\")}..{(e + DATE_TARGET_OFFSET + DATE_TARGET_DURATION).strftime(\"%d.%m.%Y\")}]')\n",
    "fig = go.Figure()\n",
    "fig.add_trace(go.Scatter(\n",
    "    x=figure_x,\n",
    "    y=1-result_proba[:,0],\n",
    "    mode='lines',\n",
    "    stackgroup='one',\n",
    "    line=dict(width=.25),\n",
    "    groupnorm='percent',\n",
    "    name='No event',\n",
    "    text=figure_x_text\n",
    "))\n",
    "fig.add_trace(go.Scatter(\n",
    "    x=figure_x,\n",
    "    y=result_proba[:,0],\n",
    "    mode='lines',\n",
    "    stackgroup='one',\n",
    "    line=dict(width=.25),\n",
    "    name='Event predicted',\n",
    "    text=figure_x_text\n",
    "))\n",
    "fig.update_layout(\n",
    "    title='Probability of event',\n",
    "    # width=500, height=500\n",
    ")\n",
    "fig.show()"
   ]
  },
  {
   "cell_type": "code",
   "execution_count": 772,
   "metadata": {
    "collapsed": false,
    "pycharm": {
     "name": "#%%\n"
    }
   },
   "outputs": [],
   "source": [
    "result = pd.DataFrame(reserved_data[condition])"
   ]
  },
  {
   "cell_type": "code",
   "execution_count": 773,
   "metadata": {
    "collapsed": false,
    "pycharm": {
     "name": "#%%\n"
    }
   },
   "outputs": [
    {
     "data": {
      "text/plain": "Series([], Name: to date, dtype: object)"
     },
     "execution_count": 773,
     "metadata": {},
     "output_type": "execute_result"
    }
   ],
   "source": [
    "result['predicted'] = result_pred\n",
    "result[(result['predicted'] > 0)]['to date'].map(\n",
    "    lambda date:\n",
    "    f'K >= {STARTING_EVENT_CLASS}; Dates [{(date + DATE_TARGET_OFFSET).strftime(\"%d.%m.%Y\")}..{(date + DATE_TARGET_OFFSET + DATE_TARGET_DURATION).strftime(\"%d.%m.%Y\")}]'\n",
    ")"
   ]
  },
  {
   "cell_type": "code",
   "execution_count": 773,
   "metadata": {
    "collapsed": false,
    "pycharm": {
     "name": "#%%\n"
    }
   },
   "outputs": [],
   "source": []
  }
 ],
 "metadata": {
  "kernelspec": {
   "display_name": "Python 3",
   "language": "python",
   "name": "python3"
  },
  "language_info": {
   "codemirror_mode": {
    "name": "ipython",
    "version": 2
   },
   "file_extension": ".py",
   "mimetype": "text/x-python",
   "name": "python",
   "nbconvert_exporter": "python",
   "pygments_lexer": "ipython2",
   "version": "3.10.3"
  }
 },
 "nbformat": 4,
 "nbformat_minor": 0
}