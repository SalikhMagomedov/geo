{
 "cells": [
  {
   "cell_type": "code",
   "execution_count": 433,
   "outputs": [],
   "source": [
    "import os.path\n",
    "from datetime import datetime as dt\n",
    "\n",
    "import keras.utils.vis_utils\n",
    "import keras_tuner as kt\n",
    "import pandas as pd\n",
    "import plotly.graph_objects as go\n",
    "import tensorflow as tf\n",
    "from IPython.core.display_functions import display\n",
    "from dateutil.relativedelta import relativedelta\n",
    "from keras import Sequential, layers, losses, metrics\n",
    "from keras import callbacks\n",
    "from keras.api.keras import optimizers\n",
    "\n",
    "import file_helper"
   ],
   "metadata": {
    "collapsed": false,
    "pycharm": {
     "name": "#%%\n"
    }
   }
  },
  {
   "cell_type": "code",
   "execution_count": 2,
   "outputs": [
    {
     "data": {
      "text/plain": "[PhysicalDevice(name='/physical_device:GPU:0', device_type='GPU')]"
     },
     "execution_count": 2,
     "metadata": {},
     "output_type": "execute_result"
    }
   ],
   "source": [
    "tf.config.list_physical_devices('GPU')"
   ],
   "metadata": {
    "collapsed": false,
    "pycharm": {
     "name": "#%%\n"
    }
   }
  },
  {
   "cell_type": "code",
   "execution_count": 3,
   "outputs": [],
   "source": [
    "DATE_FORMAT = '%d.%m.%Y'"
   ],
   "metadata": {
    "collapsed": false,
    "pycharm": {
     "name": "#%%\n"
    }
   }
  },
  {
   "cell_type": "code",
   "execution_count": 4,
   "outputs": [],
   "source": [
    "def convert_string_to_date(string_date: str) -> dt:\n",
    "    return dt.strptime(string_date, DATE_FORMAT)\n",
    "\n",
    "def normalize_columns_in_dataframe(data: pd.DataFrame, columns: list[str] = None) -> None:\n",
    "    data_columns = data[columns]\n",
    "    min_values = data_columns.min()\n",
    "    max_values = data_columns.max()\n",
    "    data[columns] = (data_columns - min_values) / (max_values - min_values)"
   ],
   "metadata": {
    "collapsed": false,
    "pycharm": {
     "name": "#%%\n"
    }
   }
  },
  {
   "cell_type": "code",
   "execution_count": 5,
   "outputs": [],
   "source": [
    "geochem_data = pd.read_excel(file_helper.get_geo_chem_file_path(), 'dubki_h_tau')"
   ],
   "metadata": {
    "collapsed": false,
    "pycharm": {
     "name": "#%%\n"
    }
   }
  },
  {
   "cell_type": "code",
   "execution_count": 6,
   "outputs": [],
   "source": [
    "events_catalog_data = pd.read_csv(file_helper.get_events_catalog_file_path(), sep=';').iloc[10000:]\n",
    "events_catalog_data['Date'] = pd.to_datetime(events_catalog_data['Date'], format=DATE_FORMAT)"
   ],
   "metadata": {
    "collapsed": false,
    "pycharm": {
     "name": "#%%\n"
    }
   }
  },
  {
   "cell_type": "code",
   "execution_count": 452,
   "outputs": [],
   "source": [
    "DATE_TARGET_OFFSET = relativedelta(months=1)\n",
    "DATE_TARGET_DURATION = relativedelta(months=1)\n",
    "STARTING_EVENT_CLASS = 12"
   ],
   "metadata": {
    "collapsed": false,
    "pycharm": {
     "name": "#%%\n"
    }
   }
  },
  {
   "cell_type": "code",
   "execution_count": 453,
   "outputs": [],
   "source": [
    "preprocessed_data = pd.DataFrame(geochem_data)\n",
    "\n",
    "normalize_columns_in_dataframe(preprocessed_data, ['events', 'ascend', 'maximum', 'descend', 'minimum'])\n",
    "\n",
    "breakpoint_date = convert_string_to_date('31.12.2021') - DATE_TARGET_OFFSET - DATE_TARGET_DURATION\n",
    "reserved_data = preprocessed_data[breakpoint_date < preprocessed_data['to date']].drop(['from date'], axis=1)\n",
    "preprocessed_data = preprocessed_data[preprocessed_data['to date'] <= breakpoint_date]\n",
    "preprocessed_data['target'] = preprocessed_data['to date'].map(lambda date: 1 if len(events_catalog_data[\n",
    "    ((date + DATE_TARGET_OFFSET) <= events_catalog_data['Date'])\n",
    "    & (events_catalog_data['Date'] <= (date + DATE_TARGET_OFFSET + DATE_TARGET_DURATION))\n",
    "    & (STARTING_EVENT_CLASS <= events_catalog_data['Class'])\n",
    "]) > 0 else 0)\n",
    "preprocessed_data = preprocessed_data.drop(['from date', 'to date'], axis=1)"
   ],
   "metadata": {
    "collapsed": false,
    "pycharm": {
     "name": "#%%\n"
    }
   }
  },
  {
   "cell_type": "code",
   "execution_count": 454,
   "outputs": [
    {
     "data": {
      "text/plain": "        events    ascend   maximum   descend   minimum  target\n5666  0.947368  0.527596  0.478661  0.551603  0.115323       0\n5667  0.947368  0.527596  0.472201  0.551603  0.119320       0\n5668  0.954887  0.523359  0.474255  0.547756  0.120804       0\n5669  0.954887  0.584622  0.413340  0.532622  0.158652       0\n5670  0.954887  0.584622  0.407500  0.532622  0.162869       0",
      "text/html": "<div>\n<style scoped>\n    .dataframe tbody tr th:only-of-type {\n        vertical-align: middle;\n    }\n\n    .dataframe tbody tr th {\n        vertical-align: top;\n    }\n\n    .dataframe thead th {\n        text-align: right;\n    }\n</style>\n<table border=\"1\" class=\"dataframe\">\n  <thead>\n    <tr style=\"text-align: right;\">\n      <th></th>\n      <th>events</th>\n      <th>ascend</th>\n      <th>maximum</th>\n      <th>descend</th>\n      <th>minimum</th>\n      <th>target</th>\n    </tr>\n  </thead>\n  <tbody>\n    <tr>\n      <th>5666</th>\n      <td>0.947368</td>\n      <td>0.527596</td>\n      <td>0.478661</td>\n      <td>0.551603</td>\n      <td>0.115323</td>\n      <td>0</td>\n    </tr>\n    <tr>\n      <th>5667</th>\n      <td>0.947368</td>\n      <td>0.527596</td>\n      <td>0.472201</td>\n      <td>0.551603</td>\n      <td>0.119320</td>\n      <td>0</td>\n    </tr>\n    <tr>\n      <th>5668</th>\n      <td>0.954887</td>\n      <td>0.523359</td>\n      <td>0.474255</td>\n      <td>0.547756</td>\n      <td>0.120804</td>\n      <td>0</td>\n    </tr>\n    <tr>\n      <th>5669</th>\n      <td>0.954887</td>\n      <td>0.584622</td>\n      <td>0.413340</td>\n      <td>0.532622</td>\n      <td>0.158652</td>\n      <td>0</td>\n    </tr>\n    <tr>\n      <th>5670</th>\n      <td>0.954887</td>\n      <td>0.584622</td>\n      <td>0.407500</td>\n      <td>0.532622</td>\n      <td>0.162869</td>\n      <td>0</td>\n    </tr>\n  </tbody>\n</table>\n</div>"
     },
     "metadata": {},
     "output_type": "display_data"
    },
    {
     "data": {
      "text/plain": "        to date    events    ascend   maximum   descend   minimum\n5671 2021-10-31  0.962406  0.580060  0.410353  0.528869  0.164298\n5672 2021-11-01  0.969925  0.575498  0.413162  0.525116  0.165798\n5673 2021-11-02  0.969925  0.587458  0.413162  0.525116  0.161475\n5674 2021-11-03  0.962406  0.592098  0.411590  0.528869  0.156026\n5675 2021-11-04  0.954887  0.596737  0.418126  0.536675  0.146182",
      "text/html": "<div>\n<style scoped>\n    .dataframe tbody tr th:only-of-type {\n        vertical-align: middle;\n    }\n\n    .dataframe tbody tr th {\n        vertical-align: top;\n    }\n\n    .dataframe thead th {\n        text-align: right;\n    }\n</style>\n<table border=\"1\" class=\"dataframe\">\n  <thead>\n    <tr style=\"text-align: right;\">\n      <th></th>\n      <th>to date</th>\n      <th>events</th>\n      <th>ascend</th>\n      <th>maximum</th>\n      <th>descend</th>\n      <th>minimum</th>\n    </tr>\n  </thead>\n  <tbody>\n    <tr>\n      <th>5671</th>\n      <td>2021-10-31</td>\n      <td>0.962406</td>\n      <td>0.580060</td>\n      <td>0.410353</td>\n      <td>0.528869</td>\n      <td>0.164298</td>\n    </tr>\n    <tr>\n      <th>5672</th>\n      <td>2021-11-01</td>\n      <td>0.969925</td>\n      <td>0.575498</td>\n      <td>0.413162</td>\n      <td>0.525116</td>\n      <td>0.165798</td>\n    </tr>\n    <tr>\n      <th>5673</th>\n      <td>2021-11-02</td>\n      <td>0.969925</td>\n      <td>0.587458</td>\n      <td>0.413162</td>\n      <td>0.525116</td>\n      <td>0.161475</td>\n    </tr>\n    <tr>\n      <th>5674</th>\n      <td>2021-11-03</td>\n      <td>0.962406</td>\n      <td>0.592098</td>\n      <td>0.411590</td>\n      <td>0.528869</td>\n      <td>0.156026</td>\n    </tr>\n    <tr>\n      <th>5675</th>\n      <td>2021-11-04</td>\n      <td>0.954887</td>\n      <td>0.596737</td>\n      <td>0.418126</td>\n      <td>0.536675</td>\n      <td>0.146182</td>\n    </tr>\n  </tbody>\n</table>\n</div>"
     },
     "metadata": {},
     "output_type": "display_data"
    }
   ],
   "source": [
    "display(\n",
    "    preprocessed_data.tail(),\n",
    "    reserved_data.head()\n",
    ")"
   ],
   "metadata": {
    "collapsed": false,
    "pycharm": {
     "name": "#%%\n"
    }
   }
  },
  {
   "cell_type": "code",
   "execution_count": 455,
   "outputs": [],
   "source": [
    "x = preprocessed_data.drop(['target'], axis=1)\n",
    "y = preprocessed_data['target']"
   ],
   "metadata": {
    "collapsed": false,
    "pycharm": {
     "name": "#%%\n"
    }
   }
  },
  {
   "cell_type": "code",
   "execution_count": 456,
   "outputs": [],
   "source": [
    "RANDOM_STATE = 42\n",
    "TRAIN_FRAC = .8"
   ],
   "metadata": {
    "collapsed": false,
    "pycharm": {
     "name": "#%%\n"
    }
   }
  },
  {
   "cell_type": "code",
   "execution_count": 457,
   "outputs": [],
   "source": [
    "x_train, y_train = x.sample(frac=TRAIN_FRAC, random_state=RANDOM_STATE), y.sample(frac=TRAIN_FRAC, random_state=RANDOM_STATE)\n",
    "x_test, y_test = x.drop(x_train.index), y.drop(y_train.index)"
   ],
   "metadata": {
    "collapsed": false,
    "pycharm": {
     "name": "#%%\n"
    }
   }
  },
  {
   "cell_type": "code",
   "execution_count": 458,
   "outputs": [],
   "source": [
    "def model_builder(hp: kt.HyperParameters):\n",
    "    hp_activation = hp.Choice('activation', values=['linear', 'relu', 'tanh', 'sigmoid'])\n",
    "    hp_units = hp.Int('units', min_value=8, max_value=128, step=8)\n",
    "    hp_activation_1 = hp.Choice('activation_1', values=['linear', 'relu', 'tanh', 'sigmoid'])\n",
    "    hp_units_1 = hp.Int('units_1', min_value=8, max_value=128, step=8)\n",
    "    hp_learning_rate = hp.Choice('learning_rate', values=[1e-2, 1e-3, 1e-4])\n",
    "\n",
    "    model = Sequential([\n",
    "        layers.InputLayer((5,)),\n",
    "        layers.Dense(units=hp_units, activation=hp_activation),\n",
    "        layers.Dense(units=hp_units_1, activation=hp_activation_1),\n",
    "        layers.Dense(1)\n",
    "    ])\n",
    "\n",
    "    model.compile(\n",
    "        optimizer=optimizers.Adam(learning_rate=hp_learning_rate),\n",
    "        loss=losses.BinaryCrossentropy(from_logits=True),\n",
    "        metrics=[metrics.BinaryAccuracy(name='accuracy')]\n",
    "    )\n",
    "\n",
    "    return model"
   ],
   "metadata": {
    "collapsed": false,
    "pycharm": {
     "name": "#%%\n"
    }
   }
  },
  {
   "cell_type": "code",
   "execution_count": 459,
   "outputs": [],
   "source": [
    "tuner = kt.Hyperband(\n",
    "    model_builder,\n",
    "    objective='val_accuracy',\n",
    "    max_epochs=200,\n",
    "    factor=3,\n",
    "    directory=os.path.join(file_helper.get_root_path(), 'data/hypermodel'),\n",
    "    project_name='geo_analysis'\n",
    ")"
   ],
   "metadata": {
    "collapsed": false,
    "pycharm": {
     "name": "#%%\n"
    }
   }
  },
  {
   "cell_type": "code",
   "execution_count": 460,
   "outputs": [],
   "source": [
    "stop_early = callbacks.EarlyStopping(monitor='val_loss', patience=5)"
   ],
   "metadata": {
    "collapsed": false,
    "pycharm": {
     "name": "#%%\n"
    }
   }
  },
  {
   "cell_type": "code",
   "execution_count": 461,
   "outputs": [
    {
     "name": "stdout",
     "output_type": "stream",
     "text": [
      "Trial 254 Complete [00h 01m 15s]\n",
      "val_accuracy: 0.8733479976654053\n",
      "\n",
      "Best val_accuracy So Far: 0.8733479976654053\n",
      "Total elapsed time: 01h 09m 23s\n",
      "INFO:tensorflow:Oracle triggered exit\n"
     ]
    }
   ],
   "source": [
    "tuner.search(x_train, y_train, epochs=100, validation_split=.2, callbacks=[stop_early])\n",
    "\n",
    "best_hps = tuner.get_best_hyperparameters(num_trials=1)[0]"
   ],
   "metadata": {
    "collapsed": false,
    "pycharm": {
     "name": "#%%\n"
    }
   }
  },
  {
   "cell_type": "code",
   "execution_count": 462,
   "outputs": [
    {
     "name": "stdout",
     "output_type": "stream",
     "text": [
      "activation          : tanh\n",
      "units               : 40\n",
      "activation_1        : tanh\n",
      "units_1             : 56\n",
      "learning_rate       : 0.01\n",
      "tuner/epochs        : 200\n",
      "tuner/initial_epoch : 0\n",
      "tuner/bracket       : 0\n",
      "tuner/round         : 0\n"
     ]
    }
   ],
   "source": [
    "print(*[f'{k:20}: {v}' for k, v in best_hps.values.items()], sep='\\n')"
   ],
   "metadata": {
    "collapsed": false,
    "pycharm": {
     "name": "#%%\n"
    }
   }
  },
  {
   "cell_type": "code",
   "execution_count": 463,
   "outputs": [],
   "source": [
    "# model = Sequential([\n",
    "#     layers.Dense(64, name='dense_0'),\n",
    "#     layers.Dense(32, activation=activations.tanh, name='dense_1'),\n",
    "#     layers.Dense(16, activation=activations.tanh, name='dense_2'),\n",
    "#     layers.Dense(1, name='output')\n",
    "# ])\n",
    "# model.compile(\n",
    "#     optimizer=optimizers.Adam(name='adam'),\n",
    "#     loss=losses.BinaryCrossentropy(name='binary_crossentropy', from_logits=True),\n",
    "#     metrics=[metrics.BinaryAccuracy(name='accuracy')]\n",
    "# )\n",
    "\n",
    "model = tuner.hypermodel.build(best_hps)"
   ],
   "metadata": {
    "collapsed": false,
    "pycharm": {
     "name": "#%%\n"
    }
   }
  },
  {
   "cell_type": "code",
   "execution_count": 464,
   "outputs": [],
   "source": [
    "history = model.fit(\n",
    "    x_train, y_train,\n",
    "    epochs=best_hps.get('tuner/epochs'),\n",
    "    validation_split=.2,\n",
    "    verbose=0\n",
    ")"
   ],
   "metadata": {
    "collapsed": false,
    "pycharm": {
     "name": "#%%\n"
    }
   }
  },
  {
   "cell_type": "code",
   "execution_count": 465,
   "outputs": [
    {
     "name": "stdout",
     "output_type": "stream",
     "text": [
      "Model: \"sequential_1\"\n",
      "_________________________________________________________________\n",
      " Layer (type)                Output Shape              Param #   \n",
      "=================================================================\n",
      " dense_3 (Dense)             (None, 40)                240       \n",
      "                                                                 \n",
      " dense_4 (Dense)             (None, 56)                2296      \n",
      "                                                                 \n",
      " dense_5 (Dense)             (None, 1)                 57        \n",
      "                                                                 \n",
      "=================================================================\n",
      "Total params: 2,593\n",
      "Trainable params: 2,593\n",
      "Non-trainable params: 0\n",
      "_________________________________________________________________\n"
     ]
    }
   ],
   "source": [
    "model.summary()"
   ],
   "metadata": {
    "collapsed": false,
    "pycharm": {
     "name": "#%%\n"
    }
   }
  },
  {
   "cell_type": "code",
   "execution_count": 466,
   "outputs": [
    {
     "data": {
      "image/png": "[encoded data removed]",
      "text/plain": "<IPython.core.display.Image object>"
     },
     "execution_count": 466,
     "metadata": {},
     "output_type": "execute_result"
    }
   ],
   "source": [
    "keras.utils.vis_utils.plot_model(model, show_shapes=True)"
   ],
   "metadata": {
    "collapsed": false,
    "pycharm": {
     "name": "#%%\n"
    }
   }
  },
  {
   "cell_type": "code",
   "execution_count": 467,
   "outputs": [
    {
     "data": {
      "text/plain": "array([[-0.03796744],\n       [-0.03796744],\n       [ 0.71917605],\n       ...,\n       [-1.8256643 ],\n       [-2.2206137 ],\n       [-2.1188521 ]], dtype=float32)"
     },
     "execution_count": 467,
     "metadata": {},
     "output_type": "execute_result"
    }
   ],
   "source": [
    "model.predict(x_test)"
   ],
   "metadata": {
    "collapsed": false,
    "pycharm": {
     "name": "#%%\n"
    }
   }
  },
  {
   "cell_type": "code",
   "execution_count": 468,
   "outputs": [
    {
     "name": "stdout",
     "output_type": "stream",
     "text": [
      "36/36 [==============================] - 1s 14ms/step - loss: 0.1931 - accuracy: 0.9118\n"
     ]
    },
    {
     "data": {
      "text/plain": "[0.19309741258621216, 0.9118165969848633]"
     },
     "execution_count": 468,
     "metadata": {},
     "output_type": "execute_result"
    }
   ],
   "source": [
    "model.evaluate(x_test, y_test)"
   ],
   "metadata": {
    "collapsed": false,
    "pycharm": {
     "name": "#%%\n"
    }
   }
  },
  {
   "cell_type": "code",
   "execution_count": 469,
   "outputs": [
    {
     "data": {
      "text/plain": "[0.9052863717079163,\n 0.8975771069526672,\n 0.9129955768585205,\n 0.9096916317939758,\n 0.8964757919311523]"
     },
     "execution_count": 469,
     "metadata": {},
     "output_type": "execute_result"
    }
   ],
   "source": [
    "history.history['val_accuracy'][-5:]"
   ],
   "metadata": {
    "collapsed": false,
    "pycharm": {
     "name": "#%%\n"
    }
   }
  },
  {
   "cell_type": "code",
   "execution_count": 470,
   "outputs": [
    {
     "data": {
      "text/plain": "        to date    events    ascend   maximum   descend   minimum\n5671 2021-10-31  0.962406  0.580060  0.410353  0.528869  0.164298\n5672 2021-11-01  0.969925  0.575498  0.413162  0.525116  0.165798\n5673 2021-11-02  0.969925  0.587458  0.413162  0.525116  0.161475\n5674 2021-11-03  0.962406  0.592098  0.411590  0.528869  0.156026\n5675 2021-11-04  0.954887  0.596737  0.418126  0.536675  0.146182",
      "text/html": "<div>\n<style scoped>\n    .dataframe tbody tr th:only-of-type {\n        vertical-align: middle;\n    }\n\n    .dataframe tbody tr th {\n        vertical-align: top;\n    }\n\n    .dataframe thead th {\n        text-align: right;\n    }\n</style>\n<table border=\"1\" class=\"dataframe\">\n  <thead>\n    <tr style=\"text-align: right;\">\n      <th></th>\n      <th>to date</th>\n      <th>events</th>\n      <th>ascend</th>\n      <th>maximum</th>\n      <th>descend</th>\n      <th>minimum</th>\n    </tr>\n  </thead>\n  <tbody>\n    <tr>\n      <th>5671</th>\n      <td>2021-10-31</td>\n      <td>0.962406</td>\n      <td>0.580060</td>\n      <td>0.410353</td>\n      <td>0.528869</td>\n      <td>0.164298</td>\n    </tr>\n    <tr>\n      <th>5672</th>\n      <td>2021-11-01</td>\n      <td>0.969925</td>\n      <td>0.575498</td>\n      <td>0.413162</td>\n      <td>0.525116</td>\n      <td>0.165798</td>\n    </tr>\n    <tr>\n      <th>5673</th>\n      <td>2021-11-02</td>\n      <td>0.969925</td>\n      <td>0.587458</td>\n      <td>0.413162</td>\n      <td>0.525116</td>\n      <td>0.161475</td>\n    </tr>\n    <tr>\n      <th>5674</th>\n      <td>2021-11-03</td>\n      <td>0.962406</td>\n      <td>0.592098</td>\n      <td>0.411590</td>\n      <td>0.528869</td>\n      <td>0.156026</td>\n    </tr>\n    <tr>\n      <th>5675</th>\n      <td>2021-11-04</td>\n      <td>0.954887</td>\n      <td>0.596737</td>\n      <td>0.418126</td>\n      <td>0.536675</td>\n      <td>0.146182</td>\n    </tr>\n  </tbody>\n</table>\n</div>"
     },
     "execution_count": 470,
     "metadata": {},
     "output_type": "execute_result"
    }
   ],
   "source": [
    "reserved_data.head()"
   ],
   "metadata": {
    "collapsed": false,
    "pycharm": {
     "name": "#%%\n"
    }
   }
  },
  {
   "cell_type": "code",
   "execution_count": 471,
   "outputs": [],
   "source": [
    "condition = (convert_string_to_date('1.1.2021') <= reserved_data['to date'])\n",
    "\n",
    "X_pred = reserved_data[condition].drop(['to date'], axis=1)\n",
    "\n",
    "# X_pred = processed_data[condition]\n",
    "\n",
    "result_pred = model.predict(X_pred)\n",
    "result_proba = tf.nn.sigmoid(result_pred).numpy()"
   ],
   "metadata": {
    "collapsed": false,
    "pycharm": {
     "name": "#%%\n"
    }
   }
  },
  {
   "cell_type": "code",
   "execution_count": 472,
   "outputs": [
    {
     "data": {
      "text/plain": "        to date    events    ascend   maximum   descend   minimum\n5671 2021-10-31  0.962406  0.580060  0.410353  0.528869  0.164298\n5672 2021-11-01  0.969925  0.575498  0.413162  0.525116  0.165798\n5673 2021-11-02  0.969925  0.587458  0.413162  0.525116  0.161475\n5674 2021-11-03  0.962406  0.592098  0.411590  0.528869  0.156026\n5675 2021-11-04  0.954887  0.596737  0.418126  0.536675  0.146182\n...         ...       ...       ...       ...       ...       ...\n5728 2021-12-27  0.864662  0.582101  0.388848  0.506212  0.206975\n5729 2021-12-28  0.864662  0.556172  0.410158  0.499603  0.201885\n5730 2021-12-29  0.872180  0.551629  0.418601  0.495768  0.198613\n5731 2021-12-30  0.879699  0.547086  0.427045  0.505377  0.185414\n5732 2021-12-31  0.879699  0.547086  0.436153  0.505377  0.170836\n\n[62 rows x 6 columns]",
      "text/html": "<div>\n<style scoped>\n    .dataframe tbody tr th:only-of-type {\n        vertical-align: middle;\n    }\n\n    .dataframe tbody tr th {\n        vertical-align: top;\n    }\n\n    .dataframe thead th {\n        text-align: right;\n    }\n</style>\n<table border=\"1\" class=\"dataframe\">\n  <thead>\n    <tr style=\"text-align: right;\">\n      <th></th>\n      <th>to date</th>\n      <th>events</th>\n      <th>ascend</th>\n      <th>maximum</th>\n      <th>descend</th>\n      <th>minimum</th>\n    </tr>\n  </thead>\n  <tbody>\n    <tr>\n      <th>5671</th>\n      <td>2021-10-31</td>\n      <td>0.962406</td>\n      <td>0.580060</td>\n      <td>0.410353</td>\n      <td>0.528869</td>\n      <td>0.164298</td>\n    </tr>\n    <tr>\n      <th>5672</th>\n      <td>2021-11-01</td>\n      <td>0.969925</td>\n      <td>0.575498</td>\n      <td>0.413162</td>\n      <td>0.525116</td>\n      <td>0.165798</td>\n    </tr>\n    <tr>\n      <th>5673</th>\n      <td>2021-11-02</td>\n      <td>0.969925</td>\n      <td>0.587458</td>\n      <td>0.413162</td>\n      <td>0.525116</td>\n      <td>0.161475</td>\n    </tr>\n    <tr>\n      <th>5674</th>\n      <td>2021-11-03</td>\n      <td>0.962406</td>\n      <td>0.592098</td>\n      <td>0.411590</td>\n      <td>0.528869</td>\n      <td>0.156026</td>\n    </tr>\n    <tr>\n      <th>5675</th>\n      <td>2021-11-04</td>\n      <td>0.954887</td>\n      <td>0.596737</td>\n      <td>0.418126</td>\n      <td>0.536675</td>\n      <td>0.146182</td>\n    </tr>\n    <tr>\n      <th>...</th>\n      <td>...</td>\n      <td>...</td>\n      <td>...</td>\n      <td>...</td>\n      <td>...</td>\n      <td>...</td>\n    </tr>\n    <tr>\n      <th>5728</th>\n      <td>2021-12-27</td>\n      <td>0.864662</td>\n      <td>0.582101</td>\n      <td>0.388848</td>\n      <td>0.506212</td>\n      <td>0.206975</td>\n    </tr>\n    <tr>\n      <th>5729</th>\n      <td>2021-12-28</td>\n      <td>0.864662</td>\n      <td>0.556172</td>\n      <td>0.410158</td>\n      <td>0.499603</td>\n      <td>0.201885</td>\n    </tr>\n    <tr>\n      <th>5730</th>\n      <td>2021-12-29</td>\n      <td>0.872180</td>\n      <td>0.551629</td>\n      <td>0.418601</td>\n      <td>0.495768</td>\n      <td>0.198613</td>\n    </tr>\n    <tr>\n      <th>5731</th>\n      <td>2021-12-30</td>\n      <td>0.879699</td>\n      <td>0.547086</td>\n      <td>0.427045</td>\n      <td>0.505377</td>\n      <td>0.185414</td>\n    </tr>\n    <tr>\n      <th>5732</th>\n      <td>2021-12-31</td>\n      <td>0.879699</td>\n      <td>0.547086</td>\n      <td>0.436153</td>\n      <td>0.505377</td>\n      <td>0.170836</td>\n    </tr>\n  </tbody>\n</table>\n<p>62 rows × 6 columns</p>\n</div>"
     },
     "execution_count": 472,
     "metadata": {},
     "output_type": "execute_result"
    }
   ],
   "source": [
    "reserved_data[condition]"
   ],
   "metadata": {
    "collapsed": false,
    "pycharm": {
     "name": "#%%\n"
    }
   }
  },
  {
   "cell_type": "code",
   "execution_count": 473,
   "outputs": [
    {
     "data": {
      "application/vnd.plotly.v1+json": {
       "data": [
        {
         "groupnorm": "percent",
         "line": {
          "width": 0.25
         },
         "mode": "lines",
         "name": "No event",
         "stackgroup": "one",
         "text": [
          "[30.11.2021..30.12.2021]",
          "[01.12.2021..01.01.2022]",
          "[02.12.2021..02.01.2022]",
          "[03.12.2021..03.01.2022]",
          "[04.12.2021..04.01.2022]",
          "[05.12.2021..05.01.2022]",
          "[06.12.2021..06.01.2022]",
          "[07.12.2021..07.01.2022]",
          "[08.12.2021..08.01.2022]",
          "[09.12.2021..09.01.2022]",
          "[10.12.2021..10.01.2022]",
          "[11.12.2021..11.01.2022]",
          "[12.12.2021..12.01.2022]",
          "[13.12.2021..13.01.2022]",
          "[14.12.2021..14.01.2022]",
          "[15.12.2021..15.01.2022]",
          "[16.12.2021..16.01.2022]",
          "[17.12.2021..17.01.2022]",
          "[18.12.2021..18.01.2022]",
          "[19.12.2021..19.01.2022]",
          "[20.12.2021..20.01.2022]",
          "[21.12.2021..21.01.2022]",
          "[22.12.2021..22.01.2022]",
          "[23.12.2021..23.01.2022]",
          "[24.12.2021..24.01.2022]",
          "[25.12.2021..25.01.2022]",
          "[26.12.2021..26.01.2022]",
          "[27.12.2021..27.01.2022]",
          "[28.12.2021..28.01.2022]",
          "[29.12.2021..29.01.2022]",
          "[30.12.2021..30.01.2022]",
          "[01.01.2022..01.02.2022]",
          "[02.01.2022..02.02.2022]",
          "[03.01.2022..03.02.2022]",
          "[04.01.2022..04.02.2022]",
          "[05.01.2022..05.02.2022]",
          "[06.01.2022..06.02.2022]",
          "[07.01.2022..07.02.2022]",
          "[08.01.2022..08.02.2022]",
          "[09.01.2022..09.02.2022]",
          "[10.01.2022..10.02.2022]",
          "[11.01.2022..11.02.2022]",
          "[12.01.2022..12.02.2022]",
          "[13.01.2022..13.02.2022]",
          "[14.01.2022..14.02.2022]",
          "[15.01.2022..15.02.2022]",
          "[16.01.2022..16.02.2022]",
          "[17.01.2022..17.02.2022]",
          "[18.01.2022..18.02.2022]",
          "[19.01.2022..19.02.2022]",
          "[20.01.2022..20.02.2022]",
          "[21.01.2022..21.02.2022]",
          "[22.01.2022..22.02.2022]",
          "[23.01.2022..23.02.2022]",
          "[24.01.2022..24.02.2022]",
          "[25.01.2022..25.02.2022]",
          "[26.01.2022..26.02.2022]",
          "[27.01.2022..27.02.2022]",
          "[28.01.2022..28.02.2022]",
          "[29.01.2022..28.02.2022]",
          "[30.01.2022..28.02.2022]",
          "[31.01.2022..28.02.2022]"
         ],
         "x": [
          "2021-10-31T00:00:00",
          "2021-11-01T00:00:00",
          "2021-11-02T00:00:00",
          "2021-11-03T00:00:00",
          "2021-11-04T00:00:00",
          "2021-11-05T00:00:00",
          "2021-11-06T00:00:00",
          "2021-11-07T00:00:00",
          "2021-11-08T00:00:00",
          "2021-11-09T00:00:00",
          "2021-11-10T00:00:00",
          "2021-11-11T00:00:00",
          "2021-11-12T00:00:00",
          "2021-11-13T00:00:00",
          "2021-11-14T00:00:00",
          "2021-11-15T00:00:00",
          "2021-11-16T00:00:00",
          "2021-11-17T00:00:00",
          "2021-11-18T00:00:00",
          "2021-11-19T00:00:00",
          "2021-11-20T00:00:00",
          "2021-11-21T00:00:00",
          "2021-11-22T00:00:00",
          "2021-11-23T00:00:00",
          "2021-11-24T00:00:00",
          "2021-11-25T00:00:00",
          "2021-11-26T00:00:00",
          "2021-11-27T00:00:00",
          "2021-11-28T00:00:00",
          "2021-11-29T00:00:00",
          "2021-11-30T00:00:00",
          "2021-12-01T00:00:00",
          "2021-12-02T00:00:00",
          "2021-12-03T00:00:00",
          "2021-12-04T00:00:00",
          "2021-12-05T00:00:00",
          "2021-12-06T00:00:00",
          "2021-12-07T00:00:00",
          "2021-12-08T00:00:00",
          "2021-12-09T00:00:00",
          "2021-12-10T00:00:00",
          "2021-12-11T00:00:00",
          "2021-12-12T00:00:00",
          "2021-12-13T00:00:00",
          "2021-12-14T00:00:00",
          "2021-12-15T00:00:00",
          "2021-12-16T00:00:00",
          "2021-12-17T00:00:00",
          "2021-12-18T00:00:00",
          "2021-12-19T00:00:00",
          "2021-12-20T00:00:00",
          "2021-12-21T00:00:00",
          "2021-12-22T00:00:00",
          "2021-12-23T00:00:00",
          "2021-12-24T00:00:00",
          "2021-12-25T00:00:00",
          "2021-12-26T00:00:00",
          "2021-12-27T00:00:00",
          "2021-12-28T00:00:00",
          "2021-12-29T00:00:00",
          "2021-12-30T00:00:00",
          "2021-12-31T00:00:00"
         ],
         "y": [
          0.8916738033294678,
          0.8915995955467224,
          0.8885320425033569,
          0.8962560296058655,
          0.9077500700950623,
          0.9218884110450745,
          0.9218884110450745,
          0.9052276611328125,
          0.9628028273582458,
          0.962558925151825,
          0.9509784579277039,
          0.978294312953949,
          0.9952601194381714,
          0.9887732863426208,
          0.9785160422325134,
          0.9669538140296936,
          0.9840563535690308,
          0.9840563535690308,
          0.9573829770088196,
          0.9573829770088196,
          0.9638605713844299,
          0.9473942518234253,
          0.9469504952430725,
          0.9460786581039429,
          0.9445679783821106,
          0.9379360675811768,
          0.9637091755867004,
          0.9637091755867004,
          0.9637091755867004,
          0.9024840593338013,
          0.8937376737594604,
          0.9076802134513855,
          0.9615506529808044,
          0.9809171557426453,
          0.9131700992584229,
          0.8435691595077515,
          0.8963063359260559,
          0.8998861312866211,
          0.8998861312866211,
          0.9006476402282715,
          0.9026269912719727,
          0.901481032371521,
          0.5532251000404358,
          0.8902945518493652,
          0.9605128169059753,
          0.771192729473114,
          0.7051295042037964,
          0.6237514019012451,
          0.7027657628059387,
          0.7027657628059387,
          0.7244762182235718,
          0.7161481380462646,
          0.8223944902420044,
          0.8739094734191895,
          0.8082056045532227,
          0.8082056045532227,
          0.8082056045532227,
          0.8082056045532227,
          0.5914522409439087,
          0.5982880592346191,
          0.7741430997848511,
          0.8512957096099854
         ],
         "type": "scatter"
        },
        {
         "line": {
          "width": 0.25
         },
         "mode": "lines",
         "name": "Event predicted",
         "stackgroup": "one",
         "text": [
          "[30.11.2021..30.12.2021]",
          "[01.12.2021..01.01.2022]",
          "[02.12.2021..02.01.2022]",
          "[03.12.2021..03.01.2022]",
          "[04.12.2021..04.01.2022]",
          "[05.12.2021..05.01.2022]",
          "[06.12.2021..06.01.2022]",
          "[07.12.2021..07.01.2022]",
          "[08.12.2021..08.01.2022]",
          "[09.12.2021..09.01.2022]",
          "[10.12.2021..10.01.2022]",
          "[11.12.2021..11.01.2022]",
          "[12.12.2021..12.01.2022]",
          "[13.12.2021..13.01.2022]",
          "[14.12.2021..14.01.2022]",
          "[15.12.2021..15.01.2022]",
          "[16.12.2021..16.01.2022]",
          "[17.12.2021..17.01.2022]",
          "[18.12.2021..18.01.2022]",
          "[19.12.2021..19.01.2022]",
          "[20.12.2021..20.01.2022]",
          "[21.12.2021..21.01.2022]",
          "[22.12.2021..22.01.2022]",
          "[23.12.2021..23.01.2022]",
          "[24.12.2021..24.01.2022]",
          "[25.12.2021..25.01.2022]",
          "[26.12.2021..26.01.2022]",
          "[27.12.2021..27.01.2022]",
          "[28.12.2021..28.01.2022]",
          "[29.12.2021..29.01.2022]",
          "[30.12.2021..30.01.2022]",
          "[01.01.2022..01.02.2022]",
          "[02.01.2022..02.02.2022]",
          "[03.01.2022..03.02.2022]",
          "[04.01.2022..04.02.2022]",
          "[05.01.2022..05.02.2022]",
          "[06.01.2022..06.02.2022]",
          "[07.01.2022..07.02.2022]",
          "[08.01.2022..08.02.2022]",
          "[09.01.2022..09.02.2022]",
          "[10.01.2022..10.02.2022]",
          "[11.01.2022..11.02.2022]",
          "[12.01.2022..12.02.2022]",
          "[13.01.2022..13.02.2022]",
          "[14.01.2022..14.02.2022]",
          "[15.01.2022..15.02.2022]",
          "[16.01.2022..16.02.2022]",
          "[17.01.2022..17.02.2022]",
          "[18.01.2022..18.02.2022]",
          "[19.01.2022..19.02.2022]",
          "[20.01.2022..20.02.2022]",
          "[21.01.2022..21.02.2022]",
          "[22.01.2022..22.02.2022]",
          "[23.01.2022..23.02.2022]",
          "[24.01.2022..24.02.2022]",
          "[25.01.2022..25.02.2022]",
          "[26.01.2022..26.02.2022]",
          "[27.01.2022..27.02.2022]",
          "[28.01.2022..28.02.2022]",
          "[29.01.2022..28.02.2022]",
          "[30.01.2022..28.02.2022]",
          "[31.01.2022..28.02.2022]"
         ],
         "x": [
          "2021-10-31T00:00:00",
          "2021-11-01T00:00:00",
          "2021-11-02T00:00:00",
          "2021-11-03T00:00:00",
          "2021-11-04T00:00:00",
          "2021-11-05T00:00:00",
          "2021-11-06T00:00:00",
          "2021-11-07T00:00:00",
          "2021-11-08T00:00:00",
          "2021-11-09T00:00:00",
          "2021-11-10T00:00:00",
          "2021-11-11T00:00:00",
          "2021-11-12T00:00:00",
          "2021-11-13T00:00:00",
          "2021-11-14T00:00:00",
          "2021-11-15T00:00:00",
          "2021-11-16T00:00:00",
          "2021-11-17T00:00:00",
          "2021-11-18T00:00:00",
          "2021-11-19T00:00:00",
          "2021-11-20T00:00:00",
          "2021-11-21T00:00:00",
          "2021-11-22T00:00:00",
          "2021-11-23T00:00:00",
          "2021-11-24T00:00:00",
          "2021-11-25T00:00:00",
          "2021-11-26T00:00:00",
          "2021-11-27T00:00:00",
          "2021-11-28T00:00:00",
          "2021-11-29T00:00:00",
          "2021-11-30T00:00:00",
          "2021-12-01T00:00:00",
          "2021-12-02T00:00:00",
          "2021-12-03T00:00:00",
          "2021-12-04T00:00:00",
          "2021-12-05T00:00:00",
          "2021-12-06T00:00:00",
          "2021-12-07T00:00:00",
          "2021-12-08T00:00:00",
          "2021-12-09T00:00:00",
          "2021-12-10T00:00:00",
          "2021-12-11T00:00:00",
          "2021-12-12T00:00:00",
          "2021-12-13T00:00:00",
          "2021-12-14T00:00:00",
          "2021-12-15T00:00:00",
          "2021-12-16T00:00:00",
          "2021-12-17T00:00:00",
          "2021-12-18T00:00:00",
          "2021-12-19T00:00:00",
          "2021-12-20T00:00:00",
          "2021-12-21T00:00:00",
          "2021-12-22T00:00:00",
          "2021-12-23T00:00:00",
          "2021-12-24T00:00:00",
          "2021-12-25T00:00:00",
          "2021-12-26T00:00:00",
          "2021-12-27T00:00:00",
          "2021-12-28T00:00:00",
          "2021-12-29T00:00:00",
          "2021-12-30T00:00:00",
          "2021-12-31T00:00:00"
         ],
         "y": [
          0.10832619667053223,
          0.10840041935443878,
          0.11146793514490128,
          0.10374394804239273,
          0.09224995225667953,
          0.07811160385608673,
          0.07811160385608673,
          0.09477236121892929,
          0.03719714656472206,
          0.03744104877114296,
          0.049021560698747635,
          0.021705714985728264,
          0.004739886149764061,
          0.011226687580347061,
          0.021483978256583214,
          0.033046163618564606,
          0.015943657606840134,
          0.015943657606840134,
          0.042617034167051315,
          0.042617034167051315,
          0.036139439791440964,
          0.052605729550123215,
          0.053049489855766296,
          0.053921349346637726,
          0.0554320402443409,
          0.062063924968242645,
          0.036290839314460754,
          0.036290839314460754,
          0.036290839314460754,
          0.09751591086387634,
          0.10626235604286194,
          0.09231977164745331,
          0.038449328392744064,
          0.01908286288380623,
          0.08682988584041595,
          0.15643087029457092,
          0.10369367897510529,
          0.1001138836145401,
          0.1001138836145401,
          0.09935232996940613,
          0.09737302362918854,
          0.09851893782615662,
          0.4467748999595642,
          0.10970544815063477,
          0.03948716074228287,
          0.228807270526886,
          0.294870525598526,
          0.3762485682964325,
          0.2972342371940613,
          0.2972342371940613,
          0.27552375197410583,
          0.28385186195373535,
          0.17760547995567322,
          0.12609052658081055,
          0.19179439544677734,
          0.19179439544677734,
          0.19179439544677734,
          0.19179439544677734,
          0.4085477888584137,
          0.40171194076538086,
          0.22585690021514893,
          0.14870429039001465
         ],
         "type": "scatter"
        }
       ],
       "layout": {
        "template": {
         "data": {
          "bar": [
           {
            "error_x": {
             "color": "#2a3f5f"
            },
            "error_y": {
             "color": "#2a3f5f"
            },
            "marker": {
             "line": {
              "color": "#E5ECF6",
              "width": 0.5
             },
             "pattern": {
              "fillmode": "overlay",
              "size": 10,
              "solidity": 0.2
             }
            },
            "type": "bar"
           }
          ],
          "barpolar": [
           {
            "marker": {
             "line": {
              "color": "#E5ECF6",
              "width": 0.5
             },
             "pattern": {
              "fillmode": "overlay",
              "size": 10,
              "solidity": 0.2
             }
            },
            "type": "barpolar"
           }
          ],
          "carpet": [
           {
            "aaxis": {
             "endlinecolor": "#2a3f5f",
             "gridcolor": "white",
             "linecolor": "white",
             "minorgridcolor": "white",
             "startlinecolor": "#2a3f5f"
            },
            "baxis": {
             "endlinecolor": "#2a3f5f",
             "gridcolor": "white",
             "linecolor": "white",
             "minorgridcolor": "white",
             "startlinecolor": "#2a3f5f"
            },
            "type": "carpet"
           }
          ],
          "choropleth": [
           {
            "colorbar": {
             "outlinewidth": 0,
             "ticks": ""
            },
            "type": "choropleth"
           }
          ],
          "contour": [
           {
            "colorbar": {
             "outlinewidth": 0,
             "ticks": ""
            },
            "colorscale": [
             [
              0.0,
              "#0d0887"
             ],
             [
              0.1111111111111111,
              "#46039f"
             ],
             [
              0.2222222222222222,
              "#7201a8"
             ],
             [
              0.3333333333333333,
              "#9c179e"
             ],
             [
              0.4444444444444444,
              "#bd3786"
             ],
             [
              0.5555555555555556,
              "#d8576b"
             ],
             [
              0.6666666666666666,
              "#ed7953"
             ],
             [
              0.7777777777777778,
              "#fb9f3a"
             ],
             [
              0.8888888888888888,
              "#fdca26"
             ],
             [
              1.0,
              "#f0f921"
             ]
            ],
            "type": "contour"
           }
          ],
          "contourcarpet": [
           {
            "colorbar": {
             "outlinewidth": 0,
             "ticks": ""
            },
            "type": "contourcarpet"
           }
          ],
          "heatmap": [
           {
            "colorbar": {
             "outlinewidth": 0,
             "ticks": ""
            },
            "colorscale": [
             [
              0.0,
              "#0d0887"
             ],
             [
              0.1111111111111111,
              "#46039f"
             ],
             [
              0.2222222222222222,
              "#7201a8"
             ],
             [
              0.3333333333333333,
              "#9c179e"
             ],
             [
              0.4444444444444444,
              "#bd3786"
             ],
             [
              0.5555555555555556,
              "#d8576b"
             ],
             [
              0.6666666666666666,
              "#ed7953"
             ],
             [
              0.7777777777777778,
              "#fb9f3a"
             ],
             [
              0.8888888888888888,
              "#fdca26"
             ],
             [
              1.0,
              "#f0f921"
             ]
            ],
            "type": "heatmap"
           }
          ],
          "heatmapgl": [
           {
            "colorbar": {
             "outlinewidth": 0,
             "ticks": ""
            },
            "colorscale": [
             [
              0.0,
              "#0d0887"
             ],
             [
              0.1111111111111111,
              "#46039f"
             ],
             [
              0.2222222222222222,
              "#7201a8"
             ],
             [
              0.3333333333333333,
              "#9c179e"
             ],
             [
              0.4444444444444444,
              "#bd3786"
             ],
             [
              0.5555555555555556,
              "#d8576b"
             ],
             [
              0.6666666666666666,
              "#ed7953"
             ],
             [
              0.7777777777777778,
              "#fb9f3a"
             ],
             [
              0.8888888888888888,
              "#fdca26"
             ],
             [
              1.0,
              "#f0f921"
             ]
            ],
            "type": "heatmapgl"
           }
          ],
          "histogram": [
           {
            "marker": {
             "pattern": {
              "fillmode": "overlay",
              "size": 10,
              "solidity": 0.2
             }
            },
            "type": "histogram"
           }
          ],
          "histogram2d": [
           {
            "colorbar": {
             "outlinewidth": 0,
             "ticks": ""
            },
            "colorscale": [
             [
              0.0,
              "#0d0887"
             ],
             [
              0.1111111111111111,
              "#46039f"
             ],
             [
              0.2222222222222222,
              "#7201a8"
             ],
             [
              0.3333333333333333,
              "#9c179e"
             ],
             [
              0.4444444444444444,
              "#bd3786"
             ],
             [
              0.5555555555555556,
              "#d8576b"
             ],
             [
              0.6666666666666666,
              "#ed7953"
             ],
             [
              0.7777777777777778,
              "#fb9f3a"
             ],
             [
              0.8888888888888888,
              "#fdca26"
             ],
             [
              1.0,
              "#f0f921"
             ]
            ],
            "type": "histogram2d"
           }
          ],
          "histogram2dcontour": [
           {
            "colorbar": {
             "outlinewidth": 0,
             "ticks": ""
            },
            "colorscale": [
             [
              0.0,
              "#0d0887"
             ],
             [
              0.1111111111111111,
              "#46039f"
             ],
             [
              0.2222222222222222,
              "#7201a8"
             ],
             [
              0.3333333333333333,
              "#9c179e"
             ],
             [
              0.4444444444444444,
              "#bd3786"
             ],
             [
              0.5555555555555556,
              "#d8576b"
             ],
             [
              0.6666666666666666,
              "#ed7953"
             ],
             [
              0.7777777777777778,
              "#fb9f3a"
             ],
             [
              0.8888888888888888,
              "#fdca26"
             ],
             [
              1.0,
              "#f0f921"
             ]
            ],
            "type": "histogram2dcontour"
           }
          ],
          "mesh3d": [
           {
            "colorbar": {
             "outlinewidth": 0,
             "ticks": ""
            },
            "type": "mesh3d"
           }
          ],
          "parcoords": [
           {
            "line": {
             "colorbar": {
              "outlinewidth": 0,
              "ticks": ""
             }
            },
            "type": "parcoords"
           }
          ],
          "pie": [
           {
            "automargin": true,
            "type": "pie"
           }
          ],
          "scatter": [
           {
            "marker": {
             "colorbar": {
              "outlinewidth": 0,
              "ticks": ""
             }
            },
            "type": "scatter"
           }
          ],
          "scatter3d": [
           {
            "line": {
             "colorbar": {
              "outlinewidth": 0,
              "ticks": ""
             }
            },
            "marker": {
             "colorbar": {
              "outlinewidth": 0,
              "ticks": ""
             }
            },
            "type": "scatter3d"
           }
          ],
          "scattercarpet": [
           {
            "marker": {
             "colorbar": {
              "outlinewidth": 0,
              "ticks": ""
             }
            },
            "type": "scattercarpet"
           }
          ],
          "scattergeo": [
           {
            "marker": {
             "colorbar": {
              "outlinewidth": 0,
              "ticks": ""
             }
            },
            "type": "scattergeo"
           }
          ],
          "scattergl": [
           {
            "marker": {
             "colorbar": {
              "outlinewidth": 0,
              "ticks": ""
             }
            },
            "type": "scattergl"
           }
          ],
          "scattermapbox": [
           {
            "marker": {
             "colorbar": {
              "outlinewidth": 0,
              "ticks": ""
             }
            },
            "type": "scattermapbox"
           }
          ],
          "scatterpolar": [
           {
            "marker": {
             "colorbar": {
              "outlinewidth": 0,
              "ticks": ""
             }
            },
            "type": "scatterpolar"
           }
          ],
          "scatterpolargl": [
           {
            "marker": {
             "colorbar": {
              "outlinewidth": 0,
              "ticks": ""
             }
            },
            "type": "scatterpolargl"
           }
          ],
          "scatterternary": [
           {
            "marker": {
             "colorbar": {
              "outlinewidth": 0,
              "ticks": ""
             }
            },
            "type": "scatterternary"
           }
          ],
          "surface": [
           {
            "colorbar": {
             "outlinewidth": 0,
             "ticks": ""
            },
            "colorscale": [
             [
              0.0,
              "#0d0887"
             ],
             [
              0.1111111111111111,
              "#46039f"
             ],
             [
              0.2222222222222222,
              "#7201a8"
             ],
             [
              0.3333333333333333,
              "#9c179e"
             ],
             [
              0.4444444444444444,
              "#bd3786"
             ],
             [
              0.5555555555555556,
              "#d8576b"
             ],
             [
              0.6666666666666666,
              "#ed7953"
             ],
             [
              0.7777777777777778,
              "#fb9f3a"
             ],
             [
              0.8888888888888888,
              "#fdca26"
             ],
             [
              1.0,
              "#f0f921"
             ]
            ],
            "type": "surface"
           }
          ],
          "table": [
           {
            "cells": {
             "fill": {
              "color": "#EBF0F8"
             },
             "line": {
              "color": "white"
             }
            },
            "header": {
             "fill": {
              "color": "#C8D4E3"
             },
             "line": {
              "color": "white"
             }
            },
            "type": "table"
           }
          ]
         },
         "layout": {
          "annotationdefaults": {
           "arrowcolor": "#2a3f5f",
           "arrowhead": 0,
           "arrowwidth": 1
          },
          "autotypenumbers": "strict",
          "coloraxis": {
           "colorbar": {
            "outlinewidth": 0,
            "ticks": ""
           }
          },
          "colorscale": {
           "diverging": [
            [
             0,
             "#8e0152"
            ],
            [
             0.1,
             "#c51b7d"
            ],
            [
             0.2,
             "#de77ae"
            ],
            [
             0.3,
             "#f1b6da"
            ],
            [
             0.4,
             "#fde0ef"
            ],
            [
             0.5,
             "#f7f7f7"
            ],
            [
             0.6,
             "#e6f5d0"
            ],
            [
             0.7,
             "#b8e186"
            ],
            [
             0.8,
             "#7fbc41"
            ],
            [
             0.9,
             "#4d9221"
            ],
            [
             1,
             "#276419"
            ]
           ],
           "sequential": [
            [
             0.0,
             "#0d0887"
            ],
            [
             0.1111111111111111,
             "#46039f"
            ],
            [
             0.2222222222222222,
             "#7201a8"
            ],
            [
             0.3333333333333333,
             "#9c179e"
            ],
            [
             0.4444444444444444,
             "#bd3786"
            ],
            [
             0.5555555555555556,
             "#d8576b"
            ],
            [
             0.6666666666666666,
             "#ed7953"
            ],
            [
             0.7777777777777778,
             "#fb9f3a"
            ],
            [
             0.8888888888888888,
             "#fdca26"
            ],
            [
             1.0,
             "#f0f921"
            ]
           ],
           "sequentialminus": [
            [
             0.0,
             "#0d0887"
            ],
            [
             0.1111111111111111,
             "#46039f"
            ],
            [
             0.2222222222222222,
             "#7201a8"
            ],
            [
             0.3333333333333333,
             "#9c179e"
            ],
            [
             0.4444444444444444,
             "#bd3786"
            ],
            [
             0.5555555555555556,
             "#d8576b"
            ],
            [
             0.6666666666666666,
             "#ed7953"
            ],
            [
             0.7777777777777778,
             "#fb9f3a"
            ],
            [
             0.8888888888888888,
             "#fdca26"
            ],
            [
             1.0,
             "#f0f921"
            ]
           ]
          },
          "colorway": [
           "#636efa",
           "#EF553B",
           "#00cc96",
           "#ab63fa",
           "#FFA15A",
           "#19d3f3",
           "#FF6692",
           "#B6E880",
           "#FF97FF",
           "#FECB52"
          ],
          "font": {
           "color": "#2a3f5f"
          },
          "geo": {
           "bgcolor": "white",
           "lakecolor": "white",
           "landcolor": "#E5ECF6",
           "showlakes": true,
           "showland": true,
           "subunitcolor": "white"
          },
          "hoverlabel": {
           "align": "left"
          },
          "hovermode": "closest",
          "mapbox": {
           "style": "light"
          },
          "paper_bgcolor": "white",
          "plot_bgcolor": "#E5ECF6",
          "polar": {
           "angularaxis": {
            "gridcolor": "white",
            "linecolor": "white",
            "ticks": ""
           },
           "bgcolor": "#E5ECF6",
           "radialaxis": {
            "gridcolor": "white",
            "linecolor": "white",
            "ticks": ""
           }
          },
          "scene": {
           "xaxis": {
            "backgroundcolor": "#E5ECF6",
            "gridcolor": "white",
            "gridwidth": 2,
            "linecolor": "white",
            "showbackground": true,
            "ticks": "",
            "zerolinecolor": "white"
           },
           "yaxis": {
            "backgroundcolor": "#E5ECF6",
            "gridcolor": "white",
            "gridwidth": 2,
            "linecolor": "white",
            "showbackground": true,
            "ticks": "",
            "zerolinecolor": "white"
           },
           "zaxis": {
            "backgroundcolor": "#E5ECF6",
            "gridcolor": "white",
            "gridwidth": 2,
            "linecolor": "white",
            "showbackground": true,
            "ticks": "",
            "zerolinecolor": "white"
           }
          },
          "shapedefaults": {
           "line": {
            "color": "#2a3f5f"
           }
          },
          "ternary": {
           "aaxis": {
            "gridcolor": "white",
            "linecolor": "white",
            "ticks": ""
           },
           "baxis": {
            "gridcolor": "white",
            "linecolor": "white",
            "ticks": ""
           },
           "bgcolor": "#E5ECF6",
           "caxis": {
            "gridcolor": "white",
            "linecolor": "white",
            "ticks": ""
           }
          },
          "title": {
           "x": 0.05
          },
          "xaxis": {
           "automargin": true,
           "gridcolor": "white",
           "linecolor": "white",
           "ticks": "",
           "title": {
            "standoff": 15
           },
           "zerolinecolor": "white",
           "zerolinewidth": 2
          },
          "yaxis": {
           "automargin": true,
           "gridcolor": "white",
           "linecolor": "white",
           "ticks": "",
           "title": {
            "standoff": 15
           },
           "zerolinecolor": "white",
           "zerolinewidth": 2
          }
         }
        },
        "title": {
         "text": "Probability of event"
        }
       },
       "config": {
        "plotlyServerURL": "https://plot.ly"
       }
      },
      "text/html": "<div>                            <div id=\"58c27c5f-5430-4a05-9b24-0b241e0a0b5a\" class=\"plotly-graph-div\" style=\"height:525px; width:100%;\"></div>            <script type=\"text/javascript\">                require([\"plotly\"], function(Plotly) {                    window.PLOTLYENV=window.PLOTLYENV || {};                                    if (document.getElementById(\"58c27c5f-5430-4a05-9b24-0b241e0a0b5a\")) {                    Plotly.newPlot(                        \"58c27c5f-5430-4a05-9b24-0b241e0a0b5a\",                        [{\"groupnorm\":\"percent\",\"line\":{\"width\":0.25},\"mode\":\"lines\",\"name\":\"No event\",\"stackgroup\":\"one\",\"text\":[\"[30.11.2021..30.12.2021]\",\"[01.12.2021..01.01.2022]\",\"[02.12.2021..02.01.2022]\",\"[03.12.2021..03.01.2022]\",\"[04.12.2021..04.01.2022]\",\"[05.12.2021..05.01.2022]\",\"[06.12.2021..06.01.2022]\",\"[07.12.2021..07.01.2022]\",\"[08.12.2021..08.01.2022]\",\"[09.12.2021..09.01.2022]\",\"[10.12.2021..10.01.2022]\",\"[11.12.2021..11.01.2022]\",\"[12.12.2021..12.01.2022]\",\"[13.12.2021..13.01.2022]\",\"[14.12.2021..14.01.2022]\",\"[15.12.2021..15.01.2022]\",\"[16.12.2021..16.01.2022]\",\"[17.12.2021..17.01.2022]\",\"[18.12.2021..18.01.2022]\",\"[19.12.2021..19.01.2022]\",\"[20.12.2021..20.01.2022]\",\"[21.12.2021..21.01.2022]\",\"[22.12.2021..22.01.2022]\",\"[23.12.2021..23.01.2022]\",\"[24.12.2021..24.01.2022]\",\"[25.12.2021..25.01.2022]\",\"[26.12.2021..26.01.2022]\",\"[27.12.2021..27.01.2022]\",\"[28.12.2021..28.01.2022]\",\"[29.12.2021..29.01.2022]\",\"[30.12.2021..30.01.2022]\",\"[01.01.2022..01.02.2022]\",\"[02.01.2022..02.02.2022]\",\"[03.01.2022..03.02.2022]\",\"[04.01.2022..04.02.2022]\",\"[05.01.2022..05.02.2022]\",\"[06.01.2022..06.02.2022]\",\"[07.01.2022..07.02.2022]\",\"[08.01.2022..08.02.2022]\",\"[09.01.2022..09.02.2022]\",\"[10.01.2022..10.02.2022]\",\"[11.01.2022..11.02.2022]\",\"[12.01.2022..12.02.2022]\",\"[13.01.2022..13.02.2022]\",\"[14.01.2022..14.02.2022]\",\"[15.01.2022..15.02.2022]\",\"[16.01.2022..16.02.2022]\",\"[17.01.2022..17.02.2022]\",\"[18.01.2022..18.02.2022]\",\"[19.01.2022..19.02.2022]\",\"[20.01.2022..20.02.2022]\",\"[21.01.2022..21.02.2022]\",\"[22.01.2022..22.02.2022]\",\"[23.01.2022..23.02.2022]\",\"[24.01.2022..24.02.2022]\",\"[25.01.2022..25.02.2022]\",\"[26.01.2022..26.02.2022]\",\"[27.01.2022..27.02.2022]\",\"[28.01.2022..28.02.2022]\",\"[29.01.2022..28.02.2022]\",\"[30.01.2022..28.02.2022]\",\"[31.01.2022..28.02.2022]\"],\"x\":[\"2021-10-31T00:00:00\",\"2021-11-01T00:00:00\",\"2021-11-02T00:00:00\",\"2021-11-03T00:00:00\",\"2021-11-04T00:00:00\",\"2021-11-05T00:00:00\",\"2021-11-06T00:00:00\",\"2021-11-07T00:00:00\",\"2021-11-08T00:00:00\",\"2021-11-09T00:00:00\",\"2021-11-10T00:00:00\",\"2021-11-11T00:00:00\",\"2021-11-12T00:00:00\",\"2021-11-13T00:00:00\",\"2021-11-14T00:00:00\",\"2021-11-15T00:00:00\",\"2021-11-16T00:00:00\",\"2021-11-17T00:00:00\",\"2021-11-18T00:00:00\",\"2021-11-19T00:00:00\",\"2021-11-20T00:00:00\",\"2021-11-21T00:00:00\",\"2021-11-22T00:00:00\",\"2021-11-23T00:00:00\",\"2021-11-24T00:00:00\",\"2021-11-25T00:00:00\",\"2021-11-26T00:00:00\",\"2021-11-27T00:00:00\",\"2021-11-28T00:00:00\",\"2021-11-29T00:00:00\",\"2021-11-30T00:00:00\",\"2021-12-01T00:00:00\",\"2021-12-02T00:00:00\",\"2021-12-03T00:00:00\",\"2021-12-04T00:00:00\",\"2021-12-05T00:00:00\",\"2021-12-06T00:00:00\",\"2021-12-07T00:00:00\",\"2021-12-08T00:00:00\",\"2021-12-09T00:00:00\",\"2021-12-10T00:00:00\",\"2021-12-11T00:00:00\",\"2021-12-12T00:00:00\",\"2021-12-13T00:00:00\",\"2021-12-14T00:00:00\",\"2021-12-15T00:00:00\",\"2021-12-16T00:00:00\",\"2021-12-17T00:00:00\",\"2021-12-18T00:00:00\",\"2021-12-19T00:00:00\",\"2021-12-20T00:00:00\",\"2021-12-21T00:00:00\",\"2021-12-22T00:00:00\",\"2021-12-23T00:00:00\",\"2021-12-24T00:00:00\",\"2021-12-25T00:00:00\",\"2021-12-26T00:00:00\",\"2021-12-27T00:00:00\",\"2021-12-28T00:00:00\",\"2021-12-29T00:00:00\",\"2021-12-30T00:00:00\",\"2021-12-31T00:00:00\"],\"y\":[0.8916738033294678,0.8915995955467224,0.8885320425033569,0.8962560296058655,0.9077500700950623,0.9218884110450745,0.9218884110450745,0.9052276611328125,0.9628028273582458,0.962558925151825,0.9509784579277039,0.978294312953949,0.9952601194381714,0.9887732863426208,0.9785160422325134,0.9669538140296936,0.9840563535690308,0.9840563535690308,0.9573829770088196,0.9573829770088196,0.9638605713844299,0.9473942518234253,0.9469504952430725,0.9460786581039429,0.9445679783821106,0.9379360675811768,0.9637091755867004,0.9637091755867004,0.9637091755867004,0.9024840593338013,0.8937376737594604,0.9076802134513855,0.9615506529808044,0.9809171557426453,0.9131700992584229,0.8435691595077515,0.8963063359260559,0.8998861312866211,0.8998861312866211,0.9006476402282715,0.9026269912719727,0.901481032371521,0.5532251000404358,0.8902945518493652,0.9605128169059753,0.771192729473114,0.7051295042037964,0.6237514019012451,0.7027657628059387,0.7027657628059387,0.7244762182235718,0.7161481380462646,0.8223944902420044,0.8739094734191895,0.8082056045532227,0.8082056045532227,0.8082056045532227,0.8082056045532227,0.5914522409439087,0.5982880592346191,0.7741430997848511,0.8512957096099854],\"type\":\"scatter\"},{\"line\":{\"width\":0.25},\"mode\":\"lines\",\"name\":\"Event predicted\",\"stackgroup\":\"one\",\"text\":[\"[30.11.2021..30.12.2021]\",\"[01.12.2021..01.01.2022]\",\"[02.12.2021..02.01.2022]\",\"[03.12.2021..03.01.2022]\",\"[04.12.2021..04.01.2022]\",\"[05.12.2021..05.01.2022]\",\"[06.12.2021..06.01.2022]\",\"[07.12.2021..07.01.2022]\",\"[08.12.2021..08.01.2022]\",\"[09.12.2021..09.01.2022]\",\"[10.12.2021..10.01.2022]\",\"[11.12.2021..11.01.2022]\",\"[12.12.2021..12.01.2022]\",\"[13.12.2021..13.01.2022]\",\"[14.12.2021..14.01.2022]\",\"[15.12.2021..15.01.2022]\",\"[16.12.2021..16.01.2022]\",\"[17.12.2021..17.01.2022]\",\"[18.12.2021..18.01.2022]\",\"[19.12.2021..19.01.2022]\",\"[20.12.2021..20.01.2022]\",\"[21.12.2021..21.01.2022]\",\"[22.12.2021..22.01.2022]\",\"[23.12.2021..23.01.2022]\",\"[24.12.2021..24.01.2022]\",\"[25.12.2021..25.01.2022]\",\"[26.12.2021..26.01.2022]\",\"[27.12.2021..27.01.2022]\",\"[28.12.2021..28.01.2022]\",\"[29.12.2021..29.01.2022]\",\"[30.12.2021..30.01.2022]\",\"[01.01.2022..01.02.2022]\",\"[02.01.2022..02.02.2022]\",\"[03.01.2022..03.02.2022]\",\"[04.01.2022..04.02.2022]\",\"[05.01.2022..05.02.2022]\",\"[06.01.2022..06.02.2022]\",\"[07.01.2022..07.02.2022]\",\"[08.01.2022..08.02.2022]\",\"[09.01.2022..09.02.2022]\",\"[10.01.2022..10.02.2022]\",\"[11.01.2022..11.02.2022]\",\"[12.01.2022..12.02.2022]\",\"[13.01.2022..13.02.2022]\",\"[14.01.2022..14.02.2022]\",\"[15.01.2022..15.02.2022]\",\"[16.01.2022..16.02.2022]\",\"[17.01.2022..17.02.2022]\",\"[18.01.2022..18.02.2022]\",\"[19.01.2022..19.02.2022]\",\"[20.01.2022..20.02.2022]\",\"[21.01.2022..21.02.2022]\",\"[22.01.2022..22.02.2022]\",\"[23.01.2022..23.02.2022]\",\"[24.01.2022..24.02.2022]\",\"[25.01.2022..25.02.2022]\",\"[26.01.2022..26.02.2022]\",\"[27.01.2022..27.02.2022]\",\"[28.01.2022..28.02.2022]\",\"[29.01.2022..28.02.2022]\",\"[30.01.2022..28.02.2022]\",\"[31.01.2022..28.02.2022]\"],\"x\":[\"2021-10-31T00:00:00\",\"2021-11-01T00:00:00\",\"2021-11-02T00:00:00\",\"2021-11-03T00:00:00\",\"2021-11-04T00:00:00\",\"2021-11-05T00:00:00\",\"2021-11-06T00:00:00\",\"2021-11-07T00:00:00\",\"2021-11-08T00:00:00\",\"2021-11-09T00:00:00\",\"2021-11-10T00:00:00\",\"2021-11-11T00:00:00\",\"2021-11-12T00:00:00\",\"2021-11-13T00:00:00\",\"2021-11-14T00:00:00\",\"2021-11-15T00:00:00\",\"2021-11-16T00:00:00\",\"2021-11-17T00:00:00\",\"2021-11-18T00:00:00\",\"2021-11-19T00:00:00\",\"2021-11-20T00:00:00\",\"2021-11-21T00:00:00\",\"2021-11-22T00:00:00\",\"2021-11-23T00:00:00\",\"2021-11-24T00:00:00\",\"2021-11-25T00:00:00\",\"2021-11-26T00:00:00\",\"2021-11-27T00:00:00\",\"2021-11-28T00:00:00\",\"2021-11-29T00:00:00\",\"2021-11-30T00:00:00\",\"2021-12-01T00:00:00\",\"2021-12-02T00:00:00\",\"2021-12-03T00:00:00\",\"2021-12-04T00:00:00\",\"2021-12-05T00:00:00\",\"2021-12-06T00:00:00\",\"2021-12-07T00:00:00\",\"2021-12-08T00:00:00\",\"2021-12-09T00:00:00\",\"2021-12-10T00:00:00\",\"2021-12-11T00:00:00\",\"2021-12-12T00:00:00\",\"2021-12-13T00:00:00\",\"2021-12-14T00:00:00\",\"2021-12-15T00:00:00\",\"2021-12-16T00:00:00\",\"2021-12-17T00:00:00\",\"2021-12-18T00:00:00\",\"2021-12-19T00:00:00\",\"2021-12-20T00:00:00\",\"2021-12-21T00:00:00\",\"2021-12-22T00:00:00\",\"2021-12-23T00:00:00\",\"2021-12-24T00:00:00\",\"2021-12-25T00:00:00\",\"2021-12-26T00:00:00\",\"2021-12-27T00:00:00\",\"2021-12-28T00:00:00\",\"2021-12-29T00:00:00\",\"2021-12-30T00:00:00\",\"2021-12-31T00:00:00\"],\"y\":[0.10832619667053223,0.10840041935443878,0.11146793514490128,0.10374394804239273,0.09224995225667953,0.07811160385608673,0.07811160385608673,0.09477236121892929,0.03719714656472206,0.03744104877114296,0.049021560698747635,0.021705714985728264,0.004739886149764061,0.011226687580347061,0.021483978256583214,0.033046163618564606,0.015943657606840134,0.015943657606840134,0.042617034167051315,0.042617034167051315,0.036139439791440964,0.052605729550123215,0.053049489855766296,0.053921349346637726,0.0554320402443409,0.062063924968242645,0.036290839314460754,0.036290839314460754,0.036290839314460754,0.09751591086387634,0.10626235604286194,0.09231977164745331,0.038449328392744064,0.01908286288380623,0.08682988584041595,0.15643087029457092,0.10369367897510529,0.1001138836145401,0.1001138836145401,0.09935232996940613,0.09737302362918854,0.09851893782615662,0.4467748999595642,0.10970544815063477,0.03948716074228287,0.228807270526886,0.294870525598526,0.3762485682964325,0.2972342371940613,0.2972342371940613,0.27552375197410583,0.28385186195373535,0.17760547995567322,0.12609052658081055,0.19179439544677734,0.19179439544677734,0.19179439544677734,0.19179439544677734,0.4085477888584137,0.40171194076538086,0.22585690021514893,0.14870429039001465],\"type\":\"scatter\"}],                        {\"template\":{\"data\":{\"bar\":[{\"error_x\":{\"color\":\"#2a3f5f\"},\"error_y\":{\"color\":\"#2a3f5f\"},\"marker\":{\"line\":{\"color\":\"#E5ECF6\",\"width\":0.5},\"pattern\":{\"fillmode\":\"overlay\",\"size\":10,\"solidity\":0.2}},\"type\":\"bar\"}],\"barpolar\":[{\"marker\":{\"line\":{\"color\":\"#E5ECF6\",\"width\":0.5},\"pattern\":{\"fillmode\":\"overlay\",\"size\":10,\"solidity\":0.2}},\"type\":\"barpolar\"}],\"carpet\":[{\"aaxis\":{\"endlinecolor\":\"#2a3f5f\",\"gridcolor\":\"white\",\"linecolor\":\"white\",\"minorgridcolor\":\"white\",\"startlinecolor\":\"#2a3f5f\"},\"baxis\":{\"endlinecolor\":\"#2a3f5f\",\"gridcolor\":\"white\",\"linecolor\":\"white\",\"minorgridcolor\":\"white\",\"startlinecolor\":\"#2a3f5f\"},\"type\":\"carpet\"}],\"choropleth\":[{\"colorbar\":{\"outlinewidth\":0,\"ticks\":\"\"},\"type\":\"choropleth\"}],\"contour\":[{\"colorbar\":{\"outlinewidth\":0,\"ticks\":\"\"},\"colorscale\":[[0.0,\"#0d0887\"],[0.1111111111111111,\"#46039f\"],[0.2222222222222222,\"#7201a8\"],[0.3333333333333333,\"#9c179e\"],[0.4444444444444444,\"#bd3786\"],[0.5555555555555556,\"#d8576b\"],[0.6666666666666666,\"#ed7953\"],[0.7777777777777778,\"#fb9f3a\"],[0.8888888888888888,\"#fdca26\"],[1.0,\"#f0f921\"]],\"type\":\"contour\"}],\"contourcarpet\":[{\"colorbar\":{\"outlinewidth\":0,\"ticks\":\"\"},\"type\":\"contourcarpet\"}],\"heatmap\":[{\"colorbar\":{\"outlinewidth\":0,\"ticks\":\"\"},\"colorscale\":[[0.0,\"#0d0887\"],[0.1111111111111111,\"#46039f\"],[0.2222222222222222,\"#7201a8\"],[0.3333333333333333,\"#9c179e\"],[0.4444444444444444,\"#bd3786\"],[0.5555555555555556,\"#d8576b\"],[0.6666666666666666,\"#ed7953\"],[0.7777777777777778,\"#fb9f3a\"],[0.8888888888888888,\"#fdca26\"],[1.0,\"#f0f921\"]],\"type\":\"heatmap\"}],\"heatmapgl\":[{\"colorbar\":{\"outlinewidth\":0,\"ticks\":\"\"},\"colorscale\":[[0.0,\"#0d0887\"],[0.1111111111111111,\"#46039f\"],[0.2222222222222222,\"#7201a8\"],[0.3333333333333333,\"#9c179e\"],[0.4444444444444444,\"#bd3786\"],[0.5555555555555556,\"#d8576b\"],[0.6666666666666666,\"#ed7953\"],[0.7777777777777778,\"#fb9f3a\"],[0.8888888888888888,\"#fdca26\"],[1.0,\"#f0f921\"]],\"type\":\"heatmapgl\"}],\"histogram\":[{\"marker\":{\"pattern\":{\"fillmode\":\"overlay\",\"size\":10,\"solidity\":0.2}},\"type\":\"histogram\"}],\"histogram2d\":[{\"colorbar\":{\"outlinewidth\":0,\"ticks\":\"\"},\"colorscale\":[[0.0,\"#0d0887\"],[0.1111111111111111,\"#46039f\"],[0.2222222222222222,\"#7201a8\"],[0.3333333333333333,\"#9c179e\"],[0.4444444444444444,\"#bd3786\"],[0.5555555555555556,\"#d8576b\"],[0.6666666666666666,\"#ed7953\"],[0.7777777777777778,\"#fb9f3a\"],[0.8888888888888888,\"#fdca26\"],[1.0,\"#f0f921\"]],\"type\":\"histogram2d\"}],\"histogram2dcontour\":[{\"colorbar\":{\"outlinewidth\":0,\"ticks\":\"\"},\"colorscale\":[[0.0,\"#0d0887\"],[0.1111111111111111,\"#46039f\"],[0.2222222222222222,\"#7201a8\"],[0.3333333333333333,\"#9c179e\"],[0.4444444444444444,\"#bd3786\"],[0.5555555555555556,\"#d8576b\"],[0.6666666666666666,\"#ed7953\"],[0.7777777777777778,\"#fb9f3a\"],[0.8888888888888888,\"#fdca26\"],[1.0,\"#f0f921\"]],\"type\":\"histogram2dcontour\"}],\"mesh3d\":[{\"colorbar\":{\"outlinewidth\":0,\"ticks\":\"\"},\"type\":\"mesh3d\"}],\"parcoords\":[{\"line\":{\"colorbar\":{\"outlinewidth\":0,\"ticks\":\"\"}},\"type\":\"parcoords\"}],\"pie\":[{\"automargin\":true,\"type\":\"pie\"}],\"scatter\":[{\"marker\":{\"colorbar\":{\"outlinewidth\":0,\"ticks\":\"\"}},\"type\":\"scatter\"}],\"scatter3d\":[{\"line\":{\"colorbar\":{\"outlinewidth\":0,\"ticks\":\"\"}},\"marker\":{\"colorbar\":{\"outlinewidth\":0,\"ticks\":\"\"}},\"type\":\"scatter3d\"}],\"scattercarpet\":[{\"marker\":{\"colorbar\":{\"outlinewidth\":0,\"ticks\":\"\"}},\"type\":\"scattercarpet\"}],\"scattergeo\":[{\"marker\":{\"colorbar\":{\"outlinewidth\":0,\"ticks\":\"\"}},\"type\":\"scattergeo\"}],\"scattergl\":[{\"marker\":{\"colorbar\":{\"outlinewidth\":0,\"ticks\":\"\"}},\"type\":\"scattergl\"}],\"scattermapbox\":[{\"marker\":{\"colorbar\":{\"outlinewidth\":0,\"ticks\":\"\"}},\"type\":\"scattermapbox\"}],\"scatterpolar\":[{\"marker\":{\"colorbar\":{\"outlinewidth\":0,\"ticks\":\"\"}},\"type\":\"scatterpolar\"}],\"scatterpolargl\":[{\"marker\":{\"colorbar\":{\"outlinewidth\":0,\"ticks\":\"\"}},\"type\":\"scatterpolargl\"}],\"scatterternary\":[{\"marker\":{\"colorbar\":{\"outlinewidth\":0,\"ticks\":\"\"}},\"type\":\"scatterternary\"}],\"surface\":[{\"colorbar\":{\"outlinewidth\":0,\"ticks\":\"\"},\"colorscale\":[[0.0,\"#0d0887\"],[0.1111111111111111,\"#46039f\"],[0.2222222222222222,\"#7201a8\"],[0.3333333333333333,\"#9c179e\"],[0.4444444444444444,\"#bd3786\"],[0.5555555555555556,\"#d8576b\"],[0.6666666666666666,\"#ed7953\"],[0.7777777777777778,\"#fb9f3a\"],[0.8888888888888888,\"#fdca26\"],[1.0,\"#f0f921\"]],\"type\":\"surface\"}],\"table\":[{\"cells\":{\"fill\":{\"color\":\"#EBF0F8\"},\"line\":{\"color\":\"white\"}},\"header\":{\"fill\":{\"color\":\"#C8D4E3\"},\"line\":{\"color\":\"white\"}},\"type\":\"table\"}]},\"layout\":{\"annotationdefaults\":{\"arrowcolor\":\"#2a3f5f\",\"arrowhead\":0,\"arrowwidth\":1},\"autotypenumbers\":\"strict\",\"coloraxis\":{\"colorbar\":{\"outlinewidth\":0,\"ticks\":\"\"}},\"colorscale\":{\"diverging\":[[0,\"#8e0152\"],[0.1,\"#c51b7d\"],[0.2,\"#de77ae\"],[0.3,\"#f1b6da\"],[0.4,\"#fde0ef\"],[0.5,\"#f7f7f7\"],[0.6,\"#e6f5d0\"],[0.7,\"#b8e186\"],[0.8,\"#7fbc41\"],[0.9,\"#4d9221\"],[1,\"#276419\"]],\"sequential\":[[0.0,\"#0d0887\"],[0.1111111111111111,\"#46039f\"],[0.2222222222222222,\"#7201a8\"],[0.3333333333333333,\"#9c179e\"],[0.4444444444444444,\"#bd3786\"],[0.5555555555555556,\"#d8576b\"],[0.6666666666666666,\"#ed7953\"],[0.7777777777777778,\"#fb9f3a\"],[0.8888888888888888,\"#fdca26\"],[1.0,\"#f0f921\"]],\"sequentialminus\":[[0.0,\"#0d0887\"],[0.1111111111111111,\"#46039f\"],[0.2222222222222222,\"#7201a8\"],[0.3333333333333333,\"#9c179e\"],[0.4444444444444444,\"#bd3786\"],[0.5555555555555556,\"#d8576b\"],[0.6666666666666666,\"#ed7953\"],[0.7777777777777778,\"#fb9f3a\"],[0.8888888888888888,\"#fdca26\"],[1.0,\"#f0f921\"]]},\"colorway\":[\"#636efa\",\"#EF553B\",\"#00cc96\",\"#ab63fa\",\"#FFA15A\",\"#19d3f3\",\"#FF6692\",\"#B6E880\",\"#FF97FF\",\"#FECB52\"],\"font\":{\"color\":\"#2a3f5f\"},\"geo\":{\"bgcolor\":\"white\",\"lakecolor\":\"white\",\"landcolor\":\"#E5ECF6\",\"showlakes\":true,\"showland\":true,\"subunitcolor\":\"white\"},\"hoverlabel\":{\"align\":\"left\"},\"hovermode\":\"closest\",\"mapbox\":{\"style\":\"light\"},\"paper_bgcolor\":\"white\",\"plot_bgcolor\":\"#E5ECF6\",\"polar\":{\"angularaxis\":{\"gridcolor\":\"white\",\"linecolor\":\"white\",\"ticks\":\"\"},\"bgcolor\":\"#E5ECF6\",\"radialaxis\":{\"gridcolor\":\"white\",\"linecolor\":\"white\",\"ticks\":\"\"}},\"scene\":{\"xaxis\":{\"backgroundcolor\":\"#E5ECF6\",\"gridcolor\":\"white\",\"gridwidth\":2,\"linecolor\":\"white\",\"showbackground\":true,\"ticks\":\"\",\"zerolinecolor\":\"white\"},\"yaxis\":{\"backgroundcolor\":\"#E5ECF6\",\"gridcolor\":\"white\",\"gridwidth\":2,\"linecolor\":\"white\",\"showbackground\":true,\"ticks\":\"\",\"zerolinecolor\":\"white\"},\"zaxis\":{\"backgroundcolor\":\"#E5ECF6\",\"gridcolor\":\"white\",\"gridwidth\":2,\"linecolor\":\"white\",\"showbackground\":true,\"ticks\":\"\",\"zerolinecolor\":\"white\"}},\"shapedefaults\":{\"line\":{\"color\":\"#2a3f5f\"}},\"ternary\":{\"aaxis\":{\"gridcolor\":\"white\",\"linecolor\":\"white\",\"ticks\":\"\"},\"baxis\":{\"gridcolor\":\"white\",\"linecolor\":\"white\",\"ticks\":\"\"},\"bgcolor\":\"#E5ECF6\",\"caxis\":{\"gridcolor\":\"white\",\"linecolor\":\"white\",\"ticks\":\"\"}},\"title\":{\"x\":0.05},\"xaxis\":{\"automargin\":true,\"gridcolor\":\"white\",\"linecolor\":\"white\",\"ticks\":\"\",\"title\":{\"standoff\":15},\"zerolinecolor\":\"white\",\"zerolinewidth\":2},\"yaxis\":{\"automargin\":true,\"gridcolor\":\"white\",\"linecolor\":\"white\",\"ticks\":\"\",\"title\":{\"standoff\":15},\"zerolinecolor\":\"white\",\"zerolinewidth\":2}}},\"title\":{\"text\":\"Probability of event\"}},                        {\"responsive\": true}                    ).then(function(){\n                            \nvar gd = document.getElementById('58c27c5f-5430-4a05-9b24-0b241e0a0b5a');\nvar x = new MutationObserver(function (mutations, observer) {{\n        var display = window.getComputedStyle(gd).display;\n        if (!display || display === 'none') {{\n            console.log([gd, 'removed!']);\n            Plotly.purge(gd);\n            observer.disconnect();\n        }}\n}});\n\n// Listen for the removal of the full notebook cells\nvar notebookContainer = gd.closest('#notebook-container');\nif (notebookContainer) {{\n    x.observe(notebookContainer, {childList: true});\n}}\n\n// Listen for the clearing of the current output cell\nvar outputEl = gd.closest('.output');\nif (outputEl) {{\n    x.observe(outputEl, {childList: true});\n}}\n\n                        })                };                });            </script>        </div>"
     },
     "metadata": {},
     "output_type": "display_data"
    }
   ],
   "source": [
    "figure_x = reserved_data[condition]['to date']\n",
    "figure_x_text = figure_x.map(lambda e: f'[{(e + DATE_TARGET_OFFSET).strftime(\"%d.%m.%Y\")}..{(e + DATE_TARGET_OFFSET + DATE_TARGET_DURATION).strftime(\"%d.%m.%Y\")}]')\n",
    "fig = go.Figure()\n",
    "fig.add_trace(go.Scatter(\n",
    "    x=figure_x,\n",
    "    y=1-result_proba[:,0],\n",
    "    mode='lines',\n",
    "    stackgroup='one',\n",
    "    line=dict(width=.25),\n",
    "    groupnorm='percent',\n",
    "    name='No event',\n",
    "    text=figure_x_text\n",
    "))\n",
    "fig.add_trace(go.Scatter(\n",
    "    x=figure_x,\n",
    "    y=result_proba[:,0],\n",
    "    mode='lines',\n",
    "    stackgroup='one',\n",
    "    line=dict(width=.25),\n",
    "    name='Event predicted',\n",
    "    text=figure_x_text\n",
    "))\n",
    "fig.update_layout(\n",
    "    title='Probability of event',\n",
    "    # width=500, height=500\n",
    ")\n",
    "fig.show()"
   ],
   "metadata": {
    "collapsed": false,
    "pycharm": {
     "name": "#%%\n"
    }
   }
  },
  {
   "cell_type": "code",
   "execution_count": 474,
   "outputs": [],
   "source": [
    "result = pd.DataFrame(reserved_data[condition])"
   ],
   "metadata": {
    "collapsed": false,
    "pycharm": {
     "name": "#%%\n"
    }
   }
  },
  {
   "cell_type": "code",
   "execution_count": 475,
   "outputs": [
    {
     "data": {
      "text/plain": "Series([], Name: to date, dtype: object)"
     },
     "execution_count": 475,
     "metadata": {},
     "output_type": "execute_result"
    }
   ],
   "source": [
    "result['predicted'] = result_pred\n",
    "result[(result['predicted'] > 0)]['to date'].map(\n",
    "    lambda date:\n",
    "    f'K >= {STARTING_EVENT_CLASS}; Dates [{(date + DATE_TARGET_OFFSET).strftime(\"%d.%m.%Y\")}..{(date + DATE_TARGET_OFFSET + DATE_TARGET_DURATION).strftime(\"%d.%m.%Y\")}]'\n",
    ")"
   ],
   "metadata": {
    "collapsed": false,
    "pycharm": {
     "name": "#%%\n"
    }
   }
  },
  {
   "cell_type": "code",
   "execution_count": 475,
   "outputs": [],
   "source": [],
   "metadata": {
    "collapsed": false,
    "pycharm": {
     "name": "#%%\n"
    }
   }
  }
 ],
 "metadata": {
  "kernelspec": {
   "display_name": "Python 3",
   "language": "python",
   "name": "python3"
  },
  "language_info": {
   "codemirror_mode": {
    "name": "ipython",
    "version": 2
   },
   "file_extension": ".py",
   "mimetype": "text/x-python",
   "name": "python",
   "nbconvert_exporter": "python",
   "pygments_lexer": "ipython2",
   "version": "2.7.6"
  }
 },
 "nbformat": 4,
 "nbformat_minor": 0
}