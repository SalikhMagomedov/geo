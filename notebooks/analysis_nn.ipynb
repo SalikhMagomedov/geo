{
 "cells": [
  {
   "cell_type": "code",
   "execution_count": 2,
   "outputs": [],
   "source": [
    "import pandas as pandas\n",
    "\n",
    "import file_helper\n",
    "\n",
    "geochem_data = pandas.read_excel(file_helper.get_geo_chem_file_path(), 'dubki_h_tau')"
   ],
   "metadata": {
    "collapsed": false,
    "pycharm": {
     "name": "#%%\n"
    }
   }
  },
  {
   "cell_type": "code",
   "execution_count": 3,
   "outputs": [
    {
     "data": {
      "text/plain": "      from date    to date  events    ascend   maximum   descend   minimum\n0    2004-01-01 2004-12-31      41  2.021409  0.846639  1.065538  0.686655\n1    2004-01-02 2005-01-01      42  1.973066  0.901546  1.040415  0.670327\n2    2004-01-03 2005-01-02      42  1.973066  0.901546  1.040415  0.670327\n3    2004-01-04 2005-01-03      42  1.973066  0.901546  1.040415  0.670327\n4    2004-01-05 2005-01-04      42  1.973066  0.901546  1.040415  0.670327\n...         ...        ...     ...       ...       ...       ...       ...\n5728 2020-12-28 2021-12-27     148  1.349174  0.986524  0.957492  0.864184\n5729 2020-12-29 2021-12-28     148  1.299934  1.017961  0.946520  0.855493\n5730 2020-12-30 2021-12-29     149  1.291307  1.030417  0.940153  0.849907\n5731 2020-12-31 2021-12-30     150  1.282681  1.042874  0.956106  0.827372\n5732 2021-01-01 2021-12-31     150  1.282681  1.056310  0.956106  0.802483\n\n[5733 rows x 7 columns]",
      "text/html": "<div>\n<style scoped>\n    .dataframe tbody tr th:only-of-type {\n        vertical-align: middle;\n    }\n\n    .dataframe tbody tr th {\n        vertical-align: top;\n    }\n\n    .dataframe thead th {\n        text-align: right;\n    }\n</style>\n<table border=\"1\" class=\"dataframe\">\n  <thead>\n    <tr style=\"text-align: right;\">\n      <th></th>\n      <th>from date</th>\n      <th>to date</th>\n      <th>events</th>\n      <th>ascend</th>\n      <th>maximum</th>\n      <th>descend</th>\n      <th>minimum</th>\n    </tr>\n  </thead>\n  <tbody>\n    <tr>\n      <th>0</th>\n      <td>2004-01-01</td>\n      <td>2004-12-31</td>\n      <td>41</td>\n      <td>2.021409</td>\n      <td>0.846639</td>\n      <td>1.065538</td>\n      <td>0.686655</td>\n    </tr>\n    <tr>\n      <th>1</th>\n      <td>2004-01-02</td>\n      <td>2005-01-01</td>\n      <td>42</td>\n      <td>1.973066</td>\n      <td>0.901546</td>\n      <td>1.040415</td>\n      <td>0.670327</td>\n    </tr>\n    <tr>\n      <th>2</th>\n      <td>2004-01-03</td>\n      <td>2005-01-02</td>\n      <td>42</td>\n      <td>1.973066</td>\n      <td>0.901546</td>\n      <td>1.040415</td>\n      <td>0.670327</td>\n    </tr>\n    <tr>\n      <th>3</th>\n      <td>2004-01-04</td>\n      <td>2005-01-03</td>\n      <td>42</td>\n      <td>1.973066</td>\n      <td>0.901546</td>\n      <td>1.040415</td>\n      <td>0.670327</td>\n    </tr>\n    <tr>\n      <th>4</th>\n      <td>2004-01-05</td>\n      <td>2005-01-04</td>\n      <td>42</td>\n      <td>1.973066</td>\n      <td>0.901546</td>\n      <td>1.040415</td>\n      <td>0.670327</td>\n    </tr>\n    <tr>\n      <th>...</th>\n      <td>...</td>\n      <td>...</td>\n      <td>...</td>\n      <td>...</td>\n      <td>...</td>\n      <td>...</td>\n      <td>...</td>\n    </tr>\n    <tr>\n      <th>5728</th>\n      <td>2020-12-28</td>\n      <td>2021-12-27</td>\n      <td>148</td>\n      <td>1.349174</td>\n      <td>0.986524</td>\n      <td>0.957492</td>\n      <td>0.864184</td>\n    </tr>\n    <tr>\n      <th>5729</th>\n      <td>2020-12-29</td>\n      <td>2021-12-28</td>\n      <td>148</td>\n      <td>1.299934</td>\n      <td>1.017961</td>\n      <td>0.946520</td>\n      <td>0.855493</td>\n    </tr>\n    <tr>\n      <th>5730</th>\n      <td>2020-12-30</td>\n      <td>2021-12-29</td>\n      <td>149</td>\n      <td>1.291307</td>\n      <td>1.030417</td>\n      <td>0.940153</td>\n      <td>0.849907</td>\n    </tr>\n    <tr>\n      <th>5731</th>\n      <td>2020-12-31</td>\n      <td>2021-12-30</td>\n      <td>150</td>\n      <td>1.282681</td>\n      <td>1.042874</td>\n      <td>0.956106</td>\n      <td>0.827372</td>\n    </tr>\n    <tr>\n      <th>5732</th>\n      <td>2021-01-01</td>\n      <td>2021-12-31</td>\n      <td>150</td>\n      <td>1.282681</td>\n      <td>1.056310</td>\n      <td>0.956106</td>\n      <td>0.802483</td>\n    </tr>\n  </tbody>\n</table>\n<p>5733 rows × 7 columns</p>\n</div>"
     },
     "execution_count": 3,
     "metadata": {},
     "output_type": "execute_result"
    }
   ],
   "source": [
    "geochem_data"
   ],
   "metadata": {
    "collapsed": false,
    "pycharm": {
     "name": "#%%\n"
    }
   }
  }
 ],
 "metadata": {
  "kernelspec": {
   "display_name": "Python 3",
   "language": "python",
   "name": "python3"
  },
  "language_info": {
   "codemirror_mode": {
    "name": "ipython",
    "version": 2
   },
   "file_extension": ".py",
   "mimetype": "text/x-python",
   "name": "python",
   "nbconvert_exporter": "python",
   "pygments_lexer": "ipython2",
   "version": "2.7.6"
  }
 },
 "nbformat": 4,
 "nbformat_minor": 0
}