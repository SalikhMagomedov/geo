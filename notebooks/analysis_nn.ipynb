{
 "cells": [
  {
   "cell_type": "code",
   "execution_count": 83,
   "outputs": [],
   "source": [
    "from datetime import datetime as dt\n",
    "\n",
    "import keras.utils.vis_utils\n",
    "import numpy as np\n",
    "import pandas as pd\n",
    "from IPython.core.display_functions import display\n",
    "from dateutil.relativedelta import relativedelta\n",
    "from keras import Sequential, layers, activations, losses, metrics\n",
    "from keras.api.keras import optimizers\n",
    "\n",
    "import file_helper\n",
    "import tensorflow as tf\n",
    "import plotly.graph_objects as go"
   ],
   "metadata": {
    "collapsed": false,
    "pycharm": {
     "name": "#%%\n"
    }
   }
  },
  {
   "cell_type": "code",
   "execution_count": 2,
   "outputs": [
    {
     "data": {
      "text/plain": "[PhysicalDevice(name='/physical_device:GPU:0', device_type='GPU')]"
     },
     "execution_count": 2,
     "metadata": {},
     "output_type": "execute_result"
    }
   ],
   "source": [
    "tf.config.list_physical_devices('GPU')"
   ],
   "metadata": {
    "collapsed": false,
    "pycharm": {
     "name": "#%%\n"
    }
   }
  },
  {
   "cell_type": "code",
   "execution_count": 3,
   "outputs": [],
   "source": [
    "DATE_FORMAT = '%d.%m.%Y'"
   ],
   "metadata": {
    "collapsed": false,
    "pycharm": {
     "name": "#%%\n"
    }
   }
  },
  {
   "cell_type": "code",
   "execution_count": 4,
   "outputs": [],
   "source": [
    "def convert_string_to_date(string_date: str) -> dt:\n",
    "    return dt.strptime(string_date, DATE_FORMAT)\n",
    "\n",
    "def normalize_columns_in_dataframe(data: pd.DataFrame, columns: list[str] = None) -> None:\n",
    "    data_columns = data[columns]\n",
    "    min_values = data_columns.min()\n",
    "    max_values = data_columns.max()\n",
    "    data[columns] = (data_columns - min_values) / (max_values - min_values)"
   ],
   "metadata": {
    "collapsed": false,
    "pycharm": {
     "name": "#%%\n"
    }
   }
  },
  {
   "cell_type": "code",
   "execution_count": 5,
   "outputs": [],
   "source": [
    "geochem_data = pd.read_excel(file_helper.get_geo_chem_file_path(), 'dubki_h_tau')"
   ],
   "metadata": {
    "collapsed": false,
    "pycharm": {
     "name": "#%%\n"
    }
   }
  },
  {
   "cell_type": "code",
   "execution_count": 6,
   "outputs": [],
   "source": [
    "events_catalog_data = pd.read_csv(file_helper.get_events_catalog_file_path(), sep=';').iloc[10000:]\n",
    "events_catalog_data['Date'] = pd.to_datetime(events_catalog_data['Date'], format=DATE_FORMAT)"
   ],
   "metadata": {
    "collapsed": false,
    "pycharm": {
     "name": "#%%\n"
    }
   }
  },
  {
   "cell_type": "code",
   "execution_count": 62,
   "outputs": [],
   "source": [
    "DATE_TARGET_OFFSET = relativedelta(years=1)\n",
    "DATE_TARGET_DURATION = relativedelta(months=3)\n",
    "STARTING_EVENT_CLASS = 13"
   ],
   "metadata": {
    "collapsed": false,
    "pycharm": {
     "name": "#%%\n"
    }
   }
  },
  {
   "cell_type": "code",
   "execution_count": 63,
   "outputs": [],
   "source": [
    "preprocessed_data = pd.DataFrame(geochem_data)\n",
    "\n",
    "normalize_columns_in_dataframe(preprocessed_data, ['events', 'ascend', 'maximum', 'descend', 'minimum'])\n",
    "\n",
    "breakpoint_date = convert_string_to_date('31.12.2021') - DATE_TARGET_OFFSET - DATE_TARGET_DURATION\n",
    "reserved_data = preprocessed_data[breakpoint_date < preprocessed_data['to date']].drop(['from date'], axis=1)\n",
    "preprocessed_data = preprocessed_data[preprocessed_data['to date'] <= breakpoint_date]\n",
    "preprocessed_data['target'] = preprocessed_data['to date'].map(lambda date: 1 if len(events_catalog_data[\n",
    "    ((date + DATE_TARGET_OFFSET) <= events_catalog_data['Date'])\n",
    "    & (events_catalog_data['Date'] <= (date + DATE_TARGET_OFFSET + DATE_TARGET_DURATION))\n",
    "    & (STARTING_EVENT_CLASS <= events_catalog_data['Class'])\n",
    "]) > 0 else 0)\n",
    "preprocessed_data = preprocessed_data.drop(['from date', 'to date'], axis=1)"
   ],
   "metadata": {
    "collapsed": false,
    "pycharm": {
     "name": "#%%\n"
    }
   }
  },
  {
   "cell_type": "code",
   "execution_count": 64,
   "outputs": [
    {
     "data": {
      "text/plain": "        events    ascend   maximum   descend   minimum  target\n5270  0.481203  0.421194  0.338960  0.697623  0.235527       0\n5271  0.473684  0.451315  0.335375  0.705696  0.223079       0\n5272  0.473684  0.451315  0.316563  0.684296  0.246268       0\n5273  0.473684  0.426935  0.323147  0.684296  0.250121       0\n5274  0.473684  0.426935  0.323147  0.684296  0.250121       0",
      "text/html": "<div>\n<style scoped>\n    .dataframe tbody tr th:only-of-type {\n        vertical-align: middle;\n    }\n\n    .dataframe tbody tr th {\n        vertical-align: top;\n    }\n\n    .dataframe thead th {\n        text-align: right;\n    }\n</style>\n<table border=\"1\" class=\"dataframe\">\n  <thead>\n    <tr style=\"text-align: right;\">\n      <th></th>\n      <th>events</th>\n      <th>ascend</th>\n      <th>maximum</th>\n      <th>descend</th>\n      <th>minimum</th>\n      <th>target</th>\n    </tr>\n  </thead>\n  <tbody>\n    <tr>\n      <th>5270</th>\n      <td>0.481203</td>\n      <td>0.421194</td>\n      <td>0.338960</td>\n      <td>0.697623</td>\n      <td>0.235527</td>\n      <td>0</td>\n    </tr>\n    <tr>\n      <th>5271</th>\n      <td>0.473684</td>\n      <td>0.451315</td>\n      <td>0.335375</td>\n      <td>0.705696</td>\n      <td>0.223079</td>\n      <td>0</td>\n    </tr>\n    <tr>\n      <th>5272</th>\n      <td>0.473684</td>\n      <td>0.451315</td>\n      <td>0.316563</td>\n      <td>0.684296</td>\n      <td>0.246268</td>\n      <td>0</td>\n    </tr>\n    <tr>\n      <th>5273</th>\n      <td>0.473684</td>\n      <td>0.426935</td>\n      <td>0.323147</td>\n      <td>0.684296</td>\n      <td>0.250121</td>\n      <td>0</td>\n    </tr>\n    <tr>\n      <th>5274</th>\n      <td>0.473684</td>\n      <td>0.426935</td>\n      <td>0.323147</td>\n      <td>0.684296</td>\n      <td>0.250121</td>\n      <td>0</td>\n    </tr>\n  </tbody>\n</table>\n</div>"
     },
     "metadata": {},
     "output_type": "display_data"
    },
    {
     "data": {
      "text/plain": "        to date    events    ascend   maximum   descend   minimum\n5275 2020-10-01  0.481203  0.421194  0.343562  0.697623  0.231859\n5276 2020-10-02  0.488722  0.415862  0.352916  0.689861  0.230584\n5277 2020-10-03  0.488722  0.415862  0.347748  0.689861  0.234706\n5278 2020-10-04  0.496241  0.463999  0.341392  0.682098  0.225224\n5279 2020-10-05  0.518797  0.446823  0.378052  0.660053  0.213775",
      "text/html": "<div>\n<style scoped>\n    .dataframe tbody tr th:only-of-type {\n        vertical-align: middle;\n    }\n\n    .dataframe tbody tr th {\n        vertical-align: top;\n    }\n\n    .dataframe thead th {\n        text-align: right;\n    }\n</style>\n<table border=\"1\" class=\"dataframe\">\n  <thead>\n    <tr style=\"text-align: right;\">\n      <th></th>\n      <th>to date</th>\n      <th>events</th>\n      <th>ascend</th>\n      <th>maximum</th>\n      <th>descend</th>\n      <th>minimum</th>\n    </tr>\n  </thead>\n  <tbody>\n    <tr>\n      <th>5275</th>\n      <td>2020-10-01</td>\n      <td>0.481203</td>\n      <td>0.421194</td>\n      <td>0.343562</td>\n      <td>0.697623</td>\n      <td>0.231859</td>\n    </tr>\n    <tr>\n      <th>5276</th>\n      <td>2020-10-02</td>\n      <td>0.488722</td>\n      <td>0.415862</td>\n      <td>0.352916</td>\n      <td>0.689861</td>\n      <td>0.230584</td>\n    </tr>\n    <tr>\n      <th>5277</th>\n      <td>2020-10-03</td>\n      <td>0.488722</td>\n      <td>0.415862</td>\n      <td>0.347748</td>\n      <td>0.689861</td>\n      <td>0.234706</td>\n    </tr>\n    <tr>\n      <th>5278</th>\n      <td>2020-10-04</td>\n      <td>0.496241</td>\n      <td>0.463999</td>\n      <td>0.341392</td>\n      <td>0.682098</td>\n      <td>0.225224</td>\n    </tr>\n    <tr>\n      <th>5279</th>\n      <td>2020-10-05</td>\n      <td>0.518797</td>\n      <td>0.446823</td>\n      <td>0.378052</td>\n      <td>0.660053</td>\n      <td>0.213775</td>\n    </tr>\n  </tbody>\n</table>\n</div>"
     },
     "metadata": {},
     "output_type": "display_data"
    }
   ],
   "source": [
    "display(\n",
    "    preprocessed_data.tail(),\n",
    "    reserved_data.head()\n",
    ")"
   ],
   "metadata": {
    "collapsed": false,
    "pycharm": {
     "name": "#%%\n"
    }
   }
  },
  {
   "cell_type": "code",
   "execution_count": 65,
   "outputs": [],
   "source": [
    "x = preprocessed_data.drop(['target'], axis=1)\n",
    "y = preprocessed_data['target']"
   ],
   "metadata": {
    "collapsed": false,
    "pycharm": {
     "name": "#%%\n"
    }
   }
  },
  {
   "cell_type": "code",
   "execution_count": 66,
   "outputs": [],
   "source": [
    "RANDOM_STATE = 42\n",
    "TRAIN_FRAC = .8"
   ],
   "metadata": {
    "collapsed": false,
    "pycharm": {
     "name": "#%%\n"
    }
   }
  },
  {
   "cell_type": "code",
   "execution_count": 67,
   "outputs": [],
   "source": [
    "x_train, y_train = x.sample(frac=TRAIN_FRAC, random_state=RANDOM_STATE), y.sample(frac=TRAIN_FRAC, random_state=RANDOM_STATE)\n",
    "x_test, y_test = x.drop(x_train.index), y.drop(y_train.index)"
   ],
   "metadata": {
    "collapsed": false,
    "pycharm": {
     "name": "#%%\n"
    }
   }
  },
  {
   "cell_type": "code",
   "execution_count": 249,
   "outputs": [],
   "source": [
    "model = Sequential([\n",
    "    layers.Dense(64, input_shape=(5,), name='dense_0'),\n",
    "    layers.Dense(32, activation=activations.tanh, name='dense_1'),\n",
    "    layers.Dense(16, activation=activations.tanh, name='dense_2'),\n",
    "    layers.Dense(1, name='output')\n",
    "])"
   ],
   "metadata": {
    "collapsed": false,
    "pycharm": {
     "name": "#%%\n"
    }
   }
  },
  {
   "cell_type": "code",
   "execution_count": 250,
   "outputs": [],
   "source": [
    "model.compile(\n",
    "    optimizer=optimizers.Adam(name='adam'),\n",
    "    loss=losses.BinaryCrossentropy(name='binary_crossentropy', from_logits=True),\n",
    "    metrics=[metrics.BinaryAccuracy(name='accuracy')]\n",
    ")"
   ],
   "metadata": {
    "collapsed": false,
    "pycharm": {
     "name": "#%%\n"
    }
   }
  },
  {
   "cell_type": "code",
   "execution_count": 251,
   "outputs": [],
   "source": [
    "history = model.fit(\n",
    "    x_train, y_train,\n",
    "    epochs=100,\n",
    "    validation_split=.2,\n",
    "    verbose=0\n",
    ")"
   ],
   "metadata": {
    "collapsed": false,
    "pycharm": {
     "name": "#%%\n"
    }
   }
  },
  {
   "cell_type": "code",
   "execution_count": 252,
   "outputs": [
    {
     "name": "stdout",
     "output_type": "stream",
     "text": [
      "Model: \"sequential_16\"\n",
      "_________________________________________________________________\n",
      " Layer (type)                Output Shape              Param #   \n",
      "=================================================================\n",
      " dense_0 (Dense)             (None, 64)                384       \n",
      "                                                                 \n",
      " dense_1 (Dense)             (None, 32)                2080      \n",
      "                                                                 \n",
      " dense_2 (Dense)             (None, 16)                528       \n",
      "                                                                 \n",
      " output (Dense)              (None, 1)                 17        \n",
      "                                                                 \n",
      "=================================================================\n",
      "Total params: 3,009\n",
      "Trainable params: 3,009\n",
      "Non-trainable params: 0\n",
      "_________________________________________________________________\n"
     ]
    }
   ],
   "source": [
    "model.summary()"
   ],
   "metadata": {
    "collapsed": false,
    "pycharm": {
     "name": "#%%\n"
    }
   }
  },
  {
   "cell_type": "code",
   "execution_count": 253,
   "outputs": [
    {
     "data": {
      "image/png": "[encoded data removed]",
      "text/plain": "<IPython.core.display.Image object>"
     },
     "execution_count": 253,
     "metadata": {},
     "output_type": "execute_result"
    }
   ],
   "source": [
    "keras.utils.vis_utils.plot_model(model, show_shapes=True)"
   ],
   "metadata": {
    "collapsed": false,
    "pycharm": {
     "name": "#%%\n"
    }
   }
  },
  {
   "cell_type": "code",
   "execution_count": 254,
   "outputs": [
    {
     "data": {
      "text/plain": "array([[-5.540551 ],\n       [-5.540551 ],\n       [-5.5571327],\n       ...,\n       [-4.8378644],\n       [-5.876715 ],\n       [-6.5450735]], dtype=float32)"
     },
     "execution_count": 254,
     "metadata": {},
     "output_type": "execute_result"
    }
   ],
   "source": [
    "model.predict(x_test)"
   ],
   "metadata": {
    "collapsed": false,
    "pycharm": {
     "name": "#%%\n"
    }
   }
  },
  {
   "cell_type": "code",
   "execution_count": 255,
   "outputs": [
    {
     "name": "stdout",
     "output_type": "stream",
     "text": [
      "33/33 [==============================] - 0s 12ms/step - loss: 0.1603 - accuracy: 0.9346\n"
     ]
    },
    {
     "data": {
      "text/plain": "[0.16029009222984314, 0.9345971345901489]"
     },
     "execution_count": 255,
     "metadata": {},
     "output_type": "execute_result"
    }
   ],
   "source": [
    "model.evaluate(x_test, y_test)"
   ],
   "metadata": {
    "collapsed": false,
    "pycharm": {
     "name": "#%%\n"
    }
   }
  },
  {
   "cell_type": "code",
   "execution_count": 256,
   "outputs": [
    {
     "data": {
      "text/plain": "[0.920616090297699,\n 0.9241706132888794,\n 0.9111374616622925,\n 0.920616090297699,\n 0.9253554344177246]"
     },
     "execution_count": 256,
     "metadata": {},
     "output_type": "execute_result"
    }
   ],
   "source": [
    "history.history['val_accuracy'][-5:]"
   ],
   "metadata": {
    "collapsed": false,
    "pycharm": {
     "name": "#%%\n"
    }
   }
  },
  {
   "cell_type": "code",
   "execution_count": 257,
   "outputs": [
    {
     "data": {
      "text/plain": "        to date    events    ascend   maximum   descend   minimum\n5275 2020-10-01  0.481203  0.421194  0.343562  0.697623  0.231859\n5276 2020-10-02  0.488722  0.415862  0.352916  0.689861  0.230584\n5277 2020-10-03  0.488722  0.415862  0.347748  0.689861  0.234706\n5278 2020-10-04  0.496241  0.463999  0.341392  0.682098  0.225224\n5279 2020-10-05  0.518797  0.446823  0.378052  0.660053  0.213775",
      "text/html": "<div>\n<style scoped>\n    .dataframe tbody tr th:only-of-type {\n        vertical-align: middle;\n    }\n\n    .dataframe tbody tr th {\n        vertical-align: top;\n    }\n\n    .dataframe thead th {\n        text-align: right;\n    }\n</style>\n<table border=\"1\" class=\"dataframe\">\n  <thead>\n    <tr style=\"text-align: right;\">\n      <th></th>\n      <th>to date</th>\n      <th>events</th>\n      <th>ascend</th>\n      <th>maximum</th>\n      <th>descend</th>\n      <th>minimum</th>\n    </tr>\n  </thead>\n  <tbody>\n    <tr>\n      <th>5275</th>\n      <td>2020-10-01</td>\n      <td>0.481203</td>\n      <td>0.421194</td>\n      <td>0.343562</td>\n      <td>0.697623</td>\n      <td>0.231859</td>\n    </tr>\n    <tr>\n      <th>5276</th>\n      <td>2020-10-02</td>\n      <td>0.488722</td>\n      <td>0.415862</td>\n      <td>0.352916</td>\n      <td>0.689861</td>\n      <td>0.230584</td>\n    </tr>\n    <tr>\n      <th>5277</th>\n      <td>2020-10-03</td>\n      <td>0.488722</td>\n      <td>0.415862</td>\n      <td>0.347748</td>\n      <td>0.689861</td>\n      <td>0.234706</td>\n    </tr>\n    <tr>\n      <th>5278</th>\n      <td>2020-10-04</td>\n      <td>0.496241</td>\n      <td>0.463999</td>\n      <td>0.341392</td>\n      <td>0.682098</td>\n      <td>0.225224</td>\n    </tr>\n    <tr>\n      <th>5279</th>\n      <td>2020-10-05</td>\n      <td>0.518797</td>\n      <td>0.446823</td>\n      <td>0.378052</td>\n      <td>0.660053</td>\n      <td>0.213775</td>\n    </tr>\n  </tbody>\n</table>\n</div>"
     },
     "execution_count": 257,
     "metadata": {},
     "output_type": "execute_result"
    }
   ],
   "source": [
    "reserved_data.head()"
   ],
   "metadata": {
    "collapsed": false,
    "pycharm": {
     "name": "#%%\n"
    }
   }
  },
  {
   "cell_type": "code",
   "execution_count": 258,
   "outputs": [],
   "source": [
    "condition = (convert_string_to_date('1.1.2021') <= reserved_data['to date'])\n",
    "\n",
    "X_pred = reserved_data[condition].drop(['to date'], axis=1)\n",
    "\n",
    "# X_pred = processed_data[condition]\n",
    "\n",
    "result_pred = model.predict(X_pred)\n",
    "result_proba = tf.nn.sigmoid(result_pred).numpy()"
   ],
   "metadata": {
    "collapsed": false,
    "pycharm": {
     "name": "#%%\n"
    }
   }
  },
  {
   "cell_type": "code",
   "execution_count": 259,
   "outputs": [
    {
     "data": {
      "text/plain": "5367   2021-01-01\n5368   2021-01-02\n5369   2021-01-03\n5370   2021-01-04\n5371   2021-01-05\n          ...    \n5728   2021-12-27\n5729   2021-12-28\n5730   2021-12-29\n5731   2021-12-30\n5732   2021-12-31\nName: to date, Length: 366, dtype: datetime64[ns]"
     },
     "execution_count": 259,
     "metadata": {},
     "output_type": "execute_result"
    }
   ],
   "source": [
    "reserved_data[condition]['to date']"
   ],
   "metadata": {
    "collapsed": false,
    "pycharm": {
     "name": "#%%\n"
    }
   }
  },
  {
   "cell_type": "code",
   "execution_count": 260,
   "outputs": [
    {
     "data": {
      "application/vnd.plotly.v1+json": {
       "data": [
        {
         "groupnorm": "percent",
         "line": {
          "width": 0.25
         },
         "mode": "lines",
         "name": "No event",
         "stackgroup": "one",
         "text": [
          "[01.01.2022..01.04.2022]",
          "[02.01.2022..02.04.2022]",
          "[03.01.2022..03.04.2022]",
          "[04.01.2022..04.04.2022]",
          "[05.01.2022..05.04.2022]",
          "[06.01.2022..06.04.2022]",
          "[07.01.2022..07.04.2022]",
          "[08.01.2022..08.04.2022]",
          "[09.01.2022..09.04.2022]",
          "[10.01.2022..10.04.2022]",
          "[11.01.2022..11.04.2022]",
          "[12.01.2022..12.04.2022]",
          "[13.01.2022..13.04.2022]",
          "[14.01.2022..14.04.2022]",
          "[15.01.2022..15.04.2022]",
          "[16.01.2022..16.04.2022]",
          "[17.01.2022..17.04.2022]",
          "[18.01.2022..18.04.2022]",
          "[19.01.2022..19.04.2022]",
          "[20.01.2022..20.04.2022]",
          "[21.01.2022..21.04.2022]",
          "[22.01.2022..22.04.2022]",
          "[23.01.2022..23.04.2022]",
          "[24.01.2022..24.04.2022]",
          "[25.01.2022..25.04.2022]",
          "[26.01.2022..26.04.2022]",
          "[27.01.2022..27.04.2022]",
          "[28.01.2022..28.04.2022]",
          "[29.01.2022..29.04.2022]",
          "[30.01.2022..30.04.2022]",
          "[31.01.2022..30.04.2022]",
          "[01.02.2022..01.05.2022]",
          "[02.02.2022..02.05.2022]",
          "[03.02.2022..03.05.2022]",
          "[04.02.2022..04.05.2022]",
          "[05.02.2022..05.05.2022]",
          "[06.02.2022..06.05.2022]",
          "[07.02.2022..07.05.2022]",
          "[08.02.2022..08.05.2022]",
          "[09.02.2022..09.05.2022]",
          "[10.02.2022..10.05.2022]",
          "[11.02.2022..11.05.2022]",
          "[12.02.2022..12.05.2022]",
          "[13.02.2022..13.05.2022]",
          "[14.02.2022..14.05.2022]",
          "[15.02.2022..15.05.2022]",
          "[16.02.2022..16.05.2022]",
          "[17.02.2022..17.05.2022]",
          "[18.02.2022..18.05.2022]",
          "[19.02.2022..19.05.2022]",
          "[20.02.2022..20.05.2022]",
          "[21.02.2022..21.05.2022]",
          "[22.02.2022..22.05.2022]",
          "[23.02.2022..23.05.2022]",
          "[24.02.2022..24.05.2022]",
          "[25.02.2022..25.05.2022]",
          "[26.02.2022..26.05.2022]",
          "[27.02.2022..27.05.2022]",
          "[27.02.2022..27.05.2022]",
          "[28.02.2022..28.05.2022]",
          "[01.03.2022..01.06.2022]",
          "[02.03.2022..02.06.2022]",
          "[03.03.2022..03.06.2022]",
          "[04.03.2022..04.06.2022]",
          "[05.03.2022..05.06.2022]",
          "[06.03.2022..06.06.2022]",
          "[07.03.2022..07.06.2022]",
          "[08.03.2022..08.06.2022]",
          "[09.03.2022..09.06.2022]",
          "[10.03.2022..10.06.2022]",
          "[11.03.2022..11.06.2022]",
          "[12.03.2022..12.06.2022]",
          "[13.03.2022..13.06.2022]",
          "[14.03.2022..14.06.2022]",
          "[15.03.2022..15.06.2022]",
          "[16.03.2022..16.06.2022]",
          "[17.03.2022..17.06.2022]",
          "[18.03.2022..18.06.2022]",
          "[19.03.2022..19.06.2022]",
          "[20.03.2022..20.06.2022]",
          "[21.03.2022..21.06.2022]",
          "[22.03.2022..22.06.2022]",
          "[23.03.2022..23.06.2022]",
          "[24.03.2022..24.06.2022]",
          "[25.03.2022..25.06.2022]",
          "[26.03.2022..26.06.2022]",
          "[27.03.2022..27.06.2022]",
          "[28.03.2022..28.06.2022]",
          "[29.03.2022..29.06.2022]",
          "[30.03.2022..30.06.2022]",
          "[31.03.2022..30.06.2022]",
          "[01.04.2022..01.07.2022]",
          "[02.04.2022..02.07.2022]",
          "[03.04.2022..03.07.2022]",
          "[04.04.2022..04.07.2022]",
          "[05.04.2022..05.07.2022]",
          "[06.04.2022..06.07.2022]",
          "[07.04.2022..07.07.2022]",
          "[08.04.2022..08.07.2022]",
          "[09.04.2022..09.07.2022]",
          "[10.04.2022..10.07.2022]",
          "[11.04.2022..11.07.2022]",
          "[12.04.2022..12.07.2022]",
          "[13.04.2022..13.07.2022]",
          "[14.04.2022..14.07.2022]",
          "[15.04.2022..15.07.2022]",
          "[16.04.2022..16.07.2022]",
          "[17.04.2022..17.07.2022]",
          "[18.04.2022..18.07.2022]",
          "[19.04.2022..19.07.2022]",
          "[20.04.2022..20.07.2022]",
          "[21.04.2022..21.07.2022]",
          "[22.04.2022..22.07.2022]",
          "[23.04.2022..23.07.2022]",
          "[24.04.2022..24.07.2022]",
          "[25.04.2022..25.07.2022]",
          "[26.04.2022..26.07.2022]",
          "[27.04.2022..27.07.2022]",
          "[28.04.2022..28.07.2022]",
          "[29.04.2022..29.07.2022]",
          "[30.04.2022..30.07.2022]",
          "[01.05.2022..01.08.2022]",
          "[02.05.2022..02.08.2022]",
          "[03.05.2022..03.08.2022]",
          "[04.05.2022..04.08.2022]",
          "[05.05.2022..05.08.2022]",
          "[06.05.2022..06.08.2022]",
          "[07.05.2022..07.08.2022]",
          "[08.05.2022..08.08.2022]",
          "[09.05.2022..09.08.2022]",
          "[10.05.2022..10.08.2022]",
          "[11.05.2022..11.08.2022]",
          "[12.05.2022..12.08.2022]",
          "[13.05.2022..13.08.2022]",
          "[14.05.2022..14.08.2022]",
          "[15.05.2022..15.08.2022]",
          "[16.05.2022..16.08.2022]",
          "[17.05.2022..17.08.2022]",
          "[18.05.2022..18.08.2022]",
          "[19.05.2022..19.08.2022]",
          "[20.05.2022..20.08.2022]",
          "[21.05.2022..21.08.2022]",
          "[22.05.2022..22.08.2022]",
          "[23.05.2022..23.08.2022]",
          "[24.05.2022..24.08.2022]",
          "[25.05.2022..25.08.2022]",
          "[26.05.2022..26.08.2022]",
          "[27.05.2022..27.08.2022]",
          "[28.05.2022..28.08.2022]",
          "[29.05.2022..29.08.2022]",
          "[30.05.2022..30.08.2022]",
          "[31.05.2022..31.08.2022]",
          "[01.06.2022..01.09.2022]",
          "[02.06.2022..02.09.2022]",
          "[03.06.2022..03.09.2022]",
          "[04.06.2022..04.09.2022]",
          "[05.06.2022..05.09.2022]",
          "[06.06.2022..06.09.2022]",
          "[07.06.2022..07.09.2022]",
          "[08.06.2022..08.09.2022]",
          "[09.06.2022..09.09.2022]",
          "[10.06.2022..10.09.2022]",
          "[11.06.2022..11.09.2022]",
          "[12.06.2022..12.09.2022]",
          "[13.06.2022..13.09.2022]",
          "[14.06.2022..14.09.2022]",
          "[15.06.2022..15.09.2022]",
          "[16.06.2022..16.09.2022]",
          "[17.06.2022..17.09.2022]",
          "[18.06.2022..18.09.2022]",
          "[19.06.2022..19.09.2022]",
          "[20.06.2022..20.09.2022]",
          "[21.06.2022..21.09.2022]",
          "[22.06.2022..22.09.2022]",
          "[23.06.2022..23.09.2022]",
          "[24.06.2022..24.09.2022]",
          "[25.06.2022..25.09.2022]",
          "[26.06.2022..26.09.2022]",
          "[27.06.2022..27.09.2022]",
          "[28.06.2022..28.09.2022]",
          "[29.06.2022..29.09.2022]",
          "[30.06.2022..30.09.2022]",
          "[01.07.2022..01.10.2022]",
          "[02.07.2022..02.10.2022]",
          "[03.07.2022..03.10.2022]",
          "[04.07.2022..04.10.2022]",
          "[05.07.2022..05.10.2022]",
          "[06.07.2022..06.10.2022]",
          "[07.07.2022..07.10.2022]",
          "[08.07.2022..08.10.2022]",
          "[09.07.2022..09.10.2022]",
          "[10.07.2022..10.10.2022]",
          "[11.07.2022..11.10.2022]",
          "[12.07.2022..12.10.2022]",
          "[13.07.2022..13.10.2022]",
          "[14.07.2022..14.10.2022]",
          "[15.07.2022..15.10.2022]",
          "[16.07.2022..16.10.2022]",
          "[17.07.2022..17.10.2022]",
          "[18.07.2022..18.10.2022]",
          "[19.07.2022..19.10.2022]",
          "[20.07.2022..20.10.2022]",
          "[21.07.2022..21.10.2022]",
          "[22.07.2022..22.10.2022]",
          "[23.07.2022..23.10.2022]",
          "[24.07.2022..24.10.2022]",
          "[25.07.2022..25.10.2022]",
          "[26.07.2022..26.10.2022]",
          "[27.07.2022..27.10.2022]",
          "[28.07.2022..28.10.2022]",
          "[29.07.2022..29.10.2022]",
          "[30.07.2022..30.10.2022]",
          "[31.07.2022..31.10.2022]",
          "[01.08.2022..01.11.2022]",
          "[02.08.2022..02.11.2022]",
          "[03.08.2022..03.11.2022]",
          "[04.08.2022..04.11.2022]",
          "[05.08.2022..05.11.2022]",
          "[06.08.2022..06.11.2022]",
          "[07.08.2022..07.11.2022]",
          "[08.08.2022..08.11.2022]",
          "[09.08.2022..09.11.2022]",
          "[10.08.2022..10.11.2022]",
          "[11.08.2022..11.11.2022]",
          "[12.08.2022..12.11.2022]",
          "[13.08.2022..13.11.2022]",
          "[14.08.2022..14.11.2022]",
          "[15.08.2022..15.11.2022]",
          "[16.08.2022..16.11.2022]",
          "[17.08.2022..17.11.2022]",
          "[18.08.2022..18.11.2022]",
          "[19.08.2022..19.11.2022]",
          "[20.08.2022..20.11.2022]",
          "[21.08.2022..21.11.2022]",
          "[22.08.2022..22.11.2022]",
          "[23.08.2022..23.11.2022]",
          "[24.08.2022..24.11.2022]",
          "[25.08.2022..25.11.2022]",
          "[26.08.2022..26.11.2022]",
          "[27.08.2022..27.11.2022]",
          "[28.08.2022..28.11.2022]",
          "[29.08.2022..29.11.2022]",
          "[30.08.2022..30.11.2022]",
          "[31.08.2022..30.11.2022]",
          "[01.09.2022..01.12.2022]",
          "[02.09.2022..02.12.2022]",
          "[03.09.2022..03.12.2022]",
          "[04.09.2022..04.12.2022]",
          "[05.09.2022..05.12.2022]",
          "[06.09.2022..06.12.2022]",
          "[07.09.2022..07.12.2022]",
          "[08.09.2022..08.12.2022]",
          "[09.09.2022..09.12.2022]",
          "[10.09.2022..10.12.2022]",
          "[11.09.2022..11.12.2022]",
          "[12.09.2022..12.12.2022]",
          "[13.09.2022..13.12.2022]",
          "[14.09.2022..14.12.2022]",
          "[15.09.2022..15.12.2022]",
          "[16.09.2022..16.12.2022]",
          "[17.09.2022..17.12.2022]",
          "[18.09.2022..18.12.2022]",
          "[19.09.2022..19.12.2022]",
          "[20.09.2022..20.12.2022]",
          "[21.09.2022..21.12.2022]",
          "[22.09.2022..22.12.2022]",
          "[23.09.2022..23.12.2022]",
          "[24.09.2022..24.12.2022]",
          "[25.09.2022..25.12.2022]",
          "[26.09.2022..26.12.2022]",
          "[27.09.2022..27.12.2022]",
          "[28.09.2022..28.12.2022]",
          "[29.09.2022..29.12.2022]",
          "[30.09.2022..30.12.2022]",
          "[01.10.2022..01.01.2023]",
          "[02.10.2022..02.01.2023]",
          "[03.10.2022..03.01.2023]",
          "[04.10.2022..04.01.2023]",
          "[05.10.2022..05.01.2023]",
          "[06.10.2022..06.01.2023]",
          "[07.10.2022..07.01.2023]",
          "[08.10.2022..08.01.2023]",
          "[09.10.2022..09.01.2023]",
          "[10.10.2022..10.01.2023]",
          "[11.10.2022..11.01.2023]",
          "[12.10.2022..12.01.2023]",
          "[13.10.2022..13.01.2023]",
          "[14.10.2022..14.01.2023]",
          "[15.10.2022..15.01.2023]",
          "[16.10.2022..16.01.2023]",
          "[17.10.2022..17.01.2023]",
          "[18.10.2022..18.01.2023]",
          "[19.10.2022..19.01.2023]",
          "[20.10.2022..20.01.2023]",
          "[21.10.2022..21.01.2023]",
          "[22.10.2022..22.01.2023]",
          "[23.10.2022..23.01.2023]",
          "[24.10.2022..24.01.2023]",
          "[25.10.2022..25.01.2023]",
          "[26.10.2022..26.01.2023]",
          "[27.10.2022..27.01.2023]",
          "[28.10.2022..28.01.2023]",
          "[29.10.2022..29.01.2023]",
          "[30.10.2022..30.01.2023]",
          "[31.10.2022..31.01.2023]",
          "[01.11.2022..01.02.2023]",
          "[02.11.2022..02.02.2023]",
          "[03.11.2022..03.02.2023]",
          "[04.11.2022..04.02.2023]",
          "[05.11.2022..05.02.2023]",
          "[06.11.2022..06.02.2023]",
          "[07.11.2022..07.02.2023]",
          "[08.11.2022..08.02.2023]",
          "[09.11.2022..09.02.2023]",
          "[10.11.2022..10.02.2023]",
          "[11.11.2022..11.02.2023]",
          "[12.11.2022..12.02.2023]",
          "[13.11.2022..13.02.2023]",
          "[14.11.2022..14.02.2023]",
          "[15.11.2022..15.02.2023]",
          "[16.11.2022..16.02.2023]",
          "[17.11.2022..17.02.2023]",
          "[18.11.2022..18.02.2023]",
          "[19.11.2022..19.02.2023]",
          "[20.11.2022..20.02.2023]",
          "[21.11.2022..21.02.2023]",
          "[22.11.2022..22.02.2023]",
          "[23.11.2022..23.02.2023]",
          "[24.11.2022..24.02.2023]",
          "[25.11.2022..25.02.2023]",
          "[26.11.2022..26.02.2023]",
          "[27.11.2022..27.02.2023]",
          "[28.11.2022..28.02.2023]",
          "[29.11.2022..28.02.2023]",
          "[30.11.2022..28.02.2023]",
          "[01.12.2022..01.03.2023]",
          "[02.12.2022..02.03.2023]",
          "[03.12.2022..03.03.2023]",
          "[04.12.2022..04.03.2023]",
          "[05.12.2022..05.03.2023]",
          "[06.12.2022..06.03.2023]",
          "[07.12.2022..07.03.2023]",
          "[08.12.2022..08.03.2023]",
          "[09.12.2022..09.03.2023]",
          "[10.12.2022..10.03.2023]",
          "[11.12.2022..11.03.2023]",
          "[12.12.2022..12.03.2023]",
          "[13.12.2022..13.03.2023]",
          "[14.12.2022..14.03.2023]",
          "[15.12.2022..15.03.2023]",
          "[16.12.2022..16.03.2023]",
          "[17.12.2022..17.03.2023]",
          "[18.12.2022..18.03.2023]",
          "[19.12.2022..19.03.2023]",
          "[20.12.2022..20.03.2023]",
          "[21.12.2022..21.03.2023]",
          "[22.12.2022..22.03.2023]",
          "[23.12.2022..23.03.2023]",
          "[24.12.2022..24.03.2023]",
          "[25.12.2022..25.03.2023]",
          "[26.12.2022..26.03.2023]",
          "[27.12.2022..27.03.2023]",
          "[28.12.2022..28.03.2023]",
          "[29.12.2022..29.03.2023]",
          "[30.12.2022..30.03.2023]",
          "[31.12.2022..31.03.2023]"
         ],
         "x": [
          "2021-01-01T00:00:00",
          "2021-01-02T00:00:00",
          "2021-01-03T00:00:00",
          "2021-01-04T00:00:00",
          "2021-01-05T00:00:00",
          "2021-01-06T00:00:00",
          "2021-01-07T00:00:00",
          "2021-01-08T00:00:00",
          "2021-01-09T00:00:00",
          "2021-01-10T00:00:00",
          "2021-01-11T00:00:00",
          "2021-01-12T00:00:00",
          "2021-01-13T00:00:00",
          "2021-01-14T00:00:00",
          "2021-01-15T00:00:00",
          "2021-01-16T00:00:00",
          "2021-01-17T00:00:00",
          "2021-01-18T00:00:00",
          "2021-01-19T00:00:00",
          "2021-01-20T00:00:00",
          "2021-01-21T00:00:00",
          "2021-01-22T00:00:00",
          "2021-01-23T00:00:00",
          "2021-01-24T00:00:00",
          "2021-01-25T00:00:00",
          "2021-01-26T00:00:00",
          "2021-01-27T00:00:00",
          "2021-01-28T00:00:00",
          "2021-01-29T00:00:00",
          "2021-01-30T00:00:00",
          "2021-01-31T00:00:00",
          "2021-02-01T00:00:00",
          "2021-02-02T00:00:00",
          "2021-02-03T00:00:00",
          "2021-02-04T00:00:00",
          "2021-02-05T00:00:00",
          "2021-02-06T00:00:00",
          "2021-02-07T00:00:00",
          "2021-02-08T00:00:00",
          "2021-02-09T00:00:00",
          "2021-02-10T00:00:00",
          "2021-02-11T00:00:00",
          "2021-02-12T00:00:00",
          "2021-02-13T00:00:00",
          "2021-02-14T00:00:00",
          "2021-02-15T00:00:00",
          "2021-02-16T00:00:00",
          "2021-02-17T00:00:00",
          "2021-02-18T00:00:00",
          "2021-02-19T00:00:00",
          "2021-02-20T00:00:00",
          "2021-02-21T00:00:00",
          "2021-02-22T00:00:00",
          "2021-02-23T00:00:00",
          "2021-02-24T00:00:00",
          "2021-02-25T00:00:00",
          "2021-02-26T00:00:00",
          "2021-02-27T00:00:00",
          "2021-02-27T00:00:00",
          "2021-02-28T00:00:00",
          "2021-03-01T00:00:00",
          "2021-03-02T00:00:00",
          "2021-03-03T00:00:00",
          "2021-03-04T00:00:00",
          "2021-03-05T00:00:00",
          "2021-03-06T00:00:00",
          "2021-03-07T00:00:00",
          "2021-03-08T00:00:00",
          "2021-03-09T00:00:00",
          "2021-03-10T00:00:00",
          "2021-03-11T00:00:00",
          "2021-03-12T00:00:00",
          "2021-03-13T00:00:00",
          "2021-03-14T00:00:00",
          "2021-03-15T00:00:00",
          "2021-03-16T00:00:00",
          "2021-03-17T00:00:00",
          "2021-03-18T00:00:00",
          "2021-03-19T00:00:00",
          "2021-03-20T00:00:00",
          "2021-03-21T00:00:00",
          "2021-03-22T00:00:00",
          "2021-03-23T00:00:00",
          "2021-03-24T00:00:00",
          "2021-03-25T00:00:00",
          "2021-03-26T00:00:00",
          "2021-03-27T00:00:00",
          "2021-03-28T00:00:00",
          "2021-03-29T00:00:00",
          "2021-03-30T00:00:00",
          "2021-03-31T00:00:00",
          "2021-04-01T00:00:00",
          "2021-04-02T00:00:00",
          "2021-04-03T00:00:00",
          "2021-04-04T00:00:00",
          "2021-04-05T00:00:00",
          "2021-04-06T00:00:00",
          "2021-04-07T00:00:00",
          "2021-04-08T00:00:00",
          "2021-04-09T00:00:00",
          "2021-04-10T00:00:00",
          "2021-04-11T00:00:00",
          "2021-04-12T00:00:00",
          "2021-04-13T00:00:00",
          "2021-04-14T00:00:00",
          "2021-04-15T00:00:00",
          "2021-04-16T00:00:00",
          "2021-04-17T00:00:00",
          "2021-04-18T00:00:00",
          "2021-04-19T00:00:00",
          "2021-04-20T00:00:00",
          "2021-04-21T00:00:00",
          "2021-04-22T00:00:00",
          "2021-04-23T00:00:00",
          "2021-04-24T00:00:00",
          "2021-04-25T00:00:00",
          "2021-04-26T00:00:00",
          "2021-04-27T00:00:00",
          "2021-04-28T00:00:00",
          "2021-04-29T00:00:00",
          "2021-04-30T00:00:00",
          "2021-05-01T00:00:00",
          "2021-05-02T00:00:00",
          "2021-05-03T00:00:00",
          "2021-05-04T00:00:00",
          "2021-05-05T00:00:00",
          "2021-05-06T00:00:00",
          "2021-05-07T00:00:00",
          "2021-05-08T00:00:00",
          "2021-05-09T00:00:00",
          "2021-05-10T00:00:00",
          "2021-05-11T00:00:00",
          "2021-05-12T00:00:00",
          "2021-05-13T00:00:00",
          "2021-05-14T00:00:00",
          "2021-05-15T00:00:00",
          "2021-05-16T00:00:00",
          "2021-05-17T00:00:00",
          "2021-05-18T00:00:00",
          "2021-05-19T00:00:00",
          "2021-05-20T00:00:00",
          "2021-05-21T00:00:00",
          "2021-05-22T00:00:00",
          "2021-05-23T00:00:00",
          "2021-05-24T00:00:00",
          "2021-05-25T00:00:00",
          "2021-05-26T00:00:00",
          "2021-05-27T00:00:00",
          "2021-05-28T00:00:00",
          "2021-05-29T00:00:00",
          "2021-05-30T00:00:00",
          "2021-05-31T00:00:00",
          "2021-06-01T00:00:00",
          "2021-06-02T00:00:00",
          "2021-06-03T00:00:00",
          "2021-06-04T00:00:00",
          "2021-06-05T00:00:00",
          "2021-06-06T00:00:00",
          "2021-06-07T00:00:00",
          "2021-06-08T00:00:00",
          "2021-06-09T00:00:00",
          "2021-06-10T00:00:00",
          "2021-06-11T00:00:00",
          "2021-06-12T00:00:00",
          "2021-06-13T00:00:00",
          "2021-06-14T00:00:00",
          "2021-06-15T00:00:00",
          "2021-06-16T00:00:00",
          "2021-06-17T00:00:00",
          "2021-06-18T00:00:00",
          "2021-06-19T00:00:00",
          "2021-06-20T00:00:00",
          "2021-06-21T00:00:00",
          "2021-06-22T00:00:00",
          "2021-06-23T00:00:00",
          "2021-06-24T00:00:00",
          "2021-06-25T00:00:00",
          "2021-06-26T00:00:00",
          "2021-06-27T00:00:00",
          "2021-06-28T00:00:00",
          "2021-06-29T00:00:00",
          "2021-06-30T00:00:00",
          "2021-07-01T00:00:00",
          "2021-07-02T00:00:00",
          "2021-07-03T00:00:00",
          "2021-07-04T00:00:00",
          "2021-07-05T00:00:00",
          "2021-07-06T00:00:00",
          "2021-07-07T00:00:00",
          "2021-07-08T00:00:00",
          "2021-07-09T00:00:00",
          "2021-07-10T00:00:00",
          "2021-07-11T00:00:00",
          "2021-07-12T00:00:00",
          "2021-07-13T00:00:00",
          "2021-07-14T00:00:00",
          "2021-07-15T00:00:00",
          "2021-07-16T00:00:00",
          "2021-07-17T00:00:00",
          "2021-07-18T00:00:00",
          "2021-07-19T00:00:00",
          "2021-07-20T00:00:00",
          "2021-07-21T00:00:00",
          "2021-07-22T00:00:00",
          "2021-07-23T00:00:00",
          "2021-07-24T00:00:00",
          "2021-07-25T00:00:00",
          "2021-07-26T00:00:00",
          "2021-07-27T00:00:00",
          "2021-07-28T00:00:00",
          "2021-07-29T00:00:00",
          "2021-07-30T00:00:00",
          "2021-07-31T00:00:00",
          "2021-08-01T00:00:00",
          "2021-08-02T00:00:00",
          "2021-08-03T00:00:00",
          "2021-08-04T00:00:00",
          "2021-08-05T00:00:00",
          "2021-08-06T00:00:00",
          "2021-08-07T00:00:00",
          "2021-08-08T00:00:00",
          "2021-08-09T00:00:00",
          "2021-08-10T00:00:00",
          "2021-08-11T00:00:00",
          "2021-08-12T00:00:00",
          "2021-08-13T00:00:00",
          "2021-08-14T00:00:00",
          "2021-08-15T00:00:00",
          "2021-08-16T00:00:00",
          "2021-08-17T00:00:00",
          "2021-08-18T00:00:00",
          "2021-08-19T00:00:00",
          "2021-08-20T00:00:00",
          "2021-08-21T00:00:00",
          "2021-08-22T00:00:00",
          "2021-08-23T00:00:00",
          "2021-08-24T00:00:00",
          "2021-08-25T00:00:00",
          "2021-08-26T00:00:00",
          "2021-08-27T00:00:00",
          "2021-08-28T00:00:00",
          "2021-08-29T00:00:00",
          "2021-08-30T00:00:00",
          "2021-08-31T00:00:00",
          "2021-09-01T00:00:00",
          "2021-09-02T00:00:00",
          "2021-09-03T00:00:00",
          "2021-09-04T00:00:00",
          "2021-09-05T00:00:00",
          "2021-09-06T00:00:00",
          "2021-09-07T00:00:00",
          "2021-09-08T00:00:00",
          "2021-09-09T00:00:00",
          "2021-09-10T00:00:00",
          "2021-09-11T00:00:00",
          "2021-09-12T00:00:00",
          "2021-09-13T00:00:00",
          "2021-09-14T00:00:00",
          "2021-09-15T00:00:00",
          "2021-09-16T00:00:00",
          "2021-09-17T00:00:00",
          "2021-09-18T00:00:00",
          "2021-09-19T00:00:00",
          "2021-09-20T00:00:00",
          "2021-09-21T00:00:00",
          "2021-09-22T00:00:00",
          "2021-09-23T00:00:00",
          "2021-09-24T00:00:00",
          "2021-09-25T00:00:00",
          "2021-09-26T00:00:00",
          "2021-09-27T00:00:00",
          "2021-09-28T00:00:00",
          "2021-09-29T00:00:00",
          "2021-09-30T00:00:00",
          "2021-10-01T00:00:00",
          "2021-10-02T00:00:00",
          "2021-10-03T00:00:00",
          "2021-10-04T00:00:00",
          "2021-10-05T00:00:00",
          "2021-10-06T00:00:00",
          "2021-10-07T00:00:00",
          "2021-10-08T00:00:00",
          "2021-10-09T00:00:00",
          "2021-10-10T00:00:00",
          "2021-10-11T00:00:00",
          "2021-10-12T00:00:00",
          "2021-10-13T00:00:00",
          "2021-10-14T00:00:00",
          "2021-10-15T00:00:00",
          "2021-10-16T00:00:00",
          "2021-10-17T00:00:00",
          "2021-10-18T00:00:00",
          "2021-10-19T00:00:00",
          "2021-10-20T00:00:00",
          "2021-10-21T00:00:00",
          "2021-10-22T00:00:00",
          "2021-10-23T00:00:00",
          "2021-10-24T00:00:00",
          "2021-10-25T00:00:00",
          "2021-10-26T00:00:00",
          "2021-10-27T00:00:00",
          "2021-10-28T00:00:00",
          "2021-10-29T00:00:00",
          "2021-10-30T00:00:00",
          "2021-10-31T00:00:00",
          "2021-11-01T00:00:00",
          "2021-11-02T00:00:00",
          "2021-11-03T00:00:00",
          "2021-11-04T00:00:00",
          "2021-11-05T00:00:00",
          "2021-11-06T00:00:00",
          "2021-11-07T00:00:00",
          "2021-11-08T00:00:00",
          "2021-11-09T00:00:00",
          "2021-11-10T00:00:00",
          "2021-11-11T00:00:00",
          "2021-11-12T00:00:00",
          "2021-11-13T00:00:00",
          "2021-11-14T00:00:00",
          "2021-11-15T00:00:00",
          "2021-11-16T00:00:00",
          "2021-11-17T00:00:00",
          "2021-11-18T00:00:00",
          "2021-11-19T00:00:00",
          "2021-11-20T00:00:00",
          "2021-11-21T00:00:00",
          "2021-11-22T00:00:00",
          "2021-11-23T00:00:00",
          "2021-11-24T00:00:00",
          "2021-11-25T00:00:00",
          "2021-11-26T00:00:00",
          "2021-11-27T00:00:00",
          "2021-11-28T00:00:00",
          "2021-11-29T00:00:00",
          "2021-11-30T00:00:00",
          "2021-12-01T00:00:00",
          "2021-12-02T00:00:00",
          "2021-12-03T00:00:00",
          "2021-12-04T00:00:00",
          "2021-12-05T00:00:00",
          "2021-12-06T00:00:00",
          "2021-12-07T00:00:00",
          "2021-12-08T00:00:00",
          "2021-12-09T00:00:00",
          "2021-12-10T00:00:00",
          "2021-12-11T00:00:00",
          "2021-12-12T00:00:00",
          "2021-12-13T00:00:00",
          "2021-12-14T00:00:00",
          "2021-12-15T00:00:00",
          "2021-12-16T00:00:00",
          "2021-12-17T00:00:00",
          "2021-12-18T00:00:00",
          "2021-12-19T00:00:00",
          "2021-12-20T00:00:00",
          "2021-12-21T00:00:00",
          "2021-12-22T00:00:00",
          "2021-12-23T00:00:00",
          "2021-12-24T00:00:00",
          "2021-12-25T00:00:00",
          "2021-12-26T00:00:00",
          "2021-12-27T00:00:00",
          "2021-12-28T00:00:00",
          "2021-12-29T00:00:00",
          "2021-12-30T00:00:00",
          "2021-12-31T00:00:00"
         ],
         "y": [
          0.3590127229690552,
          0.35591864585876465,
          0.33287209272384644,
          0.33287209272384644,
          0.364104688167572,
          0.364104688167572,
          0.364104688167572,
          0.4000573754310608,
          0.4000573754310608,
          0.39661043882369995,
          0.48817235231399536,
          0.4503996968269348,
          0.39585787057876587,
          0.3982604742050171,
          0.37759149074554443,
          0.37759149074554443,
          0.37759149074554443,
          0.36538565158843994,
          0.3564797639846802,
          0.5785461664199829,
          0.3469157814979553,
          0.3469157814979553,
          0.3469157814979553,
          0.3469157814979553,
          0.4973422884941101,
          0.5618776082992554,
          0.5941352844238281,
          0.5466402769088745,
          0.5356432199478149,
          0.605169415473938,
          0.42158442735671997,
          0.4067508578300476,
          0.42158442735671997,
          0.42497897148132324,
          0.42497897148132324,
          0.6209836006164551,
          0.4620726704597473,
          0.4578370451927185,
          0.45387428998947144,
          0.7851151823997498,
          0.78291916847229,
          0.7772287130355835,
          0.7645445466041565,
          0.7645445466041565,
          0.7645445466041565,
          0.7939427495002747,
          0.8012018799781799,
          0.8021117448806763,
          0.7970901727676392,
          0.799986720085144,
          0.799986720085144,
          0.7842046022415161,
          0.5896918773651123,
          0.5896918773651123,
          0.5896918773651123,
          0.6417504549026489,
          0.7053170204162598,
          0.7053170204162598,
          0.7147536277770996,
          0.7102681994438171,
          0.7310768365859985,
          0.7670515775680542,
          0.7648588418960571,
          0.7953922748565674,
          0.7932025194168091,
          0.7856836915016174,
          0.7693884372711182,
          0.7337260246276855,
          0.7337260246276855,
          0.7071053981781006,
          0.7071053981781006,
          0.6724241971969604,
          0.6814707517623901,
          0.3872755765914917,
          0.3872755765914917,
          0.3872755765914917,
          0.4773954749107361,
          0.5390022993087769,
          0.5482091903686523,
          0.6386892199516296,
          0.598893940448761,
          0.598893940448761,
          0.4634680151939392,
          0.4183428883552551,
          0.4183428883552551,
          0.403852641582489,
          0.39990949630737305,
          0.399616003036499,
          0.399616003036499,
          0.39990949630737305,
          0.40874987840652466,
          0.40732860565185547,
          0.39946913719177246,
          0.39551591873168945,
          0.4064304828643799,
          0.3972087502479553,
          0.4066762328147888,
          0.4068278670310974,
          0.40533214807510376,
          0.4038374423980713,
          0.4022398591041565,
          0.39341992139816284,
          0.39135462045669556,
          0.38109248876571655,
          0.3782702088356018,
          0.3756341338157654,
          0.3756341338157654,
          0.383886456489563,
          0.383886456489563,
          0.3828340172767639,
          0.3745362162590027,
          0.3776036500930786,
          0.4951704740524292,
          0.5774887800216675,
          0.4819023013114929,
          0.5776066780090332,
          0.6933146715164185,
          0.4795449376106262,
          0.4795449376106262,
          0.37601226568222046,
          0.37601226568222046,
          0.3613278865814209,
          0.47705626487731934,
          0.541729211807251,
          0.4122456908226013,
          0.4356643557548523,
          0.5432000756263733,
          0.5867318511009216,
          0.5867318511009216,
          0.5867318511009216,
          0.5867318511009216,
          0.5867318511009216,
          0.5867318511009216,
          0.738601803779602,
          0.6388962268829346,
          0.6279359459877014,
          0.664330005645752,
          0.664330005645752,
          0.6551584601402283,
          0.6071807146072388,
          0.6071807146072388,
          0.5338006615638733,
          0.36303967237472534,
          0.36262136697769165,
          0.36262136697769165,
          0.36268943548202515,
          0.33518922328948975,
          0.34422969818115234,
          0.34422969818115234,
          0.35600072145462036,
          0.3833315372467041,
          0.37920892238616943,
          0.3751893639564514,
          0.38083600997924805,
          0.37011247873306274,
          0.3662077784538269,
          0.3622357249259949,
          0.37299472093582153,
          0.37299472093582153,
          0.3901377320289612,
          0.391836941242218,
          0.391836941242218,
          0.39059174060821533,
          0.3879028558731079,
          0.3785955309867859,
          0.3810219168663025,
          0.3851582407951355,
          0.3851582407951355,
          0.39126038551330566,
          0.37420105934143066,
          0.3880942463874817,
          0.39814621210098267,
          0.4009034037590027,
          0.40985363721847534,
          0.412425696849823,
          0.4008878469467163,
          0.40362703800201416,
          0.408267617225647,
          0.39219361543655396,
          0.408522367477417,
          0.408522367477417,
          0.36615419387817383,
          0.38267195224761963,
          0.39719128608703613,
          0.3900248408317566,
          0.39719128608703613,
          0.3912959098815918,
          0.3912959098815918,
          0.3859304189682007,
          0.4054611325263977,
          0.4016118049621582,
          0.3975955843925476,
          0.439739465713501,
          0.4467809796333313,
          0.45493394136428833,
          0.45493394136428833,
          0.44064486026763916,
          0.44385141134262085,
          0.4549556374549866,
          0.5044025182723999,
          0.5044025182723999,
          0.5044025182723999,
          0.5257731676101685,
          0.48149949312210083,
          0.48149949312210083,
          0.49040478467941284,
          0.49043089151382446,
          0.5270336866378784,
          0.5265452861785889,
          0.5187900066375732,
          0.5230224132537842,
          0.5300004482269287,
          0.5379325151443481,
          0.6517857313156128,
          0.6715750098228455,
          0.5577585101127625,
          0.5577585101127625,
          0.6008785963058472,
          0.9196299314498901,
          0.8912996053695679,
          0.8546981811523438,
          0.627575159072876,
          0.9623188972473145,
          0.9469823837280273,
          0.9767915606498718,
          0.4327724575996399,
          0.4309506416320801,
          0.4615384340286255,
          0.4615384340286255,
          0.6528733968734741,
          0.6528733968734741,
          0.46492552757263184,
          0.4694303870201111,
          0.4804643392562866,
          0.4864293932914734,
          0.4929731488227844,
          0.43368470668792725,
          0.43368470668792725,
          0.4498024582862854,
          0.44587910175323486,
          0.44300025701522827,
          0.4701452851295471,
          0.458820104598999,
          0.423004686832428,
          0.423004686832428,
          0.423004686832428,
          0.43845081329345703,
          0.43084192276000977,
          0.45297253131866455,
          0.46589386463165283,
          0.470262348651886,
          0.4886624813079834,
          0.4886624813079834,
          0.4949039816856384,
          0.5016138553619385,
          0.45802628993988037,
          0.46189314126968384,
          0.46013861894607544,
          0.4316500425338745,
          0.4352876543998718,
          0.4331355690956116,
          0.42581576108932495,
          0.4279852509498596,
          0.43682563304901123,
          0.43682563304901123,
          0.4454081058502197,
          0.4579087495803833,
          0.46177607774734497,
          0.4319233298301697,
          0.43046724796295166,
          0.47659629583358765,
          0.516486644744873,
          0.5470905303955078,
          0.6655586957931519,
          0.6425703763961792,
          0.6567074656486511,
          0.6717318296432495,
          0.6158312559127808,
          0.5118913650512695,
          0.5118913650512695,
          0.5344623923301697,
          0.5344623923301697,
          0.5344623923301697,
          0.5043507814407349,
          0.5140678286552429,
          0.5008244514465332,
          0.5084055662155151,
          0.5393960475921631,
          0.5776145458221436,
          0.5133121609687805,
          0.4738473892211914,
          0.4716454744338989,
          0.48107123374938965,
          0.518082320690155,
          0.5138192772865295,
          0.4831361770629883,
          0.48909807205200195,
          0.5987820625305176,
          0.6317926645278931,
          0.5545915365219116,
          0.5655993223190308,
          0.6074936389923096,
          0.49270254373550415,
          0.4991481900215149,
          0.5315761566162109,
          0.5723162889480591,
          0.5217616558074951,
          0.48738181591033936,
          0.4568098187446594,
          0.43721282482147217,
          0.43721282482147217,
          0.43264538049697876,
          0.42145997285842896,
          0.41959935426712036,
          0.4154365658760071,
          0.38909655809402466,
          0.3799646496772766,
          0.38640040159225464,
          0.3940863609313965,
          0.402413547039032,
          0.39876770973205566,
          0.39876770973205566,
          0.4289950728416443,
          0.4289950728416443,
          0.4326285123825073,
          0.45006006956100464,
          0.4533650279045105,
          0.4569737911224365,
          0.4609271287918091,
          0.456032931804657,
          0.43582791090011597,
          0.43582791090011597,
          0.43582791090011597,
          0.47298580408096313,
          0.46483635902404785,
          0.467529296875,
          0.781223475933075,
          0.824059247970581,
          0.5945391654968262,
          0.5356844663619995,
          0.4905833601951599,
          0.5242606401443481,
          0.5242606401443481,
          0.5500827431678772,
          0.5891820192337036,
          0.5762755870819092,
          0.5100249648094177,
          0.4374862313270569,
          0.4199843406677246,
          0.43963056802749634,
          0.4420938491821289,
          0.456424355506897,
          0.47519898414611816,
          0.47519898414611816,
          0.48068124055862427,
          0.4635356068611145,
          0.43487173318862915,
          0.4226166009902954,
          0.42991524934768677,
          0.42991524934768677,
          0.42991524934768677,
          0.42991524934768677,
          0.455627977848053,
          0.46995973587036133,
          0.4767615795135498,
          0.4647487998008728
         ],
         "type": "scatter"
        },
        {
         "line": {
          "width": 0.25
         },
         "mode": "lines",
         "name": "Event predicted",
         "stackgroup": "one",
         "text": [
          "[01.01.2022..01.04.2022]",
          "[02.01.2022..02.04.2022]",
          "[03.01.2022..03.04.2022]",
          "[04.01.2022..04.04.2022]",
          "[05.01.2022..05.04.2022]",
          "[06.01.2022..06.04.2022]",
          "[07.01.2022..07.04.2022]",
          "[08.01.2022..08.04.2022]",
          "[09.01.2022..09.04.2022]",
          "[10.01.2022..10.04.2022]",
          "[11.01.2022..11.04.2022]",
          "[12.01.2022..12.04.2022]",
          "[13.01.2022..13.04.2022]",
          "[14.01.2022..14.04.2022]",
          "[15.01.2022..15.04.2022]",
          "[16.01.2022..16.04.2022]",
          "[17.01.2022..17.04.2022]",
          "[18.01.2022..18.04.2022]",
          "[19.01.2022..19.04.2022]",
          "[20.01.2022..20.04.2022]",
          "[21.01.2022..21.04.2022]",
          "[22.01.2022..22.04.2022]",
          "[23.01.2022..23.04.2022]",
          "[24.01.2022..24.04.2022]",
          "[25.01.2022..25.04.2022]",
          "[26.01.2022..26.04.2022]",
          "[27.01.2022..27.04.2022]",
          "[28.01.2022..28.04.2022]",
          "[29.01.2022..29.04.2022]",
          "[30.01.2022..30.04.2022]",
          "[31.01.2022..30.04.2022]",
          "[01.02.2022..01.05.2022]",
          "[02.02.2022..02.05.2022]",
          "[03.02.2022..03.05.2022]",
          "[04.02.2022..04.05.2022]",
          "[05.02.2022..05.05.2022]",
          "[06.02.2022..06.05.2022]",
          "[07.02.2022..07.05.2022]",
          "[08.02.2022..08.05.2022]",
          "[09.02.2022..09.05.2022]",
          "[10.02.2022..10.05.2022]",
          "[11.02.2022..11.05.2022]",
          "[12.02.2022..12.05.2022]",
          "[13.02.2022..13.05.2022]",
          "[14.02.2022..14.05.2022]",
          "[15.02.2022..15.05.2022]",
          "[16.02.2022..16.05.2022]",
          "[17.02.2022..17.05.2022]",
          "[18.02.2022..18.05.2022]",
          "[19.02.2022..19.05.2022]",
          "[20.02.2022..20.05.2022]",
          "[21.02.2022..21.05.2022]",
          "[22.02.2022..22.05.2022]",
          "[23.02.2022..23.05.2022]",
          "[24.02.2022..24.05.2022]",
          "[25.02.2022..25.05.2022]",
          "[26.02.2022..26.05.2022]",
          "[27.02.2022..27.05.2022]",
          "[27.02.2022..27.05.2022]",
          "[28.02.2022..28.05.2022]",
          "[01.03.2022..01.06.2022]",
          "[02.03.2022..02.06.2022]",
          "[03.03.2022..03.06.2022]",
          "[04.03.2022..04.06.2022]",
          "[05.03.2022..05.06.2022]",
          "[06.03.2022..06.06.2022]",
          "[07.03.2022..07.06.2022]",
          "[08.03.2022..08.06.2022]",
          "[09.03.2022..09.06.2022]",
          "[10.03.2022..10.06.2022]",
          "[11.03.2022..11.06.2022]",
          "[12.03.2022..12.06.2022]",
          "[13.03.2022..13.06.2022]",
          "[14.03.2022..14.06.2022]",
          "[15.03.2022..15.06.2022]",
          "[16.03.2022..16.06.2022]",
          "[17.03.2022..17.06.2022]",
          "[18.03.2022..18.06.2022]",
          "[19.03.2022..19.06.2022]",
          "[20.03.2022..20.06.2022]",
          "[21.03.2022..21.06.2022]",
          "[22.03.2022..22.06.2022]",
          "[23.03.2022..23.06.2022]",
          "[24.03.2022..24.06.2022]",
          "[25.03.2022..25.06.2022]",
          "[26.03.2022..26.06.2022]",
          "[27.03.2022..27.06.2022]",
          "[28.03.2022..28.06.2022]",
          "[29.03.2022..29.06.2022]",
          "[30.03.2022..30.06.2022]",
          "[31.03.2022..30.06.2022]",
          "[01.04.2022..01.07.2022]",
          "[02.04.2022..02.07.2022]",
          "[03.04.2022..03.07.2022]",
          "[04.04.2022..04.07.2022]",
          "[05.04.2022..05.07.2022]",
          "[06.04.2022..06.07.2022]",
          "[07.04.2022..07.07.2022]",
          "[08.04.2022..08.07.2022]",
          "[09.04.2022..09.07.2022]",
          "[10.04.2022..10.07.2022]",
          "[11.04.2022..11.07.2022]",
          "[12.04.2022..12.07.2022]",
          "[13.04.2022..13.07.2022]",
          "[14.04.2022..14.07.2022]",
          "[15.04.2022..15.07.2022]",
          "[16.04.2022..16.07.2022]",
          "[17.04.2022..17.07.2022]",
          "[18.04.2022..18.07.2022]",
          "[19.04.2022..19.07.2022]",
          "[20.04.2022..20.07.2022]",
          "[21.04.2022..21.07.2022]",
          "[22.04.2022..22.07.2022]",
          "[23.04.2022..23.07.2022]",
          "[24.04.2022..24.07.2022]",
          "[25.04.2022..25.07.2022]",
          "[26.04.2022..26.07.2022]",
          "[27.04.2022..27.07.2022]",
          "[28.04.2022..28.07.2022]",
          "[29.04.2022..29.07.2022]",
          "[30.04.2022..30.07.2022]",
          "[01.05.2022..01.08.2022]",
          "[02.05.2022..02.08.2022]",
          "[03.05.2022..03.08.2022]",
          "[04.05.2022..04.08.2022]",
          "[05.05.2022..05.08.2022]",
          "[06.05.2022..06.08.2022]",
          "[07.05.2022..07.08.2022]",
          "[08.05.2022..08.08.2022]",
          "[09.05.2022..09.08.2022]",
          "[10.05.2022..10.08.2022]",
          "[11.05.2022..11.08.2022]",
          "[12.05.2022..12.08.2022]",
          "[13.05.2022..13.08.2022]",
          "[14.05.2022..14.08.2022]",
          "[15.05.2022..15.08.2022]",
          "[16.05.2022..16.08.2022]",
          "[17.05.2022..17.08.2022]",
          "[18.05.2022..18.08.2022]",
          "[19.05.2022..19.08.2022]",
          "[20.05.2022..20.08.2022]",
          "[21.05.2022..21.08.2022]",
          "[22.05.2022..22.08.2022]",
          "[23.05.2022..23.08.2022]",
          "[24.05.2022..24.08.2022]",
          "[25.05.2022..25.08.2022]",
          "[26.05.2022..26.08.2022]",
          "[27.05.2022..27.08.2022]",
          "[28.05.2022..28.08.2022]",
          "[29.05.2022..29.08.2022]",
          "[30.05.2022..30.08.2022]",
          "[31.05.2022..31.08.2022]",
          "[01.06.2022..01.09.2022]",
          "[02.06.2022..02.09.2022]",
          "[03.06.2022..03.09.2022]",
          "[04.06.2022..04.09.2022]",
          "[05.06.2022..05.09.2022]",
          "[06.06.2022..06.09.2022]",
          "[07.06.2022..07.09.2022]",
          "[08.06.2022..08.09.2022]",
          "[09.06.2022..09.09.2022]",
          "[10.06.2022..10.09.2022]",
          "[11.06.2022..11.09.2022]",
          "[12.06.2022..12.09.2022]",
          "[13.06.2022..13.09.2022]",
          "[14.06.2022..14.09.2022]",
          "[15.06.2022..15.09.2022]",
          "[16.06.2022..16.09.2022]",
          "[17.06.2022..17.09.2022]",
          "[18.06.2022..18.09.2022]",
          "[19.06.2022..19.09.2022]",
          "[20.06.2022..20.09.2022]",
          "[21.06.2022..21.09.2022]",
          "[22.06.2022..22.09.2022]",
          "[23.06.2022..23.09.2022]",
          "[24.06.2022..24.09.2022]",
          "[25.06.2022..25.09.2022]",
          "[26.06.2022..26.09.2022]",
          "[27.06.2022..27.09.2022]",
          "[28.06.2022..28.09.2022]",
          "[29.06.2022..29.09.2022]",
          "[30.06.2022..30.09.2022]",
          "[01.07.2022..01.10.2022]",
          "[02.07.2022..02.10.2022]",
          "[03.07.2022..03.10.2022]",
          "[04.07.2022..04.10.2022]",
          "[05.07.2022..05.10.2022]",
          "[06.07.2022..06.10.2022]",
          "[07.07.2022..07.10.2022]",
          "[08.07.2022..08.10.2022]",
          "[09.07.2022..09.10.2022]",
          "[10.07.2022..10.10.2022]",
          "[11.07.2022..11.10.2022]",
          "[12.07.2022..12.10.2022]",
          "[13.07.2022..13.10.2022]",
          "[14.07.2022..14.10.2022]",
          "[15.07.2022..15.10.2022]",
          "[16.07.2022..16.10.2022]",
          "[17.07.2022..17.10.2022]",
          "[18.07.2022..18.10.2022]",
          "[19.07.2022..19.10.2022]",
          "[20.07.2022..20.10.2022]",
          "[21.07.2022..21.10.2022]",
          "[22.07.2022..22.10.2022]",
          "[23.07.2022..23.10.2022]",
          "[24.07.2022..24.10.2022]",
          "[25.07.2022..25.10.2022]",
          "[26.07.2022..26.10.2022]",
          "[27.07.2022..27.10.2022]",
          "[28.07.2022..28.10.2022]",
          "[29.07.2022..29.10.2022]",
          "[30.07.2022..30.10.2022]",
          "[31.07.2022..31.10.2022]",
          "[01.08.2022..01.11.2022]",
          "[02.08.2022..02.11.2022]",
          "[03.08.2022..03.11.2022]",
          "[04.08.2022..04.11.2022]",
          "[05.08.2022..05.11.2022]",
          "[06.08.2022..06.11.2022]",
          "[07.08.2022..07.11.2022]",
          "[08.08.2022..08.11.2022]",
          "[09.08.2022..09.11.2022]",
          "[10.08.2022..10.11.2022]",
          "[11.08.2022..11.11.2022]",
          "[12.08.2022..12.11.2022]",
          "[13.08.2022..13.11.2022]",
          "[14.08.2022..14.11.2022]",
          "[15.08.2022..15.11.2022]",
          "[16.08.2022..16.11.2022]",
          "[17.08.2022..17.11.2022]",
          "[18.08.2022..18.11.2022]",
          "[19.08.2022..19.11.2022]",
          "[20.08.2022..20.11.2022]",
          "[21.08.2022..21.11.2022]",
          "[22.08.2022..22.11.2022]",
          "[23.08.2022..23.11.2022]",
          "[24.08.2022..24.11.2022]",
          "[25.08.2022..25.11.2022]",
          "[26.08.2022..26.11.2022]",
          "[27.08.2022..27.11.2022]",
          "[28.08.2022..28.11.2022]",
          "[29.08.2022..29.11.2022]",
          "[30.08.2022..30.11.2022]",
          "[31.08.2022..30.11.2022]",
          "[01.09.2022..01.12.2022]",
          "[02.09.2022..02.12.2022]",
          "[03.09.2022..03.12.2022]",
          "[04.09.2022..04.12.2022]",
          "[05.09.2022..05.12.2022]",
          "[06.09.2022..06.12.2022]",
          "[07.09.2022..07.12.2022]",
          "[08.09.2022..08.12.2022]",
          "[09.09.2022..09.12.2022]",
          "[10.09.2022..10.12.2022]",
          "[11.09.2022..11.12.2022]",
          "[12.09.2022..12.12.2022]",
          "[13.09.2022..13.12.2022]",
          "[14.09.2022..14.12.2022]",
          "[15.09.2022..15.12.2022]",
          "[16.09.2022..16.12.2022]",
          "[17.09.2022..17.12.2022]",
          "[18.09.2022..18.12.2022]",
          "[19.09.2022..19.12.2022]",
          "[20.09.2022..20.12.2022]",
          "[21.09.2022..21.12.2022]",
          "[22.09.2022..22.12.2022]",
          "[23.09.2022..23.12.2022]",
          "[24.09.2022..24.12.2022]",
          "[25.09.2022..25.12.2022]",
          "[26.09.2022..26.12.2022]",
          "[27.09.2022..27.12.2022]",
          "[28.09.2022..28.12.2022]",
          "[29.09.2022..29.12.2022]",
          "[30.09.2022..30.12.2022]",
          "[01.10.2022..01.01.2023]",
          "[02.10.2022..02.01.2023]",
          "[03.10.2022..03.01.2023]",
          "[04.10.2022..04.01.2023]",
          "[05.10.2022..05.01.2023]",
          "[06.10.2022..06.01.2023]",
          "[07.10.2022..07.01.2023]",
          "[08.10.2022..08.01.2023]",
          "[09.10.2022..09.01.2023]",
          "[10.10.2022..10.01.2023]",
          "[11.10.2022..11.01.2023]",
          "[12.10.2022..12.01.2023]",
          "[13.10.2022..13.01.2023]",
          "[14.10.2022..14.01.2023]",
          "[15.10.2022..15.01.2023]",
          "[16.10.2022..16.01.2023]",
          "[17.10.2022..17.01.2023]",
          "[18.10.2022..18.01.2023]",
          "[19.10.2022..19.01.2023]",
          "[20.10.2022..20.01.2023]",
          "[21.10.2022..21.01.2023]",
          "[22.10.2022..22.01.2023]",
          "[23.10.2022..23.01.2023]",
          "[24.10.2022..24.01.2023]",
          "[25.10.2022..25.01.2023]",
          "[26.10.2022..26.01.2023]",
          "[27.10.2022..27.01.2023]",
          "[28.10.2022..28.01.2023]",
          "[29.10.2022..29.01.2023]",
          "[30.10.2022..30.01.2023]",
          "[31.10.2022..31.01.2023]",
          "[01.11.2022..01.02.2023]",
          "[02.11.2022..02.02.2023]",
          "[03.11.2022..03.02.2023]",
          "[04.11.2022..04.02.2023]",
          "[05.11.2022..05.02.2023]",
          "[06.11.2022..06.02.2023]",
          "[07.11.2022..07.02.2023]",
          "[08.11.2022..08.02.2023]",
          "[09.11.2022..09.02.2023]",
          "[10.11.2022..10.02.2023]",
          "[11.11.2022..11.02.2023]",
          "[12.11.2022..12.02.2023]",
          "[13.11.2022..13.02.2023]",
          "[14.11.2022..14.02.2023]",
          "[15.11.2022..15.02.2023]",
          "[16.11.2022..16.02.2023]",
          "[17.11.2022..17.02.2023]",
          "[18.11.2022..18.02.2023]",
          "[19.11.2022..19.02.2023]",
          "[20.11.2022..20.02.2023]",
          "[21.11.2022..21.02.2023]",
          "[22.11.2022..22.02.2023]",
          "[23.11.2022..23.02.2023]",
          "[24.11.2022..24.02.2023]",
          "[25.11.2022..25.02.2023]",
          "[26.11.2022..26.02.2023]",
          "[27.11.2022..27.02.2023]",
          "[28.11.2022..28.02.2023]",
          "[29.11.2022..28.02.2023]",
          "[30.11.2022..28.02.2023]",
          "[01.12.2022..01.03.2023]",
          "[02.12.2022..02.03.2023]",
          "[03.12.2022..03.03.2023]",
          "[04.12.2022..04.03.2023]",
          "[05.12.2022..05.03.2023]",
          "[06.12.2022..06.03.2023]",
          "[07.12.2022..07.03.2023]",
          "[08.12.2022..08.03.2023]",
          "[09.12.2022..09.03.2023]",
          "[10.12.2022..10.03.2023]",
          "[11.12.2022..11.03.2023]",
          "[12.12.2022..12.03.2023]",
          "[13.12.2022..13.03.2023]",
          "[14.12.2022..14.03.2023]",
          "[15.12.2022..15.03.2023]",
          "[16.12.2022..16.03.2023]",
          "[17.12.2022..17.03.2023]",
          "[18.12.2022..18.03.2023]",
          "[19.12.2022..19.03.2023]",
          "[20.12.2022..20.03.2023]",
          "[21.12.2022..21.03.2023]",
          "[22.12.2022..22.03.2023]",
          "[23.12.2022..23.03.2023]",
          "[24.12.2022..24.03.2023]",
          "[25.12.2022..25.03.2023]",
          "[26.12.2022..26.03.2023]",
          "[27.12.2022..27.03.2023]",
          "[28.12.2022..28.03.2023]",
          "[29.12.2022..29.03.2023]",
          "[30.12.2022..30.03.2023]",
          "[31.12.2022..31.03.2023]"
         ],
         "x": [
          "2021-01-01T00:00:00",
          "2021-01-02T00:00:00",
          "2021-01-03T00:00:00",
          "2021-01-04T00:00:00",
          "2021-01-05T00:00:00",
          "2021-01-06T00:00:00",
          "2021-01-07T00:00:00",
          "2021-01-08T00:00:00",
          "2021-01-09T00:00:00",
          "2021-01-10T00:00:00",
          "2021-01-11T00:00:00",
          "2021-01-12T00:00:00",
          "2021-01-13T00:00:00",
          "2021-01-14T00:00:00",
          "2021-01-15T00:00:00",
          "2021-01-16T00:00:00",
          "2021-01-17T00:00:00",
          "2021-01-18T00:00:00",
          "2021-01-19T00:00:00",
          "2021-01-20T00:00:00",
          "2021-01-21T00:00:00",
          "2021-01-22T00:00:00",
          "2021-01-23T00:00:00",
          "2021-01-24T00:00:00",
          "2021-01-25T00:00:00",
          "2021-01-26T00:00:00",
          "2021-01-27T00:00:00",
          "2021-01-28T00:00:00",
          "2021-01-29T00:00:00",
          "2021-01-30T00:00:00",
          "2021-01-31T00:00:00",
          "2021-02-01T00:00:00",
          "2021-02-02T00:00:00",
          "2021-02-03T00:00:00",
          "2021-02-04T00:00:00",
          "2021-02-05T00:00:00",
          "2021-02-06T00:00:00",
          "2021-02-07T00:00:00",
          "2021-02-08T00:00:00",
          "2021-02-09T00:00:00",
          "2021-02-10T00:00:00",
          "2021-02-11T00:00:00",
          "2021-02-12T00:00:00",
          "2021-02-13T00:00:00",
          "2021-02-14T00:00:00",
          "2021-02-15T00:00:00",
          "2021-02-16T00:00:00",
          "2021-02-17T00:00:00",
          "2021-02-18T00:00:00",
          "2021-02-19T00:00:00",
          "2021-02-20T00:00:00",
          "2021-02-21T00:00:00",
          "2021-02-22T00:00:00",
          "2021-02-23T00:00:00",
          "2021-02-24T00:00:00",
          "2021-02-25T00:00:00",
          "2021-02-26T00:00:00",
          "2021-02-27T00:00:00",
          "2021-02-27T00:00:00",
          "2021-02-28T00:00:00",
          "2021-03-01T00:00:00",
          "2021-03-02T00:00:00",
          "2021-03-03T00:00:00",
          "2021-03-04T00:00:00",
          "2021-03-05T00:00:00",
          "2021-03-06T00:00:00",
          "2021-03-07T00:00:00",
          "2021-03-08T00:00:00",
          "2021-03-09T00:00:00",
          "2021-03-10T00:00:00",
          "2021-03-11T00:00:00",
          "2021-03-12T00:00:00",
          "2021-03-13T00:00:00",
          "2021-03-14T00:00:00",
          "2021-03-15T00:00:00",
          "2021-03-16T00:00:00",
          "2021-03-17T00:00:00",
          "2021-03-18T00:00:00",
          "2021-03-19T00:00:00",
          "2021-03-20T00:00:00",
          "2021-03-21T00:00:00",
          "2021-03-22T00:00:00",
          "2021-03-23T00:00:00",
          "2021-03-24T00:00:00",
          "2021-03-25T00:00:00",
          "2021-03-26T00:00:00",
          "2021-03-27T00:00:00",
          "2021-03-28T00:00:00",
          "2021-03-29T00:00:00",
          "2021-03-30T00:00:00",
          "2021-03-31T00:00:00",
          "2021-04-01T00:00:00",
          "2021-04-02T00:00:00",
          "2021-04-03T00:00:00",
          "2021-04-04T00:00:00",
          "2021-04-05T00:00:00",
          "2021-04-06T00:00:00",
          "2021-04-07T00:00:00",
          "2021-04-08T00:00:00",
          "2021-04-09T00:00:00",
          "2021-04-10T00:00:00",
          "2021-04-11T00:00:00",
          "2021-04-12T00:00:00",
          "2021-04-13T00:00:00",
          "2021-04-14T00:00:00",
          "2021-04-15T00:00:00",
          "2021-04-16T00:00:00",
          "2021-04-17T00:00:00",
          "2021-04-18T00:00:00",
          "2021-04-19T00:00:00",
          "2021-04-20T00:00:00",
          "2021-04-21T00:00:00",
          "2021-04-22T00:00:00",
          "2021-04-23T00:00:00",
          "2021-04-24T00:00:00",
          "2021-04-25T00:00:00",
          "2021-04-26T00:00:00",
          "2021-04-27T00:00:00",
          "2021-04-28T00:00:00",
          "2021-04-29T00:00:00",
          "2021-04-30T00:00:00",
          "2021-05-01T00:00:00",
          "2021-05-02T00:00:00",
          "2021-05-03T00:00:00",
          "2021-05-04T00:00:00",
          "2021-05-05T00:00:00",
          "2021-05-06T00:00:00",
          "2021-05-07T00:00:00",
          "2021-05-08T00:00:00",
          "2021-05-09T00:00:00",
          "2021-05-10T00:00:00",
          "2021-05-11T00:00:00",
          "2021-05-12T00:00:00",
          "2021-05-13T00:00:00",
          "2021-05-14T00:00:00",
          "2021-05-15T00:00:00",
          "2021-05-16T00:00:00",
          "2021-05-17T00:00:00",
          "2021-05-18T00:00:00",
          "2021-05-19T00:00:00",
          "2021-05-20T00:00:00",
          "2021-05-21T00:00:00",
          "2021-05-22T00:00:00",
          "2021-05-23T00:00:00",
          "2021-05-24T00:00:00",
          "2021-05-25T00:00:00",
          "2021-05-26T00:00:00",
          "2021-05-27T00:00:00",
          "2021-05-28T00:00:00",
          "2021-05-29T00:00:00",
          "2021-05-30T00:00:00",
          "2021-05-31T00:00:00",
          "2021-06-01T00:00:00",
          "2021-06-02T00:00:00",
          "2021-06-03T00:00:00",
          "2021-06-04T00:00:00",
          "2021-06-05T00:00:00",
          "2021-06-06T00:00:00",
          "2021-06-07T00:00:00",
          "2021-06-08T00:00:00",
          "2021-06-09T00:00:00",
          "2021-06-10T00:00:00",
          "2021-06-11T00:00:00",
          "2021-06-12T00:00:00",
          "2021-06-13T00:00:00",
          "2021-06-14T00:00:00",
          "2021-06-15T00:00:00",
          "2021-06-16T00:00:00",
          "2021-06-17T00:00:00",
          "2021-06-18T00:00:00",
          "2021-06-19T00:00:00",
          "2021-06-20T00:00:00",
          "2021-06-21T00:00:00",
          "2021-06-22T00:00:00",
          "2021-06-23T00:00:00",
          "2021-06-24T00:00:00",
          "2021-06-25T00:00:00",
          "2021-06-26T00:00:00",
          "2021-06-27T00:00:00",
          "2021-06-28T00:00:00",
          "2021-06-29T00:00:00",
          "2021-06-30T00:00:00",
          "2021-07-01T00:00:00",
          "2021-07-02T00:00:00",
          "2021-07-03T00:00:00",
          "2021-07-04T00:00:00",
          "2021-07-05T00:00:00",
          "2021-07-06T00:00:00",
          "2021-07-07T00:00:00",
          "2021-07-08T00:00:00",
          "2021-07-09T00:00:00",
          "2021-07-10T00:00:00",
          "2021-07-11T00:00:00",
          "2021-07-12T00:00:00",
          "2021-07-13T00:00:00",
          "2021-07-14T00:00:00",
          "2021-07-15T00:00:00",
          "2021-07-16T00:00:00",
          "2021-07-17T00:00:00",
          "2021-07-18T00:00:00",
          "2021-07-19T00:00:00",
          "2021-07-20T00:00:00",
          "2021-07-21T00:00:00",
          "2021-07-22T00:00:00",
          "2021-07-23T00:00:00",
          "2021-07-24T00:00:00",
          "2021-07-25T00:00:00",
          "2021-07-26T00:00:00",
          "2021-07-27T00:00:00",
          "2021-07-28T00:00:00",
          "2021-07-29T00:00:00",
          "2021-07-30T00:00:00",
          "2021-07-31T00:00:00",
          "2021-08-01T00:00:00",
          "2021-08-02T00:00:00",
          "2021-08-03T00:00:00",
          "2021-08-04T00:00:00",
          "2021-08-05T00:00:00",
          "2021-08-06T00:00:00",
          "2021-08-07T00:00:00",
          "2021-08-08T00:00:00",
          "2021-08-09T00:00:00",
          "2021-08-10T00:00:00",
          "2021-08-11T00:00:00",
          "2021-08-12T00:00:00",
          "2021-08-13T00:00:00",
          "2021-08-14T00:00:00",
          "2021-08-15T00:00:00",
          "2021-08-16T00:00:00",
          "2021-08-17T00:00:00",
          "2021-08-18T00:00:00",
          "2021-08-19T00:00:00",
          "2021-08-20T00:00:00",
          "2021-08-21T00:00:00",
          "2021-08-22T00:00:00",
          "2021-08-23T00:00:00",
          "2021-08-24T00:00:00",
          "2021-08-25T00:00:00",
          "2021-08-26T00:00:00",
          "2021-08-27T00:00:00",
          "2021-08-28T00:00:00",
          "2021-08-29T00:00:00",
          "2021-08-30T00:00:00",
          "2021-08-31T00:00:00",
          "2021-09-01T00:00:00",
          "2021-09-02T00:00:00",
          "2021-09-03T00:00:00",
          "2021-09-04T00:00:00",
          "2021-09-05T00:00:00",
          "2021-09-06T00:00:00",
          "2021-09-07T00:00:00",
          "2021-09-08T00:00:00",
          "2021-09-09T00:00:00",
          "2021-09-10T00:00:00",
          "2021-09-11T00:00:00",
          "2021-09-12T00:00:00",
          "2021-09-13T00:00:00",
          "2021-09-14T00:00:00",
          "2021-09-15T00:00:00",
          "2021-09-16T00:00:00",
          "2021-09-17T00:00:00",
          "2021-09-18T00:00:00",
          "2021-09-19T00:00:00",
          "2021-09-20T00:00:00",
          "2021-09-21T00:00:00",
          "2021-09-22T00:00:00",
          "2021-09-23T00:00:00",
          "2021-09-24T00:00:00",
          "2021-09-25T00:00:00",
          "2021-09-26T00:00:00",
          "2021-09-27T00:00:00",
          "2021-09-28T00:00:00",
          "2021-09-29T00:00:00",
          "2021-09-30T00:00:00",
          "2021-10-01T00:00:00",
          "2021-10-02T00:00:00",
          "2021-10-03T00:00:00",
          "2021-10-04T00:00:00",
          "2021-10-05T00:00:00",
          "2021-10-06T00:00:00",
          "2021-10-07T00:00:00",
          "2021-10-08T00:00:00",
          "2021-10-09T00:00:00",
          "2021-10-10T00:00:00",
          "2021-10-11T00:00:00",
          "2021-10-12T00:00:00",
          "2021-10-13T00:00:00",
          "2021-10-14T00:00:00",
          "2021-10-15T00:00:00",
          "2021-10-16T00:00:00",
          "2021-10-17T00:00:00",
          "2021-10-18T00:00:00",
          "2021-10-19T00:00:00",
          "2021-10-20T00:00:00",
          "2021-10-21T00:00:00",
          "2021-10-22T00:00:00",
          "2021-10-23T00:00:00",
          "2021-10-24T00:00:00",
          "2021-10-25T00:00:00",
          "2021-10-26T00:00:00",
          "2021-10-27T00:00:00",
          "2021-10-28T00:00:00",
          "2021-10-29T00:00:00",
          "2021-10-30T00:00:00",
          "2021-10-31T00:00:00",
          "2021-11-01T00:00:00",
          "2021-11-02T00:00:00",
          "2021-11-03T00:00:00",
          "2021-11-04T00:00:00",
          "2021-11-05T00:00:00",
          "2021-11-06T00:00:00",
          "2021-11-07T00:00:00",
          "2021-11-08T00:00:00",
          "2021-11-09T00:00:00",
          "2021-11-10T00:00:00",
          "2021-11-11T00:00:00",
          "2021-11-12T00:00:00",
          "2021-11-13T00:00:00",
          "2021-11-14T00:00:00",
          "2021-11-15T00:00:00",
          "2021-11-16T00:00:00",
          "2021-11-17T00:00:00",
          "2021-11-18T00:00:00",
          "2021-11-19T00:00:00",
          "2021-11-20T00:00:00",
          "2021-11-21T00:00:00",
          "2021-11-22T00:00:00",
          "2021-11-23T00:00:00",
          "2021-11-24T00:00:00",
          "2021-11-25T00:00:00",
          "2021-11-26T00:00:00",
          "2021-11-27T00:00:00",
          "2021-11-28T00:00:00",
          "2021-11-29T00:00:00",
          "2021-11-30T00:00:00",
          "2021-12-01T00:00:00",
          "2021-12-02T00:00:00",
          "2021-12-03T00:00:00",
          "2021-12-04T00:00:00",
          "2021-12-05T00:00:00",
          "2021-12-06T00:00:00",
          "2021-12-07T00:00:00",
          "2021-12-08T00:00:00",
          "2021-12-09T00:00:00",
          "2021-12-10T00:00:00",
          "2021-12-11T00:00:00",
          "2021-12-12T00:00:00",
          "2021-12-13T00:00:00",
          "2021-12-14T00:00:00",
          "2021-12-15T00:00:00",
          "2021-12-16T00:00:00",
          "2021-12-17T00:00:00",
          "2021-12-18T00:00:00",
          "2021-12-19T00:00:00",
          "2021-12-20T00:00:00",
          "2021-12-21T00:00:00",
          "2021-12-22T00:00:00",
          "2021-12-23T00:00:00",
          "2021-12-24T00:00:00",
          "2021-12-25T00:00:00",
          "2021-12-26T00:00:00",
          "2021-12-27T00:00:00",
          "2021-12-28T00:00:00",
          "2021-12-29T00:00:00",
          "2021-12-30T00:00:00",
          "2021-12-31T00:00:00"
         ],
         "y": [
          0.6409872770309448,
          0.6440813541412354,
          0.6671279072761536,
          0.6671279072761536,
          0.635895311832428,
          0.635895311832428,
          0.635895311832428,
          0.5999426245689392,
          0.5999426245689392,
          0.6033895611763,
          0.5118276476860046,
          0.5496003031730652,
          0.6041421294212341,
          0.6017395257949829,
          0.6224085092544556,
          0.6224085092544556,
          0.6224085092544556,
          0.6346143484115601,
          0.6435202360153198,
          0.4214538037776947,
          0.6530842185020447,
          0.6530842185020447,
          0.6530842185020447,
          0.6530842185020447,
          0.5026577115058899,
          0.438122421503067,
          0.40586474537849426,
          0.4533597528934479,
          0.46435678005218506,
          0.3948305547237396,
          0.57841557264328,
          0.5932491421699524,
          0.57841557264328,
          0.5750210285186768,
          0.5750210285186768,
          0.3790163993835449,
          0.5379273295402527,
          0.5421629548072815,
          0.5461257100105286,
          0.21488481760025024,
          0.21708084642887115,
          0.2227712720632553,
          0.2354554682970047,
          0.2354554682970047,
          0.2354554682970047,
          0.20605726540088654,
          0.19879812002182007,
          0.19788828492164612,
          0.20290981233119965,
          0.20001325011253357,
          0.20001325011253357,
          0.2157953679561615,
          0.4103081524372101,
          0.4103081524372101,
          0.4103081524372101,
          0.3582495450973511,
          0.29468294978141785,
          0.29468294978141785,
          0.2852464020252228,
          0.28973180055618286,
          0.26892319321632385,
          0.2329484224319458,
          0.23514112830162048,
          0.2046077400445938,
          0.2067974954843521,
          0.21431629359722137,
          0.23061156272888184,
          0.26627400517463684,
          0.26627400517463684,
          0.292894572019577,
          0.292894572019577,
          0.32757583260536194,
          0.31852924823760986,
          0.6127244234085083,
          0.6127244234085083,
          0.6127244234085083,
          0.5226045250892639,
          0.46099773049354553,
          0.45179080963134766,
          0.36131078004837036,
          0.401106059551239,
          0.401106059551239,
          0.5365319848060608,
          0.5816571116447449,
          0.5816571116447449,
          0.596147358417511,
          0.600090503692627,
          0.600383996963501,
          0.600383996963501,
          0.600090503692627,
          0.5912501215934753,
          0.5926713943481445,
          0.6005308628082275,
          0.6044840812683105,
          0.5935695171356201,
          0.6027912497520447,
          0.5933237671852112,
          0.5931721329689026,
          0.5946678519248962,
          0.5961625576019287,
          0.5977601408958435,
          0.6065800786018372,
          0.6086453795433044,
          0.6189075112342834,
          0.6217297911643982,
          0.6243658661842346,
          0.6243658661842346,
          0.616113543510437,
          0.616113543510437,
          0.6171659827232361,
          0.6254637837409973,
          0.6223963499069214,
          0.5048295259475708,
          0.42251119017601013,
          0.5180976986885071,
          0.4223933219909668,
          0.30668535828590393,
          0.5204550623893738,
          0.5204550623893738,
          0.6239877343177795,
          0.6239877343177795,
          0.6386721134185791,
          0.5229437351226807,
          0.45827075839042664,
          0.5877543091773987,
          0.5643356442451477,
          0.4567999243736267,
          0.41326814889907837,
          0.41326814889907837,
          0.41326814889907837,
          0.41326814889907837,
          0.41326814889907837,
          0.41326814889907837,
          0.26139816641807556,
          0.3611038029193878,
          0.3720640540122986,
          0.33566999435424805,
          0.33566999435424805,
          0.34484153985977173,
          0.3928193151950836,
          0.3928193151950836,
          0.4661993384361267,
          0.6369603276252747,
          0.6373786330223083,
          0.6373786330223083,
          0.6373105645179749,
          0.6648107767105103,
          0.6557703018188477,
          0.6557703018188477,
          0.6439992785453796,
          0.6166684627532959,
          0.6207910776138306,
          0.6248106360435486,
          0.619163990020752,
          0.6298875212669373,
          0.6337922215461731,
          0.6377642750740051,
          0.6270052790641785,
          0.6270052790641785,
          0.6098622679710388,
          0.608163058757782,
          0.608163058757782,
          0.6094082593917847,
          0.6120971441268921,
          0.6214044690132141,
          0.6189780831336975,
          0.6148417592048645,
          0.6148417592048645,
          0.6087396144866943,
          0.6257989406585693,
          0.6119057536125183,
          0.6018537878990173,
          0.5990965962409973,
          0.5901463627815247,
          0.587574303150177,
          0.5991121530532837,
          0.5963729619979858,
          0.591732382774353,
          0.607806384563446,
          0.591477632522583,
          0.591477632522583,
          0.6338458061218262,
          0.6173280477523804,
          0.6028087139129639,
          0.6099751591682434,
          0.6028087139129639,
          0.6087040901184082,
          0.6087040901184082,
          0.6140695810317993,
          0.5945388674736023,
          0.5983881950378418,
          0.6024044156074524,
          0.560260534286499,
          0.5532190203666687,
          0.5450660586357117,
          0.5450660586357117,
          0.5593551397323608,
          0.5561485886573792,
          0.5450443625450134,
          0.4955974817276001,
          0.4955974817276001,
          0.4955974817276001,
          0.47422683238983154,
          0.5185005068778992,
          0.5185005068778992,
          0.5095952153205872,
          0.5095691084861755,
          0.4729663133621216,
          0.47345471382141113,
          0.48120996356010437,
          0.47697755694389343,
          0.4699995815753937,
          0.46206748485565186,
          0.3482142984867096,
          0.32842499017715454,
          0.44224148988723755,
          0.44224148988723755,
          0.3991214334964752,
          0.08037004619836807,
          0.10870039463043213,
          0.14530183374881744,
          0.3724248707294464,
          0.03768110275268555,
          0.053017646074295044,
          0.023208416998386383,
          0.5672275424003601,
          0.5690493583679199,
          0.5384615659713745,
          0.5384615659713745,
          0.3471266031265259,
          0.3471266031265259,
          0.5350744724273682,
          0.5305696129798889,
          0.5195356607437134,
          0.5135706067085266,
          0.5070268511772156,
          0.5663152933120728,
          0.5663152933120728,
          0.5501975417137146,
          0.5541208982467651,
          0.5569997429847717,
          0.5298547148704529,
          0.541179895401001,
          0.576995313167572,
          0.576995313167572,
          0.576995313167572,
          0.561549186706543,
          0.5691580772399902,
          0.5470274686813354,
          0.5341061353683472,
          0.529737651348114,
          0.5113375186920166,
          0.5113375186920166,
          0.5050960183143616,
          0.49838611483573914,
          0.5419737100601196,
          0.5381068587303162,
          0.5398613810539246,
          0.5683499574661255,
          0.5647123456001282,
          0.5668644309043884,
          0.574184238910675,
          0.5720147490501404,
          0.5631743669509888,
          0.5631743669509888,
          0.5545918941497803,
          0.5420912504196167,
          0.538223922252655,
          0.5680766701698303,
          0.5695327520370483,
          0.5234037041664124,
          0.48351338505744934,
          0.4529094696044922,
          0.33444133400917053,
          0.3574296534061432,
          0.3432925343513489,
          0.3282681703567505,
          0.38416871428489685,
          0.48810866475105286,
          0.48810866475105286,
          0.4655376076698303,
          0.4655376076698303,
          0.4655376076698303,
          0.4956492483615875,
          0.4859321713447571,
          0.4991755485534668,
          0.4915944039821625,
          0.4606039226055145,
          0.42238548398017883,
          0.4866878390312195,
          0.5261526107788086,
          0.5283545255661011,
          0.5189287662506104,
          0.48191767930984497,
          0.48618072271347046,
          0.5168638229370117,
          0.510901927947998,
          0.40121790766716003,
          0.3682073652744293,
          0.445408433675766,
          0.4344007074832916,
          0.39250636100769043,
          0.5072974562644958,
          0.5008518099784851,
          0.46842387318611145,
          0.4276837110519409,
          0.4782383143901825,
          0.5126181840896606,
          0.5431901812553406,
          0.5627871751785278,
          0.5627871751785278,
          0.5673546195030212,
          0.578540027141571,
          0.5804006457328796,
          0.5845634341239929,
          0.6109034419059753,
          0.6200353503227234,
          0.6135995984077454,
          0.6059136390686035,
          0.597586452960968,
          0.6012322902679443,
          0.6012322902679443,
          0.5710049271583557,
          0.5710049271583557,
          0.5673714876174927,
          0.5499399304389954,
          0.5466349720954895,
          0.5430262088775635,
          0.5390728712081909,
          0.543967068195343,
          0.564172089099884,
          0.564172089099884,
          0.564172089099884,
          0.5270141959190369,
          0.5351636409759521,
          0.532470703125,
          0.21877652406692505,
          0.17594073712825775,
          0.40546080470085144,
          0.4643155634403229,
          0.5094166398048401,
          0.47573933005332947,
          0.47573933005332947,
          0.4499172568321228,
          0.4108180105686188,
          0.4237244129180908,
          0.4899750351905823,
          0.5625137686729431,
          0.5800156593322754,
          0.5603694319725037,
          0.5579061508178711,
          0.543575644493103,
          0.5248010158538818,
          0.5248010158538818,
          0.5193187594413757,
          0.5364643931388855,
          0.5651282668113708,
          0.5773833990097046,
          0.5700847506523132,
          0.5700847506523132,
          0.5700847506523132,
          0.5700847506523132,
          0.544372022151947,
          0.5300402641296387,
          0.5232384204864502,
          0.5352512001991272
         ],
         "type": "scatter"
        }
       ],
       "layout": {
        "template": {
         "data": {
          "bar": [
           {
            "error_x": {
             "color": "#2a3f5f"
            },
            "error_y": {
             "color": "#2a3f5f"
            },
            "marker": {
             "line": {
              "color": "#E5ECF6",
              "width": 0.5
             },
             "pattern": {
              "fillmode": "overlay",
              "size": 10,
              "solidity": 0.2
             }
            },
            "type": "bar"
           }
          ],
          "barpolar": [
           {
            "marker": {
             "line": {
              "color": "#E5ECF6",
              "width": 0.5
             },
             "pattern": {
              "fillmode": "overlay",
              "size": 10,
              "solidity": 0.2
             }
            },
            "type": "barpolar"
           }
          ],
          "carpet": [
           {
            "aaxis": {
             "endlinecolor": "#2a3f5f",
             "gridcolor": "white",
             "linecolor": "white",
             "minorgridcolor": "white",
             "startlinecolor": "#2a3f5f"
            },
            "baxis": {
             "endlinecolor": "#2a3f5f",
             "gridcolor": "white",
             "linecolor": "white",
             "minorgridcolor": "white",
             "startlinecolor": "#2a3f5f"
            },
            "type": "carpet"
           }
          ],
          "choropleth": [
           {
            "colorbar": {
             "outlinewidth": 0,
             "ticks": ""
            },
            "type": "choropleth"
           }
          ],
          "contour": [
           {
            "colorbar": {
             "outlinewidth": 0,
             "ticks": ""
            },
            "colorscale": [
             [
              0.0,
              "#0d0887"
             ],
             [
              0.1111111111111111,
              "#46039f"
             ],
             [
              0.2222222222222222,
              "#7201a8"
             ],
             [
              0.3333333333333333,
              "#9c179e"
             ],
             [
              0.4444444444444444,
              "#bd3786"
             ],
             [
              0.5555555555555556,
              "#d8576b"
             ],
             [
              0.6666666666666666,
              "#ed7953"
             ],
             [
              0.7777777777777778,
              "#fb9f3a"
             ],
             [
              0.8888888888888888,
              "#fdca26"
             ],
             [
              1.0,
              "#f0f921"
             ]
            ],
            "type": "contour"
           }
          ],
          "contourcarpet": [
           {
            "colorbar": {
             "outlinewidth": 0,
             "ticks": ""
            },
            "type": "contourcarpet"
           }
          ],
          "heatmap": [
           {
            "colorbar": {
             "outlinewidth": 0,
             "ticks": ""
            },
            "colorscale": [
             [
              0.0,
              "#0d0887"
             ],
             [
              0.1111111111111111,
              "#46039f"
             ],
             [
              0.2222222222222222,
              "#7201a8"
             ],
             [
              0.3333333333333333,
              "#9c179e"
             ],
             [
              0.4444444444444444,
              "#bd3786"
             ],
             [
              0.5555555555555556,
              "#d8576b"
             ],
             [
              0.6666666666666666,
              "#ed7953"
             ],
             [
              0.7777777777777778,
              "#fb9f3a"
             ],
             [
              0.8888888888888888,
              "#fdca26"
             ],
             [
              1.0,
              "#f0f921"
             ]
            ],
            "type": "heatmap"
           }
          ],
          "heatmapgl": [
           {
            "colorbar": {
             "outlinewidth": 0,
             "ticks": ""
            },
            "colorscale": [
             [
              0.0,
              "#0d0887"
             ],
             [
              0.1111111111111111,
              "#46039f"
             ],
             [
              0.2222222222222222,
              "#7201a8"
             ],
             [
              0.3333333333333333,
              "#9c179e"
             ],
             [
              0.4444444444444444,
              "#bd3786"
             ],
             [
              0.5555555555555556,
              "#d8576b"
             ],
             [
              0.6666666666666666,
              "#ed7953"
             ],
             [
              0.7777777777777778,
              "#fb9f3a"
             ],
             [
              0.8888888888888888,
              "#fdca26"
             ],
             [
              1.0,
              "#f0f921"
             ]
            ],
            "type": "heatmapgl"
           }
          ],
          "histogram": [
           {
            "marker": {
             "pattern": {
              "fillmode": "overlay",
              "size": 10,
              "solidity": 0.2
             }
            },
            "type": "histogram"
           }
          ],
          "histogram2d": [
           {
            "colorbar": {
             "outlinewidth": 0,
             "ticks": ""
            },
            "colorscale": [
             [
              0.0,
              "#0d0887"
             ],
             [
              0.1111111111111111,
              "#46039f"
             ],
             [
              0.2222222222222222,
              "#7201a8"
             ],
             [
              0.3333333333333333,
              "#9c179e"
             ],
             [
              0.4444444444444444,
              "#bd3786"
             ],
             [
              0.5555555555555556,
              "#d8576b"
             ],
             [
              0.6666666666666666,
              "#ed7953"
             ],
             [
              0.7777777777777778,
              "#fb9f3a"
             ],
             [
              0.8888888888888888,
              "#fdca26"
             ],
             [
              1.0,
              "#f0f921"
             ]
            ],
            "type": "histogram2d"
           }
          ],
          "histogram2dcontour": [
           {
            "colorbar": {
             "outlinewidth": 0,
             "ticks": ""
            },
            "colorscale": [
             [
              0.0,
              "#0d0887"
             ],
             [
              0.1111111111111111,
              "#46039f"
             ],
             [
              0.2222222222222222,
              "#7201a8"
             ],
             [
              0.3333333333333333,
              "#9c179e"
             ],
             [
              0.4444444444444444,
              "#bd3786"
             ],
             [
              0.5555555555555556,
              "#d8576b"
             ],
             [
              0.6666666666666666,
              "#ed7953"
             ],
             [
              0.7777777777777778,
              "#fb9f3a"
             ],
             [
              0.8888888888888888,
              "#fdca26"
             ],
             [
              1.0,
              "#f0f921"
             ]
            ],
            "type": "histogram2dcontour"
           }
          ],
          "mesh3d": [
           {
            "colorbar": {
             "outlinewidth": 0,
             "ticks": ""
            },
            "type": "mesh3d"
           }
          ],
          "parcoords": [
           {
            "line": {
             "colorbar": {
              "outlinewidth": 0,
              "ticks": ""
             }
            },
            "type": "parcoords"
           }
          ],
          "pie": [
           {
            "automargin": true,
            "type": "pie"
           }
          ],
          "scatter": [
           {
            "marker": {
             "colorbar": {
              "outlinewidth": 0,
              "ticks": ""
             }
            },
            "type": "scatter"
           }
          ],
          "scatter3d": [
           {
            "line": {
             "colorbar": {
              "outlinewidth": 0,
              "ticks": ""
             }
            },
            "marker": {
             "colorbar": {
              "outlinewidth": 0,
              "ticks": ""
             }
            },
            "type": "scatter3d"
           }
          ],
          "scattercarpet": [
           {
            "marker": {
             "colorbar": {
              "outlinewidth": 0,
              "ticks": ""
             }
            },
            "type": "scattercarpet"
           }
          ],
          "scattergeo": [
           {
            "marker": {
             "colorbar": {
              "outlinewidth": 0,
              "ticks": ""
             }
            },
            "type": "scattergeo"
           }
          ],
          "scattergl": [
           {
            "marker": {
             "colorbar": {
              "outlinewidth": 0,
              "ticks": ""
             }
            },
            "type": "scattergl"
           }
          ],
          "scattermapbox": [
           {
            "marker": {
             "colorbar": {
              "outlinewidth": 0,
              "ticks": ""
             }
            },
            "type": "scattermapbox"
           }
          ],
          "scatterpolar": [
           {
            "marker": {
             "colorbar": {
              "outlinewidth": 0,
              "ticks": ""
             }
            },
            "type": "scatterpolar"
           }
          ],
          "scatterpolargl": [
           {
            "marker": {
             "colorbar": {
              "outlinewidth": 0,
              "ticks": ""
             }
            },
            "type": "scatterpolargl"
           }
          ],
          "scatterternary": [
           {
            "marker": {
             "colorbar": {
              "outlinewidth": 0,
              "ticks": ""
             }
            },
            "type": "scatterternary"
           }
          ],
          "surface": [
           {
            "colorbar": {
             "outlinewidth": 0,
             "ticks": ""
            },
            "colorscale": [
             [
              0.0,
              "#0d0887"
             ],
             [
              0.1111111111111111,
              "#46039f"
             ],
             [
              0.2222222222222222,
              "#7201a8"
             ],
             [
              0.3333333333333333,
              "#9c179e"
             ],
             [
              0.4444444444444444,
              "#bd3786"
             ],
             [
              0.5555555555555556,
              "#d8576b"
             ],
             [
              0.6666666666666666,
              "#ed7953"
             ],
             [
              0.7777777777777778,
              "#fb9f3a"
             ],
             [
              0.8888888888888888,
              "#fdca26"
             ],
             [
              1.0,
              "#f0f921"
             ]
            ],
            "type": "surface"
           }
          ],
          "table": [
           {
            "cells": {
             "fill": {
              "color": "#EBF0F8"
             },
             "line": {
              "color": "white"
             }
            },
            "header": {
             "fill": {
              "color": "#C8D4E3"
             },
             "line": {
              "color": "white"
             }
            },
            "type": "table"
           }
          ]
         },
         "layout": {
          "annotationdefaults": {
           "arrowcolor": "#2a3f5f",
           "arrowhead": 0,
           "arrowwidth": 1
          },
          "autotypenumbers": "strict",
          "coloraxis": {
           "colorbar": {
            "outlinewidth": 0,
            "ticks": ""
           }
          },
          "colorscale": {
           "diverging": [
            [
             0,
             "#8e0152"
            ],
            [
             0.1,
             "#c51b7d"
            ],
            [
             0.2,
             "#de77ae"
            ],
            [
             0.3,
             "#f1b6da"
            ],
            [
             0.4,
             "#fde0ef"
            ],
            [
             0.5,
             "#f7f7f7"
            ],
            [
             0.6,
             "#e6f5d0"
            ],
            [
             0.7,
             "#b8e186"
            ],
            [
             0.8,
             "#7fbc41"
            ],
            [
             0.9,
             "#4d9221"
            ],
            [
             1,
             "#276419"
            ]
           ],
           "sequential": [
            [
             0.0,
             "#0d0887"
            ],
            [
             0.1111111111111111,
             "#46039f"
            ],
            [
             0.2222222222222222,
             "#7201a8"
            ],
            [
             0.3333333333333333,
             "#9c179e"
            ],
            [
             0.4444444444444444,
             "#bd3786"
            ],
            [
             0.5555555555555556,
             "#d8576b"
            ],
            [
             0.6666666666666666,
             "#ed7953"
            ],
            [
             0.7777777777777778,
             "#fb9f3a"
            ],
            [
             0.8888888888888888,
             "#fdca26"
            ],
            [
             1.0,
             "#f0f921"
            ]
           ],
           "sequentialminus": [
            [
             0.0,
             "#0d0887"
            ],
            [
             0.1111111111111111,
             "#46039f"
            ],
            [
             0.2222222222222222,
             "#7201a8"
            ],
            [
             0.3333333333333333,
             "#9c179e"
            ],
            [
             0.4444444444444444,
             "#bd3786"
            ],
            [
             0.5555555555555556,
             "#d8576b"
            ],
            [
             0.6666666666666666,
             "#ed7953"
            ],
            [
             0.7777777777777778,
             "#fb9f3a"
            ],
            [
             0.8888888888888888,
             "#fdca26"
            ],
            [
             1.0,
             "#f0f921"
            ]
           ]
          },
          "colorway": [
           "#636efa",
           "#EF553B",
           "#00cc96",
           "#ab63fa",
           "#FFA15A",
           "#19d3f3",
           "#FF6692",
           "#B6E880",
           "#FF97FF",
           "#FECB52"
          ],
          "font": {
           "color": "#2a3f5f"
          },
          "geo": {
           "bgcolor": "white",
           "lakecolor": "white",
           "landcolor": "#E5ECF6",
           "showlakes": true,
           "showland": true,
           "subunitcolor": "white"
          },
          "hoverlabel": {
           "align": "left"
          },
          "hovermode": "closest",
          "mapbox": {
           "style": "light"
          },
          "paper_bgcolor": "white",
          "plot_bgcolor": "#E5ECF6",
          "polar": {
           "angularaxis": {
            "gridcolor": "white",
            "linecolor": "white",
            "ticks": ""
           },
           "bgcolor": "#E5ECF6",
           "radialaxis": {
            "gridcolor": "white",
            "linecolor": "white",
            "ticks": ""
           }
          },
          "scene": {
           "xaxis": {
            "backgroundcolor": "#E5ECF6",
            "gridcolor": "white",
            "gridwidth": 2,
            "linecolor": "white",
            "showbackground": true,
            "ticks": "",
            "zerolinecolor": "white"
           },
           "yaxis": {
            "backgroundcolor": "#E5ECF6",
            "gridcolor": "white",
            "gridwidth": 2,
            "linecolor": "white",
            "showbackground": true,
            "ticks": "",
            "zerolinecolor": "white"
           },
           "zaxis": {
            "backgroundcolor": "#E5ECF6",
            "gridcolor": "white",
            "gridwidth": 2,
            "linecolor": "white",
            "showbackground": true,
            "ticks": "",
            "zerolinecolor": "white"
           }
          },
          "shapedefaults": {
           "line": {
            "color": "#2a3f5f"
           }
          },
          "ternary": {
           "aaxis": {
            "gridcolor": "white",
            "linecolor": "white",
            "ticks": ""
           },
           "baxis": {
            "gridcolor": "white",
            "linecolor": "white",
            "ticks": ""
           },
           "bgcolor": "#E5ECF6",
           "caxis": {
            "gridcolor": "white",
            "linecolor": "white",
            "ticks": ""
           }
          },
          "title": {
           "x": 0.05
          },
          "xaxis": {
           "automargin": true,
           "gridcolor": "white",
           "linecolor": "white",
           "ticks": "",
           "title": {
            "standoff": 15
           },
           "zerolinecolor": "white",
           "zerolinewidth": 2
          },
          "yaxis": {
           "automargin": true,
           "gridcolor": "white",
           "linecolor": "white",
           "ticks": "",
           "title": {
            "standoff": 15
           },
           "zerolinecolor": "white",
           "zerolinewidth": 2
          }
         }
        },
        "title": {
         "text": "Probability of event"
        }
       },
       "config": {
        "plotlyServerURL": "https://plot.ly"
       }
      },
      "text/html": "<div>                            <div id=\"40f3eeb6-8b14-449a-b711-63ac42841e62\" class=\"plotly-graph-div\" style=\"height:525px; width:100%;\"></div>            <script type=\"text/javascript\">                require([\"plotly\"], function(Plotly) {                    window.PLOTLYENV=window.PLOTLYENV || {};                                    if (document.getElementById(\"40f3eeb6-8b14-449a-b711-63ac42841e62\")) {                    Plotly.newPlot(                        \"40f3eeb6-8b14-449a-b711-63ac42841e62\",                        [{\"groupnorm\":\"percent\",\"line\":{\"width\":0.25},\"mode\":\"lines\",\"name\":\"No event\",\"stackgroup\":\"one\",\"text\":[\"[01.01.2022..01.04.2022]\",\"[02.01.2022..02.04.2022]\",\"[03.01.2022..03.04.2022]\",\"[04.01.2022..04.04.2022]\",\"[05.01.2022..05.04.2022]\",\"[06.01.2022..06.04.2022]\",\"[07.01.2022..07.04.2022]\",\"[08.01.2022..08.04.2022]\",\"[09.01.2022..09.04.2022]\",\"[10.01.2022..10.04.2022]\",\"[11.01.2022..11.04.2022]\",\"[12.01.2022..12.04.2022]\",\"[13.01.2022..13.04.2022]\",\"[14.01.2022..14.04.2022]\",\"[15.01.2022..15.04.2022]\",\"[16.01.2022..16.04.2022]\",\"[17.01.2022..17.04.2022]\",\"[18.01.2022..18.04.2022]\",\"[19.01.2022..19.04.2022]\",\"[20.01.2022..20.04.2022]\",\"[21.01.2022..21.04.2022]\",\"[22.01.2022..22.04.2022]\",\"[23.01.2022..23.04.2022]\",\"[24.01.2022..24.04.2022]\",\"[25.01.2022..25.04.2022]\",\"[26.01.2022..26.04.2022]\",\"[27.01.2022..27.04.2022]\",\"[28.01.2022..28.04.2022]\",\"[29.01.2022..29.04.2022]\",\"[30.01.2022..30.04.2022]\",\"[31.01.2022..30.04.2022]\",\"[01.02.2022..01.05.2022]\",\"[02.02.2022..02.05.2022]\",\"[03.02.2022..03.05.2022]\",\"[04.02.2022..04.05.2022]\",\"[05.02.2022..05.05.2022]\",\"[06.02.2022..06.05.2022]\",\"[07.02.2022..07.05.2022]\",\"[08.02.2022..08.05.2022]\",\"[09.02.2022..09.05.2022]\",\"[10.02.2022..10.05.2022]\",\"[11.02.2022..11.05.2022]\",\"[12.02.2022..12.05.2022]\",\"[13.02.2022..13.05.2022]\",\"[14.02.2022..14.05.2022]\",\"[15.02.2022..15.05.2022]\",\"[16.02.2022..16.05.2022]\",\"[17.02.2022..17.05.2022]\",\"[18.02.2022..18.05.2022]\",\"[19.02.2022..19.05.2022]\",\"[20.02.2022..20.05.2022]\",\"[21.02.2022..21.05.2022]\",\"[22.02.2022..22.05.2022]\",\"[23.02.2022..23.05.2022]\",\"[24.02.2022..24.05.2022]\",\"[25.02.2022..25.05.2022]\",\"[26.02.2022..26.05.2022]\",\"[27.02.2022..27.05.2022]\",\"[27.02.2022..27.05.2022]\",\"[28.02.2022..28.05.2022]\",\"[01.03.2022..01.06.2022]\",\"[02.03.2022..02.06.2022]\",\"[03.03.2022..03.06.2022]\",\"[04.03.2022..04.06.2022]\",\"[05.03.2022..05.06.2022]\",\"[06.03.2022..06.06.2022]\",\"[07.03.2022..07.06.2022]\",\"[08.03.2022..08.06.2022]\",\"[09.03.2022..09.06.2022]\",\"[10.03.2022..10.06.2022]\",\"[11.03.2022..11.06.2022]\",\"[12.03.2022..12.06.2022]\",\"[13.03.2022..13.06.2022]\",\"[14.03.2022..14.06.2022]\",\"[15.03.2022..15.06.2022]\",\"[16.03.2022..16.06.2022]\",\"[17.03.2022..17.06.2022]\",\"[18.03.2022..18.06.2022]\",\"[19.03.2022..19.06.2022]\",\"[20.03.2022..20.06.2022]\",\"[21.03.2022..21.06.2022]\",\"[22.03.2022..22.06.2022]\",\"[23.03.2022..23.06.2022]\",\"[24.03.2022..24.06.2022]\",\"[25.03.2022..25.06.2022]\",\"[26.03.2022..26.06.2022]\",\"[27.03.2022..27.06.2022]\",\"[28.03.2022..28.06.2022]\",\"[29.03.2022..29.06.2022]\",\"[30.03.2022..30.06.2022]\",\"[31.03.2022..30.06.2022]\",\"[01.04.2022..01.07.2022]\",\"[02.04.2022..02.07.2022]\",\"[03.04.2022..03.07.2022]\",\"[04.04.2022..04.07.2022]\",\"[05.04.2022..05.07.2022]\",\"[06.04.2022..06.07.2022]\",\"[07.04.2022..07.07.2022]\",\"[08.04.2022..08.07.2022]\",\"[09.04.2022..09.07.2022]\",\"[10.04.2022..10.07.2022]\",\"[11.04.2022..11.07.2022]\",\"[12.04.2022..12.07.2022]\",\"[13.04.2022..13.07.2022]\",\"[14.04.2022..14.07.2022]\",\"[15.04.2022..15.07.2022]\",\"[16.04.2022..16.07.2022]\",\"[17.04.2022..17.07.2022]\",\"[18.04.2022..18.07.2022]\",\"[19.04.2022..19.07.2022]\",\"[20.04.2022..20.07.2022]\",\"[21.04.2022..21.07.2022]\",\"[22.04.2022..22.07.2022]\",\"[23.04.2022..23.07.2022]\",\"[24.04.2022..24.07.2022]\",\"[25.04.2022..25.07.2022]\",\"[26.04.2022..26.07.2022]\",\"[27.04.2022..27.07.2022]\",\"[28.04.2022..28.07.2022]\",\"[29.04.2022..29.07.2022]\",\"[30.04.2022..30.07.2022]\",\"[01.05.2022..01.08.2022]\",\"[02.05.2022..02.08.2022]\",\"[03.05.2022..03.08.2022]\",\"[04.05.2022..04.08.2022]\",\"[05.05.2022..05.08.2022]\",\"[06.05.2022..06.08.2022]\",\"[07.05.2022..07.08.2022]\",\"[08.05.2022..08.08.2022]\",\"[09.05.2022..09.08.2022]\",\"[10.05.2022..10.08.2022]\",\"[11.05.2022..11.08.2022]\",\"[12.05.2022..12.08.2022]\",\"[13.05.2022..13.08.2022]\",\"[14.05.2022..14.08.2022]\",\"[15.05.2022..15.08.2022]\",\"[16.05.2022..16.08.2022]\",\"[17.05.2022..17.08.2022]\",\"[18.05.2022..18.08.2022]\",\"[19.05.2022..19.08.2022]\",\"[20.05.2022..20.08.2022]\",\"[21.05.2022..21.08.2022]\",\"[22.05.2022..22.08.2022]\",\"[23.05.2022..23.08.2022]\",\"[24.05.2022..24.08.2022]\",\"[25.05.2022..25.08.2022]\",\"[26.05.2022..26.08.2022]\",\"[27.05.2022..27.08.2022]\",\"[28.05.2022..28.08.2022]\",\"[29.05.2022..29.08.2022]\",\"[30.05.2022..30.08.2022]\",\"[31.05.2022..31.08.2022]\",\"[01.06.2022..01.09.2022]\",\"[02.06.2022..02.09.2022]\",\"[03.06.2022..03.09.2022]\",\"[04.06.2022..04.09.2022]\",\"[05.06.2022..05.09.2022]\",\"[06.06.2022..06.09.2022]\",\"[07.06.2022..07.09.2022]\",\"[08.06.2022..08.09.2022]\",\"[09.06.2022..09.09.2022]\",\"[10.06.2022..10.09.2022]\",\"[11.06.2022..11.09.2022]\",\"[12.06.2022..12.09.2022]\",\"[13.06.2022..13.09.2022]\",\"[14.06.2022..14.09.2022]\",\"[15.06.2022..15.09.2022]\",\"[16.06.2022..16.09.2022]\",\"[17.06.2022..17.09.2022]\",\"[18.06.2022..18.09.2022]\",\"[19.06.2022..19.09.2022]\",\"[20.06.2022..20.09.2022]\",\"[21.06.2022..21.09.2022]\",\"[22.06.2022..22.09.2022]\",\"[23.06.2022..23.09.2022]\",\"[24.06.2022..24.09.2022]\",\"[25.06.2022..25.09.2022]\",\"[26.06.2022..26.09.2022]\",\"[27.06.2022..27.09.2022]\",\"[28.06.2022..28.09.2022]\",\"[29.06.2022..29.09.2022]\",\"[30.06.2022..30.09.2022]\",\"[01.07.2022..01.10.2022]\",\"[02.07.2022..02.10.2022]\",\"[03.07.2022..03.10.2022]\",\"[04.07.2022..04.10.2022]\",\"[05.07.2022..05.10.2022]\",\"[06.07.2022..06.10.2022]\",\"[07.07.2022..07.10.2022]\",\"[08.07.2022..08.10.2022]\",\"[09.07.2022..09.10.2022]\",\"[10.07.2022..10.10.2022]\",\"[11.07.2022..11.10.2022]\",\"[12.07.2022..12.10.2022]\",\"[13.07.2022..13.10.2022]\",\"[14.07.2022..14.10.2022]\",\"[15.07.2022..15.10.2022]\",\"[16.07.2022..16.10.2022]\",\"[17.07.2022..17.10.2022]\",\"[18.07.2022..18.10.2022]\",\"[19.07.2022..19.10.2022]\",\"[20.07.2022..20.10.2022]\",\"[21.07.2022..21.10.2022]\",\"[22.07.2022..22.10.2022]\",\"[23.07.2022..23.10.2022]\",\"[24.07.2022..24.10.2022]\",\"[25.07.2022..25.10.2022]\",\"[26.07.2022..26.10.2022]\",\"[27.07.2022..27.10.2022]\",\"[28.07.2022..28.10.2022]\",\"[29.07.2022..29.10.2022]\",\"[30.07.2022..30.10.2022]\",\"[31.07.2022..31.10.2022]\",\"[01.08.2022..01.11.2022]\",\"[02.08.2022..02.11.2022]\",\"[03.08.2022..03.11.2022]\",\"[04.08.2022..04.11.2022]\",\"[05.08.2022..05.11.2022]\",\"[06.08.2022..06.11.2022]\",\"[07.08.2022..07.11.2022]\",\"[08.08.2022..08.11.2022]\",\"[09.08.2022..09.11.2022]\",\"[10.08.2022..10.11.2022]\",\"[11.08.2022..11.11.2022]\",\"[12.08.2022..12.11.2022]\",\"[13.08.2022..13.11.2022]\",\"[14.08.2022..14.11.2022]\",\"[15.08.2022..15.11.2022]\",\"[16.08.2022..16.11.2022]\",\"[17.08.2022..17.11.2022]\",\"[18.08.2022..18.11.2022]\",\"[19.08.2022..19.11.2022]\",\"[20.08.2022..20.11.2022]\",\"[21.08.2022..21.11.2022]\",\"[22.08.2022..22.11.2022]\",\"[23.08.2022..23.11.2022]\",\"[24.08.2022..24.11.2022]\",\"[25.08.2022..25.11.2022]\",\"[26.08.2022..26.11.2022]\",\"[27.08.2022..27.11.2022]\",\"[28.08.2022..28.11.2022]\",\"[29.08.2022..29.11.2022]\",\"[30.08.2022..30.11.2022]\",\"[31.08.2022..30.11.2022]\",\"[01.09.2022..01.12.2022]\",\"[02.09.2022..02.12.2022]\",\"[03.09.2022..03.12.2022]\",\"[04.09.2022..04.12.2022]\",\"[05.09.2022..05.12.2022]\",\"[06.09.2022..06.12.2022]\",\"[07.09.2022..07.12.2022]\",\"[08.09.2022..08.12.2022]\",\"[09.09.2022..09.12.2022]\",\"[10.09.2022..10.12.2022]\",\"[11.09.2022..11.12.2022]\",\"[12.09.2022..12.12.2022]\",\"[13.09.2022..13.12.2022]\",\"[14.09.2022..14.12.2022]\",\"[15.09.2022..15.12.2022]\",\"[16.09.2022..16.12.2022]\",\"[17.09.2022..17.12.2022]\",\"[18.09.2022..18.12.2022]\",\"[19.09.2022..19.12.2022]\",\"[20.09.2022..20.12.2022]\",\"[21.09.2022..21.12.2022]\",\"[22.09.2022..22.12.2022]\",\"[23.09.2022..23.12.2022]\",\"[24.09.2022..24.12.2022]\",\"[25.09.2022..25.12.2022]\",\"[26.09.2022..26.12.2022]\",\"[27.09.2022..27.12.2022]\",\"[28.09.2022..28.12.2022]\",\"[29.09.2022..29.12.2022]\",\"[30.09.2022..30.12.2022]\",\"[01.10.2022..01.01.2023]\",\"[02.10.2022..02.01.2023]\",\"[03.10.2022..03.01.2023]\",\"[04.10.2022..04.01.2023]\",\"[05.10.2022..05.01.2023]\",\"[06.10.2022..06.01.2023]\",\"[07.10.2022..07.01.2023]\",\"[08.10.2022..08.01.2023]\",\"[09.10.2022..09.01.2023]\",\"[10.10.2022..10.01.2023]\",\"[11.10.2022..11.01.2023]\",\"[12.10.2022..12.01.2023]\",\"[13.10.2022..13.01.2023]\",\"[14.10.2022..14.01.2023]\",\"[15.10.2022..15.01.2023]\",\"[16.10.2022..16.01.2023]\",\"[17.10.2022..17.01.2023]\",\"[18.10.2022..18.01.2023]\",\"[19.10.2022..19.01.2023]\",\"[20.10.2022..20.01.2023]\",\"[21.10.2022..21.01.2023]\",\"[22.10.2022..22.01.2023]\",\"[23.10.2022..23.01.2023]\",\"[24.10.2022..24.01.2023]\",\"[25.10.2022..25.01.2023]\",\"[26.10.2022..26.01.2023]\",\"[27.10.2022..27.01.2023]\",\"[28.10.2022..28.01.2023]\",\"[29.10.2022..29.01.2023]\",\"[30.10.2022..30.01.2023]\",\"[31.10.2022..31.01.2023]\",\"[01.11.2022..01.02.2023]\",\"[02.11.2022..02.02.2023]\",\"[03.11.2022..03.02.2023]\",\"[04.11.2022..04.02.2023]\",\"[05.11.2022..05.02.2023]\",\"[06.11.2022..06.02.2023]\",\"[07.11.2022..07.02.2023]\",\"[08.11.2022..08.02.2023]\",\"[09.11.2022..09.02.2023]\",\"[10.11.2022..10.02.2023]\",\"[11.11.2022..11.02.2023]\",\"[12.11.2022..12.02.2023]\",\"[13.11.2022..13.02.2023]\",\"[14.11.2022..14.02.2023]\",\"[15.11.2022..15.02.2023]\",\"[16.11.2022..16.02.2023]\",\"[17.11.2022..17.02.2023]\",\"[18.11.2022..18.02.2023]\",\"[19.11.2022..19.02.2023]\",\"[20.11.2022..20.02.2023]\",\"[21.11.2022..21.02.2023]\",\"[22.11.2022..22.02.2023]\",\"[23.11.2022..23.02.2023]\",\"[24.11.2022..24.02.2023]\",\"[25.11.2022..25.02.2023]\",\"[26.11.2022..26.02.2023]\",\"[27.11.2022..27.02.2023]\",\"[28.11.2022..28.02.2023]\",\"[29.11.2022..28.02.2023]\",\"[30.11.2022..28.02.2023]\",\"[01.12.2022..01.03.2023]\",\"[02.12.2022..02.03.2023]\",\"[03.12.2022..03.03.2023]\",\"[04.12.2022..04.03.2023]\",\"[05.12.2022..05.03.2023]\",\"[06.12.2022..06.03.2023]\",\"[07.12.2022..07.03.2023]\",\"[08.12.2022..08.03.2023]\",\"[09.12.2022..09.03.2023]\",\"[10.12.2022..10.03.2023]\",\"[11.12.2022..11.03.2023]\",\"[12.12.2022..12.03.2023]\",\"[13.12.2022..13.03.2023]\",\"[14.12.2022..14.03.2023]\",\"[15.12.2022..15.03.2023]\",\"[16.12.2022..16.03.2023]\",\"[17.12.2022..17.03.2023]\",\"[18.12.2022..18.03.2023]\",\"[19.12.2022..19.03.2023]\",\"[20.12.2022..20.03.2023]\",\"[21.12.2022..21.03.2023]\",\"[22.12.2022..22.03.2023]\",\"[23.12.2022..23.03.2023]\",\"[24.12.2022..24.03.2023]\",\"[25.12.2022..25.03.2023]\",\"[26.12.2022..26.03.2023]\",\"[27.12.2022..27.03.2023]\",\"[28.12.2022..28.03.2023]\",\"[29.12.2022..29.03.2023]\",\"[30.12.2022..30.03.2023]\",\"[31.12.2022..31.03.2023]\"],\"x\":[\"2021-01-01T00:00:00\",\"2021-01-02T00:00:00\",\"2021-01-03T00:00:00\",\"2021-01-04T00:00:00\",\"2021-01-05T00:00:00\",\"2021-01-06T00:00:00\",\"2021-01-07T00:00:00\",\"2021-01-08T00:00:00\",\"2021-01-09T00:00:00\",\"2021-01-10T00:00:00\",\"2021-01-11T00:00:00\",\"2021-01-12T00:00:00\",\"2021-01-13T00:00:00\",\"2021-01-14T00:00:00\",\"2021-01-15T00:00:00\",\"2021-01-16T00:00:00\",\"2021-01-17T00:00:00\",\"2021-01-18T00:00:00\",\"2021-01-19T00:00:00\",\"2021-01-20T00:00:00\",\"2021-01-21T00:00:00\",\"2021-01-22T00:00:00\",\"2021-01-23T00:00:00\",\"2021-01-24T00:00:00\",\"2021-01-25T00:00:00\",\"2021-01-26T00:00:00\",\"2021-01-27T00:00:00\",\"2021-01-28T00:00:00\",\"2021-01-29T00:00:00\",\"2021-01-30T00:00:00\",\"2021-01-31T00:00:00\",\"2021-02-01T00:00:00\",\"2021-02-02T00:00:00\",\"2021-02-03T00:00:00\",\"2021-02-04T00:00:00\",\"2021-02-05T00:00:00\",\"2021-02-06T00:00:00\",\"2021-02-07T00:00:00\",\"2021-02-08T00:00:00\",\"2021-02-09T00:00:00\",\"2021-02-10T00:00:00\",\"2021-02-11T00:00:00\",\"2021-02-12T00:00:00\",\"2021-02-13T00:00:00\",\"2021-02-14T00:00:00\",\"2021-02-15T00:00:00\",\"2021-02-16T00:00:00\",\"2021-02-17T00:00:00\",\"2021-02-18T00:00:00\",\"2021-02-19T00:00:00\",\"2021-02-20T00:00:00\",\"2021-02-21T00:00:00\",\"2021-02-22T00:00:00\",\"2021-02-23T00:00:00\",\"2021-02-24T00:00:00\",\"2021-02-25T00:00:00\",\"2021-02-26T00:00:00\",\"2021-02-27T00:00:00\",\"2021-02-27T00:00:00\",\"2021-02-28T00:00:00\",\"2021-03-01T00:00:00\",\"2021-03-02T00:00:00\",\"2021-03-03T00:00:00\",\"2021-03-04T00:00:00\",\"2021-03-05T00:00:00\",\"2021-03-06T00:00:00\",\"2021-03-07T00:00:00\",\"2021-03-08T00:00:00\",\"2021-03-09T00:00:00\",\"2021-03-10T00:00:00\",\"2021-03-11T00:00:00\",\"2021-03-12T00:00:00\",\"2021-03-13T00:00:00\",\"2021-03-14T00:00:00\",\"2021-03-15T00:00:00\",\"2021-03-16T00:00:00\",\"2021-03-17T00:00:00\",\"2021-03-18T00:00:00\",\"2021-03-19T00:00:00\",\"2021-03-20T00:00:00\",\"2021-03-21T00:00:00\",\"2021-03-22T00:00:00\",\"2021-03-23T00:00:00\",\"2021-03-24T00:00:00\",\"2021-03-25T00:00:00\",\"2021-03-26T00:00:00\",\"2021-03-27T00:00:00\",\"2021-03-28T00:00:00\",\"2021-03-29T00:00:00\",\"2021-03-30T00:00:00\",\"2021-03-31T00:00:00\",\"2021-04-01T00:00:00\",\"2021-04-02T00:00:00\",\"2021-04-03T00:00:00\",\"2021-04-04T00:00:00\",\"2021-04-05T00:00:00\",\"2021-04-06T00:00:00\",\"2021-04-07T00:00:00\",\"2021-04-08T00:00:00\",\"2021-04-09T00:00:00\",\"2021-04-10T00:00:00\",\"2021-04-11T00:00:00\",\"2021-04-12T00:00:00\",\"2021-04-13T00:00:00\",\"2021-04-14T00:00:00\",\"2021-04-15T00:00:00\",\"2021-04-16T00:00:00\",\"2021-04-17T00:00:00\",\"2021-04-18T00:00:00\",\"2021-04-19T00:00:00\",\"2021-04-20T00:00:00\",\"2021-04-21T00:00:00\",\"2021-04-22T00:00:00\",\"2021-04-23T00:00:00\",\"2021-04-24T00:00:00\",\"2021-04-25T00:00:00\",\"2021-04-26T00:00:00\",\"2021-04-27T00:00:00\",\"2021-04-28T00:00:00\",\"2021-04-29T00:00:00\",\"2021-04-30T00:00:00\",\"2021-05-01T00:00:00\",\"2021-05-02T00:00:00\",\"2021-05-03T00:00:00\",\"2021-05-04T00:00:00\",\"2021-05-05T00:00:00\",\"2021-05-06T00:00:00\",\"2021-05-07T00:00:00\",\"2021-05-08T00:00:00\",\"2021-05-09T00:00:00\",\"2021-05-10T00:00:00\",\"2021-05-11T00:00:00\",\"2021-05-12T00:00:00\",\"2021-05-13T00:00:00\",\"2021-05-14T00:00:00\",\"2021-05-15T00:00:00\",\"2021-05-16T00:00:00\",\"2021-05-17T00:00:00\",\"2021-05-18T00:00:00\",\"2021-05-19T00:00:00\",\"2021-05-20T00:00:00\",\"2021-05-21T00:00:00\",\"2021-05-22T00:00:00\",\"2021-05-23T00:00:00\",\"2021-05-24T00:00:00\",\"2021-05-25T00:00:00\",\"2021-05-26T00:00:00\",\"2021-05-27T00:00:00\",\"2021-05-28T00:00:00\",\"2021-05-29T00:00:00\",\"2021-05-30T00:00:00\",\"2021-05-31T00:00:00\",\"2021-06-01T00:00:00\",\"2021-06-02T00:00:00\",\"2021-06-03T00:00:00\",\"2021-06-04T00:00:00\",\"2021-06-05T00:00:00\",\"2021-06-06T00:00:00\",\"2021-06-07T00:00:00\",\"2021-06-08T00:00:00\",\"2021-06-09T00:00:00\",\"2021-06-10T00:00:00\",\"2021-06-11T00:00:00\",\"2021-06-12T00:00:00\",\"2021-06-13T00:00:00\",\"2021-06-14T00:00:00\",\"2021-06-15T00:00:00\",\"2021-06-16T00:00:00\",\"2021-06-17T00:00:00\",\"2021-06-18T00:00:00\",\"2021-06-19T00:00:00\",\"2021-06-20T00:00:00\",\"2021-06-21T00:00:00\",\"2021-06-22T00:00:00\",\"2021-06-23T00:00:00\",\"2021-06-24T00:00:00\",\"2021-06-25T00:00:00\",\"2021-06-26T00:00:00\",\"2021-06-27T00:00:00\",\"2021-06-28T00:00:00\",\"2021-06-29T00:00:00\",\"2021-06-30T00:00:00\",\"2021-07-01T00:00:00\",\"2021-07-02T00:00:00\",\"2021-07-03T00:00:00\",\"2021-07-04T00:00:00\",\"2021-07-05T00:00:00\",\"2021-07-06T00:00:00\",\"2021-07-07T00:00:00\",\"2021-07-08T00:00:00\",\"2021-07-09T00:00:00\",\"2021-07-10T00:00:00\",\"2021-07-11T00:00:00\",\"2021-07-12T00:00:00\",\"2021-07-13T00:00:00\",\"2021-07-14T00:00:00\",\"2021-07-15T00:00:00\",\"2021-07-16T00:00:00\",\"2021-07-17T00:00:00\",\"2021-07-18T00:00:00\",\"2021-07-19T00:00:00\",\"2021-07-20T00:00:00\",\"2021-07-21T00:00:00\",\"2021-07-22T00:00:00\",\"2021-07-23T00:00:00\",\"2021-07-24T00:00:00\",\"2021-07-25T00:00:00\",\"2021-07-26T00:00:00\",\"2021-07-27T00:00:00\",\"2021-07-28T00:00:00\",\"2021-07-29T00:00:00\",\"2021-07-30T00:00:00\",\"2021-07-31T00:00:00\",\"2021-08-01T00:00:00\",\"2021-08-02T00:00:00\",\"2021-08-03T00:00:00\",\"2021-08-04T00:00:00\",\"2021-08-05T00:00:00\",\"2021-08-06T00:00:00\",\"2021-08-07T00:00:00\",\"2021-08-08T00:00:00\",\"2021-08-09T00:00:00\",\"2021-08-10T00:00:00\",\"2021-08-11T00:00:00\",\"2021-08-12T00:00:00\",\"2021-08-13T00:00:00\",\"2021-08-14T00:00:00\",\"2021-08-15T00:00:00\",\"2021-08-16T00:00:00\",\"2021-08-17T00:00:00\",\"2021-08-18T00:00:00\",\"2021-08-19T00:00:00\",\"2021-08-20T00:00:00\",\"2021-08-21T00:00:00\",\"2021-08-22T00:00:00\",\"2021-08-23T00:00:00\",\"2021-08-24T00:00:00\",\"2021-08-25T00:00:00\",\"2021-08-26T00:00:00\",\"2021-08-27T00:00:00\",\"2021-08-28T00:00:00\",\"2021-08-29T00:00:00\",\"2021-08-30T00:00:00\",\"2021-08-31T00:00:00\",\"2021-09-01T00:00:00\",\"2021-09-02T00:00:00\",\"2021-09-03T00:00:00\",\"2021-09-04T00:00:00\",\"2021-09-05T00:00:00\",\"2021-09-06T00:00:00\",\"2021-09-07T00:00:00\",\"2021-09-08T00:00:00\",\"2021-09-09T00:00:00\",\"2021-09-10T00:00:00\",\"2021-09-11T00:00:00\",\"2021-09-12T00:00:00\",\"2021-09-13T00:00:00\",\"2021-09-14T00:00:00\",\"2021-09-15T00:00:00\",\"2021-09-16T00:00:00\",\"2021-09-17T00:00:00\",\"2021-09-18T00:00:00\",\"2021-09-19T00:00:00\",\"2021-09-20T00:00:00\",\"2021-09-21T00:00:00\",\"2021-09-22T00:00:00\",\"2021-09-23T00:00:00\",\"2021-09-24T00:00:00\",\"2021-09-25T00:00:00\",\"2021-09-26T00:00:00\",\"2021-09-27T00:00:00\",\"2021-09-28T00:00:00\",\"2021-09-29T00:00:00\",\"2021-09-30T00:00:00\",\"2021-10-01T00:00:00\",\"2021-10-02T00:00:00\",\"2021-10-03T00:00:00\",\"2021-10-04T00:00:00\",\"2021-10-05T00:00:00\",\"2021-10-06T00:00:00\",\"2021-10-07T00:00:00\",\"2021-10-08T00:00:00\",\"2021-10-09T00:00:00\",\"2021-10-10T00:00:00\",\"2021-10-11T00:00:00\",\"2021-10-12T00:00:00\",\"2021-10-13T00:00:00\",\"2021-10-14T00:00:00\",\"2021-10-15T00:00:00\",\"2021-10-16T00:00:00\",\"2021-10-17T00:00:00\",\"2021-10-18T00:00:00\",\"2021-10-19T00:00:00\",\"2021-10-20T00:00:00\",\"2021-10-21T00:00:00\",\"2021-10-22T00:00:00\",\"2021-10-23T00:00:00\",\"2021-10-24T00:00:00\",\"2021-10-25T00:00:00\",\"2021-10-26T00:00:00\",\"2021-10-27T00:00:00\",\"2021-10-28T00:00:00\",\"2021-10-29T00:00:00\",\"2021-10-30T00:00:00\",\"2021-10-31T00:00:00\",\"2021-11-01T00:00:00\",\"2021-11-02T00:00:00\",\"2021-11-03T00:00:00\",\"2021-11-04T00:00:00\",\"2021-11-05T00:00:00\",\"2021-11-06T00:00:00\",\"2021-11-07T00:00:00\",\"2021-11-08T00:00:00\",\"2021-11-09T00:00:00\",\"2021-11-10T00:00:00\",\"2021-11-11T00:00:00\",\"2021-11-12T00:00:00\",\"2021-11-13T00:00:00\",\"2021-11-14T00:00:00\",\"2021-11-15T00:00:00\",\"2021-11-16T00:00:00\",\"2021-11-17T00:00:00\",\"2021-11-18T00:00:00\",\"2021-11-19T00:00:00\",\"2021-11-20T00:00:00\",\"2021-11-21T00:00:00\",\"2021-11-22T00:00:00\",\"2021-11-23T00:00:00\",\"2021-11-24T00:00:00\",\"2021-11-25T00:00:00\",\"2021-11-26T00:00:00\",\"2021-11-27T00:00:00\",\"2021-11-28T00:00:00\",\"2021-11-29T00:00:00\",\"2021-11-30T00:00:00\",\"2021-12-01T00:00:00\",\"2021-12-02T00:00:00\",\"2021-12-03T00:00:00\",\"2021-12-04T00:00:00\",\"2021-12-05T00:00:00\",\"2021-12-06T00:00:00\",\"2021-12-07T00:00:00\",\"2021-12-08T00:00:00\",\"2021-12-09T00:00:00\",\"2021-12-10T00:00:00\",\"2021-12-11T00:00:00\",\"2021-12-12T00:00:00\",\"2021-12-13T00:00:00\",\"2021-12-14T00:00:00\",\"2021-12-15T00:00:00\",\"2021-12-16T00:00:00\",\"2021-12-17T00:00:00\",\"2021-12-18T00:00:00\",\"2021-12-19T00:00:00\",\"2021-12-20T00:00:00\",\"2021-12-21T00:00:00\",\"2021-12-22T00:00:00\",\"2021-12-23T00:00:00\",\"2021-12-24T00:00:00\",\"2021-12-25T00:00:00\",\"2021-12-26T00:00:00\",\"2021-12-27T00:00:00\",\"2021-12-28T00:00:00\",\"2021-12-29T00:00:00\",\"2021-12-30T00:00:00\",\"2021-12-31T00:00:00\"],\"y\":[0.3590127229690552,0.35591864585876465,0.33287209272384644,0.33287209272384644,0.364104688167572,0.364104688167572,0.364104688167572,0.4000573754310608,0.4000573754310608,0.39661043882369995,0.48817235231399536,0.4503996968269348,0.39585787057876587,0.3982604742050171,0.37759149074554443,0.37759149074554443,0.37759149074554443,0.36538565158843994,0.3564797639846802,0.5785461664199829,0.3469157814979553,0.3469157814979553,0.3469157814979553,0.3469157814979553,0.4973422884941101,0.5618776082992554,0.5941352844238281,0.5466402769088745,0.5356432199478149,0.605169415473938,0.42158442735671997,0.4067508578300476,0.42158442735671997,0.42497897148132324,0.42497897148132324,0.6209836006164551,0.4620726704597473,0.4578370451927185,0.45387428998947144,0.7851151823997498,0.78291916847229,0.7772287130355835,0.7645445466041565,0.7645445466041565,0.7645445466041565,0.7939427495002747,0.8012018799781799,0.8021117448806763,0.7970901727676392,0.799986720085144,0.799986720085144,0.7842046022415161,0.5896918773651123,0.5896918773651123,0.5896918773651123,0.6417504549026489,0.7053170204162598,0.7053170204162598,0.7147536277770996,0.7102681994438171,0.7310768365859985,0.7670515775680542,0.7648588418960571,0.7953922748565674,0.7932025194168091,0.7856836915016174,0.7693884372711182,0.7337260246276855,0.7337260246276855,0.7071053981781006,0.7071053981781006,0.6724241971969604,0.6814707517623901,0.3872755765914917,0.3872755765914917,0.3872755765914917,0.4773954749107361,0.5390022993087769,0.5482091903686523,0.6386892199516296,0.598893940448761,0.598893940448761,0.4634680151939392,0.4183428883552551,0.4183428883552551,0.403852641582489,0.39990949630737305,0.399616003036499,0.399616003036499,0.39990949630737305,0.40874987840652466,0.40732860565185547,0.39946913719177246,0.39551591873168945,0.4064304828643799,0.3972087502479553,0.4066762328147888,0.4068278670310974,0.40533214807510376,0.4038374423980713,0.4022398591041565,0.39341992139816284,0.39135462045669556,0.38109248876571655,0.3782702088356018,0.3756341338157654,0.3756341338157654,0.383886456489563,0.383886456489563,0.3828340172767639,0.3745362162590027,0.3776036500930786,0.4951704740524292,0.5774887800216675,0.4819023013114929,0.5776066780090332,0.6933146715164185,0.4795449376106262,0.4795449376106262,0.37601226568222046,0.37601226568222046,0.3613278865814209,0.47705626487731934,0.541729211807251,0.4122456908226013,0.4356643557548523,0.5432000756263733,0.5867318511009216,0.5867318511009216,0.5867318511009216,0.5867318511009216,0.5867318511009216,0.5867318511009216,0.738601803779602,0.6388962268829346,0.6279359459877014,0.664330005645752,0.664330005645752,0.6551584601402283,0.6071807146072388,0.6071807146072388,0.5338006615638733,0.36303967237472534,0.36262136697769165,0.36262136697769165,0.36268943548202515,0.33518922328948975,0.34422969818115234,0.34422969818115234,0.35600072145462036,0.3833315372467041,0.37920892238616943,0.3751893639564514,0.38083600997924805,0.37011247873306274,0.3662077784538269,0.3622357249259949,0.37299472093582153,0.37299472093582153,0.3901377320289612,0.391836941242218,0.391836941242218,0.39059174060821533,0.3879028558731079,0.3785955309867859,0.3810219168663025,0.3851582407951355,0.3851582407951355,0.39126038551330566,0.37420105934143066,0.3880942463874817,0.39814621210098267,0.4009034037590027,0.40985363721847534,0.412425696849823,0.4008878469467163,0.40362703800201416,0.408267617225647,0.39219361543655396,0.408522367477417,0.408522367477417,0.36615419387817383,0.38267195224761963,0.39719128608703613,0.3900248408317566,0.39719128608703613,0.3912959098815918,0.3912959098815918,0.3859304189682007,0.4054611325263977,0.4016118049621582,0.3975955843925476,0.439739465713501,0.4467809796333313,0.45493394136428833,0.45493394136428833,0.44064486026763916,0.44385141134262085,0.4549556374549866,0.5044025182723999,0.5044025182723999,0.5044025182723999,0.5257731676101685,0.48149949312210083,0.48149949312210083,0.49040478467941284,0.49043089151382446,0.5270336866378784,0.5265452861785889,0.5187900066375732,0.5230224132537842,0.5300004482269287,0.5379325151443481,0.6517857313156128,0.6715750098228455,0.5577585101127625,0.5577585101127625,0.6008785963058472,0.9196299314498901,0.8912996053695679,0.8546981811523438,0.627575159072876,0.9623188972473145,0.9469823837280273,0.9767915606498718,0.4327724575996399,0.4309506416320801,0.4615384340286255,0.4615384340286255,0.6528733968734741,0.6528733968734741,0.46492552757263184,0.4694303870201111,0.4804643392562866,0.4864293932914734,0.4929731488227844,0.43368470668792725,0.43368470668792725,0.4498024582862854,0.44587910175323486,0.44300025701522827,0.4701452851295471,0.458820104598999,0.423004686832428,0.423004686832428,0.423004686832428,0.43845081329345703,0.43084192276000977,0.45297253131866455,0.46589386463165283,0.470262348651886,0.4886624813079834,0.4886624813079834,0.4949039816856384,0.5016138553619385,0.45802628993988037,0.46189314126968384,0.46013861894607544,0.4316500425338745,0.4352876543998718,0.4331355690956116,0.42581576108932495,0.4279852509498596,0.43682563304901123,0.43682563304901123,0.4454081058502197,0.4579087495803833,0.46177607774734497,0.4319233298301697,0.43046724796295166,0.47659629583358765,0.516486644744873,0.5470905303955078,0.6655586957931519,0.6425703763961792,0.6567074656486511,0.6717318296432495,0.6158312559127808,0.5118913650512695,0.5118913650512695,0.5344623923301697,0.5344623923301697,0.5344623923301697,0.5043507814407349,0.5140678286552429,0.5008244514465332,0.5084055662155151,0.5393960475921631,0.5776145458221436,0.5133121609687805,0.4738473892211914,0.4716454744338989,0.48107123374938965,0.518082320690155,0.5138192772865295,0.4831361770629883,0.48909807205200195,0.5987820625305176,0.6317926645278931,0.5545915365219116,0.5655993223190308,0.6074936389923096,0.49270254373550415,0.4991481900215149,0.5315761566162109,0.5723162889480591,0.5217616558074951,0.48738181591033936,0.4568098187446594,0.43721282482147217,0.43721282482147217,0.43264538049697876,0.42145997285842896,0.41959935426712036,0.4154365658760071,0.38909655809402466,0.3799646496772766,0.38640040159225464,0.3940863609313965,0.402413547039032,0.39876770973205566,0.39876770973205566,0.4289950728416443,0.4289950728416443,0.4326285123825073,0.45006006956100464,0.4533650279045105,0.4569737911224365,0.4609271287918091,0.456032931804657,0.43582791090011597,0.43582791090011597,0.43582791090011597,0.47298580408096313,0.46483635902404785,0.467529296875,0.781223475933075,0.824059247970581,0.5945391654968262,0.5356844663619995,0.4905833601951599,0.5242606401443481,0.5242606401443481,0.5500827431678772,0.5891820192337036,0.5762755870819092,0.5100249648094177,0.4374862313270569,0.4199843406677246,0.43963056802749634,0.4420938491821289,0.456424355506897,0.47519898414611816,0.47519898414611816,0.48068124055862427,0.4635356068611145,0.43487173318862915,0.4226166009902954,0.42991524934768677,0.42991524934768677,0.42991524934768677,0.42991524934768677,0.455627977848053,0.46995973587036133,0.4767615795135498,0.4647487998008728],\"type\":\"scatter\"},{\"line\":{\"width\":0.25},\"mode\":\"lines\",\"name\":\"Event predicted\",\"stackgroup\":\"one\",\"text\":[\"[01.01.2022..01.04.2022]\",\"[02.01.2022..02.04.2022]\",\"[03.01.2022..03.04.2022]\",\"[04.01.2022..04.04.2022]\",\"[05.01.2022..05.04.2022]\",\"[06.01.2022..06.04.2022]\",\"[07.01.2022..07.04.2022]\",\"[08.01.2022..08.04.2022]\",\"[09.01.2022..09.04.2022]\",\"[10.01.2022..10.04.2022]\",\"[11.01.2022..11.04.2022]\",\"[12.01.2022..12.04.2022]\",\"[13.01.2022..13.04.2022]\",\"[14.01.2022..14.04.2022]\",\"[15.01.2022..15.04.2022]\",\"[16.01.2022..16.04.2022]\",\"[17.01.2022..17.04.2022]\",\"[18.01.2022..18.04.2022]\",\"[19.01.2022..19.04.2022]\",\"[20.01.2022..20.04.2022]\",\"[21.01.2022..21.04.2022]\",\"[22.01.2022..22.04.2022]\",\"[23.01.2022..23.04.2022]\",\"[24.01.2022..24.04.2022]\",\"[25.01.2022..25.04.2022]\",\"[26.01.2022..26.04.2022]\",\"[27.01.2022..27.04.2022]\",\"[28.01.2022..28.04.2022]\",\"[29.01.2022..29.04.2022]\",\"[30.01.2022..30.04.2022]\",\"[31.01.2022..30.04.2022]\",\"[01.02.2022..01.05.2022]\",\"[02.02.2022..02.05.2022]\",\"[03.02.2022..03.05.2022]\",\"[04.02.2022..04.05.2022]\",\"[05.02.2022..05.05.2022]\",\"[06.02.2022..06.05.2022]\",\"[07.02.2022..07.05.2022]\",\"[08.02.2022..08.05.2022]\",\"[09.02.2022..09.05.2022]\",\"[10.02.2022..10.05.2022]\",\"[11.02.2022..11.05.2022]\",\"[12.02.2022..12.05.2022]\",\"[13.02.2022..13.05.2022]\",\"[14.02.2022..14.05.2022]\",\"[15.02.2022..15.05.2022]\",\"[16.02.2022..16.05.2022]\",\"[17.02.2022..17.05.2022]\",\"[18.02.2022..18.05.2022]\",\"[19.02.2022..19.05.2022]\",\"[20.02.2022..20.05.2022]\",\"[21.02.2022..21.05.2022]\",\"[22.02.2022..22.05.2022]\",\"[23.02.2022..23.05.2022]\",\"[24.02.2022..24.05.2022]\",\"[25.02.2022..25.05.2022]\",\"[26.02.2022..26.05.2022]\",\"[27.02.2022..27.05.2022]\",\"[27.02.2022..27.05.2022]\",\"[28.02.2022..28.05.2022]\",\"[01.03.2022..01.06.2022]\",\"[02.03.2022..02.06.2022]\",\"[03.03.2022..03.06.2022]\",\"[04.03.2022..04.06.2022]\",\"[05.03.2022..05.06.2022]\",\"[06.03.2022..06.06.2022]\",\"[07.03.2022..07.06.2022]\",\"[08.03.2022..08.06.2022]\",\"[09.03.2022..09.06.2022]\",\"[10.03.2022..10.06.2022]\",\"[11.03.2022..11.06.2022]\",\"[12.03.2022..12.06.2022]\",\"[13.03.2022..13.06.2022]\",\"[14.03.2022..14.06.2022]\",\"[15.03.2022..15.06.2022]\",\"[16.03.2022..16.06.2022]\",\"[17.03.2022..17.06.2022]\",\"[18.03.2022..18.06.2022]\",\"[19.03.2022..19.06.2022]\",\"[20.03.2022..20.06.2022]\",\"[21.03.2022..21.06.2022]\",\"[22.03.2022..22.06.2022]\",\"[23.03.2022..23.06.2022]\",\"[24.03.2022..24.06.2022]\",\"[25.03.2022..25.06.2022]\",\"[26.03.2022..26.06.2022]\",\"[27.03.2022..27.06.2022]\",\"[28.03.2022..28.06.2022]\",\"[29.03.2022..29.06.2022]\",\"[30.03.2022..30.06.2022]\",\"[31.03.2022..30.06.2022]\",\"[01.04.2022..01.07.2022]\",\"[02.04.2022..02.07.2022]\",\"[03.04.2022..03.07.2022]\",\"[04.04.2022..04.07.2022]\",\"[05.04.2022..05.07.2022]\",\"[06.04.2022..06.07.2022]\",\"[07.04.2022..07.07.2022]\",\"[08.04.2022..08.07.2022]\",\"[09.04.2022..09.07.2022]\",\"[10.04.2022..10.07.2022]\",\"[11.04.2022..11.07.2022]\",\"[12.04.2022..12.07.2022]\",\"[13.04.2022..13.07.2022]\",\"[14.04.2022..14.07.2022]\",\"[15.04.2022..15.07.2022]\",\"[16.04.2022..16.07.2022]\",\"[17.04.2022..17.07.2022]\",\"[18.04.2022..18.07.2022]\",\"[19.04.2022..19.07.2022]\",\"[20.04.2022..20.07.2022]\",\"[21.04.2022..21.07.2022]\",\"[22.04.2022..22.07.2022]\",\"[23.04.2022..23.07.2022]\",\"[24.04.2022..24.07.2022]\",\"[25.04.2022..25.07.2022]\",\"[26.04.2022..26.07.2022]\",\"[27.04.2022..27.07.2022]\",\"[28.04.2022..28.07.2022]\",\"[29.04.2022..29.07.2022]\",\"[30.04.2022..30.07.2022]\",\"[01.05.2022..01.08.2022]\",\"[02.05.2022..02.08.2022]\",\"[03.05.2022..03.08.2022]\",\"[04.05.2022..04.08.2022]\",\"[05.05.2022..05.08.2022]\",\"[06.05.2022..06.08.2022]\",\"[07.05.2022..07.08.2022]\",\"[08.05.2022..08.08.2022]\",\"[09.05.2022..09.08.2022]\",\"[10.05.2022..10.08.2022]\",\"[11.05.2022..11.08.2022]\",\"[12.05.2022..12.08.2022]\",\"[13.05.2022..13.08.2022]\",\"[14.05.2022..14.08.2022]\",\"[15.05.2022..15.08.2022]\",\"[16.05.2022..16.08.2022]\",\"[17.05.2022..17.08.2022]\",\"[18.05.2022..18.08.2022]\",\"[19.05.2022..19.08.2022]\",\"[20.05.2022..20.08.2022]\",\"[21.05.2022..21.08.2022]\",\"[22.05.2022..22.08.2022]\",\"[23.05.2022..23.08.2022]\",\"[24.05.2022..24.08.2022]\",\"[25.05.2022..25.08.2022]\",\"[26.05.2022..26.08.2022]\",\"[27.05.2022..27.08.2022]\",\"[28.05.2022..28.08.2022]\",\"[29.05.2022..29.08.2022]\",\"[30.05.2022..30.08.2022]\",\"[31.05.2022..31.08.2022]\",\"[01.06.2022..01.09.2022]\",\"[02.06.2022..02.09.2022]\",\"[03.06.2022..03.09.2022]\",\"[04.06.2022..04.09.2022]\",\"[05.06.2022..05.09.2022]\",\"[06.06.2022..06.09.2022]\",\"[07.06.2022..07.09.2022]\",\"[08.06.2022..08.09.2022]\",\"[09.06.2022..09.09.2022]\",\"[10.06.2022..10.09.2022]\",\"[11.06.2022..11.09.2022]\",\"[12.06.2022..12.09.2022]\",\"[13.06.2022..13.09.2022]\",\"[14.06.2022..14.09.2022]\",\"[15.06.2022..15.09.2022]\",\"[16.06.2022..16.09.2022]\",\"[17.06.2022..17.09.2022]\",\"[18.06.2022..18.09.2022]\",\"[19.06.2022..19.09.2022]\",\"[20.06.2022..20.09.2022]\",\"[21.06.2022..21.09.2022]\",\"[22.06.2022..22.09.2022]\",\"[23.06.2022..23.09.2022]\",\"[24.06.2022..24.09.2022]\",\"[25.06.2022..25.09.2022]\",\"[26.06.2022..26.09.2022]\",\"[27.06.2022..27.09.2022]\",\"[28.06.2022..28.09.2022]\",\"[29.06.2022..29.09.2022]\",\"[30.06.2022..30.09.2022]\",\"[01.07.2022..01.10.2022]\",\"[02.07.2022..02.10.2022]\",\"[03.07.2022..03.10.2022]\",\"[04.07.2022..04.10.2022]\",\"[05.07.2022..05.10.2022]\",\"[06.07.2022..06.10.2022]\",\"[07.07.2022..07.10.2022]\",\"[08.07.2022..08.10.2022]\",\"[09.07.2022..09.10.2022]\",\"[10.07.2022..10.10.2022]\",\"[11.07.2022..11.10.2022]\",\"[12.07.2022..12.10.2022]\",\"[13.07.2022..13.10.2022]\",\"[14.07.2022..14.10.2022]\",\"[15.07.2022..15.10.2022]\",\"[16.07.2022..16.10.2022]\",\"[17.07.2022..17.10.2022]\",\"[18.07.2022..18.10.2022]\",\"[19.07.2022..19.10.2022]\",\"[20.07.2022..20.10.2022]\",\"[21.07.2022..21.10.2022]\",\"[22.07.2022..22.10.2022]\",\"[23.07.2022..23.10.2022]\",\"[24.07.2022..24.10.2022]\",\"[25.07.2022..25.10.2022]\",\"[26.07.2022..26.10.2022]\",\"[27.07.2022..27.10.2022]\",\"[28.07.2022..28.10.2022]\",\"[29.07.2022..29.10.2022]\",\"[30.07.2022..30.10.2022]\",\"[31.07.2022..31.10.2022]\",\"[01.08.2022..01.11.2022]\",\"[02.08.2022..02.11.2022]\",\"[03.08.2022..03.11.2022]\",\"[04.08.2022..04.11.2022]\",\"[05.08.2022..05.11.2022]\",\"[06.08.2022..06.11.2022]\",\"[07.08.2022..07.11.2022]\",\"[08.08.2022..08.11.2022]\",\"[09.08.2022..09.11.2022]\",\"[10.08.2022..10.11.2022]\",\"[11.08.2022..11.11.2022]\",\"[12.08.2022..12.11.2022]\",\"[13.08.2022..13.11.2022]\",\"[14.08.2022..14.11.2022]\",\"[15.08.2022..15.11.2022]\",\"[16.08.2022..16.11.2022]\",\"[17.08.2022..17.11.2022]\",\"[18.08.2022..18.11.2022]\",\"[19.08.2022..19.11.2022]\",\"[20.08.2022..20.11.2022]\",\"[21.08.2022..21.11.2022]\",\"[22.08.2022..22.11.2022]\",\"[23.08.2022..23.11.2022]\",\"[24.08.2022..24.11.2022]\",\"[25.08.2022..25.11.2022]\",\"[26.08.2022..26.11.2022]\",\"[27.08.2022..27.11.2022]\",\"[28.08.2022..28.11.2022]\",\"[29.08.2022..29.11.2022]\",\"[30.08.2022..30.11.2022]\",\"[31.08.2022..30.11.2022]\",\"[01.09.2022..01.12.2022]\",\"[02.09.2022..02.12.2022]\",\"[03.09.2022..03.12.2022]\",\"[04.09.2022..04.12.2022]\",\"[05.09.2022..05.12.2022]\",\"[06.09.2022..06.12.2022]\",\"[07.09.2022..07.12.2022]\",\"[08.09.2022..08.12.2022]\",\"[09.09.2022..09.12.2022]\",\"[10.09.2022..10.12.2022]\",\"[11.09.2022..11.12.2022]\",\"[12.09.2022..12.12.2022]\",\"[13.09.2022..13.12.2022]\",\"[14.09.2022..14.12.2022]\",\"[15.09.2022..15.12.2022]\",\"[16.09.2022..16.12.2022]\",\"[17.09.2022..17.12.2022]\",\"[18.09.2022..18.12.2022]\",\"[19.09.2022..19.12.2022]\",\"[20.09.2022..20.12.2022]\",\"[21.09.2022..21.12.2022]\",\"[22.09.2022..22.12.2022]\",\"[23.09.2022..23.12.2022]\",\"[24.09.2022..24.12.2022]\",\"[25.09.2022..25.12.2022]\",\"[26.09.2022..26.12.2022]\",\"[27.09.2022..27.12.2022]\",\"[28.09.2022..28.12.2022]\",\"[29.09.2022..29.12.2022]\",\"[30.09.2022..30.12.2022]\",\"[01.10.2022..01.01.2023]\",\"[02.10.2022..02.01.2023]\",\"[03.10.2022..03.01.2023]\",\"[04.10.2022..04.01.2023]\",\"[05.10.2022..05.01.2023]\",\"[06.10.2022..06.01.2023]\",\"[07.10.2022..07.01.2023]\",\"[08.10.2022..08.01.2023]\",\"[09.10.2022..09.01.2023]\",\"[10.10.2022..10.01.2023]\",\"[11.10.2022..11.01.2023]\",\"[12.10.2022..12.01.2023]\",\"[13.10.2022..13.01.2023]\",\"[14.10.2022..14.01.2023]\",\"[15.10.2022..15.01.2023]\",\"[16.10.2022..16.01.2023]\",\"[17.10.2022..17.01.2023]\",\"[18.10.2022..18.01.2023]\",\"[19.10.2022..19.01.2023]\",\"[20.10.2022..20.01.2023]\",\"[21.10.2022..21.01.2023]\",\"[22.10.2022..22.01.2023]\",\"[23.10.2022..23.01.2023]\",\"[24.10.2022..24.01.2023]\",\"[25.10.2022..25.01.2023]\",\"[26.10.2022..26.01.2023]\",\"[27.10.2022..27.01.2023]\",\"[28.10.2022..28.01.2023]\",\"[29.10.2022..29.01.2023]\",\"[30.10.2022..30.01.2023]\",\"[31.10.2022..31.01.2023]\",\"[01.11.2022..01.02.2023]\",\"[02.11.2022..02.02.2023]\",\"[03.11.2022..03.02.2023]\",\"[04.11.2022..04.02.2023]\",\"[05.11.2022..05.02.2023]\",\"[06.11.2022..06.02.2023]\",\"[07.11.2022..07.02.2023]\",\"[08.11.2022..08.02.2023]\",\"[09.11.2022..09.02.2023]\",\"[10.11.2022..10.02.2023]\",\"[11.11.2022..11.02.2023]\",\"[12.11.2022..12.02.2023]\",\"[13.11.2022..13.02.2023]\",\"[14.11.2022..14.02.2023]\",\"[15.11.2022..15.02.2023]\",\"[16.11.2022..16.02.2023]\",\"[17.11.2022..17.02.2023]\",\"[18.11.2022..18.02.2023]\",\"[19.11.2022..19.02.2023]\",\"[20.11.2022..20.02.2023]\",\"[21.11.2022..21.02.2023]\",\"[22.11.2022..22.02.2023]\",\"[23.11.2022..23.02.2023]\",\"[24.11.2022..24.02.2023]\",\"[25.11.2022..25.02.2023]\",\"[26.11.2022..26.02.2023]\",\"[27.11.2022..27.02.2023]\",\"[28.11.2022..28.02.2023]\",\"[29.11.2022..28.02.2023]\",\"[30.11.2022..28.02.2023]\",\"[01.12.2022..01.03.2023]\",\"[02.12.2022..02.03.2023]\",\"[03.12.2022..03.03.2023]\",\"[04.12.2022..04.03.2023]\",\"[05.12.2022..05.03.2023]\",\"[06.12.2022..06.03.2023]\",\"[07.12.2022..07.03.2023]\",\"[08.12.2022..08.03.2023]\",\"[09.12.2022..09.03.2023]\",\"[10.12.2022..10.03.2023]\",\"[11.12.2022..11.03.2023]\",\"[12.12.2022..12.03.2023]\",\"[13.12.2022..13.03.2023]\",\"[14.12.2022..14.03.2023]\",\"[15.12.2022..15.03.2023]\",\"[16.12.2022..16.03.2023]\",\"[17.12.2022..17.03.2023]\",\"[18.12.2022..18.03.2023]\",\"[19.12.2022..19.03.2023]\",\"[20.12.2022..20.03.2023]\",\"[21.12.2022..21.03.2023]\",\"[22.12.2022..22.03.2023]\",\"[23.12.2022..23.03.2023]\",\"[24.12.2022..24.03.2023]\",\"[25.12.2022..25.03.2023]\",\"[26.12.2022..26.03.2023]\",\"[27.12.2022..27.03.2023]\",\"[28.12.2022..28.03.2023]\",\"[29.12.2022..29.03.2023]\",\"[30.12.2022..30.03.2023]\",\"[31.12.2022..31.03.2023]\"],\"x\":[\"2021-01-01T00:00:00\",\"2021-01-02T00:00:00\",\"2021-01-03T00:00:00\",\"2021-01-04T00:00:00\",\"2021-01-05T00:00:00\",\"2021-01-06T00:00:00\",\"2021-01-07T00:00:00\",\"2021-01-08T00:00:00\",\"2021-01-09T00:00:00\",\"2021-01-10T00:00:00\",\"2021-01-11T00:00:00\",\"2021-01-12T00:00:00\",\"2021-01-13T00:00:00\",\"2021-01-14T00:00:00\",\"2021-01-15T00:00:00\",\"2021-01-16T00:00:00\",\"2021-01-17T00:00:00\",\"2021-01-18T00:00:00\",\"2021-01-19T00:00:00\",\"2021-01-20T00:00:00\",\"2021-01-21T00:00:00\",\"2021-01-22T00:00:00\",\"2021-01-23T00:00:00\",\"2021-01-24T00:00:00\",\"2021-01-25T00:00:00\",\"2021-01-26T00:00:00\",\"2021-01-27T00:00:00\",\"2021-01-28T00:00:00\",\"2021-01-29T00:00:00\",\"2021-01-30T00:00:00\",\"2021-01-31T00:00:00\",\"2021-02-01T00:00:00\",\"2021-02-02T00:00:00\",\"2021-02-03T00:00:00\",\"2021-02-04T00:00:00\",\"2021-02-05T00:00:00\",\"2021-02-06T00:00:00\",\"2021-02-07T00:00:00\",\"2021-02-08T00:00:00\",\"2021-02-09T00:00:00\",\"2021-02-10T00:00:00\",\"2021-02-11T00:00:00\",\"2021-02-12T00:00:00\",\"2021-02-13T00:00:00\",\"2021-02-14T00:00:00\",\"2021-02-15T00:00:00\",\"2021-02-16T00:00:00\",\"2021-02-17T00:00:00\",\"2021-02-18T00:00:00\",\"2021-02-19T00:00:00\",\"2021-02-20T00:00:00\",\"2021-02-21T00:00:00\",\"2021-02-22T00:00:00\",\"2021-02-23T00:00:00\",\"2021-02-24T00:00:00\",\"2021-02-25T00:00:00\",\"2021-02-26T00:00:00\",\"2021-02-27T00:00:00\",\"2021-02-27T00:00:00\",\"2021-02-28T00:00:00\",\"2021-03-01T00:00:00\",\"2021-03-02T00:00:00\",\"2021-03-03T00:00:00\",\"2021-03-04T00:00:00\",\"2021-03-05T00:00:00\",\"2021-03-06T00:00:00\",\"2021-03-07T00:00:00\",\"2021-03-08T00:00:00\",\"2021-03-09T00:00:00\",\"2021-03-10T00:00:00\",\"2021-03-11T00:00:00\",\"2021-03-12T00:00:00\",\"2021-03-13T00:00:00\",\"2021-03-14T00:00:00\",\"2021-03-15T00:00:00\",\"2021-03-16T00:00:00\",\"2021-03-17T00:00:00\",\"2021-03-18T00:00:00\",\"2021-03-19T00:00:00\",\"2021-03-20T00:00:00\",\"2021-03-21T00:00:00\",\"2021-03-22T00:00:00\",\"2021-03-23T00:00:00\",\"2021-03-24T00:00:00\",\"2021-03-25T00:00:00\",\"2021-03-26T00:00:00\",\"2021-03-27T00:00:00\",\"2021-03-28T00:00:00\",\"2021-03-29T00:00:00\",\"2021-03-30T00:00:00\",\"2021-03-31T00:00:00\",\"2021-04-01T00:00:00\",\"2021-04-02T00:00:00\",\"2021-04-03T00:00:00\",\"2021-04-04T00:00:00\",\"2021-04-05T00:00:00\",\"2021-04-06T00:00:00\",\"2021-04-07T00:00:00\",\"2021-04-08T00:00:00\",\"2021-04-09T00:00:00\",\"2021-04-10T00:00:00\",\"2021-04-11T00:00:00\",\"2021-04-12T00:00:00\",\"2021-04-13T00:00:00\",\"2021-04-14T00:00:00\",\"2021-04-15T00:00:00\",\"2021-04-16T00:00:00\",\"2021-04-17T00:00:00\",\"2021-04-18T00:00:00\",\"2021-04-19T00:00:00\",\"2021-04-20T00:00:00\",\"2021-04-21T00:00:00\",\"2021-04-22T00:00:00\",\"2021-04-23T00:00:00\",\"2021-04-24T00:00:00\",\"2021-04-25T00:00:00\",\"2021-04-26T00:00:00\",\"2021-04-27T00:00:00\",\"2021-04-28T00:00:00\",\"2021-04-29T00:00:00\",\"2021-04-30T00:00:00\",\"2021-05-01T00:00:00\",\"2021-05-02T00:00:00\",\"2021-05-03T00:00:00\",\"2021-05-04T00:00:00\",\"2021-05-05T00:00:00\",\"2021-05-06T00:00:00\",\"2021-05-07T00:00:00\",\"2021-05-08T00:00:00\",\"2021-05-09T00:00:00\",\"2021-05-10T00:00:00\",\"2021-05-11T00:00:00\",\"2021-05-12T00:00:00\",\"2021-05-13T00:00:00\",\"2021-05-14T00:00:00\",\"2021-05-15T00:00:00\",\"2021-05-16T00:00:00\",\"2021-05-17T00:00:00\",\"2021-05-18T00:00:00\",\"2021-05-19T00:00:00\",\"2021-05-20T00:00:00\",\"2021-05-21T00:00:00\",\"2021-05-22T00:00:00\",\"2021-05-23T00:00:00\",\"2021-05-24T00:00:00\",\"2021-05-25T00:00:00\",\"2021-05-26T00:00:00\",\"2021-05-27T00:00:00\",\"2021-05-28T00:00:00\",\"2021-05-29T00:00:00\",\"2021-05-30T00:00:00\",\"2021-05-31T00:00:00\",\"2021-06-01T00:00:00\",\"2021-06-02T00:00:00\",\"2021-06-03T00:00:00\",\"2021-06-04T00:00:00\",\"2021-06-05T00:00:00\",\"2021-06-06T00:00:00\",\"2021-06-07T00:00:00\",\"2021-06-08T00:00:00\",\"2021-06-09T00:00:00\",\"2021-06-10T00:00:00\",\"2021-06-11T00:00:00\",\"2021-06-12T00:00:00\",\"2021-06-13T00:00:00\",\"2021-06-14T00:00:00\",\"2021-06-15T00:00:00\",\"2021-06-16T00:00:00\",\"2021-06-17T00:00:00\",\"2021-06-18T00:00:00\",\"2021-06-19T00:00:00\",\"2021-06-20T00:00:00\",\"2021-06-21T00:00:00\",\"2021-06-22T00:00:00\",\"2021-06-23T00:00:00\",\"2021-06-24T00:00:00\",\"2021-06-25T00:00:00\",\"2021-06-26T00:00:00\",\"2021-06-27T00:00:00\",\"2021-06-28T00:00:00\",\"2021-06-29T00:00:00\",\"2021-06-30T00:00:00\",\"2021-07-01T00:00:00\",\"2021-07-02T00:00:00\",\"2021-07-03T00:00:00\",\"2021-07-04T00:00:00\",\"2021-07-05T00:00:00\",\"2021-07-06T00:00:00\",\"2021-07-07T00:00:00\",\"2021-07-08T00:00:00\",\"2021-07-09T00:00:00\",\"2021-07-10T00:00:00\",\"2021-07-11T00:00:00\",\"2021-07-12T00:00:00\",\"2021-07-13T00:00:00\",\"2021-07-14T00:00:00\",\"2021-07-15T00:00:00\",\"2021-07-16T00:00:00\",\"2021-07-17T00:00:00\",\"2021-07-18T00:00:00\",\"2021-07-19T00:00:00\",\"2021-07-20T00:00:00\",\"2021-07-21T00:00:00\",\"2021-07-22T00:00:00\",\"2021-07-23T00:00:00\",\"2021-07-24T00:00:00\",\"2021-07-25T00:00:00\",\"2021-07-26T00:00:00\",\"2021-07-27T00:00:00\",\"2021-07-28T00:00:00\",\"2021-07-29T00:00:00\",\"2021-07-30T00:00:00\",\"2021-07-31T00:00:00\",\"2021-08-01T00:00:00\",\"2021-08-02T00:00:00\",\"2021-08-03T00:00:00\",\"2021-08-04T00:00:00\",\"2021-08-05T00:00:00\",\"2021-08-06T00:00:00\",\"2021-08-07T00:00:00\",\"2021-08-08T00:00:00\",\"2021-08-09T00:00:00\",\"2021-08-10T00:00:00\",\"2021-08-11T00:00:00\",\"2021-08-12T00:00:00\",\"2021-08-13T00:00:00\",\"2021-08-14T00:00:00\",\"2021-08-15T00:00:00\",\"2021-08-16T00:00:00\",\"2021-08-17T00:00:00\",\"2021-08-18T00:00:00\",\"2021-08-19T00:00:00\",\"2021-08-20T00:00:00\",\"2021-08-21T00:00:00\",\"2021-08-22T00:00:00\",\"2021-08-23T00:00:00\",\"2021-08-24T00:00:00\",\"2021-08-25T00:00:00\",\"2021-08-26T00:00:00\",\"2021-08-27T00:00:00\",\"2021-08-28T00:00:00\",\"2021-08-29T00:00:00\",\"2021-08-30T00:00:00\",\"2021-08-31T00:00:00\",\"2021-09-01T00:00:00\",\"2021-09-02T00:00:00\",\"2021-09-03T00:00:00\",\"2021-09-04T00:00:00\",\"2021-09-05T00:00:00\",\"2021-09-06T00:00:00\",\"2021-09-07T00:00:00\",\"2021-09-08T00:00:00\",\"2021-09-09T00:00:00\",\"2021-09-10T00:00:00\",\"2021-09-11T00:00:00\",\"2021-09-12T00:00:00\",\"2021-09-13T00:00:00\",\"2021-09-14T00:00:00\",\"2021-09-15T00:00:00\",\"2021-09-16T00:00:00\",\"2021-09-17T00:00:00\",\"2021-09-18T00:00:00\",\"2021-09-19T00:00:00\",\"2021-09-20T00:00:00\",\"2021-09-21T00:00:00\",\"2021-09-22T00:00:00\",\"2021-09-23T00:00:00\",\"2021-09-24T00:00:00\",\"2021-09-25T00:00:00\",\"2021-09-26T00:00:00\",\"2021-09-27T00:00:00\",\"2021-09-28T00:00:00\",\"2021-09-29T00:00:00\",\"2021-09-30T00:00:00\",\"2021-10-01T00:00:00\",\"2021-10-02T00:00:00\",\"2021-10-03T00:00:00\",\"2021-10-04T00:00:00\",\"2021-10-05T00:00:00\",\"2021-10-06T00:00:00\",\"2021-10-07T00:00:00\",\"2021-10-08T00:00:00\",\"2021-10-09T00:00:00\",\"2021-10-10T00:00:00\",\"2021-10-11T00:00:00\",\"2021-10-12T00:00:00\",\"2021-10-13T00:00:00\",\"2021-10-14T00:00:00\",\"2021-10-15T00:00:00\",\"2021-10-16T00:00:00\",\"2021-10-17T00:00:00\",\"2021-10-18T00:00:00\",\"2021-10-19T00:00:00\",\"2021-10-20T00:00:00\",\"2021-10-21T00:00:00\",\"2021-10-22T00:00:00\",\"2021-10-23T00:00:00\",\"2021-10-24T00:00:00\",\"2021-10-25T00:00:00\",\"2021-10-26T00:00:00\",\"2021-10-27T00:00:00\",\"2021-10-28T00:00:00\",\"2021-10-29T00:00:00\",\"2021-10-30T00:00:00\",\"2021-10-31T00:00:00\",\"2021-11-01T00:00:00\",\"2021-11-02T00:00:00\",\"2021-11-03T00:00:00\",\"2021-11-04T00:00:00\",\"2021-11-05T00:00:00\",\"2021-11-06T00:00:00\",\"2021-11-07T00:00:00\",\"2021-11-08T00:00:00\",\"2021-11-09T00:00:00\",\"2021-11-10T00:00:00\",\"2021-11-11T00:00:00\",\"2021-11-12T00:00:00\",\"2021-11-13T00:00:00\",\"2021-11-14T00:00:00\",\"2021-11-15T00:00:00\",\"2021-11-16T00:00:00\",\"2021-11-17T00:00:00\",\"2021-11-18T00:00:00\",\"2021-11-19T00:00:00\",\"2021-11-20T00:00:00\",\"2021-11-21T00:00:00\",\"2021-11-22T00:00:00\",\"2021-11-23T00:00:00\",\"2021-11-24T00:00:00\",\"2021-11-25T00:00:00\",\"2021-11-26T00:00:00\",\"2021-11-27T00:00:00\",\"2021-11-28T00:00:00\",\"2021-11-29T00:00:00\",\"2021-11-30T00:00:00\",\"2021-12-01T00:00:00\",\"2021-12-02T00:00:00\",\"2021-12-03T00:00:00\",\"2021-12-04T00:00:00\",\"2021-12-05T00:00:00\",\"2021-12-06T00:00:00\",\"2021-12-07T00:00:00\",\"2021-12-08T00:00:00\",\"2021-12-09T00:00:00\",\"2021-12-10T00:00:00\",\"2021-12-11T00:00:00\",\"2021-12-12T00:00:00\",\"2021-12-13T00:00:00\",\"2021-12-14T00:00:00\",\"2021-12-15T00:00:00\",\"2021-12-16T00:00:00\",\"2021-12-17T00:00:00\",\"2021-12-18T00:00:00\",\"2021-12-19T00:00:00\",\"2021-12-20T00:00:00\",\"2021-12-21T00:00:00\",\"2021-12-22T00:00:00\",\"2021-12-23T00:00:00\",\"2021-12-24T00:00:00\",\"2021-12-25T00:00:00\",\"2021-12-26T00:00:00\",\"2021-12-27T00:00:00\",\"2021-12-28T00:00:00\",\"2021-12-29T00:00:00\",\"2021-12-30T00:00:00\",\"2021-12-31T00:00:00\"],\"y\":[0.6409872770309448,0.6440813541412354,0.6671279072761536,0.6671279072761536,0.635895311832428,0.635895311832428,0.635895311832428,0.5999426245689392,0.5999426245689392,0.6033895611763,0.5118276476860046,0.5496003031730652,0.6041421294212341,0.6017395257949829,0.6224085092544556,0.6224085092544556,0.6224085092544556,0.6346143484115601,0.6435202360153198,0.4214538037776947,0.6530842185020447,0.6530842185020447,0.6530842185020447,0.6530842185020447,0.5026577115058899,0.438122421503067,0.40586474537849426,0.4533597528934479,0.46435678005218506,0.3948305547237396,0.57841557264328,0.5932491421699524,0.57841557264328,0.5750210285186768,0.5750210285186768,0.3790163993835449,0.5379273295402527,0.5421629548072815,0.5461257100105286,0.21488481760025024,0.21708084642887115,0.2227712720632553,0.2354554682970047,0.2354554682970047,0.2354554682970047,0.20605726540088654,0.19879812002182007,0.19788828492164612,0.20290981233119965,0.20001325011253357,0.20001325011253357,0.2157953679561615,0.4103081524372101,0.4103081524372101,0.4103081524372101,0.3582495450973511,0.29468294978141785,0.29468294978141785,0.2852464020252228,0.28973180055618286,0.26892319321632385,0.2329484224319458,0.23514112830162048,0.2046077400445938,0.2067974954843521,0.21431629359722137,0.23061156272888184,0.26627400517463684,0.26627400517463684,0.292894572019577,0.292894572019577,0.32757583260536194,0.31852924823760986,0.6127244234085083,0.6127244234085083,0.6127244234085083,0.5226045250892639,0.46099773049354553,0.45179080963134766,0.36131078004837036,0.401106059551239,0.401106059551239,0.5365319848060608,0.5816571116447449,0.5816571116447449,0.596147358417511,0.600090503692627,0.600383996963501,0.600383996963501,0.600090503692627,0.5912501215934753,0.5926713943481445,0.6005308628082275,0.6044840812683105,0.5935695171356201,0.6027912497520447,0.5933237671852112,0.5931721329689026,0.5946678519248962,0.5961625576019287,0.5977601408958435,0.6065800786018372,0.6086453795433044,0.6189075112342834,0.6217297911643982,0.6243658661842346,0.6243658661842346,0.616113543510437,0.616113543510437,0.6171659827232361,0.6254637837409973,0.6223963499069214,0.5048295259475708,0.42251119017601013,0.5180976986885071,0.4223933219909668,0.30668535828590393,0.5204550623893738,0.5204550623893738,0.6239877343177795,0.6239877343177795,0.6386721134185791,0.5229437351226807,0.45827075839042664,0.5877543091773987,0.5643356442451477,0.4567999243736267,0.41326814889907837,0.41326814889907837,0.41326814889907837,0.41326814889907837,0.41326814889907837,0.41326814889907837,0.26139816641807556,0.3611038029193878,0.3720640540122986,0.33566999435424805,0.33566999435424805,0.34484153985977173,0.3928193151950836,0.3928193151950836,0.4661993384361267,0.6369603276252747,0.6373786330223083,0.6373786330223083,0.6373105645179749,0.6648107767105103,0.6557703018188477,0.6557703018188477,0.6439992785453796,0.6166684627532959,0.6207910776138306,0.6248106360435486,0.619163990020752,0.6298875212669373,0.6337922215461731,0.6377642750740051,0.6270052790641785,0.6270052790641785,0.6098622679710388,0.608163058757782,0.608163058757782,0.6094082593917847,0.6120971441268921,0.6214044690132141,0.6189780831336975,0.6148417592048645,0.6148417592048645,0.6087396144866943,0.6257989406585693,0.6119057536125183,0.6018537878990173,0.5990965962409973,0.5901463627815247,0.587574303150177,0.5991121530532837,0.5963729619979858,0.591732382774353,0.607806384563446,0.591477632522583,0.591477632522583,0.6338458061218262,0.6173280477523804,0.6028087139129639,0.6099751591682434,0.6028087139129639,0.6087040901184082,0.6087040901184082,0.6140695810317993,0.5945388674736023,0.5983881950378418,0.6024044156074524,0.560260534286499,0.5532190203666687,0.5450660586357117,0.5450660586357117,0.5593551397323608,0.5561485886573792,0.5450443625450134,0.4955974817276001,0.4955974817276001,0.4955974817276001,0.47422683238983154,0.5185005068778992,0.5185005068778992,0.5095952153205872,0.5095691084861755,0.4729663133621216,0.47345471382141113,0.48120996356010437,0.47697755694389343,0.4699995815753937,0.46206748485565186,0.3482142984867096,0.32842499017715454,0.44224148988723755,0.44224148988723755,0.3991214334964752,0.08037004619836807,0.10870039463043213,0.14530183374881744,0.3724248707294464,0.03768110275268555,0.053017646074295044,0.023208416998386383,0.5672275424003601,0.5690493583679199,0.5384615659713745,0.5384615659713745,0.3471266031265259,0.3471266031265259,0.5350744724273682,0.5305696129798889,0.5195356607437134,0.5135706067085266,0.5070268511772156,0.5663152933120728,0.5663152933120728,0.5501975417137146,0.5541208982467651,0.5569997429847717,0.5298547148704529,0.541179895401001,0.576995313167572,0.576995313167572,0.576995313167572,0.561549186706543,0.5691580772399902,0.5470274686813354,0.5341061353683472,0.529737651348114,0.5113375186920166,0.5113375186920166,0.5050960183143616,0.49838611483573914,0.5419737100601196,0.5381068587303162,0.5398613810539246,0.5683499574661255,0.5647123456001282,0.5668644309043884,0.574184238910675,0.5720147490501404,0.5631743669509888,0.5631743669509888,0.5545918941497803,0.5420912504196167,0.538223922252655,0.5680766701698303,0.5695327520370483,0.5234037041664124,0.48351338505744934,0.4529094696044922,0.33444133400917053,0.3574296534061432,0.3432925343513489,0.3282681703567505,0.38416871428489685,0.48810866475105286,0.48810866475105286,0.4655376076698303,0.4655376076698303,0.4655376076698303,0.4956492483615875,0.4859321713447571,0.4991755485534668,0.4915944039821625,0.4606039226055145,0.42238548398017883,0.4866878390312195,0.5261526107788086,0.5283545255661011,0.5189287662506104,0.48191767930984497,0.48618072271347046,0.5168638229370117,0.510901927947998,0.40121790766716003,0.3682073652744293,0.445408433675766,0.4344007074832916,0.39250636100769043,0.5072974562644958,0.5008518099784851,0.46842387318611145,0.4276837110519409,0.4782383143901825,0.5126181840896606,0.5431901812553406,0.5627871751785278,0.5627871751785278,0.5673546195030212,0.578540027141571,0.5804006457328796,0.5845634341239929,0.6109034419059753,0.6200353503227234,0.6135995984077454,0.6059136390686035,0.597586452960968,0.6012322902679443,0.6012322902679443,0.5710049271583557,0.5710049271583557,0.5673714876174927,0.5499399304389954,0.5466349720954895,0.5430262088775635,0.5390728712081909,0.543967068195343,0.564172089099884,0.564172089099884,0.564172089099884,0.5270141959190369,0.5351636409759521,0.532470703125,0.21877652406692505,0.17594073712825775,0.40546080470085144,0.4643155634403229,0.5094166398048401,0.47573933005332947,0.47573933005332947,0.4499172568321228,0.4108180105686188,0.4237244129180908,0.4899750351905823,0.5625137686729431,0.5800156593322754,0.5603694319725037,0.5579061508178711,0.543575644493103,0.5248010158538818,0.5248010158538818,0.5193187594413757,0.5364643931388855,0.5651282668113708,0.5773833990097046,0.5700847506523132,0.5700847506523132,0.5700847506523132,0.5700847506523132,0.544372022151947,0.5300402641296387,0.5232384204864502,0.5352512001991272],\"type\":\"scatter\"}],                        {\"template\":{\"data\":{\"bar\":[{\"error_x\":{\"color\":\"#2a3f5f\"},\"error_y\":{\"color\":\"#2a3f5f\"},\"marker\":{\"line\":{\"color\":\"#E5ECF6\",\"width\":0.5},\"pattern\":{\"fillmode\":\"overlay\",\"size\":10,\"solidity\":0.2}},\"type\":\"bar\"}],\"barpolar\":[{\"marker\":{\"line\":{\"color\":\"#E5ECF6\",\"width\":0.5},\"pattern\":{\"fillmode\":\"overlay\",\"size\":10,\"solidity\":0.2}},\"type\":\"barpolar\"}],\"carpet\":[{\"aaxis\":{\"endlinecolor\":\"#2a3f5f\",\"gridcolor\":\"white\",\"linecolor\":\"white\",\"minorgridcolor\":\"white\",\"startlinecolor\":\"#2a3f5f\"},\"baxis\":{\"endlinecolor\":\"#2a3f5f\",\"gridcolor\":\"white\",\"linecolor\":\"white\",\"minorgridcolor\":\"white\",\"startlinecolor\":\"#2a3f5f\"},\"type\":\"carpet\"}],\"choropleth\":[{\"colorbar\":{\"outlinewidth\":0,\"ticks\":\"\"},\"type\":\"choropleth\"}],\"contour\":[{\"colorbar\":{\"outlinewidth\":0,\"ticks\":\"\"},\"colorscale\":[[0.0,\"#0d0887\"],[0.1111111111111111,\"#46039f\"],[0.2222222222222222,\"#7201a8\"],[0.3333333333333333,\"#9c179e\"],[0.4444444444444444,\"#bd3786\"],[0.5555555555555556,\"#d8576b\"],[0.6666666666666666,\"#ed7953\"],[0.7777777777777778,\"#fb9f3a\"],[0.8888888888888888,\"#fdca26\"],[1.0,\"#f0f921\"]],\"type\":\"contour\"}],\"contourcarpet\":[{\"colorbar\":{\"outlinewidth\":0,\"ticks\":\"\"},\"type\":\"contourcarpet\"}],\"heatmap\":[{\"colorbar\":{\"outlinewidth\":0,\"ticks\":\"\"},\"colorscale\":[[0.0,\"#0d0887\"],[0.1111111111111111,\"#46039f\"],[0.2222222222222222,\"#7201a8\"],[0.3333333333333333,\"#9c179e\"],[0.4444444444444444,\"#bd3786\"],[0.5555555555555556,\"#d8576b\"],[0.6666666666666666,\"#ed7953\"],[0.7777777777777778,\"#fb9f3a\"],[0.8888888888888888,\"#fdca26\"],[1.0,\"#f0f921\"]],\"type\":\"heatmap\"}],\"heatmapgl\":[{\"colorbar\":{\"outlinewidth\":0,\"ticks\":\"\"},\"colorscale\":[[0.0,\"#0d0887\"],[0.1111111111111111,\"#46039f\"],[0.2222222222222222,\"#7201a8\"],[0.3333333333333333,\"#9c179e\"],[0.4444444444444444,\"#bd3786\"],[0.5555555555555556,\"#d8576b\"],[0.6666666666666666,\"#ed7953\"],[0.7777777777777778,\"#fb9f3a\"],[0.8888888888888888,\"#fdca26\"],[1.0,\"#f0f921\"]],\"type\":\"heatmapgl\"}],\"histogram\":[{\"marker\":{\"pattern\":{\"fillmode\":\"overlay\",\"size\":10,\"solidity\":0.2}},\"type\":\"histogram\"}],\"histogram2d\":[{\"colorbar\":{\"outlinewidth\":0,\"ticks\":\"\"},\"colorscale\":[[0.0,\"#0d0887\"],[0.1111111111111111,\"#46039f\"],[0.2222222222222222,\"#7201a8\"],[0.3333333333333333,\"#9c179e\"],[0.4444444444444444,\"#bd3786\"],[0.5555555555555556,\"#d8576b\"],[0.6666666666666666,\"#ed7953\"],[0.7777777777777778,\"#fb9f3a\"],[0.8888888888888888,\"#fdca26\"],[1.0,\"#f0f921\"]],\"type\":\"histogram2d\"}],\"histogram2dcontour\":[{\"colorbar\":{\"outlinewidth\":0,\"ticks\":\"\"},\"colorscale\":[[0.0,\"#0d0887\"],[0.1111111111111111,\"#46039f\"],[0.2222222222222222,\"#7201a8\"],[0.3333333333333333,\"#9c179e\"],[0.4444444444444444,\"#bd3786\"],[0.5555555555555556,\"#d8576b\"],[0.6666666666666666,\"#ed7953\"],[0.7777777777777778,\"#fb9f3a\"],[0.8888888888888888,\"#fdca26\"],[1.0,\"#f0f921\"]],\"type\":\"histogram2dcontour\"}],\"mesh3d\":[{\"colorbar\":{\"outlinewidth\":0,\"ticks\":\"\"},\"type\":\"mesh3d\"}],\"parcoords\":[{\"line\":{\"colorbar\":{\"outlinewidth\":0,\"ticks\":\"\"}},\"type\":\"parcoords\"}],\"pie\":[{\"automargin\":true,\"type\":\"pie\"}],\"scatter\":[{\"marker\":{\"colorbar\":{\"outlinewidth\":0,\"ticks\":\"\"}},\"type\":\"scatter\"}],\"scatter3d\":[{\"line\":{\"colorbar\":{\"outlinewidth\":0,\"ticks\":\"\"}},\"marker\":{\"colorbar\":{\"outlinewidth\":0,\"ticks\":\"\"}},\"type\":\"scatter3d\"}],\"scattercarpet\":[{\"marker\":{\"colorbar\":{\"outlinewidth\":0,\"ticks\":\"\"}},\"type\":\"scattercarpet\"}],\"scattergeo\":[{\"marker\":{\"colorbar\":{\"outlinewidth\":0,\"ticks\":\"\"}},\"type\":\"scattergeo\"}],\"scattergl\":[{\"marker\":{\"colorbar\":{\"outlinewidth\":0,\"ticks\":\"\"}},\"type\":\"scattergl\"}],\"scattermapbox\":[{\"marker\":{\"colorbar\":{\"outlinewidth\":0,\"ticks\":\"\"}},\"type\":\"scattermapbox\"}],\"scatterpolar\":[{\"marker\":{\"colorbar\":{\"outlinewidth\":0,\"ticks\":\"\"}},\"type\":\"scatterpolar\"}],\"scatterpolargl\":[{\"marker\":{\"colorbar\":{\"outlinewidth\":0,\"ticks\":\"\"}},\"type\":\"scatterpolargl\"}],\"scatterternary\":[{\"marker\":{\"colorbar\":{\"outlinewidth\":0,\"ticks\":\"\"}},\"type\":\"scatterternary\"}],\"surface\":[{\"colorbar\":{\"outlinewidth\":0,\"ticks\":\"\"},\"colorscale\":[[0.0,\"#0d0887\"],[0.1111111111111111,\"#46039f\"],[0.2222222222222222,\"#7201a8\"],[0.3333333333333333,\"#9c179e\"],[0.4444444444444444,\"#bd3786\"],[0.5555555555555556,\"#d8576b\"],[0.6666666666666666,\"#ed7953\"],[0.7777777777777778,\"#fb9f3a\"],[0.8888888888888888,\"#fdca26\"],[1.0,\"#f0f921\"]],\"type\":\"surface\"}],\"table\":[{\"cells\":{\"fill\":{\"color\":\"#EBF0F8\"},\"line\":{\"color\":\"white\"}},\"header\":{\"fill\":{\"color\":\"#C8D4E3\"},\"line\":{\"color\":\"white\"}},\"type\":\"table\"}]},\"layout\":{\"annotationdefaults\":{\"arrowcolor\":\"#2a3f5f\",\"arrowhead\":0,\"arrowwidth\":1},\"autotypenumbers\":\"strict\",\"coloraxis\":{\"colorbar\":{\"outlinewidth\":0,\"ticks\":\"\"}},\"colorscale\":{\"diverging\":[[0,\"#8e0152\"],[0.1,\"#c51b7d\"],[0.2,\"#de77ae\"],[0.3,\"#f1b6da\"],[0.4,\"#fde0ef\"],[0.5,\"#f7f7f7\"],[0.6,\"#e6f5d0\"],[0.7,\"#b8e186\"],[0.8,\"#7fbc41\"],[0.9,\"#4d9221\"],[1,\"#276419\"]],\"sequential\":[[0.0,\"#0d0887\"],[0.1111111111111111,\"#46039f\"],[0.2222222222222222,\"#7201a8\"],[0.3333333333333333,\"#9c179e\"],[0.4444444444444444,\"#bd3786\"],[0.5555555555555556,\"#d8576b\"],[0.6666666666666666,\"#ed7953\"],[0.7777777777777778,\"#fb9f3a\"],[0.8888888888888888,\"#fdca26\"],[1.0,\"#f0f921\"]],\"sequentialminus\":[[0.0,\"#0d0887\"],[0.1111111111111111,\"#46039f\"],[0.2222222222222222,\"#7201a8\"],[0.3333333333333333,\"#9c179e\"],[0.4444444444444444,\"#bd3786\"],[0.5555555555555556,\"#d8576b\"],[0.6666666666666666,\"#ed7953\"],[0.7777777777777778,\"#fb9f3a\"],[0.8888888888888888,\"#fdca26\"],[1.0,\"#f0f921\"]]},\"colorway\":[\"#636efa\",\"#EF553B\",\"#00cc96\",\"#ab63fa\",\"#FFA15A\",\"#19d3f3\",\"#FF6692\",\"#B6E880\",\"#FF97FF\",\"#FECB52\"],\"font\":{\"color\":\"#2a3f5f\"},\"geo\":{\"bgcolor\":\"white\",\"lakecolor\":\"white\",\"landcolor\":\"#E5ECF6\",\"showlakes\":true,\"showland\":true,\"subunitcolor\":\"white\"},\"hoverlabel\":{\"align\":\"left\"},\"hovermode\":\"closest\",\"mapbox\":{\"style\":\"light\"},\"paper_bgcolor\":\"white\",\"plot_bgcolor\":\"#E5ECF6\",\"polar\":{\"angularaxis\":{\"gridcolor\":\"white\",\"linecolor\":\"white\",\"ticks\":\"\"},\"bgcolor\":\"#E5ECF6\",\"radialaxis\":{\"gridcolor\":\"white\",\"linecolor\":\"white\",\"ticks\":\"\"}},\"scene\":{\"xaxis\":{\"backgroundcolor\":\"#E5ECF6\",\"gridcolor\":\"white\",\"gridwidth\":2,\"linecolor\":\"white\",\"showbackground\":true,\"ticks\":\"\",\"zerolinecolor\":\"white\"},\"yaxis\":{\"backgroundcolor\":\"#E5ECF6\",\"gridcolor\":\"white\",\"gridwidth\":2,\"linecolor\":\"white\",\"showbackground\":true,\"ticks\":\"\",\"zerolinecolor\":\"white\"},\"zaxis\":{\"backgroundcolor\":\"#E5ECF6\",\"gridcolor\":\"white\",\"gridwidth\":2,\"linecolor\":\"white\",\"showbackground\":true,\"ticks\":\"\",\"zerolinecolor\":\"white\"}},\"shapedefaults\":{\"line\":{\"color\":\"#2a3f5f\"}},\"ternary\":{\"aaxis\":{\"gridcolor\":\"white\",\"linecolor\":\"white\",\"ticks\":\"\"},\"baxis\":{\"gridcolor\":\"white\",\"linecolor\":\"white\",\"ticks\":\"\"},\"bgcolor\":\"#E5ECF6\",\"caxis\":{\"gridcolor\":\"white\",\"linecolor\":\"white\",\"ticks\":\"\"}},\"title\":{\"x\":0.05},\"xaxis\":{\"automargin\":true,\"gridcolor\":\"white\",\"linecolor\":\"white\",\"ticks\":\"\",\"title\":{\"standoff\":15},\"zerolinecolor\":\"white\",\"zerolinewidth\":2},\"yaxis\":{\"automargin\":true,\"gridcolor\":\"white\",\"linecolor\":\"white\",\"ticks\":\"\",\"title\":{\"standoff\":15},\"zerolinecolor\":\"white\",\"zerolinewidth\":2}}},\"title\":{\"text\":\"Probability of event\"}},                        {\"responsive\": true}                    ).then(function(){\n                            \nvar gd = document.getElementById('40f3eeb6-8b14-449a-b711-63ac42841e62');\nvar x = new MutationObserver(function (mutations, observer) {{\n        var display = window.getComputedStyle(gd).display;\n        if (!display || display === 'none') {{\n            console.log([gd, 'removed!']);\n            Plotly.purge(gd);\n            observer.disconnect();\n        }}\n}});\n\n// Listen for the removal of the full notebook cells\nvar notebookContainer = gd.closest('#notebook-container');\nif (notebookContainer) {{\n    x.observe(notebookContainer, {childList: true});\n}}\n\n// Listen for the clearing of the current output cell\nvar outputEl = gd.closest('.output');\nif (outputEl) {{\n    x.observe(outputEl, {childList: true});\n}}\n\n                        })                };                });            </script>        </div>"
     },
     "metadata": {},
     "output_type": "display_data"
    }
   ],
   "source": [
    "figure_x = reserved_data[condition]['to date']\n",
    "figure_x_text = figure_x.map(lambda e: f'[{(e + DATE_TARGET_OFFSET).strftime(\"%d.%m.%Y\")}..{(e + DATE_TARGET_OFFSET + DATE_TARGET_DURATION).strftime(\"%d.%m.%Y\")}]')\n",
    "fig = go.Figure()\n",
    "fig.add_trace(go.Scatter(\n",
    "    x=figure_x,\n",
    "    y=1-result_proba[:,0],\n",
    "    mode='lines',\n",
    "    stackgroup='one',\n",
    "    line=dict(width=.25),\n",
    "    groupnorm='percent',\n",
    "    name='No event',\n",
    "    text=figure_x_text\n",
    "))\n",
    "fig.add_trace(go.Scatter(\n",
    "    x=figure_x,\n",
    "    y=result_proba[:,0],\n",
    "    mode='lines',\n",
    "    stackgroup='one',\n",
    "    line=dict(width=.25),\n",
    "    name='Event predicted',\n",
    "    text=figure_x_text\n",
    "))\n",
    "fig.update_layout(\n",
    "    title='Probability of event',\n",
    "    # width=500, height=500\n",
    ")\n",
    "fig.show()"
   ],
   "metadata": {
    "collapsed": false,
    "pycharm": {
     "name": "#%%\n"
    }
   }
  },
  {
   "cell_type": "code",
   "execution_count": 261,
   "outputs": [],
   "source": [
    "result = pd.DataFrame(reserved_data[condition])"
   ],
   "metadata": {
    "collapsed": false,
    "pycharm": {
     "name": "#%%\n"
    }
   }
  },
  {
   "cell_type": "code",
   "execution_count": 262,
   "outputs": [
    {
     "data": {
      "text/plain": "5367    K >= 13; Dates [01.01.2022..01.04.2022]\n5368    K >= 13; Dates [02.01.2022..02.04.2022]\n5369    K >= 13; Dates [03.01.2022..03.04.2022]\n5370    K >= 13; Dates [04.01.2022..04.04.2022]\n5371    K >= 13; Dates [05.01.2022..05.04.2022]\n                         ...                   \n5728    K >= 13; Dates [27.12.2022..27.03.2023]\n5729    K >= 13; Dates [28.12.2022..28.03.2023]\n5730    K >= 13; Dates [29.12.2022..29.03.2023]\n5731    K >= 13; Dates [30.12.2022..30.03.2023]\n5732    K >= 13; Dates [31.12.2022..31.03.2023]\nName: to date, Length: 236, dtype: object"
     },
     "execution_count": 262,
     "metadata": {},
     "output_type": "execute_result"
    }
   ],
   "source": [
    "result['predicted'] = result_pred\n",
    "result[(result['predicted'] > 0)]['to date'].map(\n",
    "    lambda date:\n",
    "    f'K >= {STARTING_EVENT_CLASS}; Dates [{(date + DATE_TARGET_OFFSET).strftime(\"%d.%m.%Y\")}..{(date + DATE_TARGET_OFFSET + DATE_TARGET_DURATION).strftime(\"%d.%m.%Y\")}]'\n",
    ")"
   ],
   "metadata": {
    "collapsed": false,
    "pycharm": {
     "name": "#%%\n"
    }
   }
  },
  {
   "cell_type": "code",
   "execution_count": 262,
   "outputs": [],
   "source": [],
   "metadata": {
    "collapsed": false,
    "pycharm": {
     "name": "#%%\n"
    }
   }
  }
 ],
 "metadata": {
  "kernelspec": {
   "display_name": "Python 3",
   "language": "python",
   "name": "python3"
  },
  "language_info": {
   "codemirror_mode": {
    "name": "ipython",
    "version": 2
   },
   "file_extension": ".py",
   "mimetype": "text/x-python",
   "name": "python",
   "nbconvert_exporter": "python",
   "pygments_lexer": "ipython2",
   "version": "2.7.6"
  }
 },
 "nbformat": 4,
 "nbformat_minor": 0
}