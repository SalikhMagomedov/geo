{
 "cells": [
  {
   "cell_type": "code",
   "execution_count": 1,
   "metadata": {
    "collapsed": false,
    "pycharm": {
     "name": "#%%\n"
    }
   },
   "outputs": [],
   "source": [
    "import os.path\n",
    "from datetime import datetime as dt\n",
    "\n",
    "import keras.utils.vis_utils\n",
    "import keras_tuner as kt\n",
    "import numpy as np\n",
    "import pandas as pd\n",
    "import plotly.express as px\n",
    "import plotly.graph_objects as go\n",
    "import tensorflow as tf\n",
    "from IPython.display import display, clear_output\n",
    "from dateutil.relativedelta import relativedelta\n",
    "from keras import Sequential, layers, losses, metrics, activations\n",
    "from keras import callbacks\n",
    "from keras.api.keras import optimizers\n",
    "\n",
    "import file_helper"
   ]
  },
  {
   "cell_type": "code",
   "execution_count": 2,
   "metadata": {
    "collapsed": false,
    "pycharm": {
     "name": "#%%\n"
    }
   },
   "outputs": [
    {
     "data": {
      "text/plain": "[PhysicalDevice(name='/physical_device:GPU:0', device_type='GPU')]"
     },
     "execution_count": 2,
     "metadata": {},
     "output_type": "execute_result"
    }
   ],
   "source": [
    "tf.config.list_physical_devices('GPU')"
   ]
  },
  {
   "cell_type": "code",
   "execution_count": 3,
   "metadata": {
    "collapsed": false,
    "pycharm": {
     "name": "#%%\n"
    }
   },
   "outputs": [],
   "source": [
    "DATE_FORMAT = '%d.%m.%Y'"
   ]
  },
  {
   "cell_type": "code",
   "execution_count": 4,
   "metadata": {
    "collapsed": false,
    "pycharm": {
     "name": "#%%\n"
    }
   },
   "outputs": [],
   "source": [
    "def convert_string_to_date(string_date: str) -> dt:\n",
    "    return dt.strptime(string_date, DATE_FORMAT)"
   ]
  },
  {
   "cell_type": "code",
   "execution_count": 5,
   "metadata": {
    "collapsed": false,
    "pycharm": {
     "name": "#%%\n"
    }
   },
   "outputs": [],
   "source": [
    "geochem_data = pd.read_excel(file_helper.get_geo_chem_file_path(), 'dubki_h_tau')"
   ]
  },
  {
   "cell_type": "code",
   "execution_count": 6,
   "metadata": {
    "collapsed": false,
    "pycharm": {
     "name": "#%%\n"
    }
   },
   "outputs": [],
   "source": [
    "events_catalog_data = pd.read_csv(file_helper.get_events_catalog_file_path(), sep=';').iloc[10000:]\n",
    "events_catalog_data['Date'] = pd.to_datetime(events_catalog_data['Date'], format=DATE_FORMAT)"
   ]
  },
  {
   "cell_type": "code",
   "execution_count": 7,
   "metadata": {
    "collapsed": false,
    "pycharm": {
     "name": "#%%\n"
    }
   },
   "outputs": [],
   "source": [
    "DATE_TARGET_OFFSET = relativedelta(months=3)\n",
    "DATE_TARGET_DURATION = relativedelta(months=1)\n",
    "STARTING_EVENT_CLASS = 13"
   ]
  },
  {
   "cell_type": "code",
   "execution_count": 8,
   "metadata": {
    "collapsed": false,
    "pycharm": {
     "name": "#%%\n"
    }
   },
   "outputs": [],
   "source": [
    "def split_data(date_target_offset: relativedelta, date_target_duration: relativedelta, starting_event_class) -> (pd.DataFrame, pd.DataFrame):\n",
    "    preprocessed_data = pd.DataFrame(geochem_data).copy()\n",
    "\n",
    "    # normalize_columns_in_dataframe(preprocessed_data, ['events', 'ascend', 'maximum', 'descend', 'minimum'])\n",
    "\n",
    "    breakpoint_date = convert_string_to_date('31.12.2021') - date_target_offset - date_target_duration\n",
    "    reserved_data = preprocessed_data[breakpoint_date < preprocessed_data['to date']].drop(['from date'], axis=1)\n",
    "    preprocessed_data = preprocessed_data[preprocessed_data['to date'] <= breakpoint_date]\n",
    "    preprocessed_data['target'] = preprocessed_data['to date'].map(lambda date: 1 if len(events_catalog_data[\n",
    "        ((date + date_target_offset) <= events_catalog_data['Date'])\n",
    "        & (events_catalog_data['Date'] <= (date + date_target_offset + date_target_duration))\n",
    "        & (starting_event_class <= events_catalog_data['Class'])\n",
    "    ]) > 0 else 0)\n",
    "    preprocessed_data = preprocessed_data.drop(['from date', 'to date'], axis=1)\n",
    "\n",
    "    return preprocessed_data, reserved_data"
   ]
  },
  {
   "cell_type": "code",
   "execution_count": 9,
   "metadata": {
    "collapsed": false,
    "pycharm": {
     "name": "#%%\n"
    }
   },
   "outputs": [
    {
     "data": {
      "text/plain": "      events    ascend   maximum   descend   minimum  target\n0         41  2.021409  0.846639  1.065538  0.686655       0\n1         42  1.973066  0.901546  1.040415  0.670327       0\n2         42  1.973066  0.901546  1.040415  0.670327       0\n3         42  1.973066  0.901546  1.040415  0.670327       0\n4         42  1.973066  0.901546  1.040415  0.670327       0\n...      ...       ...       ...       ...       ...     ...\n5605     157  1.311948  1.076377  1.090581  0.693564       0\n5606     157  1.317518  1.077638  1.090581  0.693564       0\n5607     157  1.317518  1.087743  1.090581  0.687401       0\n5608     156  1.282519  1.065515  1.097792  0.701725       0\n5609     155  1.291348  1.051499  1.105002  0.706370       0\n\n[5610 rows x 6 columns]",
      "text/html": "<div>\n<style scoped>\n    .dataframe tbody tr th:only-of-type {\n        vertical-align: middle;\n    }\n\n    .dataframe tbody tr th {\n        vertical-align: top;\n    }\n\n    .dataframe thead th {\n        text-align: right;\n    }\n</style>\n<table border=\"1\" class=\"dataframe\">\n  <thead>\n    <tr style=\"text-align: right;\">\n      <th></th>\n      <th>events</th>\n      <th>ascend</th>\n      <th>maximum</th>\n      <th>descend</th>\n      <th>minimum</th>\n      <th>target</th>\n    </tr>\n  </thead>\n  <tbody>\n    <tr>\n      <th>0</th>\n      <td>41</td>\n      <td>2.021409</td>\n      <td>0.846639</td>\n      <td>1.065538</td>\n      <td>0.686655</td>\n      <td>0</td>\n    </tr>\n    <tr>\n      <th>1</th>\n      <td>42</td>\n      <td>1.973066</td>\n      <td>0.901546</td>\n      <td>1.040415</td>\n      <td>0.670327</td>\n      <td>0</td>\n    </tr>\n    <tr>\n      <th>2</th>\n      <td>42</td>\n      <td>1.973066</td>\n      <td>0.901546</td>\n      <td>1.040415</td>\n      <td>0.670327</td>\n      <td>0</td>\n    </tr>\n    <tr>\n      <th>3</th>\n      <td>42</td>\n      <td>1.973066</td>\n      <td>0.901546</td>\n      <td>1.040415</td>\n      <td>0.670327</td>\n      <td>0</td>\n    </tr>\n    <tr>\n      <th>4</th>\n      <td>42</td>\n      <td>1.973066</td>\n      <td>0.901546</td>\n      <td>1.040415</td>\n      <td>0.670327</td>\n      <td>0</td>\n    </tr>\n    <tr>\n      <th>...</th>\n      <td>...</td>\n      <td>...</td>\n      <td>...</td>\n      <td>...</td>\n      <td>...</td>\n      <td>...</td>\n    </tr>\n    <tr>\n      <th>5605</th>\n      <td>157</td>\n      <td>1.311948</td>\n      <td>1.076377</td>\n      <td>1.090581</td>\n      <td>0.693564</td>\n      <td>0</td>\n    </tr>\n    <tr>\n      <th>5606</th>\n      <td>157</td>\n      <td>1.317518</td>\n      <td>1.077638</td>\n      <td>1.090581</td>\n      <td>0.693564</td>\n      <td>0</td>\n    </tr>\n    <tr>\n      <th>5607</th>\n      <td>157</td>\n      <td>1.317518</td>\n      <td>1.087743</td>\n      <td>1.090581</td>\n      <td>0.687401</td>\n      <td>0</td>\n    </tr>\n    <tr>\n      <th>5608</th>\n      <td>156</td>\n      <td>1.282519</td>\n      <td>1.065515</td>\n      <td>1.097792</td>\n      <td>0.701725</td>\n      <td>0</td>\n    </tr>\n    <tr>\n      <th>5609</th>\n      <td>155</td>\n      <td>1.291348</td>\n      <td>1.051499</td>\n      <td>1.105002</td>\n      <td>0.706370</td>\n      <td>0</td>\n    </tr>\n  </tbody>\n</table>\n<p>5610 rows × 6 columns</p>\n</div>"
     },
     "execution_count": 9,
     "metadata": {},
     "output_type": "execute_result"
    }
   ],
   "source": [
    "preprocessed_data, reserved_data = split_data(DATE_TARGET_OFFSET, DATE_TARGET_DURATION, STARTING_EVENT_CLASS)\n",
    "preprocessed_data"
   ]
  },
  {
   "cell_type": "code",
   "execution_count": 10,
   "metadata": {
    "collapsed": false,
    "pycharm": {
     "name": "#%%\n"
    }
   },
   "outputs": [],
   "source": [
    "# display(\n",
    "#     preprocessed_data.tail(),\n",
    "#     reserved_data.head()\n",
    "# )\n",
    "# geochem_data.head()"
   ]
  },
  {
   "cell_type": "code",
   "execution_count": 11,
   "metadata": {
    "collapsed": false,
    "pycharm": {
     "name": "#%%\n"
    }
   },
   "outputs": [],
   "source": [
    "RANDOM_STATE = 42\n",
    "TRAIN_FRAC = .8"
   ]
  },
  {
   "cell_type": "code",
   "execution_count": 12,
   "metadata": {
    "collapsed": false,
    "pycharm": {
     "name": "#%%\n"
    }
   },
   "outputs": [],
   "source": [
    "def generate_train_test(data: pd.DataFrame, train: float = .8, seed: int = None):\n",
    "\n",
    "    data_train = data.sample(frac=train, random_state=seed)\n",
    "    data_test = data.drop(data_train.index)\n",
    "\n",
    "    x_train, y_train = data_train.drop(['target'], axis=1), data_train['target']\n",
    "    x_test, y_test = data_test.drop(['target'], axis=1), data_test['target']\n",
    "\n",
    "    return (x_train, y_train), (x_test, y_test)"
   ]
  },
  {
   "cell_type": "code",
   "execution_count": 13,
   "metadata": {
    "collapsed": false,
    "pycharm": {
     "name": "#%%\n"
    }
   },
   "outputs": [],
   "source": [
    "def model_builder(hp: kt.HyperParameters):\n",
    "    # hp_date_target_offset_months = hp.Int('offset', 1, 12)\n",
    "    # hp_date_target_duration_months = hp.Int('duration', 1, 12)\n",
    "\n",
    "    hp_activation = hp.Choice('activation', values=['linear', 'relu', 'tanh', 'sigmoid'])\n",
    "    hp_units = hp.Int('units', min_value=8, max_value=128, step=8)\n",
    "    hp_activation_1 = hp.Choice('activation_1', values=['linear', 'relu', 'tanh', 'sigmoid'])\n",
    "    hp_units_1 = hp.Int('units_1', min_value=8, max_value=128, step=8)\n",
    "    hp_activation_2 = hp.Choice('activation_2', values=['linear', 'relu', 'tanh', 'sigmoid'])\n",
    "    hp_units_2 = hp.Int('units_2', min_value=8, max_value=128, step=8)\n",
    "    hp_learning_rate = hp.Choice('learning_rate', values=[1e-2, 1e-3, 1e-4])\n",
    "\n",
    "    core_model = Sequential([\n",
    "        layers.InputLayer((5,), name='input'),\n",
    "        layers.Dense(units=hp_units, activation=hp_activation, name='dense_0'),\n",
    "        layers.Dense(units=hp_units_1, activation=hp_activation_1, name='dense_1'),\n",
    "        layers.Dense(units=hp_units_2, activation=hp_activation_2, name='dense_2'),\n",
    "        layers.Dense(1, name='output')\n",
    "    ], name='core_model')\n",
    "\n",
    "    normalizer = keras.layers.Normalization(axis=1, name='normalization_layer')\n",
    "    normalizer.adapt(preprocessed_data.drop('target', axis=1))\n",
    "\n",
    "    inputs = keras.Input(shape=(5,))\n",
    "    x = normalizer(inputs)\n",
    "    outputs = core_model(x)\n",
    "\n",
    "    model = keras.Model(inputs, outputs, name='model')\n",
    "    model.compile(\n",
    "        optimizer=optimizers.Adam(learning_rate=hp_learning_rate),\n",
    "        loss=losses.BinaryCrossentropy(from_logits=True),\n",
    "        metrics=[metrics.BinaryAccuracy(name='accuracy')]\n",
    "    )\n",
    "\n",
    "    return model"
   ]
  },
  {
   "cell_type": "code",
   "execution_count": 14,
   "metadata": {
    "collapsed": false,
    "pycharm": {
     "name": "#%%\n"
    }
   },
   "outputs": [
    {
     "name": "stdout",
     "output_type": "stream",
     "text": [
      "INFO:tensorflow:Reloading Oracle from existing project C:\\Users\\saaru\\PycharmProjects\\geo\\data/hypermodel/date_3_1\\geo_analysis\\oracle.json\n",
      "INFO:tensorflow:Reloading Tuner from C:\\Users\\saaru\\PycharmProjects\\geo\\data/hypermodel/date_3_1\\geo_analysis\\tuner0.json\n"
     ]
    }
   ],
   "source": [
    "tuner = kt.Hyperband(\n",
    "    model_builder,\n",
    "    objective='val_accuracy',\n",
    "    max_epochs=200,\n",
    "    factor=3,\n",
    "    directory=os.path.join(file_helper.get_root_path(), f'data/hypermodel/date_3_1'),\n",
    "    project_name='geo_analysis'\n",
    ")"
   ]
  },
  {
   "cell_type": "code",
   "execution_count": 15,
   "metadata": {
    "collapsed": false,
    "pycharm": {
     "name": "#%%\n"
    }
   },
   "outputs": [],
   "source": [
    "stop_early = callbacks.EarlyStopping(monitor='val_loss', patience=10)"
   ]
  },
  {
   "cell_type": "code",
   "execution_count": 16,
   "outputs": [
    {
     "name": "stdout",
     "output_type": "stream",
     "text": [
      "0.5203116304952699 12.808219178082192\n",
      "Negatives: 96.09625668449198%\n",
      "Positives: 3.9037433155080214%\n"
     ]
    }
   ],
   "source": [
    "total_count = len(preprocessed_data)\n",
    "neg_count = len(preprocessed_data[preprocessed_data['target'] == 0]['target'])\n",
    "pos_count = len(preprocessed_data[preprocessed_data['target'] == 1]['target'])\n",
    "\n",
    "weight_0 = (1 / neg_count) * (total_count / 2.0)\n",
    "weight_1 = (1 / pos_count) * (total_count / 2.0)\n",
    "\n",
    "print(weight_0, weight_1)\n",
    "print(f'Negatives: {neg_count/total_count*100}%')\n",
    "print(f'Positives: {pos_count/total_count*100}%')"
   ],
   "metadata": {
    "collapsed": false,
    "pycharm": {
     "name": "#%%\n"
    }
   }
  },
  {
   "cell_type": "code",
   "execution_count": 17,
   "outputs": [],
   "source": [
    "(x_train, y_train), (x_test, y_test) = generate_train_test(preprocessed_data, TRAIN_FRAC, RANDOM_STATE)"
   ],
   "metadata": {
    "collapsed": false,
    "pycharm": {
     "name": "#%%\n"
    }
   }
  },
  {
   "cell_type": "code",
   "execution_count": 18,
   "outputs": [
    {
     "name": "stdout",
     "output_type": "stream",
     "text": [
      "INFO:tensorflow:Oracle triggered exit\n"
     ]
    }
   ],
   "source": [
    "tuner.search(\n",
    "    x_train, y_train,\n",
    "    epochs=100,\n",
    "    validation_split=.2,\n",
    "    class_weight={0: weight_0, 1: weight_1},\n",
    "    callbacks=[stop_early]\n",
    ")\n",
    "\n",
    "best_hps = tuner.get_best_hyperparameters(num_trials=1)[0]"
   ],
   "metadata": {
    "collapsed": false,
    "pycharm": {
     "name": "#%%\n"
    }
   }
  },
  {
   "cell_type": "code",
   "execution_count": 19,
   "outputs": [],
   "source": [
    "def search_best_model(seed: int=None):\n",
    "    START_MONTH = 1\n",
    "    END_MONTH = 12\n",
    "\n",
    "    last_score = -1.\n",
    "    best_score = -1.\n",
    "    best_offset, best_duration = (-1, -1)\n",
    "\n",
    "    for offset in range(START_MONTH, END_MONTH + 1):\n",
    "        for duration in range(START_MONTH, END_MONTH + 1):\n",
    "            clear_output(wait=True)\n",
    "            print(f'{\"Offset\":10}: {offset}\\n{\"Duration\":10}: {duration}')\n",
    "            print(f'Best offset: {best_offset}\\nBest duration: {best_duration}')\n",
    "            print(f'Last score: {last_score}')\n",
    "            print(f'Best score: {best_score}')\n",
    "\n",
    "            date_target_offset = relativedelta(months=offset)\n",
    "            date_target_duration = relativedelta(months=duration)\n",
    "\n",
    "            stop_early = callbacks.EarlyStopping(monitor='val_loss', patience=10)\n",
    "\n",
    "            preprocessed_data, reserved_data = split_data(date_target_offset, date_target_duration, STARTING_EVENT_CLASS)\n",
    "            (x_train, y_train), _ = generate_train_test(preprocessed_data)\n",
    "\n",
    "            # split_index = int(x_train.shape[0] * .8)\n",
    "            #\n",
    "            # x_val, y_val = x_train[split_index:], y_train[split_index:]\n",
    "            # x_train, y_train = x_train[:split_index], y_train[:split_index]\n",
    "            #\n",
    "            # train_dataset = tf.data.Dataset.from_tensor_slices((x_train, y_train)).batch(32).cache().prefetch(tf.data.AUTOTUNE)\n",
    "            # val_dataset = tf.data.Dataset.from_tensor_slices((x_val, y_val)).batch(32).cache().prefetch(tf.data.AUTOTUNE)\n",
    "\n",
    "            tuner = kt.Hyperband(\n",
    "                model_builder,\n",
    "                objective='val_accuracy',\n",
    "                max_epochs=200,\n",
    "                factor=3,\n",
    "                seed=seed,\n",
    "                directory=os.path.join(file_helper.get_root_path(), f'data/hypermodel/date_o_d/{offset}/{duration}'),\n",
    "                project_name='geo_analysis'\n",
    "            )\n",
    "\n",
    "            tuner.search(\n",
    "                # train_dataset,\n",
    "                x_train, y_train,\n",
    "                epochs=100,\n",
    "                validation_split=.2,\n",
    "                # validation_data=val_dataset,\n",
    "                callbacks=[stop_early]\n",
    "            )\n",
    "            score = tuner.oracle.get_best_trials(num_trials=1)[0].score\n",
    "\n",
    "            if best_score < score:\n",
    "                best_score = score\n",
    "                best_hps = tuner.get_best_hyperparameters(num_trials=1)[0]\n",
    "                best_preprocessed = preprocessed_data\n",
    "                best_reserved = reserved_data\n",
    "                best_tuner = tuner\n",
    "                best_offset, best_duration = (offset, duration)\n",
    "            last_score = score\n",
    "\n",
    "    model = best_tuner.hypermodel.build(best_hps)\n",
    "\n",
    "    print(f'{\"Best score\":10}:{best_score}\\n{\"Offset\":10}:{best_offset}\\n{\"Duration\":10}:{best_duration}')\n",
    "\n",
    "    return model, best_preprocessed, best_reserved, best_hps"
   ],
   "metadata": {
    "collapsed": false,
    "pycharm": {
     "name": "#%%\n"
    }
   }
  },
  {
   "cell_type": "code",
   "execution_count": 20,
   "outputs": [],
   "source": [
    "# model, preprocessed_data, reserved_data, best_hps = search_best_model(seed=42)"
   ],
   "metadata": {
    "collapsed": false,
    "pycharm": {
     "name": "#%%\n"
    }
   }
  },
  {
   "cell_type": "code",
   "execution_count": 21,
   "outputs": [
    {
     "name": "stdout",
     "output_type": "stream",
     "text": [
      "activation          : linear\n",
      "units               : 24\n",
      "activation_1        : tanh\n",
      "units_1             : 56\n",
      "activation_2        : sigmoid\n",
      "units_2             : 40\n",
      "learning_rate       : 0.001\n",
      "tuner/epochs        : 200\n",
      "tuner/initial_epoch : 67\n",
      "tuner/bracket       : 4\n",
      "tuner/round         : 4\n",
      "tuner/trial_id      : 0142\n"
     ]
    }
   ],
   "source": [
    "print(*[f'{k:20}: {v}' for k, v in best_hps.values.items()], sep='\\n')"
   ],
   "metadata": {
    "collapsed": false,
    "pycharm": {
     "name": "#%%\n"
    }
   }
  },
  {
   "cell_type": "code",
   "execution_count": 46,
   "outputs": [],
   "source": [
    "# model = Sequential([\n",
    "#     layers.InputLayer(input_shape=(5,), name='input'),\n",
    "#     layers.Normalization(axis=1),\n",
    "#     layers.Dense(120, activation=activations.tanh, name='dense_0'),\n",
    "#     layers.Dense(72, activation=activations.relu, name='dense_1'),\n",
    "#     layers.Dense(64, activation=activations.tanh, name='dense_2'),\n",
    "#     layers.Dense(1, name='output')\n",
    "# ])\n",
    "# model.compile(\n",
    "#     optimizer=optimizers.Adam(name='adam', learning_rate=.001),\n",
    "#     loss=losses.BinaryCrossentropy(name='binary_crossentropy', from_logits=True),\n",
    "#     metrics=[metrics.BinaryAccuracy(name='accuracy')]\n",
    "# )\n",
    "\n",
    "model = tuner.hypermodel.build(best_hps)\n",
    "\n",
    "# inputs = keras.Input(shape=(5,))\n",
    "# normalization = keras.layers.Normalization(axis=1, name='normalization')(inputs)\n",
    "# outputs = core_model(normalization)\n",
    "#\n",
    "# model = keras.Model(inputs, outputs, name='model')\n",
    "# model.compile(\n",
    "#     optimizer=optimizers.Adam(name='adam', learning_rate=.001),\n",
    "#     loss=losses.BinaryCrossentropy(name='binary_crossentropy', from_logits=True),\n",
    "#     metrics=[metrics.BinaryAccuracy(name='accuracy')]\n",
    "# )"
   ],
   "metadata": {
    "collapsed": false,
    "pycharm": {
     "name": "#%%\n"
    }
   }
  },
  {
   "cell_type": "code",
   "execution_count": 47,
   "outputs": [],
   "source": [
    "(x_train, y_train), (x_test, y_test) = generate_train_test(preprocessed_data, train=TRAIN_FRAC)"
   ],
   "metadata": {
    "collapsed": false,
    "pycharm": {
     "name": "#%%\n"
    }
   }
  },
  {
   "cell_type": "code",
   "execution_count": 48,
   "outputs": [
    {
     "name": "stdout",
     "output_type": "stream",
     "text": [
      "Epoch 1/100\n",
      "113/113 [==============================] - 3s 17ms/step - loss: 0.7086 - accuracy: 0.8136 - val_loss: 0.6511 - val_accuracy: 0.9610\n",
      "Epoch 2/100\n",
      "113/113 [==============================] - 2s 14ms/step - loss: 0.6987 - accuracy: 0.9565 - val_loss: 0.6545 - val_accuracy: 0.9610\n",
      "Epoch 3/100\n",
      "113/113 [==============================] - 1s 13ms/step - loss: 0.6847 - accuracy: 0.9234 - val_loss: 0.6413 - val_accuracy: 0.9610\n",
      "Epoch 4/100\n",
      "113/113 [==============================] - 1s 13ms/step - loss: 0.6594 - accuracy: 0.8989 - val_loss: 0.6155 - val_accuracy: 0.9555\n",
      "Epoch 5/100\n",
      "113/113 [==============================] - 2s 13ms/step - loss: 0.6193 - accuracy: 0.8799 - val_loss: 0.5777 - val_accuracy: 0.9477\n",
      "Epoch 6/100\n",
      "113/113 [==============================] - 1s 13ms/step - loss: 0.5682 - accuracy: 0.8529 - val_loss: 0.5309 - val_accuracy: 0.9131\n",
      "Epoch 7/100\n",
      "113/113 [==============================] - 1s 12ms/step - loss: 0.5151 - accuracy: 0.8426 - val_loss: 0.4824 - val_accuracy: 0.9020\n",
      "Epoch 8/100\n",
      "113/113 [==============================] - 1s 13ms/step - loss: 0.4694 - accuracy: 0.8457 - val_loss: 0.4396 - val_accuracy: 0.8987\n",
      "Epoch 9/100\n",
      "113/113 [==============================] - 1s 12ms/step - loss: 0.4342 - accuracy: 0.8518 - val_loss: 0.4051 - val_accuracy: 0.8987\n",
      "Epoch 10/100\n",
      "113/113 [==============================] - 1s 13ms/step - loss: 0.4068 - accuracy: 0.8602 - val_loss: 0.3773 - val_accuracy: 0.9042\n",
      "Epoch 11/100\n",
      "113/113 [==============================] - 1s 12ms/step - loss: 0.3840 - accuracy: 0.8674 - val_loss: 0.3540 - val_accuracy: 0.9053\n",
      "Epoch 12/100\n",
      "113/113 [==============================] - 1s 12ms/step - loss: 0.3634 - accuracy: 0.8763 - val_loss: 0.3333 - val_accuracy: 0.9042\n",
      "Epoch 13/100\n",
      "113/113 [==============================] - 1s 12ms/step - loss: 0.3438 - accuracy: 0.8850 - val_loss: 0.3144 - val_accuracy: 0.9076\n",
      "Epoch 14/100\n",
      "113/113 [==============================] - 1s 13ms/step - loss: 0.3255 - accuracy: 0.8900 - val_loss: 0.2977 - val_accuracy: 0.9087\n",
      "Epoch 15/100\n",
      "113/113 [==============================] - 1s 12ms/step - loss: 0.3088 - accuracy: 0.8955 - val_loss: 0.2833 - val_accuracy: 0.9131\n",
      "Epoch 16/100\n",
      "113/113 [==============================] - 1s 13ms/step - loss: 0.2935 - accuracy: 0.9003 - val_loss: 0.2710 - val_accuracy: 0.9131\n",
      "Epoch 17/100\n",
      "113/113 [==============================] - 1s 12ms/step - loss: 0.2794 - accuracy: 0.9058 - val_loss: 0.2602 - val_accuracy: 0.9131\n",
      "Epoch 18/100\n",
      "113/113 [==============================] - 1s 12ms/step - loss: 0.2665 - accuracy: 0.9064 - val_loss: 0.2506 - val_accuracy: 0.9176\n",
      "Epoch 19/100\n",
      "113/113 [==============================] - 1s 12ms/step - loss: 0.2544 - accuracy: 0.9103 - val_loss: 0.2417 - val_accuracy: 0.9187\n",
      "Epoch 20/100\n",
      "113/113 [==============================] - 2s 15ms/step - loss: 0.2429 - accuracy: 0.9123 - val_loss: 0.2329 - val_accuracy: 0.9187\n",
      "Epoch 21/100\n",
      "113/113 [==============================] - 2s 13ms/step - loss: 0.2317 - accuracy: 0.9162 - val_loss: 0.2237 - val_accuracy: 0.9243\n",
      "Epoch 22/100\n",
      "113/113 [==============================] - 1s 12ms/step - loss: 0.2206 - accuracy: 0.9198 - val_loss: 0.2143 - val_accuracy: 0.9298\n",
      "Epoch 23/100\n",
      "113/113 [==============================] - 1s 13ms/step - loss: 0.2099 - accuracy: 0.9226 - val_loss: 0.2056 - val_accuracy: 0.9310\n",
      "Epoch 24/100\n",
      "113/113 [==============================] - 2s 13ms/step - loss: 0.1998 - accuracy: 0.9237 - val_loss: 0.1976 - val_accuracy: 0.9321\n",
      "Epoch 25/100\n",
      "113/113 [==============================] - 2s 14ms/step - loss: 0.1906 - accuracy: 0.9248 - val_loss: 0.1900 - val_accuracy: 0.9321\n",
      "Epoch 26/100\n",
      "113/113 [==============================] - 1s 12ms/step - loss: 0.1819 - accuracy: 0.9256 - val_loss: 0.1829 - val_accuracy: 0.9321\n",
      "Epoch 27/100\n",
      "113/113 [==============================] - 1s 12ms/step - loss: 0.1738 - accuracy: 0.9290 - val_loss: 0.1762 - val_accuracy: 0.9365\n",
      "Epoch 28/100\n",
      "113/113 [==============================] - 1s 12ms/step - loss: 0.1661 - accuracy: 0.9320 - val_loss: 0.1697 - val_accuracy: 0.9376\n",
      "Epoch 29/100\n",
      "113/113 [==============================] - 1s 12ms/step - loss: 0.1590 - accuracy: 0.9379 - val_loss: 0.1634 - val_accuracy: 0.9388\n",
      "Epoch 30/100\n",
      "113/113 [==============================] - 1s 12ms/step - loss: 0.1523 - accuracy: 0.9393 - val_loss: 0.1571 - val_accuracy: 0.9388\n",
      "Epoch 31/100\n",
      "113/113 [==============================] - 1s 12ms/step - loss: 0.1461 - accuracy: 0.9423 - val_loss: 0.1508 - val_accuracy: 0.9421\n",
      "Epoch 32/100\n",
      "113/113 [==============================] - 1s 12ms/step - loss: 0.1406 - accuracy: 0.9443 - val_loss: 0.1449 - val_accuracy: 0.9454\n",
      "Epoch 33/100\n",
      "113/113 [==============================] - 1s 12ms/step - loss: 0.1358 - accuracy: 0.9457 - val_loss: 0.1404 - val_accuracy: 0.9477\n",
      "Epoch 34/100\n",
      "113/113 [==============================] - 1s 12ms/step - loss: 0.1318 - accuracy: 0.9476 - val_loss: 0.1369 - val_accuracy: 0.9532\n",
      "Epoch 35/100\n",
      "113/113 [==============================] - 1s 12ms/step - loss: 0.1283 - accuracy: 0.9485 - val_loss: 0.1341 - val_accuracy: 0.9555\n",
      "Epoch 36/100\n",
      "113/113 [==============================] - 1s 12ms/step - loss: 0.1253 - accuracy: 0.9499 - val_loss: 0.1317 - val_accuracy: 0.9566\n",
      "Epoch 37/100\n",
      "113/113 [==============================] - 1s 12ms/step - loss: 0.1226 - accuracy: 0.9504 - val_loss: 0.1297 - val_accuracy: 0.9577\n",
      "Epoch 38/100\n",
      "113/113 [==============================] - 1s 12ms/step - loss: 0.1201 - accuracy: 0.9507 - val_loss: 0.1278 - val_accuracy: 0.9577\n",
      "Epoch 39/100\n",
      "113/113 [==============================] - 1s 12ms/step - loss: 0.1180 - accuracy: 0.9507 - val_loss: 0.1262 - val_accuracy: 0.9588\n",
      "Epoch 40/100\n",
      "113/113 [==============================] - 1s 12ms/step - loss: 0.1160 - accuracy: 0.9515 - val_loss: 0.1248 - val_accuracy: 0.9599\n",
      "Epoch 41/100\n",
      "113/113 [==============================] - 1s 12ms/step - loss: 0.1141 - accuracy: 0.9515 - val_loss: 0.1235 - val_accuracy: 0.9599\n",
      "Epoch 42/100\n",
      "113/113 [==============================] - 1s 13ms/step - loss: 0.1124 - accuracy: 0.9518 - val_loss: 0.1223 - val_accuracy: 0.9599\n",
      "Epoch 43/100\n",
      "113/113 [==============================] - 1s 12ms/step - loss: 0.1109 - accuracy: 0.9521 - val_loss: 0.1213 - val_accuracy: 0.9599\n",
      "Epoch 44/100\n",
      "113/113 [==============================] - 1s 12ms/step - loss: 0.1094 - accuracy: 0.9526 - val_loss: 0.1203 - val_accuracy: 0.9599\n",
      "Epoch 45/100\n",
      "113/113 [==============================] - 1s 12ms/step - loss: 0.1080 - accuracy: 0.9535 - val_loss: 0.1194 - val_accuracy: 0.9599\n",
      "Epoch 46/100\n",
      "113/113 [==============================] - 1s 12ms/step - loss: 0.1068 - accuracy: 0.9543 - val_loss: 0.1186 - val_accuracy: 0.9599\n",
      "Epoch 47/100\n",
      "113/113 [==============================] - 1s 13ms/step - loss: 0.1055 - accuracy: 0.9549 - val_loss: 0.1178 - val_accuracy: 0.9599\n",
      "Epoch 48/100\n",
      "113/113 [==============================] - 1s 13ms/step - loss: 0.1044 - accuracy: 0.9554 - val_loss: 0.1171 - val_accuracy: 0.9599\n",
      "Epoch 49/100\n",
      "113/113 [==============================] - 1s 13ms/step - loss: 0.1033 - accuracy: 0.9563 - val_loss: 0.1164 - val_accuracy: 0.9599\n",
      "Epoch 50/100\n",
      "113/113 [==============================] - 1s 12ms/step - loss: 0.1022 - accuracy: 0.9563 - val_loss: 0.1157 - val_accuracy: 0.9621\n",
      "Epoch 51/100\n",
      "113/113 [==============================] - 1s 13ms/step - loss: 0.1012 - accuracy: 0.9571 - val_loss: 0.1150 - val_accuracy: 0.9633\n",
      "Epoch 52/100\n",
      "113/113 [==============================] - 1s 13ms/step - loss: 0.1002 - accuracy: 0.9577 - val_loss: 0.1143 - val_accuracy: 0.9633\n",
      "Epoch 53/100\n",
      "113/113 [==============================] - 1s 12ms/step - loss: 0.0992 - accuracy: 0.9582 - val_loss: 0.1137 - val_accuracy: 0.9633\n",
      "Epoch 54/100\n",
      "113/113 [==============================] - 1s 12ms/step - loss: 0.0983 - accuracy: 0.9582 - val_loss: 0.1130 - val_accuracy: 0.9633\n",
      "Epoch 55/100\n",
      "113/113 [==============================] - 1s 12ms/step - loss: 0.0974 - accuracy: 0.9588 - val_loss: 0.1124 - val_accuracy: 0.9633\n",
      "Epoch 56/100\n",
      "113/113 [==============================] - 2s 14ms/step - loss: 0.0965 - accuracy: 0.9593 - val_loss: 0.1117 - val_accuracy: 0.9633\n",
      "Epoch 57/100\n",
      "113/113 [==============================] - 1s 13ms/step - loss: 0.0957 - accuracy: 0.9599 - val_loss: 0.1111 - val_accuracy: 0.9633\n",
      "Epoch 58/100\n",
      "113/113 [==============================] - 1s 12ms/step - loss: 0.0949 - accuracy: 0.9604 - val_loss: 0.1104 - val_accuracy: 0.9633\n",
      "Epoch 59/100\n",
      "113/113 [==============================] - 1s 12ms/step - loss: 0.0941 - accuracy: 0.9604 - val_loss: 0.1097 - val_accuracy: 0.9633\n",
      "Epoch 60/100\n",
      "113/113 [==============================] - 1s 12ms/step - loss: 0.0934 - accuracy: 0.9604 - val_loss: 0.1091 - val_accuracy: 0.9633\n",
      "Epoch 61/100\n",
      "113/113 [==============================] - 1s 12ms/step - loss: 0.0927 - accuracy: 0.9610 - val_loss: 0.1084 - val_accuracy: 0.9655\n",
      "Epoch 62/100\n",
      "113/113 [==============================] - 1s 13ms/step - loss: 0.0921 - accuracy: 0.9610 - val_loss: 0.1078 - val_accuracy: 0.9655\n",
      "Epoch 63/100\n",
      "113/113 [==============================] - 1s 12ms/step - loss: 0.0914 - accuracy: 0.9613 - val_loss: 0.1072 - val_accuracy: 0.9655\n",
      "Epoch 64/100\n",
      "113/113 [==============================] - 1s 12ms/step - loss: 0.0908 - accuracy: 0.9610 - val_loss: 0.1065 - val_accuracy: 0.9655\n",
      "Epoch 65/100\n",
      "113/113 [==============================] - 1s 12ms/step - loss: 0.0903 - accuracy: 0.9610 - val_loss: 0.1059 - val_accuracy: 0.9655\n",
      "Epoch 66/100\n",
      "113/113 [==============================] - 1s 12ms/step - loss: 0.0897 - accuracy: 0.9610 - val_loss: 0.1053 - val_accuracy: 0.9655\n",
      "Epoch 67/100\n",
      "113/113 [==============================] - 1s 12ms/step - loss: 0.0892 - accuracy: 0.9616 - val_loss: 0.1047 - val_accuracy: 0.9655\n",
      "Epoch 68/100\n",
      "113/113 [==============================] - 1s 12ms/step - loss: 0.0887 - accuracy: 0.9618 - val_loss: 0.1041 - val_accuracy: 0.9655\n",
      "Epoch 69/100\n",
      "113/113 [==============================] - 1s 12ms/step - loss: 0.0882 - accuracy: 0.9618 - val_loss: 0.1036 - val_accuracy: 0.9666\n",
      "Epoch 70/100\n",
      "113/113 [==============================] - 1s 12ms/step - loss: 0.0877 - accuracy: 0.9618 - val_loss: 0.1030 - val_accuracy: 0.9666\n",
      "Epoch 71/100\n",
      "113/113 [==============================] - 1s 12ms/step - loss: 0.0872 - accuracy: 0.9621 - val_loss: 0.1025 - val_accuracy: 0.9666\n",
      "Epoch 72/100\n",
      "113/113 [==============================] - 1s 12ms/step - loss: 0.0868 - accuracy: 0.9621 - val_loss: 0.1020 - val_accuracy: 0.9677\n",
      "Epoch 73/100\n",
      "113/113 [==============================] - 1s 12ms/step - loss: 0.0863 - accuracy: 0.9618 - val_loss: 0.1015 - val_accuracy: 0.9677\n",
      "Epoch 74/100\n",
      "113/113 [==============================] - 1s 12ms/step - loss: 0.0859 - accuracy: 0.9618 - val_loss: 0.1010 - val_accuracy: 0.9688\n",
      "Epoch 75/100\n",
      "113/113 [==============================] - 1s 12ms/step - loss: 0.0855 - accuracy: 0.9618 - val_loss: 0.1005 - val_accuracy: 0.9688\n",
      "Epoch 76/100\n",
      "113/113 [==============================] - 1s 12ms/step - loss: 0.0851 - accuracy: 0.9621 - val_loss: 0.1001 - val_accuracy: 0.9688\n",
      "Epoch 77/100\n",
      "113/113 [==============================] - 1s 12ms/step - loss: 0.0847 - accuracy: 0.9630 - val_loss: 0.0997 - val_accuracy: 0.9688\n",
      "Epoch 78/100\n",
      "113/113 [==============================] - 1s 12ms/step - loss: 0.0843 - accuracy: 0.9632 - val_loss: 0.0992 - val_accuracy: 0.9688\n",
      "Epoch 79/100\n",
      "113/113 [==============================] - 1s 12ms/step - loss: 0.0840 - accuracy: 0.9635 - val_loss: 0.0988 - val_accuracy: 0.9688\n",
      "Epoch 80/100\n",
      "113/113 [==============================] - 1s 12ms/step - loss: 0.0836 - accuracy: 0.9635 - val_loss: 0.0984 - val_accuracy: 0.9688\n",
      "Epoch 81/100\n",
      "113/113 [==============================] - 1s 12ms/step - loss: 0.0833 - accuracy: 0.9635 - val_loss: 0.0981 - val_accuracy: 0.9688\n",
      "Epoch 82/100\n",
      "113/113 [==============================] - 1s 12ms/step - loss: 0.0829 - accuracy: 0.9638 - val_loss: 0.0977 - val_accuracy: 0.9688\n",
      "Epoch 83/100\n",
      "113/113 [==============================] - 1s 12ms/step - loss: 0.0826 - accuracy: 0.9641 - val_loss: 0.0973 - val_accuracy: 0.9699\n",
      "Epoch 84/100\n",
      "113/113 [==============================] - 1s 12ms/step - loss: 0.0823 - accuracy: 0.9641 - val_loss: 0.0970 - val_accuracy: 0.9699\n",
      "Epoch 85/100\n",
      "113/113 [==============================] - 1s 12ms/step - loss: 0.0820 - accuracy: 0.9643 - val_loss: 0.0966 - val_accuracy: 0.9699\n",
      "Epoch 86/100\n",
      "113/113 [==============================] - 1s 12ms/step - loss: 0.0817 - accuracy: 0.9643 - val_loss: 0.0963 - val_accuracy: 0.9699\n",
      "Epoch 87/100\n",
      "113/113 [==============================] - 1s 12ms/step - loss: 0.0814 - accuracy: 0.9643 - val_loss: 0.0960 - val_accuracy: 0.9699\n",
      "Epoch 88/100\n",
      "113/113 [==============================] - 1s 13ms/step - loss: 0.0811 - accuracy: 0.9643 - val_loss: 0.0957 - val_accuracy: 0.9699\n",
      "Epoch 89/100\n",
      "113/113 [==============================] - 1s 12ms/step - loss: 0.0808 - accuracy: 0.9643 - val_loss: 0.0954 - val_accuracy: 0.9699\n",
      "Epoch 90/100\n",
      "113/113 [==============================] - 1s 12ms/step - loss: 0.0805 - accuracy: 0.9643 - val_loss: 0.0951 - val_accuracy: 0.9699\n",
      "Epoch 91/100\n",
      "113/113 [==============================] - 1s 12ms/step - loss: 0.0803 - accuracy: 0.9649 - val_loss: 0.0948 - val_accuracy: 0.9699\n",
      "Epoch 92/100\n",
      "113/113 [==============================] - 1s 12ms/step - loss: 0.0800 - accuracy: 0.9649 - val_loss: 0.0945 - val_accuracy: 0.9699\n",
      "Epoch 93/100\n",
      "113/113 [==============================] - 1s 12ms/step - loss: 0.0797 - accuracy: 0.9652 - val_loss: 0.0942 - val_accuracy: 0.9699\n",
      "Epoch 94/100\n",
      "113/113 [==============================] - 1s 12ms/step - loss: 0.0795 - accuracy: 0.9652 - val_loss: 0.0939 - val_accuracy: 0.9699\n",
      "Epoch 95/100\n",
      "113/113 [==============================] - 1s 12ms/step - loss: 0.0792 - accuracy: 0.9655 - val_loss: 0.0937 - val_accuracy: 0.9710\n",
      "Epoch 96/100\n",
      "113/113 [==============================] - 1s 12ms/step - loss: 0.0790 - accuracy: 0.9657 - val_loss: 0.0934 - val_accuracy: 0.9710\n",
      "Epoch 97/100\n",
      "113/113 [==============================] - 1s 13ms/step - loss: 0.0787 - accuracy: 0.9657 - val_loss: 0.0932 - val_accuracy: 0.9710\n",
      "Epoch 98/100\n",
      "113/113 [==============================] - 1s 12ms/step - loss: 0.0784 - accuracy: 0.9657 - val_loss: 0.0929 - val_accuracy: 0.9710\n",
      "Epoch 99/100\n",
      "113/113 [==============================] - 1s 12ms/step - loss: 0.0782 - accuracy: 0.9657 - val_loss: 0.0927 - val_accuracy: 0.9710\n",
      "Epoch 100/100\n",
      "113/113 [==============================] - 1s 13ms/step - loss: 0.0780 - accuracy: 0.9657 - val_loss: 0.0925 - val_accuracy: 0.9710\n"
     ]
    }
   ],
   "source": [
    "split_index = int(x_train.shape[0] * .8)\n",
    "\n",
    "x_trains, y_trains = x_train[:split_index], y_train[:split_index]\n",
    "x_val, y_val = x_train[split_index:], y_train[split_index:]\n",
    "\n",
    "BATCH_SIZE = 32\n",
    "BUFFER_SIZE = 4096\n",
    "\n",
    "train_dataset = tf.data.Dataset.from_tensor_slices((x_trains, y_trains)).shuffle(BUFFER_SIZE).batch(BATCH_SIZE).cache().prefetch(tf.data.AUTOTUNE)\n",
    "val_dataset = tf.data.Dataset.from_tensor_slices((x_val, y_val)).shuffle(BUFFER_SIZE).batch(BATCH_SIZE).cache().prefetch(tf.data.AUTOTUNE)\n",
    "test_dataset = tf.data.Dataset.from_tensor_slices((x_test, y_test)).batch(BATCH_SIZE).cache().prefetch(tf.data.AUTOTUNE)\n",
    "\n",
    "history = model.fit(\n",
    "    # x_train, y_train,\n",
    "    train_dataset,\n",
    "    epochs=100,\n",
    "    # epochs=best_hps.get('tuner/epochs'),\n",
    "    # validation_split=.2,\n",
    "    validation_data=val_dataset,\n",
    "    # verbose=0,\n",
    "    class_weight={0: weight_0, 1: weight_1},\n",
    "    # callbacks=[stop_early],\n",
    ")\n",
    "# len(history.history['val_loss'])"
   ],
   "metadata": {
    "collapsed": false,
    "pycharm": {
     "name": "#%%\n"
    }
   }
  },
  {
   "cell_type": "code",
   "execution_count": 49,
   "outputs": [
    {
     "data": {
      "application/vnd.plotly.v1+json": {
       "data": [
        {
         "line": {
          "color": "royalblue",
          "dash": "dash"
         },
         "name": "loss",
         "x": [
          0,
          1,
          2,
          3,
          4,
          5,
          6,
          7,
          8,
          9,
          10,
          11,
          12,
          13,
          14,
          15,
          16,
          17,
          18,
          19,
          20,
          21,
          22,
          23,
          24,
          25,
          26,
          27,
          28,
          29,
          30,
          31,
          32,
          33,
          34,
          35,
          36,
          37,
          38,
          39,
          40,
          41,
          42,
          43,
          44,
          45,
          46,
          47,
          48,
          49,
          50,
          51,
          52,
          53,
          54,
          55,
          56,
          57,
          58,
          59,
          60,
          61,
          62,
          63,
          64,
          65,
          66,
          67,
          68,
          69,
          70,
          71,
          72,
          73,
          74,
          75,
          76,
          77,
          78,
          79,
          80,
          81,
          82,
          83,
          84,
          85,
          86,
          87,
          88,
          89,
          90,
          91,
          92,
          93,
          94,
          95,
          96,
          97,
          98,
          99
         ],
         "y": [
          0.7085712552070618,
          0.6986760497093201,
          0.6847372055053711,
          0.6593786478042603,
          0.6193404793739319,
          0.5681888461112976,
          0.5150777697563171,
          0.46940329670906067,
          0.43419936299324036,
          0.4068479537963867,
          0.3840238153934479,
          0.36336031556129456,
          0.3437666594982147,
          0.325466513633728,
          0.30875763297080994,
          0.2934925854206085,
          0.27944955229759216,
          0.2664806544780731,
          0.254414826631546,
          0.24293094873428345,
          0.23171298205852509,
          0.22062276303768158,
          0.20987023413181305,
          0.19984465837478638,
          0.19055241346359253,
          0.1818801909685135,
          0.17375804483890533,
          0.16612635552883148,
          0.15895307064056396,
          0.15228092670440674,
          0.14614622294902802,
          0.14058318734169006,
          0.1358223557472229,
          0.13181786239147186,
          0.1283482164144516,
          0.12529364228248596,
          0.12257982790470123,
          0.12014909088611603,
          0.11795531958341599,
          0.11596089601516724,
          0.11413422226905823,
          0.1124487891793251,
          0.11088330298662186,
          0.10942115634679794,
          0.10804900527000427,
          0.106755830347538,
          0.10553184151649475,
          0.10436797142028809,
          0.10325632989406586,
          0.10218962281942368,
          0.10116185992956161,
          0.10016889125108719,
          0.0992080494761467,
          0.09827867150306702,
          0.09738136827945709,
          0.09651771187782288,
          0.09568915516138077,
          0.09489672631025314,
          0.09414029121398926,
          0.09341898560523987,
          0.09273086488246918,
          0.09207378327846527,
          0.09144537150859833,
          0.09084325283765793,
          0.09026525169610977,
          0.08970943093299866,
          0.08917418122291565,
          0.08865796774625778,
          0.08815966546535492,
          0.08767807483673096,
          0.08721233904361725,
          0.08676157146692276,
          0.08632511645555496,
          0.08590217679738998,
          0.08549227565526962,
          0.08509474992752075,
          0.08470913767814636,
          0.08433479815721512,
          0.0839712843298912,
          0.08361808955669403,
          0.0832747295498848,
          0.08294066786766052,
          0.08261541277170181,
          0.08229837566614151,
          0.0819890946149826,
          0.08168700337409973,
          0.08139154314994812,
          0.08110223710536957,
          0.0808185338973999,
          0.08053994923830032,
          0.08026587218046188,
          0.07999596744775772,
          0.07972975820302963,
          0.07946688681840897,
          0.07920709252357483,
          0.07895016670227051,
          0.07869613915681839,
          0.07844502478837967,
          0.07819710671901703,
          0.0779527872800827
         ],
         "type": "scatter"
        },
        {
         "line": {
          "color": "firebrick",
          "dash": "dash"
         },
         "name": "val_loss",
         "x": [
          0,
          1,
          2,
          3,
          4,
          5,
          6,
          7,
          8,
          9,
          10,
          11,
          12,
          13,
          14,
          15,
          16,
          17,
          18,
          19,
          20,
          21,
          22,
          23,
          24,
          25,
          26,
          27,
          28,
          29,
          30,
          31,
          32,
          33,
          34,
          35,
          36,
          37,
          38,
          39,
          40,
          41,
          42,
          43,
          44,
          45,
          46,
          47,
          48,
          49,
          50,
          51,
          52,
          53,
          54,
          55,
          56,
          57,
          58,
          59,
          60,
          61,
          62,
          63,
          64,
          65,
          66,
          67,
          68,
          69,
          70,
          71,
          72,
          73,
          74,
          75,
          76,
          77,
          78,
          79,
          80,
          81,
          82,
          83,
          84,
          85,
          86,
          87,
          88,
          89,
          90,
          91,
          92,
          93,
          94,
          95,
          96,
          97,
          98,
          99
         ],
         "y": [
          0.6511295437812805,
          0.654527485370636,
          0.641252338886261,
          0.6154648065567017,
          0.5777320265769958,
          0.5309287309646606,
          0.4823746681213379,
          0.43962937593460083,
          0.4051054120063782,
          0.377274751663208,
          0.3539516031742096,
          0.33325883746147156,
          0.3143722116947174,
          0.2976709306240082,
          0.2833128869533539,
          0.27095046639442444,
          0.2601899206638336,
          0.2506338953971863,
          0.24173606932163239,
          0.2328849732875824,
          0.2236832082271576,
          0.2143310159444809,
          0.2056008279323578,
          0.19755448400974274,
          0.190013125538826,
          0.1829119324684143,
          0.17619413137435913,
          0.16973385214805603,
          0.16339801251888275,
          0.15713152289390564,
          0.15082493424415588,
          0.1449192315340042,
          0.14037108421325684,
          0.13690617680549622,
          0.13409513235092163,
          0.1317186951637268,
          0.12966015934944153,
          0.1278492957353592,
          0.12624098360538483,
          0.12480326741933823,
          0.12351105362176895,
          0.12234361469745636,
          0.12128351628780365,
          0.12031520158052444,
          0.11942458152770996,
          0.1185978502035141,
          0.1178223267197609,
          0.11708584427833557,
          0.11637803912162781,
          0.11569012701511383,
          0.11501526087522507,
          0.11434824019670486,
          0.11368563026189804,
          0.11302531510591507,
          0.11236610263586044,
          0.11170778423547745,
          0.11105029284954071,
          0.110394187271595,
          0.10974020510911942,
          0.10908937454223633,
          0.10844259709119797,
          0.10780133306980133,
          0.10716696083545685,
          0.10654083639383316,
          0.10592439770698547,
          0.10531917214393616,
          0.10472647845745087,
          0.1041475310921669,
          0.10358334332704544,
          0.10303471982479095,
          0.10250230878591537,
          0.10198648273944855,
          0.10148739814758301,
          0.10100490599870682,
          0.10053899884223938,
          0.10008908063173294,
          0.09965471178293228,
          0.09923512488603592,
          0.09882961213588715,
          0.09843719750642776,
          0.09805723279714584,
          0.09768866747617722,
          0.09733084589242935,
          0.0969829261302948,
          0.09664418548345566,
          0.09631402045488358,
          0.09599190950393677,
          0.09567731618881226,
          0.09536996483802795,
          0.09506957978010178,
          0.0947759672999382,
          0.09448922425508499,
          0.09420928359031677,
          0.09393660724163055,
          0.09367164969444275,
          0.09341505169868469,
          0.09316743910312653,
          0.09292955696582794,
          0.09270202368497849,
          0.0924849808216095
         ],
         "type": "scatter"
        },
        {
         "line": {
          "color": "royalblue"
         },
         "name": "accuracy",
         "x": [
          0,
          1,
          2,
          3,
          4,
          5,
          6,
          7,
          8,
          9,
          10,
          11,
          12,
          13,
          14,
          15,
          16,
          17,
          18,
          19,
          20,
          21,
          22,
          23,
          24,
          25,
          26,
          27,
          28,
          29,
          30,
          31,
          32,
          33,
          34,
          35,
          36,
          37,
          38,
          39,
          40,
          41,
          42,
          43,
          44,
          45,
          46,
          47,
          48,
          49,
          50,
          51,
          52,
          53,
          54,
          55,
          56,
          57,
          58,
          59,
          60,
          61,
          62,
          63,
          64,
          65,
          66,
          67,
          68,
          69,
          70,
          71,
          72,
          73,
          74,
          75,
          76,
          77,
          78,
          79,
          80,
          81,
          82,
          83,
          84,
          85,
          86,
          87,
          88,
          89,
          90,
          91,
          92,
          93,
          94,
          95,
          96,
          97,
          98,
          99
         ],
         "y": [
          0.8136489987373352,
          0.9565459489822388,
          0.9233983159065247,
          0.8988857865333557,
          0.8799442648887634,
          0.8529247641563416,
          0.8426184058189392,
          0.8456824421882629,
          0.8518105745315552,
          0.8601671457290649,
          0.8674094676971436,
          0.8763231039047241,
          0.8849582076072693,
          0.8899721503257751,
          0.8955431580543518,
          0.9002785682678223,
          0.9058495759963989,
          0.9064067006111145,
          0.9103063941001892,
          0.9122562408447266,
          0.916155993938446,
          0.9197771549224854,
          0.9225626587867737,
          0.9236769080162048,
          0.9247910976409912,
          0.9256267547607422,
          0.9289693832397461,
          0.9320334196090698,
          0.9378830194473267,
          0.9392757415771484,
          0.9423398375511169,
          0.9442896842956543,
          0.9456824660301208,
          0.9476323127746582,
          0.9484679698944092,
          0.9498607516288757,
          0.9504178166389465,
          0.9506963491439819,
          0.9506963491439819,
          0.9515320062637329,
          0.9515320062637329,
          0.9518105983734131,
          0.9520891308784485,
          0.9526462554931641,
          0.953481912612915,
          0.954317569732666,
          0.9548746347427368,
          0.9554317593574524,
          0.9562674164772034,
          0.9562674164772034,
          0.9571030735969543,
          0.9576601386070251,
          0.9582172632217407,
          0.9582172632217407,
          0.9587743878364563,
          0.9593314528465271,
          0.9598885774612427,
          0.9604457020759583,
          0.9604457020759583,
          0.9604457020759583,
          0.961002767086029,
          0.961002767086029,
          0.9612813591957092,
          0.961002767086029,
          0.961002767086029,
          0.961002767086029,
          0.9615598917007446,
          0.96183842420578,
          0.96183842420578,
          0.96183842420578,
          0.9621170163154602,
          0.9621170163154602,
          0.96183842420578,
          0.96183842420578,
          0.96183842420578,
          0.9621170163154602,
          0.9629526734352112,
          0.9632312059402466,
          0.963509738445282,
          0.963509738445282,
          0.963509738445282,
          0.9637883305549622,
          0.9640668630599976,
          0.9640668630599976,
          0.964345395565033,
          0.964345395565033,
          0.964345395565033,
          0.964345395565033,
          0.964345395565033,
          0.964345395565033,
          0.9649025201797485,
          0.9649025201797485,
          0.9651810526847839,
          0.9651810526847839,
          0.9654595851898193,
          0.9657381772994995,
          0.9657381772994995,
          0.9657381772994995,
          0.9657381772994995,
          0.9657381772994995
         ],
         "type": "scatter"
        },
        {
         "line": {
          "color": "firebrick"
         },
         "name": "val_accuracy",
         "x": [
          0,
          1,
          2,
          3,
          4,
          5,
          6,
          7,
          8,
          9,
          10,
          11,
          12,
          13,
          14,
          15,
          16,
          17,
          18,
          19,
          20,
          21,
          22,
          23,
          24,
          25,
          26,
          27,
          28,
          29,
          30,
          31,
          32,
          33,
          34,
          35,
          36,
          37,
          38,
          39,
          40,
          41,
          42,
          43,
          44,
          45,
          46,
          47,
          48,
          49,
          50,
          51,
          52,
          53,
          54,
          55,
          56,
          57,
          58,
          59,
          60,
          61,
          62,
          63,
          64,
          65,
          66,
          67,
          68,
          69,
          70,
          71,
          72,
          73,
          74,
          75,
          76,
          77,
          78,
          79,
          80,
          81,
          82,
          83,
          84,
          85,
          86,
          87,
          88,
          89,
          90,
          91,
          92,
          93,
          94,
          95,
          96,
          97,
          98,
          99
         ],
         "y": [
          0.9610245227813721,
          0.9610245227813721,
          0.9610245227813721,
          0.955456554889679,
          0.9476614594459534,
          0.9131402969360352,
          0.9020044803619385,
          0.8986636996269226,
          0.8986636996269226,
          0.904231607913971,
          0.9053452014923096,
          0.904231607913971,
          0.9075723886489868,
          0.9086859822273254,
          0.9131402969360352,
          0.9131402969360352,
          0.9131402969360352,
          0.9175946712493896,
          0.9187082648277283,
          0.9187082648277283,
          0.9242761731147766,
          0.929844081401825,
          0.9309576749801636,
          0.9320712685585022,
          0.9320712685585022,
          0.9320712685585022,
          0.9365255832672119,
          0.9376391768455505,
          0.9387527704238892,
          0.9387527704238892,
          0.942093551158905,
          0.9454342722892761,
          0.9476614594459534,
          0.9532294273376465,
          0.955456554889679,
          0.9565701484680176,
          0.9576837420463562,
          0.9576837420463562,
          0.9587973356246948,
          0.9599109292030334,
          0.9599109292030334,
          0.9599109292030334,
          0.9599109292030334,
          0.9599109292030334,
          0.9599109292030334,
          0.9599109292030334,
          0.9599109292030334,
          0.9599109292030334,
          0.9599109292030334,
          0.9621380567550659,
          0.9632516503334045,
          0.9632516503334045,
          0.9632516503334045,
          0.9632516503334045,
          0.9632516503334045,
          0.9632516503334045,
          0.9632516503334045,
          0.9632516503334045,
          0.9632516503334045,
          0.9632516503334045,
          0.9654788374900818,
          0.9654788374900818,
          0.9654788374900818,
          0.9654788374900818,
          0.9654788374900818,
          0.9654788374900818,
          0.9654788374900818,
          0.9654788374900818,
          0.9665924310684204,
          0.9665924310684204,
          0.9665924310684204,
          0.967706024646759,
          0.967706024646759,
          0.9688196182250977,
          0.9688196182250977,
          0.9688196182250977,
          0.9688196182250977,
          0.9688196182250977,
          0.9688196182250977,
          0.9688196182250977,
          0.9688196182250977,
          0.9688196182250977,
          0.9699332118034363,
          0.9699332118034363,
          0.9699332118034363,
          0.9699332118034363,
          0.9699332118034363,
          0.9699332118034363,
          0.9699332118034363,
          0.9699332118034363,
          0.9699332118034363,
          0.9699332118034363,
          0.9699332118034363,
          0.9699332118034363,
          0.9710467457771301,
          0.9710467457771301,
          0.9710467457771301,
          0.9710467457771301,
          0.9710467457771301,
          0.9710467457771301
         ],
         "type": "scatter"
        }
       ],
       "layout": {
        "template": {
         "data": {
          "bar": [
           {
            "error_x": {
             "color": "#f2f5fa"
            },
            "error_y": {
             "color": "#f2f5fa"
            },
            "marker": {
             "line": {
              "color": "rgb(17,17,17)",
              "width": 0.5
             },
             "pattern": {
              "fillmode": "overlay",
              "size": 10,
              "solidity": 0.2
             }
            },
            "type": "bar"
           }
          ],
          "barpolar": [
           {
            "marker": {
             "line": {
              "color": "rgb(17,17,17)",
              "width": 0.5
             },
             "pattern": {
              "fillmode": "overlay",
              "size": 10,
              "solidity": 0.2
             }
            },
            "type": "barpolar"
           }
          ],
          "carpet": [
           {
            "aaxis": {
             "endlinecolor": "#A2B1C6",
             "gridcolor": "#506784",
             "linecolor": "#506784",
             "minorgridcolor": "#506784",
             "startlinecolor": "#A2B1C6"
            },
            "baxis": {
             "endlinecolor": "#A2B1C6",
             "gridcolor": "#506784",
             "linecolor": "#506784",
             "minorgridcolor": "#506784",
             "startlinecolor": "#A2B1C6"
            },
            "type": "carpet"
           }
          ],
          "choropleth": [
           {
            "colorbar": {
             "outlinewidth": 0,
             "ticks": ""
            },
            "type": "choropleth"
           }
          ],
          "contour": [
           {
            "colorbar": {
             "outlinewidth": 0,
             "ticks": ""
            },
            "colorscale": [
             [
              0.0,
              "#0d0887"
             ],
             [
              0.1111111111111111,
              "#46039f"
             ],
             [
              0.2222222222222222,
              "#7201a8"
             ],
             [
              0.3333333333333333,
              "#9c179e"
             ],
             [
              0.4444444444444444,
              "#bd3786"
             ],
             [
              0.5555555555555556,
              "#d8576b"
             ],
             [
              0.6666666666666666,
              "#ed7953"
             ],
             [
              0.7777777777777778,
              "#fb9f3a"
             ],
             [
              0.8888888888888888,
              "#fdca26"
             ],
             [
              1.0,
              "#f0f921"
             ]
            ],
            "type": "contour"
           }
          ],
          "contourcarpet": [
           {
            "colorbar": {
             "outlinewidth": 0,
             "ticks": ""
            },
            "type": "contourcarpet"
           }
          ],
          "heatmap": [
           {
            "colorbar": {
             "outlinewidth": 0,
             "ticks": ""
            },
            "colorscale": [
             [
              0.0,
              "#0d0887"
             ],
             [
              0.1111111111111111,
              "#46039f"
             ],
             [
              0.2222222222222222,
              "#7201a8"
             ],
             [
              0.3333333333333333,
              "#9c179e"
             ],
             [
              0.4444444444444444,
              "#bd3786"
             ],
             [
              0.5555555555555556,
              "#d8576b"
             ],
             [
              0.6666666666666666,
              "#ed7953"
             ],
             [
              0.7777777777777778,
              "#fb9f3a"
             ],
             [
              0.8888888888888888,
              "#fdca26"
             ],
             [
              1.0,
              "#f0f921"
             ]
            ],
            "type": "heatmap"
           }
          ],
          "heatmapgl": [
           {
            "colorbar": {
             "outlinewidth": 0,
             "ticks": ""
            },
            "colorscale": [
             [
              0.0,
              "#0d0887"
             ],
             [
              0.1111111111111111,
              "#46039f"
             ],
             [
              0.2222222222222222,
              "#7201a8"
             ],
             [
              0.3333333333333333,
              "#9c179e"
             ],
             [
              0.4444444444444444,
              "#bd3786"
             ],
             [
              0.5555555555555556,
              "#d8576b"
             ],
             [
              0.6666666666666666,
              "#ed7953"
             ],
             [
              0.7777777777777778,
              "#fb9f3a"
             ],
             [
              0.8888888888888888,
              "#fdca26"
             ],
             [
              1.0,
              "#f0f921"
             ]
            ],
            "type": "heatmapgl"
           }
          ],
          "histogram": [
           {
            "marker": {
             "pattern": {
              "fillmode": "overlay",
              "size": 10,
              "solidity": 0.2
             }
            },
            "type": "histogram"
           }
          ],
          "histogram2d": [
           {
            "colorbar": {
             "outlinewidth": 0,
             "ticks": ""
            },
            "colorscale": [
             [
              0.0,
              "#0d0887"
             ],
             [
              0.1111111111111111,
              "#46039f"
             ],
             [
              0.2222222222222222,
              "#7201a8"
             ],
             [
              0.3333333333333333,
              "#9c179e"
             ],
             [
              0.4444444444444444,
              "#bd3786"
             ],
             [
              0.5555555555555556,
              "#d8576b"
             ],
             [
              0.6666666666666666,
              "#ed7953"
             ],
             [
              0.7777777777777778,
              "#fb9f3a"
             ],
             [
              0.8888888888888888,
              "#fdca26"
             ],
             [
              1.0,
              "#f0f921"
             ]
            ],
            "type": "histogram2d"
           }
          ],
          "histogram2dcontour": [
           {
            "colorbar": {
             "outlinewidth": 0,
             "ticks": ""
            },
            "colorscale": [
             [
              0.0,
              "#0d0887"
             ],
             [
              0.1111111111111111,
              "#46039f"
             ],
             [
              0.2222222222222222,
              "#7201a8"
             ],
             [
              0.3333333333333333,
              "#9c179e"
             ],
             [
              0.4444444444444444,
              "#bd3786"
             ],
             [
              0.5555555555555556,
              "#d8576b"
             ],
             [
              0.6666666666666666,
              "#ed7953"
             ],
             [
              0.7777777777777778,
              "#fb9f3a"
             ],
             [
              0.8888888888888888,
              "#fdca26"
             ],
             [
              1.0,
              "#f0f921"
             ]
            ],
            "type": "histogram2dcontour"
           }
          ],
          "mesh3d": [
           {
            "colorbar": {
             "outlinewidth": 0,
             "ticks": ""
            },
            "type": "mesh3d"
           }
          ],
          "parcoords": [
           {
            "line": {
             "colorbar": {
              "outlinewidth": 0,
              "ticks": ""
             }
            },
            "type": "parcoords"
           }
          ],
          "pie": [
           {
            "automargin": true,
            "type": "pie"
           }
          ],
          "scatter": [
           {
            "marker": {
             "line": {
              "color": "#283442"
             }
            },
            "type": "scatter"
           }
          ],
          "scatter3d": [
           {
            "line": {
             "colorbar": {
              "outlinewidth": 0,
              "ticks": ""
             }
            },
            "marker": {
             "colorbar": {
              "outlinewidth": 0,
              "ticks": ""
             }
            },
            "type": "scatter3d"
           }
          ],
          "scattercarpet": [
           {
            "marker": {
             "colorbar": {
              "outlinewidth": 0,
              "ticks": ""
             }
            },
            "type": "scattercarpet"
           }
          ],
          "scattergeo": [
           {
            "marker": {
             "colorbar": {
              "outlinewidth": 0,
              "ticks": ""
             }
            },
            "type": "scattergeo"
           }
          ],
          "scattergl": [
           {
            "marker": {
             "line": {
              "color": "#283442"
             }
            },
            "type": "scattergl"
           }
          ],
          "scattermapbox": [
           {
            "marker": {
             "colorbar": {
              "outlinewidth": 0,
              "ticks": ""
             }
            },
            "type": "scattermapbox"
           }
          ],
          "scatterpolar": [
           {
            "marker": {
             "colorbar": {
              "outlinewidth": 0,
              "ticks": ""
             }
            },
            "type": "scatterpolar"
           }
          ],
          "scatterpolargl": [
           {
            "marker": {
             "colorbar": {
              "outlinewidth": 0,
              "ticks": ""
             }
            },
            "type": "scatterpolargl"
           }
          ],
          "scatterternary": [
           {
            "marker": {
             "colorbar": {
              "outlinewidth": 0,
              "ticks": ""
             }
            },
            "type": "scatterternary"
           }
          ],
          "surface": [
           {
            "colorbar": {
             "outlinewidth": 0,
             "ticks": ""
            },
            "colorscale": [
             [
              0.0,
              "#0d0887"
             ],
             [
              0.1111111111111111,
              "#46039f"
             ],
             [
              0.2222222222222222,
              "#7201a8"
             ],
             [
              0.3333333333333333,
              "#9c179e"
             ],
             [
              0.4444444444444444,
              "#bd3786"
             ],
             [
              0.5555555555555556,
              "#d8576b"
             ],
             [
              0.6666666666666666,
              "#ed7953"
             ],
             [
              0.7777777777777778,
              "#fb9f3a"
             ],
             [
              0.8888888888888888,
              "#fdca26"
             ],
             [
              1.0,
              "#f0f921"
             ]
            ],
            "type": "surface"
           }
          ],
          "table": [
           {
            "cells": {
             "fill": {
              "color": "#506784"
             },
             "line": {
              "color": "rgb(17,17,17)"
             }
            },
            "header": {
             "fill": {
              "color": "#2a3f5f"
             },
             "line": {
              "color": "rgb(17,17,17)"
             }
            },
            "type": "table"
           }
          ]
         },
         "layout": {
          "annotationdefaults": {
           "arrowcolor": "#f2f5fa",
           "arrowhead": 0,
           "arrowwidth": 1
          },
          "autotypenumbers": "strict",
          "coloraxis": {
           "colorbar": {
            "outlinewidth": 0,
            "ticks": ""
           }
          },
          "colorscale": {
           "diverging": [
            [
             0,
             "#8e0152"
            ],
            [
             0.1,
             "#c51b7d"
            ],
            [
             0.2,
             "#de77ae"
            ],
            [
             0.3,
             "#f1b6da"
            ],
            [
             0.4,
             "#fde0ef"
            ],
            [
             0.5,
             "#f7f7f7"
            ],
            [
             0.6,
             "#e6f5d0"
            ],
            [
             0.7,
             "#b8e186"
            ],
            [
             0.8,
             "#7fbc41"
            ],
            [
             0.9,
             "#4d9221"
            ],
            [
             1,
             "#276419"
            ]
           ],
           "sequential": [
            [
             0.0,
             "#0d0887"
            ],
            [
             0.1111111111111111,
             "#46039f"
            ],
            [
             0.2222222222222222,
             "#7201a8"
            ],
            [
             0.3333333333333333,
             "#9c179e"
            ],
            [
             0.4444444444444444,
             "#bd3786"
            ],
            [
             0.5555555555555556,
             "#d8576b"
            ],
            [
             0.6666666666666666,
             "#ed7953"
            ],
            [
             0.7777777777777778,
             "#fb9f3a"
            ],
            [
             0.8888888888888888,
             "#fdca26"
            ],
            [
             1.0,
             "#f0f921"
            ]
           ],
           "sequentialminus": [
            [
             0.0,
             "#0d0887"
            ],
            [
             0.1111111111111111,
             "#46039f"
            ],
            [
             0.2222222222222222,
             "#7201a8"
            ],
            [
             0.3333333333333333,
             "#9c179e"
            ],
            [
             0.4444444444444444,
             "#bd3786"
            ],
            [
             0.5555555555555556,
             "#d8576b"
            ],
            [
             0.6666666666666666,
             "#ed7953"
            ],
            [
             0.7777777777777778,
             "#fb9f3a"
            ],
            [
             0.8888888888888888,
             "#fdca26"
            ],
            [
             1.0,
             "#f0f921"
            ]
           ]
          },
          "colorway": [
           "#636efa",
           "#EF553B",
           "#00cc96",
           "#ab63fa",
           "#FFA15A",
           "#19d3f3",
           "#FF6692",
           "#B6E880",
           "#FF97FF",
           "#FECB52"
          ],
          "font": {
           "color": "#f2f5fa"
          },
          "geo": {
           "bgcolor": "rgb(17,17,17)",
           "lakecolor": "rgb(17,17,17)",
           "landcolor": "rgb(17,17,17)",
           "showlakes": true,
           "showland": true,
           "subunitcolor": "#506784"
          },
          "hoverlabel": {
           "align": "left"
          },
          "hovermode": "closest",
          "mapbox": {
           "style": "dark"
          },
          "paper_bgcolor": "rgb(17,17,17)",
          "plot_bgcolor": "rgb(17,17,17)",
          "polar": {
           "angularaxis": {
            "gridcolor": "#506784",
            "linecolor": "#506784",
            "ticks": ""
           },
           "bgcolor": "rgb(17,17,17)",
           "radialaxis": {
            "gridcolor": "#506784",
            "linecolor": "#506784",
            "ticks": ""
           }
          },
          "scene": {
           "xaxis": {
            "backgroundcolor": "rgb(17,17,17)",
            "gridcolor": "#506784",
            "gridwidth": 2,
            "linecolor": "#506784",
            "showbackground": true,
            "ticks": "",
            "zerolinecolor": "#C8D4E3"
           },
           "yaxis": {
            "backgroundcolor": "rgb(17,17,17)",
            "gridcolor": "#506784",
            "gridwidth": 2,
            "linecolor": "#506784",
            "showbackground": true,
            "ticks": "",
            "zerolinecolor": "#C8D4E3"
           },
           "zaxis": {
            "backgroundcolor": "rgb(17,17,17)",
            "gridcolor": "#506784",
            "gridwidth": 2,
            "linecolor": "#506784",
            "showbackground": true,
            "ticks": "",
            "zerolinecolor": "#C8D4E3"
           }
          },
          "shapedefaults": {
           "line": {
            "color": "#f2f5fa"
           }
          },
          "sliderdefaults": {
           "bgcolor": "#C8D4E3",
           "bordercolor": "rgb(17,17,17)",
           "borderwidth": 1,
           "tickwidth": 0
          },
          "ternary": {
           "aaxis": {
            "gridcolor": "#506784",
            "linecolor": "#506784",
            "ticks": ""
           },
           "baxis": {
            "gridcolor": "#506784",
            "linecolor": "#506784",
            "ticks": ""
           },
           "bgcolor": "rgb(17,17,17)",
           "caxis": {
            "gridcolor": "#506784",
            "linecolor": "#506784",
            "ticks": ""
           }
          },
          "title": {
           "x": 0.05
          },
          "updatemenudefaults": {
           "bgcolor": "#506784",
           "borderwidth": 0
          },
          "xaxis": {
           "automargin": true,
           "gridcolor": "#283442",
           "linecolor": "#506784",
           "ticks": "",
           "title": {
            "standoff": 15
           },
           "zerolinecolor": "#283442",
           "zerolinewidth": 2
          },
          "yaxis": {
           "automargin": true,
           "gridcolor": "#283442",
           "linecolor": "#506784",
           "ticks": "",
           "title": {
            "standoff": 15
           },
           "zerolinecolor": "#283442",
           "zerolinewidth": 2
          }
         }
        },
        "title": {
         "text": "Model losses and accuracies"
        },
        "width": 600,
        "height": 400
       },
       "config": {
        "plotlyServerURL": "https://plot.ly"
       }
      },
      "text/html": "<div>                            <div id=\"38969ddc-c5f2-44c3-ab84-9b81ec387bec\" class=\"plotly-graph-div\" style=\"height:400px; width:600px;\"></div>            <script type=\"text/javascript\">                require([\"plotly\"], function(Plotly) {                    window.PLOTLYENV=window.PLOTLYENV || {};                                    if (document.getElementById(\"38969ddc-c5f2-44c3-ab84-9b81ec387bec\")) {                    Plotly.newPlot(                        \"38969ddc-c5f2-44c3-ab84-9b81ec387bec\",                        [{\"line\":{\"color\":\"royalblue\",\"dash\":\"dash\"},\"name\":\"loss\",\"x\":[0,1,2,3,4,5,6,7,8,9,10,11,12,13,14,15,16,17,18,19,20,21,22,23,24,25,26,27,28,29,30,31,32,33,34,35,36,37,38,39,40,41,42,43,44,45,46,47,48,49,50,51,52,53,54,55,56,57,58,59,60,61,62,63,64,65,66,67,68,69,70,71,72,73,74,75,76,77,78,79,80,81,82,83,84,85,86,87,88,89,90,91,92,93,94,95,96,97,98,99],\"y\":[0.7085712552070618,0.6986760497093201,0.6847372055053711,0.6593786478042603,0.6193404793739319,0.5681888461112976,0.5150777697563171,0.46940329670906067,0.43419936299324036,0.4068479537963867,0.3840238153934479,0.36336031556129456,0.3437666594982147,0.325466513633728,0.30875763297080994,0.2934925854206085,0.27944955229759216,0.2664806544780731,0.254414826631546,0.24293094873428345,0.23171298205852509,0.22062276303768158,0.20987023413181305,0.19984465837478638,0.19055241346359253,0.1818801909685135,0.17375804483890533,0.16612635552883148,0.15895307064056396,0.15228092670440674,0.14614622294902802,0.14058318734169006,0.1358223557472229,0.13181786239147186,0.1283482164144516,0.12529364228248596,0.12257982790470123,0.12014909088611603,0.11795531958341599,0.11596089601516724,0.11413422226905823,0.1124487891793251,0.11088330298662186,0.10942115634679794,0.10804900527000427,0.106755830347538,0.10553184151649475,0.10436797142028809,0.10325632989406586,0.10218962281942368,0.10116185992956161,0.10016889125108719,0.0992080494761467,0.09827867150306702,0.09738136827945709,0.09651771187782288,0.09568915516138077,0.09489672631025314,0.09414029121398926,0.09341898560523987,0.09273086488246918,0.09207378327846527,0.09144537150859833,0.09084325283765793,0.09026525169610977,0.08970943093299866,0.08917418122291565,0.08865796774625778,0.08815966546535492,0.08767807483673096,0.08721233904361725,0.08676157146692276,0.08632511645555496,0.08590217679738998,0.08549227565526962,0.08509474992752075,0.08470913767814636,0.08433479815721512,0.0839712843298912,0.08361808955669403,0.0832747295498848,0.08294066786766052,0.08261541277170181,0.08229837566614151,0.0819890946149826,0.08168700337409973,0.08139154314994812,0.08110223710536957,0.0808185338973999,0.08053994923830032,0.08026587218046188,0.07999596744775772,0.07972975820302963,0.07946688681840897,0.07920709252357483,0.07895016670227051,0.07869613915681839,0.07844502478837967,0.07819710671901703,0.0779527872800827],\"type\":\"scatter\"},{\"line\":{\"color\":\"firebrick\",\"dash\":\"dash\"},\"name\":\"val_loss\",\"x\":[0,1,2,3,4,5,6,7,8,9,10,11,12,13,14,15,16,17,18,19,20,21,22,23,24,25,26,27,28,29,30,31,32,33,34,35,36,37,38,39,40,41,42,43,44,45,46,47,48,49,50,51,52,53,54,55,56,57,58,59,60,61,62,63,64,65,66,67,68,69,70,71,72,73,74,75,76,77,78,79,80,81,82,83,84,85,86,87,88,89,90,91,92,93,94,95,96,97,98,99],\"y\":[0.6511295437812805,0.654527485370636,0.641252338886261,0.6154648065567017,0.5777320265769958,0.5309287309646606,0.4823746681213379,0.43962937593460083,0.4051054120063782,0.377274751663208,0.3539516031742096,0.33325883746147156,0.3143722116947174,0.2976709306240082,0.2833128869533539,0.27095046639442444,0.2601899206638336,0.2506338953971863,0.24173606932163239,0.2328849732875824,0.2236832082271576,0.2143310159444809,0.2056008279323578,0.19755448400974274,0.190013125538826,0.1829119324684143,0.17619413137435913,0.16973385214805603,0.16339801251888275,0.15713152289390564,0.15082493424415588,0.1449192315340042,0.14037108421325684,0.13690617680549622,0.13409513235092163,0.1317186951637268,0.12966015934944153,0.1278492957353592,0.12624098360538483,0.12480326741933823,0.12351105362176895,0.12234361469745636,0.12128351628780365,0.12031520158052444,0.11942458152770996,0.1185978502035141,0.1178223267197609,0.11708584427833557,0.11637803912162781,0.11569012701511383,0.11501526087522507,0.11434824019670486,0.11368563026189804,0.11302531510591507,0.11236610263586044,0.11170778423547745,0.11105029284954071,0.110394187271595,0.10974020510911942,0.10908937454223633,0.10844259709119797,0.10780133306980133,0.10716696083545685,0.10654083639383316,0.10592439770698547,0.10531917214393616,0.10472647845745087,0.1041475310921669,0.10358334332704544,0.10303471982479095,0.10250230878591537,0.10198648273944855,0.10148739814758301,0.10100490599870682,0.10053899884223938,0.10008908063173294,0.09965471178293228,0.09923512488603592,0.09882961213588715,0.09843719750642776,0.09805723279714584,0.09768866747617722,0.09733084589242935,0.0969829261302948,0.09664418548345566,0.09631402045488358,0.09599190950393677,0.09567731618881226,0.09536996483802795,0.09506957978010178,0.0947759672999382,0.09448922425508499,0.09420928359031677,0.09393660724163055,0.09367164969444275,0.09341505169868469,0.09316743910312653,0.09292955696582794,0.09270202368497849,0.0924849808216095],\"type\":\"scatter\"},{\"line\":{\"color\":\"royalblue\"},\"name\":\"accuracy\",\"x\":[0,1,2,3,4,5,6,7,8,9,10,11,12,13,14,15,16,17,18,19,20,21,22,23,24,25,26,27,28,29,30,31,32,33,34,35,36,37,38,39,40,41,42,43,44,45,46,47,48,49,50,51,52,53,54,55,56,57,58,59,60,61,62,63,64,65,66,67,68,69,70,71,72,73,74,75,76,77,78,79,80,81,82,83,84,85,86,87,88,89,90,91,92,93,94,95,96,97,98,99],\"y\":[0.8136489987373352,0.9565459489822388,0.9233983159065247,0.8988857865333557,0.8799442648887634,0.8529247641563416,0.8426184058189392,0.8456824421882629,0.8518105745315552,0.8601671457290649,0.8674094676971436,0.8763231039047241,0.8849582076072693,0.8899721503257751,0.8955431580543518,0.9002785682678223,0.9058495759963989,0.9064067006111145,0.9103063941001892,0.9122562408447266,0.916155993938446,0.9197771549224854,0.9225626587867737,0.9236769080162048,0.9247910976409912,0.9256267547607422,0.9289693832397461,0.9320334196090698,0.9378830194473267,0.9392757415771484,0.9423398375511169,0.9442896842956543,0.9456824660301208,0.9476323127746582,0.9484679698944092,0.9498607516288757,0.9504178166389465,0.9506963491439819,0.9506963491439819,0.9515320062637329,0.9515320062637329,0.9518105983734131,0.9520891308784485,0.9526462554931641,0.953481912612915,0.954317569732666,0.9548746347427368,0.9554317593574524,0.9562674164772034,0.9562674164772034,0.9571030735969543,0.9576601386070251,0.9582172632217407,0.9582172632217407,0.9587743878364563,0.9593314528465271,0.9598885774612427,0.9604457020759583,0.9604457020759583,0.9604457020759583,0.961002767086029,0.961002767086029,0.9612813591957092,0.961002767086029,0.961002767086029,0.961002767086029,0.9615598917007446,0.96183842420578,0.96183842420578,0.96183842420578,0.9621170163154602,0.9621170163154602,0.96183842420578,0.96183842420578,0.96183842420578,0.9621170163154602,0.9629526734352112,0.9632312059402466,0.963509738445282,0.963509738445282,0.963509738445282,0.9637883305549622,0.9640668630599976,0.9640668630599976,0.964345395565033,0.964345395565033,0.964345395565033,0.964345395565033,0.964345395565033,0.964345395565033,0.9649025201797485,0.9649025201797485,0.9651810526847839,0.9651810526847839,0.9654595851898193,0.9657381772994995,0.9657381772994995,0.9657381772994995,0.9657381772994995,0.9657381772994995],\"type\":\"scatter\"},{\"line\":{\"color\":\"firebrick\"},\"name\":\"val_accuracy\",\"x\":[0,1,2,3,4,5,6,7,8,9,10,11,12,13,14,15,16,17,18,19,20,21,22,23,24,25,26,27,28,29,30,31,32,33,34,35,36,37,38,39,40,41,42,43,44,45,46,47,48,49,50,51,52,53,54,55,56,57,58,59,60,61,62,63,64,65,66,67,68,69,70,71,72,73,74,75,76,77,78,79,80,81,82,83,84,85,86,87,88,89,90,91,92,93,94,95,96,97,98,99],\"y\":[0.9610245227813721,0.9610245227813721,0.9610245227813721,0.955456554889679,0.9476614594459534,0.9131402969360352,0.9020044803619385,0.8986636996269226,0.8986636996269226,0.904231607913971,0.9053452014923096,0.904231607913971,0.9075723886489868,0.9086859822273254,0.9131402969360352,0.9131402969360352,0.9131402969360352,0.9175946712493896,0.9187082648277283,0.9187082648277283,0.9242761731147766,0.929844081401825,0.9309576749801636,0.9320712685585022,0.9320712685585022,0.9320712685585022,0.9365255832672119,0.9376391768455505,0.9387527704238892,0.9387527704238892,0.942093551158905,0.9454342722892761,0.9476614594459534,0.9532294273376465,0.955456554889679,0.9565701484680176,0.9576837420463562,0.9576837420463562,0.9587973356246948,0.9599109292030334,0.9599109292030334,0.9599109292030334,0.9599109292030334,0.9599109292030334,0.9599109292030334,0.9599109292030334,0.9599109292030334,0.9599109292030334,0.9599109292030334,0.9621380567550659,0.9632516503334045,0.9632516503334045,0.9632516503334045,0.9632516503334045,0.9632516503334045,0.9632516503334045,0.9632516503334045,0.9632516503334045,0.9632516503334045,0.9632516503334045,0.9654788374900818,0.9654788374900818,0.9654788374900818,0.9654788374900818,0.9654788374900818,0.9654788374900818,0.9654788374900818,0.9654788374900818,0.9665924310684204,0.9665924310684204,0.9665924310684204,0.967706024646759,0.967706024646759,0.9688196182250977,0.9688196182250977,0.9688196182250977,0.9688196182250977,0.9688196182250977,0.9688196182250977,0.9688196182250977,0.9688196182250977,0.9688196182250977,0.9699332118034363,0.9699332118034363,0.9699332118034363,0.9699332118034363,0.9699332118034363,0.9699332118034363,0.9699332118034363,0.9699332118034363,0.9699332118034363,0.9699332118034363,0.9699332118034363,0.9699332118034363,0.9710467457771301,0.9710467457771301,0.9710467457771301,0.9710467457771301,0.9710467457771301,0.9710467457771301],\"type\":\"scatter\"}],                        {\"template\":{\"data\":{\"bar\":[{\"error_x\":{\"color\":\"#f2f5fa\"},\"error_y\":{\"color\":\"#f2f5fa\"},\"marker\":{\"line\":{\"color\":\"rgb(17,17,17)\",\"width\":0.5},\"pattern\":{\"fillmode\":\"overlay\",\"size\":10,\"solidity\":0.2}},\"type\":\"bar\"}],\"barpolar\":[{\"marker\":{\"line\":{\"color\":\"rgb(17,17,17)\",\"width\":0.5},\"pattern\":{\"fillmode\":\"overlay\",\"size\":10,\"solidity\":0.2}},\"type\":\"barpolar\"}],\"carpet\":[{\"aaxis\":{\"endlinecolor\":\"#A2B1C6\",\"gridcolor\":\"#506784\",\"linecolor\":\"#506784\",\"minorgridcolor\":\"#506784\",\"startlinecolor\":\"#A2B1C6\"},\"baxis\":{\"endlinecolor\":\"#A2B1C6\",\"gridcolor\":\"#506784\",\"linecolor\":\"#506784\",\"minorgridcolor\":\"#506784\",\"startlinecolor\":\"#A2B1C6\"},\"type\":\"carpet\"}],\"choropleth\":[{\"colorbar\":{\"outlinewidth\":0,\"ticks\":\"\"},\"type\":\"choropleth\"}],\"contour\":[{\"colorbar\":{\"outlinewidth\":0,\"ticks\":\"\"},\"colorscale\":[[0.0,\"#0d0887\"],[0.1111111111111111,\"#46039f\"],[0.2222222222222222,\"#7201a8\"],[0.3333333333333333,\"#9c179e\"],[0.4444444444444444,\"#bd3786\"],[0.5555555555555556,\"#d8576b\"],[0.6666666666666666,\"#ed7953\"],[0.7777777777777778,\"#fb9f3a\"],[0.8888888888888888,\"#fdca26\"],[1.0,\"#f0f921\"]],\"type\":\"contour\"}],\"contourcarpet\":[{\"colorbar\":{\"outlinewidth\":0,\"ticks\":\"\"},\"type\":\"contourcarpet\"}],\"heatmap\":[{\"colorbar\":{\"outlinewidth\":0,\"ticks\":\"\"},\"colorscale\":[[0.0,\"#0d0887\"],[0.1111111111111111,\"#46039f\"],[0.2222222222222222,\"#7201a8\"],[0.3333333333333333,\"#9c179e\"],[0.4444444444444444,\"#bd3786\"],[0.5555555555555556,\"#d8576b\"],[0.6666666666666666,\"#ed7953\"],[0.7777777777777778,\"#fb9f3a\"],[0.8888888888888888,\"#fdca26\"],[1.0,\"#f0f921\"]],\"type\":\"heatmap\"}],\"heatmapgl\":[{\"colorbar\":{\"outlinewidth\":0,\"ticks\":\"\"},\"colorscale\":[[0.0,\"#0d0887\"],[0.1111111111111111,\"#46039f\"],[0.2222222222222222,\"#7201a8\"],[0.3333333333333333,\"#9c179e\"],[0.4444444444444444,\"#bd3786\"],[0.5555555555555556,\"#d8576b\"],[0.6666666666666666,\"#ed7953\"],[0.7777777777777778,\"#fb9f3a\"],[0.8888888888888888,\"#fdca26\"],[1.0,\"#f0f921\"]],\"type\":\"heatmapgl\"}],\"histogram\":[{\"marker\":{\"pattern\":{\"fillmode\":\"overlay\",\"size\":10,\"solidity\":0.2}},\"type\":\"histogram\"}],\"histogram2d\":[{\"colorbar\":{\"outlinewidth\":0,\"ticks\":\"\"},\"colorscale\":[[0.0,\"#0d0887\"],[0.1111111111111111,\"#46039f\"],[0.2222222222222222,\"#7201a8\"],[0.3333333333333333,\"#9c179e\"],[0.4444444444444444,\"#bd3786\"],[0.5555555555555556,\"#d8576b\"],[0.6666666666666666,\"#ed7953\"],[0.7777777777777778,\"#fb9f3a\"],[0.8888888888888888,\"#fdca26\"],[1.0,\"#f0f921\"]],\"type\":\"histogram2d\"}],\"histogram2dcontour\":[{\"colorbar\":{\"outlinewidth\":0,\"ticks\":\"\"},\"colorscale\":[[0.0,\"#0d0887\"],[0.1111111111111111,\"#46039f\"],[0.2222222222222222,\"#7201a8\"],[0.3333333333333333,\"#9c179e\"],[0.4444444444444444,\"#bd3786\"],[0.5555555555555556,\"#d8576b\"],[0.6666666666666666,\"#ed7953\"],[0.7777777777777778,\"#fb9f3a\"],[0.8888888888888888,\"#fdca26\"],[1.0,\"#f0f921\"]],\"type\":\"histogram2dcontour\"}],\"mesh3d\":[{\"colorbar\":{\"outlinewidth\":0,\"ticks\":\"\"},\"type\":\"mesh3d\"}],\"parcoords\":[{\"line\":{\"colorbar\":{\"outlinewidth\":0,\"ticks\":\"\"}},\"type\":\"parcoords\"}],\"pie\":[{\"automargin\":true,\"type\":\"pie\"}],\"scatter\":[{\"marker\":{\"line\":{\"color\":\"#283442\"}},\"type\":\"scatter\"}],\"scatter3d\":[{\"line\":{\"colorbar\":{\"outlinewidth\":0,\"ticks\":\"\"}},\"marker\":{\"colorbar\":{\"outlinewidth\":0,\"ticks\":\"\"}},\"type\":\"scatter3d\"}],\"scattercarpet\":[{\"marker\":{\"colorbar\":{\"outlinewidth\":0,\"ticks\":\"\"}},\"type\":\"scattercarpet\"}],\"scattergeo\":[{\"marker\":{\"colorbar\":{\"outlinewidth\":0,\"ticks\":\"\"}},\"type\":\"scattergeo\"}],\"scattergl\":[{\"marker\":{\"line\":{\"color\":\"#283442\"}},\"type\":\"scattergl\"}],\"scattermapbox\":[{\"marker\":{\"colorbar\":{\"outlinewidth\":0,\"ticks\":\"\"}},\"type\":\"scattermapbox\"}],\"scatterpolar\":[{\"marker\":{\"colorbar\":{\"outlinewidth\":0,\"ticks\":\"\"}},\"type\":\"scatterpolar\"}],\"scatterpolargl\":[{\"marker\":{\"colorbar\":{\"outlinewidth\":0,\"ticks\":\"\"}},\"type\":\"scatterpolargl\"}],\"scatterternary\":[{\"marker\":{\"colorbar\":{\"outlinewidth\":0,\"ticks\":\"\"}},\"type\":\"scatterternary\"}],\"surface\":[{\"colorbar\":{\"outlinewidth\":0,\"ticks\":\"\"},\"colorscale\":[[0.0,\"#0d0887\"],[0.1111111111111111,\"#46039f\"],[0.2222222222222222,\"#7201a8\"],[0.3333333333333333,\"#9c179e\"],[0.4444444444444444,\"#bd3786\"],[0.5555555555555556,\"#d8576b\"],[0.6666666666666666,\"#ed7953\"],[0.7777777777777778,\"#fb9f3a\"],[0.8888888888888888,\"#fdca26\"],[1.0,\"#f0f921\"]],\"type\":\"surface\"}],\"table\":[{\"cells\":{\"fill\":{\"color\":\"#506784\"},\"line\":{\"color\":\"rgb(17,17,17)\"}},\"header\":{\"fill\":{\"color\":\"#2a3f5f\"},\"line\":{\"color\":\"rgb(17,17,17)\"}},\"type\":\"table\"}]},\"layout\":{\"annotationdefaults\":{\"arrowcolor\":\"#f2f5fa\",\"arrowhead\":0,\"arrowwidth\":1},\"autotypenumbers\":\"strict\",\"coloraxis\":{\"colorbar\":{\"outlinewidth\":0,\"ticks\":\"\"}},\"colorscale\":{\"diverging\":[[0,\"#8e0152\"],[0.1,\"#c51b7d\"],[0.2,\"#de77ae\"],[0.3,\"#f1b6da\"],[0.4,\"#fde0ef\"],[0.5,\"#f7f7f7\"],[0.6,\"#e6f5d0\"],[0.7,\"#b8e186\"],[0.8,\"#7fbc41\"],[0.9,\"#4d9221\"],[1,\"#276419\"]],\"sequential\":[[0.0,\"#0d0887\"],[0.1111111111111111,\"#46039f\"],[0.2222222222222222,\"#7201a8\"],[0.3333333333333333,\"#9c179e\"],[0.4444444444444444,\"#bd3786\"],[0.5555555555555556,\"#d8576b\"],[0.6666666666666666,\"#ed7953\"],[0.7777777777777778,\"#fb9f3a\"],[0.8888888888888888,\"#fdca26\"],[1.0,\"#f0f921\"]],\"sequentialminus\":[[0.0,\"#0d0887\"],[0.1111111111111111,\"#46039f\"],[0.2222222222222222,\"#7201a8\"],[0.3333333333333333,\"#9c179e\"],[0.4444444444444444,\"#bd3786\"],[0.5555555555555556,\"#d8576b\"],[0.6666666666666666,\"#ed7953\"],[0.7777777777777778,\"#fb9f3a\"],[0.8888888888888888,\"#fdca26\"],[1.0,\"#f0f921\"]]},\"colorway\":[\"#636efa\",\"#EF553B\",\"#00cc96\",\"#ab63fa\",\"#FFA15A\",\"#19d3f3\",\"#FF6692\",\"#B6E880\",\"#FF97FF\",\"#FECB52\"],\"font\":{\"color\":\"#f2f5fa\"},\"geo\":{\"bgcolor\":\"rgb(17,17,17)\",\"lakecolor\":\"rgb(17,17,17)\",\"landcolor\":\"rgb(17,17,17)\",\"showlakes\":true,\"showland\":true,\"subunitcolor\":\"#506784\"},\"hoverlabel\":{\"align\":\"left\"},\"hovermode\":\"closest\",\"mapbox\":{\"style\":\"dark\"},\"paper_bgcolor\":\"rgb(17,17,17)\",\"plot_bgcolor\":\"rgb(17,17,17)\",\"polar\":{\"angularaxis\":{\"gridcolor\":\"#506784\",\"linecolor\":\"#506784\",\"ticks\":\"\"},\"bgcolor\":\"rgb(17,17,17)\",\"radialaxis\":{\"gridcolor\":\"#506784\",\"linecolor\":\"#506784\",\"ticks\":\"\"}},\"scene\":{\"xaxis\":{\"backgroundcolor\":\"rgb(17,17,17)\",\"gridcolor\":\"#506784\",\"gridwidth\":2,\"linecolor\":\"#506784\",\"showbackground\":true,\"ticks\":\"\",\"zerolinecolor\":\"#C8D4E3\"},\"yaxis\":{\"backgroundcolor\":\"rgb(17,17,17)\",\"gridcolor\":\"#506784\",\"gridwidth\":2,\"linecolor\":\"#506784\",\"showbackground\":true,\"ticks\":\"\",\"zerolinecolor\":\"#C8D4E3\"},\"zaxis\":{\"backgroundcolor\":\"rgb(17,17,17)\",\"gridcolor\":\"#506784\",\"gridwidth\":2,\"linecolor\":\"#506784\",\"showbackground\":true,\"ticks\":\"\",\"zerolinecolor\":\"#C8D4E3\"}},\"shapedefaults\":{\"line\":{\"color\":\"#f2f5fa\"}},\"sliderdefaults\":{\"bgcolor\":\"#C8D4E3\",\"bordercolor\":\"rgb(17,17,17)\",\"borderwidth\":1,\"tickwidth\":0},\"ternary\":{\"aaxis\":{\"gridcolor\":\"#506784\",\"linecolor\":\"#506784\",\"ticks\":\"\"},\"baxis\":{\"gridcolor\":\"#506784\",\"linecolor\":\"#506784\",\"ticks\":\"\"},\"bgcolor\":\"rgb(17,17,17)\",\"caxis\":{\"gridcolor\":\"#506784\",\"linecolor\":\"#506784\",\"ticks\":\"\"}},\"title\":{\"x\":0.05},\"updatemenudefaults\":{\"bgcolor\":\"#506784\",\"borderwidth\":0},\"xaxis\":{\"automargin\":true,\"gridcolor\":\"#283442\",\"linecolor\":\"#506784\",\"ticks\":\"\",\"title\":{\"standoff\":15},\"zerolinecolor\":\"#283442\",\"zerolinewidth\":2},\"yaxis\":{\"automargin\":true,\"gridcolor\":\"#283442\",\"linecolor\":\"#506784\",\"ticks\":\"\",\"title\":{\"standoff\":15},\"zerolinecolor\":\"#283442\",\"zerolinewidth\":2}}},\"title\":{\"text\":\"Model losses and accuracies\"},\"width\":600,\"height\":400},                        {\"responsive\": true}                    ).then(function(){\n                            \nvar gd = document.getElementById('38969ddc-c5f2-44c3-ab84-9b81ec387bec');\nvar x = new MutationObserver(function (mutations, observer) {{\n        var display = window.getComputedStyle(gd).display;\n        if (!display || display === 'none') {{\n            console.log([gd, 'removed!']);\n            Plotly.purge(gd);\n            observer.disconnect();\n        }}\n}});\n\n// Listen for the removal of the full notebook cells\nvar notebookContainer = gd.closest('#notebook-container');\nif (notebookContainer) {{\n    x.observe(notebookContainer, {childList: true});\n}}\n\n// Listen for the clearing of the current output cell\nvar outputEl = gd.closest('.output');\nif (outputEl) {{\n    x.observe(outputEl, {childList: true});\n}}\n\n                        })                };                });            </script>        </div>"
     },
     "metadata": {},
     "output_type": "display_data"
    }
   ],
   "source": [
    "fig = go.Figure()\n",
    "\n",
    "fig.add_trace(go.Scatter(\n",
    "    x=history.epoch,\n",
    "    y=history.history['loss'],\n",
    "    name='loss',\n",
    "    line=dict(dash='dash', color='royalblue')\n",
    "))\n",
    "fig.add_trace(go.Scatter(\n",
    "    x=history.epoch,\n",
    "    y=history.history['val_loss'],\n",
    "    name='val_loss',\n",
    "    line=dict(dash='dash', color='firebrick')\n",
    "))\n",
    "fig.add_trace(go.Scatter(\n",
    "    x=history.epoch,\n",
    "    y=history.history['accuracy'],\n",
    "    name='accuracy',\n",
    "    line=dict(color='royalblue')\n",
    "))\n",
    "fig.add_trace(go.Scatter(\n",
    "    x=history.epoch,\n",
    "    y=history.history['val_accuracy'],\n",
    "    name='val_accuracy',\n",
    "    line=dict(color='firebrick')\n",
    "))\n",
    "fig.update_layout(\n",
    "    title='Model losses and accuracies',\n",
    "    width=600, height=400\n",
    ")\n",
    "\n",
    "fig.show()"
   ],
   "metadata": {
    "collapsed": false,
    "pycharm": {
     "name": "#%%\n"
    }
   }
  },
  {
   "cell_type": "code",
   "execution_count": 50,
   "outputs": [],
   "source": [
    "# model.summary()"
   ],
   "metadata": {
    "collapsed": false,
    "pycharm": {
     "name": "#%%\n"
    }
   }
  },
  {
   "cell_type": "code",
   "execution_count": 51,
   "outputs": [],
   "source": [
    "# keras.utils.vis_utils.plot_model(model, show_shapes=True)"
   ],
   "metadata": {
    "collapsed": false,
    "pycharm": {
     "name": "#%%\n"
    }
   }
  },
  {
   "cell_type": "code",
   "execution_count": 52,
   "metadata": {
    "collapsed": false,
    "pycharm": {
     "name": "#%%\n"
    }
   },
   "outputs": [
    {
     "name": "stdout",
     "output_type": "stream",
     "text": [
      "36/36 [==============================] - 0s 13ms/step - loss: 0.1133 - accuracy: 0.9626\n"
     ]
    },
    {
     "data": {
      "text/plain": "[0.11333804577589035, 0.9625668525695801]"
     },
     "execution_count": 52,
     "metadata": {},
     "output_type": "execute_result"
    }
   ],
   "source": [
    "model.evaluate(test_dataset)"
   ]
  },
  {
   "cell_type": "code",
   "execution_count": 53,
   "outputs": [
    {
     "name": "stdout",
     "output_type": "stream",
     "text": [
      "=================================\n",
      "||           | Actual          ||\n",
      "|| Predicted | --------------- ||\n",
      "||           | Pos    | Neg    ||\n",
      "|| --------- + ------ + ------ ||\n",
      "|| Pos       |   37.0 |   47.0 ||\n",
      "|| --------- + ------ + ------ ||\n",
      "|| Neg       |    1.0 | 1037.0 ||\n",
      "=================================\n",
      "Precision : 0.44048\n",
      "Recall    : 0.97368\n",
      "ROC       : 0.96516\n",
      "PRC       : 0.43134\n"
     ]
    }
   ],
   "source": [
    "y_pred = tf.round(tf.nn.sigmoid(model.predict(x_test)))\n",
    "\n",
    "tp = keras.metrics.TruePositives(name='tp')\n",
    "tp.update_state(y_test, y_pred)\n",
    "\n",
    "fp = keras.metrics.FalsePositives(name='fp')\n",
    "fp.update_state(y_test, y_pred)\n",
    "\n",
    "tn = keras.metrics.TrueNegatives(name='tn')\n",
    "tn.update_state(y_test, y_pred)\n",
    "\n",
    "fn = keras.metrics.FalseNegatives(name='fn')\n",
    "fn.update_state(y_test, y_pred)\n",
    "\n",
    "prec = keras.metrics.Precision(name='precision')\n",
    "prec.update_state(y_test, y_pred)\n",
    "\n",
    "recall = keras.metrics.Recall(name='recall')\n",
    "recall.update_state(y_test, y_pred)\n",
    "\n",
    "roc = keras.metrics.AUC(curve='ROC', name='roc')\n",
    "roc.update_state(y_test, y_pred)\n",
    "\n",
    "prc = keras.metrics.AUC(curve='PR', name='prc')\n",
    "prc.update_state(y_test, y_pred)\n",
    "\n",
    "print(f'{\"=\" * 33}')\n",
    "print(f'|| {\" \" * 9} | {\"Actual\":15} ||')\n",
    "print(f'|| {\"Predicted\":9} | {\"-\" * 15} ||')\n",
    "print(f'|| {\" \" * 9} | {\"Pos\":6} | {\"Neg\":6} ||')\n",
    "print(f'|| {\"-\" * 9} + {\"-\" * 6} + {\"-\" * 6} ||')\n",
    "print(f'|| {\"Pos\":9} | {tp.result():6} | {fp.result():6} ||')\n",
    "print(f'|| {\"-\" * 9} + {\"-\" * 6} + {\"-\" * 6} ||')\n",
    "print(f'|| {\"Neg\":9} | {fn.result():6} | {tn.result():6} ||')\n",
    "print(f'{\"=\" * 33}')\n",
    "\n",
    "print(f'{\"Precision\":10}: {prec.result():.5}')\n",
    "print(f'{\"Recall\":10}: {recall.result():.5}')\n",
    "print(f'{\"ROC\":10}: {roc.result():.5}')\n",
    "print(f'{\"PRC\":10}: {prc.result():.5}')"
   ],
   "metadata": {
    "collapsed": false,
    "pycharm": {
     "name": "#%%\n"
    }
   }
  },
  {
   "cell_type": "code",
   "execution_count": 54,
   "metadata": {
    "collapsed": false,
    "pycharm": {
     "name": "#%%\n"
    }
   },
   "outputs": [
    {
     "data": {
      "text/plain": "array([[0.00017478],\n       [0.00017478],\n       [0.00017478],\n       [0.00027468],\n       [0.00020917],\n       [0.00026255],\n       [0.00022639],\n       [0.00024839],\n       [0.00021213],\n       [0.00021213]], dtype=float32)"
     },
     "execution_count": 54,
     "metadata": {},
     "output_type": "execute_result"
    }
   ],
   "source": [
    "condition = (convert_string_to_date('1.1.2021') <= reserved_data['to date'])\n",
    "\n",
    "X_pred = reserved_data[condition].drop(['to date'], axis=1)\n",
    "\n",
    "# X_pred = processed_data[condition]\n",
    "\n",
    "result_pred = model.predict(X_pred)\n",
    "result_proba = tf.nn.sigmoid(result_pred).numpy()\n",
    "\n",
    "result_proba[:10]"
   ]
  },
  {
   "cell_type": "code",
   "execution_count": 55,
   "metadata": {
    "collapsed": false,
    "pycharm": {
     "name": "#%%\n"
    }
   },
   "outputs": [
    {
     "data": {
      "application/vnd.plotly.v1+json": {
       "data": [
        {
         "groupnorm": "percent",
         "line": {
          "width": 0.25
         },
         "mode": "lines",
         "name": "No event",
         "stackgroup": "one",
         "text": [
          "[30.11.2021..30.12.2021]",
          "[01.12.2021..01.01.2022]",
          "[02.12.2021..02.01.2022]",
          "[03.12.2021..03.01.2022]",
          "[04.12.2021..04.01.2022]",
          "[05.12.2021..05.01.2022]",
          "[06.12.2021..06.01.2022]",
          "[07.12.2021..07.01.2022]",
          "[08.12.2021..08.01.2022]",
          "[09.12.2021..09.01.2022]",
          "[10.12.2021..10.01.2022]",
          "[11.12.2021..11.01.2022]",
          "[12.12.2021..12.01.2022]",
          "[13.12.2021..13.01.2022]",
          "[14.12.2021..14.01.2022]",
          "[15.12.2021..15.01.2022]",
          "[16.12.2021..16.01.2022]",
          "[17.12.2021..17.01.2022]",
          "[18.12.2021..18.01.2022]",
          "[19.12.2021..19.01.2022]",
          "[20.12.2021..20.01.2022]",
          "[21.12.2021..21.01.2022]",
          "[22.12.2021..22.01.2022]",
          "[23.12.2021..23.01.2022]",
          "[24.12.2021..24.01.2022]",
          "[25.12.2021..25.01.2022]",
          "[26.12.2021..26.01.2022]",
          "[27.12.2021..27.01.2022]",
          "[28.12.2021..28.01.2022]",
          "[29.12.2021..29.01.2022]",
          "[30.12.2021..30.01.2022]",
          "[01.01.2022..01.02.2022]",
          "[02.01.2022..02.02.2022]",
          "[03.01.2022..03.02.2022]",
          "[04.01.2022..04.02.2022]",
          "[05.01.2022..05.02.2022]",
          "[06.01.2022..06.02.2022]",
          "[07.01.2022..07.02.2022]",
          "[08.01.2022..08.02.2022]",
          "[09.01.2022..09.02.2022]",
          "[10.01.2022..10.02.2022]",
          "[11.01.2022..11.02.2022]",
          "[12.01.2022..12.02.2022]",
          "[13.01.2022..13.02.2022]",
          "[14.01.2022..14.02.2022]",
          "[15.01.2022..15.02.2022]",
          "[16.01.2022..16.02.2022]",
          "[17.01.2022..17.02.2022]",
          "[18.01.2022..18.02.2022]",
          "[19.01.2022..19.02.2022]",
          "[20.01.2022..20.02.2022]",
          "[21.01.2022..21.02.2022]",
          "[22.01.2022..22.02.2022]",
          "[23.01.2022..23.02.2022]",
          "[24.01.2022..24.02.2022]",
          "[25.01.2022..25.02.2022]",
          "[26.01.2022..26.02.2022]",
          "[27.01.2022..27.02.2022]",
          "[28.01.2022..28.02.2022]",
          "[29.01.2022..28.02.2022]",
          "[30.01.2022..28.02.2022]",
          "[31.01.2022..28.02.2022]",
          "[01.02.2022..01.03.2022]",
          "[02.02.2022..02.03.2022]",
          "[03.02.2022..03.03.2022]",
          "[04.02.2022..04.03.2022]",
          "[05.02.2022..05.03.2022]",
          "[06.02.2022..06.03.2022]",
          "[07.02.2022..07.03.2022]",
          "[08.02.2022..08.03.2022]",
          "[09.02.2022..09.03.2022]",
          "[10.02.2022..10.03.2022]",
          "[11.02.2022..11.03.2022]",
          "[12.02.2022..12.03.2022]",
          "[13.02.2022..13.03.2022]",
          "[14.02.2022..14.03.2022]",
          "[15.02.2022..15.03.2022]",
          "[16.02.2022..16.03.2022]",
          "[17.02.2022..17.03.2022]",
          "[18.02.2022..18.03.2022]",
          "[19.02.2022..19.03.2022]",
          "[20.02.2022..20.03.2022]",
          "[21.02.2022..21.03.2022]",
          "[22.02.2022..22.03.2022]",
          "[23.02.2022..23.03.2022]",
          "[24.02.2022..24.03.2022]",
          "[25.02.2022..25.03.2022]",
          "[26.02.2022..26.03.2022]",
          "[27.02.2022..27.03.2022]",
          "[28.02.2022..28.03.2022]",
          "[28.02.2022..28.03.2022]",
          "[28.02.2022..28.03.2022]",
          "[01.03.2022..01.04.2022]",
          "[02.03.2022..02.04.2022]",
          "[03.03.2022..03.04.2022]",
          "[04.03.2022..04.04.2022]",
          "[05.03.2022..05.04.2022]",
          "[06.03.2022..06.04.2022]",
          "[07.03.2022..07.04.2022]",
          "[08.03.2022..08.04.2022]",
          "[09.03.2022..09.04.2022]",
          "[10.03.2022..10.04.2022]",
          "[11.03.2022..11.04.2022]",
          "[12.03.2022..12.04.2022]",
          "[13.03.2022..13.04.2022]",
          "[14.03.2022..14.04.2022]",
          "[15.03.2022..15.04.2022]",
          "[16.03.2022..16.04.2022]",
          "[17.03.2022..17.04.2022]",
          "[18.03.2022..18.04.2022]",
          "[19.03.2022..19.04.2022]",
          "[20.03.2022..20.04.2022]",
          "[21.03.2022..21.04.2022]",
          "[22.03.2022..22.04.2022]",
          "[23.03.2022..23.04.2022]",
          "[24.03.2022..24.04.2022]",
          "[25.03.2022..25.04.2022]",
          "[26.03.2022..26.04.2022]",
          "[27.03.2022..27.04.2022]",
          "[28.03.2022..28.04.2022]",
          "[29.03.2022..29.04.2022]",
          "[30.03.2022..30.04.2022]",
          "[31.03.2022..30.04.2022]"
         ],
         "x": [
          "2021-08-31T00:00:00",
          "2021-09-01T00:00:00",
          "2021-09-02T00:00:00",
          "2021-09-03T00:00:00",
          "2021-09-04T00:00:00",
          "2021-09-05T00:00:00",
          "2021-09-06T00:00:00",
          "2021-09-07T00:00:00",
          "2021-09-08T00:00:00",
          "2021-09-09T00:00:00",
          "2021-09-10T00:00:00",
          "2021-09-11T00:00:00",
          "2021-09-12T00:00:00",
          "2021-09-13T00:00:00",
          "2021-09-14T00:00:00",
          "2021-09-15T00:00:00",
          "2021-09-16T00:00:00",
          "2021-09-17T00:00:00",
          "2021-09-18T00:00:00",
          "2021-09-19T00:00:00",
          "2021-09-20T00:00:00",
          "2021-09-21T00:00:00",
          "2021-09-22T00:00:00",
          "2021-09-23T00:00:00",
          "2021-09-24T00:00:00",
          "2021-09-25T00:00:00",
          "2021-09-26T00:00:00",
          "2021-09-27T00:00:00",
          "2021-09-28T00:00:00",
          "2021-09-29T00:00:00",
          "2021-09-30T00:00:00",
          "2021-10-01T00:00:00",
          "2021-10-02T00:00:00",
          "2021-10-03T00:00:00",
          "2021-10-04T00:00:00",
          "2021-10-05T00:00:00",
          "2021-10-06T00:00:00",
          "2021-10-07T00:00:00",
          "2021-10-08T00:00:00",
          "2021-10-09T00:00:00",
          "2021-10-10T00:00:00",
          "2021-10-11T00:00:00",
          "2021-10-12T00:00:00",
          "2021-10-13T00:00:00",
          "2021-10-14T00:00:00",
          "2021-10-15T00:00:00",
          "2021-10-16T00:00:00",
          "2021-10-17T00:00:00",
          "2021-10-18T00:00:00",
          "2021-10-19T00:00:00",
          "2021-10-20T00:00:00",
          "2021-10-21T00:00:00",
          "2021-10-22T00:00:00",
          "2021-10-23T00:00:00",
          "2021-10-24T00:00:00",
          "2021-10-25T00:00:00",
          "2021-10-26T00:00:00",
          "2021-10-27T00:00:00",
          "2021-10-28T00:00:00",
          "2021-10-29T00:00:00",
          "2021-10-30T00:00:00",
          "2021-10-31T00:00:00",
          "2021-11-01T00:00:00",
          "2021-11-02T00:00:00",
          "2021-11-03T00:00:00",
          "2021-11-04T00:00:00",
          "2021-11-05T00:00:00",
          "2021-11-06T00:00:00",
          "2021-11-07T00:00:00",
          "2021-11-08T00:00:00",
          "2021-11-09T00:00:00",
          "2021-11-10T00:00:00",
          "2021-11-11T00:00:00",
          "2021-11-12T00:00:00",
          "2021-11-13T00:00:00",
          "2021-11-14T00:00:00",
          "2021-11-15T00:00:00",
          "2021-11-16T00:00:00",
          "2021-11-17T00:00:00",
          "2021-11-18T00:00:00",
          "2021-11-19T00:00:00",
          "2021-11-20T00:00:00",
          "2021-11-21T00:00:00",
          "2021-11-22T00:00:00",
          "2021-11-23T00:00:00",
          "2021-11-24T00:00:00",
          "2021-11-25T00:00:00",
          "2021-11-26T00:00:00",
          "2021-11-27T00:00:00",
          "2021-11-28T00:00:00",
          "2021-11-29T00:00:00",
          "2021-11-30T00:00:00",
          "2021-12-01T00:00:00",
          "2021-12-02T00:00:00",
          "2021-12-03T00:00:00",
          "2021-12-04T00:00:00",
          "2021-12-05T00:00:00",
          "2021-12-06T00:00:00",
          "2021-12-07T00:00:00",
          "2021-12-08T00:00:00",
          "2021-12-09T00:00:00",
          "2021-12-10T00:00:00",
          "2021-12-11T00:00:00",
          "2021-12-12T00:00:00",
          "2021-12-13T00:00:00",
          "2021-12-14T00:00:00",
          "2021-12-15T00:00:00",
          "2021-12-16T00:00:00",
          "2021-12-17T00:00:00",
          "2021-12-18T00:00:00",
          "2021-12-19T00:00:00",
          "2021-12-20T00:00:00",
          "2021-12-21T00:00:00",
          "2021-12-22T00:00:00",
          "2021-12-23T00:00:00",
          "2021-12-24T00:00:00",
          "2021-12-25T00:00:00",
          "2021-12-26T00:00:00",
          "2021-12-27T00:00:00",
          "2021-12-28T00:00:00",
          "2021-12-29T00:00:00",
          "2021-12-30T00:00:00",
          "2021-12-31T00:00:00"
         ],
         "y": [
          0.9998252391815186,
          0.9998252391815186,
          0.9998252391815186,
          0.999725341796875,
          0.9997908473014832,
          0.9997374415397644,
          0.9997736215591431,
          0.999751627445221,
          0.9997878670692444,
          0.9997878670692444,
          0.9997697472572327,
          0.9997581243515015,
          0.999681830406189,
          0.9997037053108215,
          0.9998481273651123,
          0.9997214078903198,
          0.9997845888137817,
          0.9997618794441223,
          0.9996801018714905,
          0.9996533989906311,
          0.9996780753135681,
          0.9996780753135681,
          0.9996650815010071,
          0.9996890425682068,
          0.999697208404541,
          0.999699592590332,
          0.9997217655181885,
          0.9999188184738159,
          0.9999733567237854,
          0.9999830722808838,
          0.9999277591705322,
          0.9999373555183411,
          0.9999501705169678,
          0.9999393224716187,
          0.999911904335022,
          0.9998788833618164,
          0.9998788833618164,
          0.9998529553413391,
          0.9998529553413391,
          0.9998529553413391,
          0.999843955039978,
          0.9997722506523132,
          0.9998111724853516,
          0.9998509883880615,
          0.9998559355735779,
          0.999845564365387,
          0.999864399433136,
          0.9998483061790466,
          0.9998456835746765,
          0.999897837638855,
          0.9999322891235352,
          0.9999049305915833,
          0.9998834133148193,
          0.9999091029167175,
          0.9999306201934814,
          0.9999583959579468,
          0.9999284148216248,
          0.9999139904975891,
          0.9999406337738037,
          0.9999962449073792,
          0.999997615814209,
          0.9999974966049194,
          0.9999973773956299,
          0.9999973773956299,
          0.9999967813491821,
          0.9999926686286926,
          0.9999864101409912,
          0.9999864101409912,
          0.9999732971191406,
          0.9999942779541016,
          0.999991774559021,
          0.9999799728393555,
          0.9999635815620422,
          0.9999744296073914,
          0.9999765753746033,
          0.9999774694442749,
          0.9999780058860779,
          0.9999867677688599,
          0.9999867677688599,
          0.999990701675415,
          0.999990701675415,
          0.9999917149543762,
          0.9999960064888,
          0.9999972581863403,
          0.9999980926513672,
          0.9999986886978149,
          0.9999979138374329,
          0.9999982118606567,
          0.9999982118606567,
          0.9999982118606567,
          0.9999954700469971,
          0.9999910593032837,
          0.9999924302101135,
          0.9999285936355591,
          0.9999979138374329,
          0.9999716877937317,
          0.999939501285553,
          0.999994158744812,
          0.999995768070221,
          0.999995768070221,
          0.9999933838844299,
          0.9999983906745911,
          0.9999974370002747,
          0.9999997019767761,
          0.9999997615814209,
          0.9999997615814209,
          0.9999997615814209,
          0.9999997615814209,
          0.9999997615814209,
          0.9999995231628418,
          0.9999995231628418,
          0.999999463558197,
          0.9999996423721313,
          0.9999995827674866,
          0.9999997019767761,
          0.9999997019767761,
          0.9999997019767761,
          0.9999997019767761,
          0.9999997019767761,
          0.9999994039535522,
          0.999998927116394,
          0.9999979138374329,
          0.9999942183494568
         ],
         "type": "scatter"
        },
        {
         "line": {
          "width": 0.25
         },
         "mode": "lines",
         "name": "Event predicted",
         "stackgroup": "one",
         "text": [
          "[30.11.2021..30.12.2021]",
          "[01.12.2021..01.01.2022]",
          "[02.12.2021..02.01.2022]",
          "[03.12.2021..03.01.2022]",
          "[04.12.2021..04.01.2022]",
          "[05.12.2021..05.01.2022]",
          "[06.12.2021..06.01.2022]",
          "[07.12.2021..07.01.2022]",
          "[08.12.2021..08.01.2022]",
          "[09.12.2021..09.01.2022]",
          "[10.12.2021..10.01.2022]",
          "[11.12.2021..11.01.2022]",
          "[12.12.2021..12.01.2022]",
          "[13.12.2021..13.01.2022]",
          "[14.12.2021..14.01.2022]",
          "[15.12.2021..15.01.2022]",
          "[16.12.2021..16.01.2022]",
          "[17.12.2021..17.01.2022]",
          "[18.12.2021..18.01.2022]",
          "[19.12.2021..19.01.2022]",
          "[20.12.2021..20.01.2022]",
          "[21.12.2021..21.01.2022]",
          "[22.12.2021..22.01.2022]",
          "[23.12.2021..23.01.2022]",
          "[24.12.2021..24.01.2022]",
          "[25.12.2021..25.01.2022]",
          "[26.12.2021..26.01.2022]",
          "[27.12.2021..27.01.2022]",
          "[28.12.2021..28.01.2022]",
          "[29.12.2021..29.01.2022]",
          "[30.12.2021..30.01.2022]",
          "[01.01.2022..01.02.2022]",
          "[02.01.2022..02.02.2022]",
          "[03.01.2022..03.02.2022]",
          "[04.01.2022..04.02.2022]",
          "[05.01.2022..05.02.2022]",
          "[06.01.2022..06.02.2022]",
          "[07.01.2022..07.02.2022]",
          "[08.01.2022..08.02.2022]",
          "[09.01.2022..09.02.2022]",
          "[10.01.2022..10.02.2022]",
          "[11.01.2022..11.02.2022]",
          "[12.01.2022..12.02.2022]",
          "[13.01.2022..13.02.2022]",
          "[14.01.2022..14.02.2022]",
          "[15.01.2022..15.02.2022]",
          "[16.01.2022..16.02.2022]",
          "[17.01.2022..17.02.2022]",
          "[18.01.2022..18.02.2022]",
          "[19.01.2022..19.02.2022]",
          "[20.01.2022..20.02.2022]",
          "[21.01.2022..21.02.2022]",
          "[22.01.2022..22.02.2022]",
          "[23.01.2022..23.02.2022]",
          "[24.01.2022..24.02.2022]",
          "[25.01.2022..25.02.2022]",
          "[26.01.2022..26.02.2022]",
          "[27.01.2022..27.02.2022]",
          "[28.01.2022..28.02.2022]",
          "[29.01.2022..28.02.2022]",
          "[30.01.2022..28.02.2022]",
          "[31.01.2022..28.02.2022]",
          "[01.02.2022..01.03.2022]",
          "[02.02.2022..02.03.2022]",
          "[03.02.2022..03.03.2022]",
          "[04.02.2022..04.03.2022]",
          "[05.02.2022..05.03.2022]",
          "[06.02.2022..06.03.2022]",
          "[07.02.2022..07.03.2022]",
          "[08.02.2022..08.03.2022]",
          "[09.02.2022..09.03.2022]",
          "[10.02.2022..10.03.2022]",
          "[11.02.2022..11.03.2022]",
          "[12.02.2022..12.03.2022]",
          "[13.02.2022..13.03.2022]",
          "[14.02.2022..14.03.2022]",
          "[15.02.2022..15.03.2022]",
          "[16.02.2022..16.03.2022]",
          "[17.02.2022..17.03.2022]",
          "[18.02.2022..18.03.2022]",
          "[19.02.2022..19.03.2022]",
          "[20.02.2022..20.03.2022]",
          "[21.02.2022..21.03.2022]",
          "[22.02.2022..22.03.2022]",
          "[23.02.2022..23.03.2022]",
          "[24.02.2022..24.03.2022]",
          "[25.02.2022..25.03.2022]",
          "[26.02.2022..26.03.2022]",
          "[27.02.2022..27.03.2022]",
          "[28.02.2022..28.03.2022]",
          "[28.02.2022..28.03.2022]",
          "[28.02.2022..28.03.2022]",
          "[01.03.2022..01.04.2022]",
          "[02.03.2022..02.04.2022]",
          "[03.03.2022..03.04.2022]",
          "[04.03.2022..04.04.2022]",
          "[05.03.2022..05.04.2022]",
          "[06.03.2022..06.04.2022]",
          "[07.03.2022..07.04.2022]",
          "[08.03.2022..08.04.2022]",
          "[09.03.2022..09.04.2022]",
          "[10.03.2022..10.04.2022]",
          "[11.03.2022..11.04.2022]",
          "[12.03.2022..12.04.2022]",
          "[13.03.2022..13.04.2022]",
          "[14.03.2022..14.04.2022]",
          "[15.03.2022..15.04.2022]",
          "[16.03.2022..16.04.2022]",
          "[17.03.2022..17.04.2022]",
          "[18.03.2022..18.04.2022]",
          "[19.03.2022..19.04.2022]",
          "[20.03.2022..20.04.2022]",
          "[21.03.2022..21.04.2022]",
          "[22.03.2022..22.04.2022]",
          "[23.03.2022..23.04.2022]",
          "[24.03.2022..24.04.2022]",
          "[25.03.2022..25.04.2022]",
          "[26.03.2022..26.04.2022]",
          "[27.03.2022..27.04.2022]",
          "[28.03.2022..28.04.2022]",
          "[29.03.2022..29.04.2022]",
          "[30.03.2022..30.04.2022]",
          "[31.03.2022..30.04.2022]"
         ],
         "x": [
          "2021-08-31T00:00:00",
          "2021-09-01T00:00:00",
          "2021-09-02T00:00:00",
          "2021-09-03T00:00:00",
          "2021-09-04T00:00:00",
          "2021-09-05T00:00:00",
          "2021-09-06T00:00:00",
          "2021-09-07T00:00:00",
          "2021-09-08T00:00:00",
          "2021-09-09T00:00:00",
          "2021-09-10T00:00:00",
          "2021-09-11T00:00:00",
          "2021-09-12T00:00:00",
          "2021-09-13T00:00:00",
          "2021-09-14T00:00:00",
          "2021-09-15T00:00:00",
          "2021-09-16T00:00:00",
          "2021-09-17T00:00:00",
          "2021-09-18T00:00:00",
          "2021-09-19T00:00:00",
          "2021-09-20T00:00:00",
          "2021-09-21T00:00:00",
          "2021-09-22T00:00:00",
          "2021-09-23T00:00:00",
          "2021-09-24T00:00:00",
          "2021-09-25T00:00:00",
          "2021-09-26T00:00:00",
          "2021-09-27T00:00:00",
          "2021-09-28T00:00:00",
          "2021-09-29T00:00:00",
          "2021-09-30T00:00:00",
          "2021-10-01T00:00:00",
          "2021-10-02T00:00:00",
          "2021-10-03T00:00:00",
          "2021-10-04T00:00:00",
          "2021-10-05T00:00:00",
          "2021-10-06T00:00:00",
          "2021-10-07T00:00:00",
          "2021-10-08T00:00:00",
          "2021-10-09T00:00:00",
          "2021-10-10T00:00:00",
          "2021-10-11T00:00:00",
          "2021-10-12T00:00:00",
          "2021-10-13T00:00:00",
          "2021-10-14T00:00:00",
          "2021-10-15T00:00:00",
          "2021-10-16T00:00:00",
          "2021-10-17T00:00:00",
          "2021-10-18T00:00:00",
          "2021-10-19T00:00:00",
          "2021-10-20T00:00:00",
          "2021-10-21T00:00:00",
          "2021-10-22T00:00:00",
          "2021-10-23T00:00:00",
          "2021-10-24T00:00:00",
          "2021-10-25T00:00:00",
          "2021-10-26T00:00:00",
          "2021-10-27T00:00:00",
          "2021-10-28T00:00:00",
          "2021-10-29T00:00:00",
          "2021-10-30T00:00:00",
          "2021-10-31T00:00:00",
          "2021-11-01T00:00:00",
          "2021-11-02T00:00:00",
          "2021-11-03T00:00:00",
          "2021-11-04T00:00:00",
          "2021-11-05T00:00:00",
          "2021-11-06T00:00:00",
          "2021-11-07T00:00:00",
          "2021-11-08T00:00:00",
          "2021-11-09T00:00:00",
          "2021-11-10T00:00:00",
          "2021-11-11T00:00:00",
          "2021-11-12T00:00:00",
          "2021-11-13T00:00:00",
          "2021-11-14T00:00:00",
          "2021-11-15T00:00:00",
          "2021-11-16T00:00:00",
          "2021-11-17T00:00:00",
          "2021-11-18T00:00:00",
          "2021-11-19T00:00:00",
          "2021-11-20T00:00:00",
          "2021-11-21T00:00:00",
          "2021-11-22T00:00:00",
          "2021-11-23T00:00:00",
          "2021-11-24T00:00:00",
          "2021-11-25T00:00:00",
          "2021-11-26T00:00:00",
          "2021-11-27T00:00:00",
          "2021-11-28T00:00:00",
          "2021-11-29T00:00:00",
          "2021-11-30T00:00:00",
          "2021-12-01T00:00:00",
          "2021-12-02T00:00:00",
          "2021-12-03T00:00:00",
          "2021-12-04T00:00:00",
          "2021-12-05T00:00:00",
          "2021-12-06T00:00:00",
          "2021-12-07T00:00:00",
          "2021-12-08T00:00:00",
          "2021-12-09T00:00:00",
          "2021-12-10T00:00:00",
          "2021-12-11T00:00:00",
          "2021-12-12T00:00:00",
          "2021-12-13T00:00:00",
          "2021-12-14T00:00:00",
          "2021-12-15T00:00:00",
          "2021-12-16T00:00:00",
          "2021-12-17T00:00:00",
          "2021-12-18T00:00:00",
          "2021-12-19T00:00:00",
          "2021-12-20T00:00:00",
          "2021-12-21T00:00:00",
          "2021-12-22T00:00:00",
          "2021-12-23T00:00:00",
          "2021-12-24T00:00:00",
          "2021-12-25T00:00:00",
          "2021-12-26T00:00:00",
          "2021-12-27T00:00:00",
          "2021-12-28T00:00:00",
          "2021-12-29T00:00:00",
          "2021-12-30T00:00:00",
          "2021-12-31T00:00:00"
         ],
         "y": [
          1.747846690705046E-4,
          1.747846690705046E-4,
          1.747846690705046E-4,
          2.746781974565238E-4,
          2.09166290005669E-4,
          2.6254652766510844E-4,
          2.26386240683496E-4,
          2.483863499946892E-4,
          2.1212853607721627E-4,
          2.1212853607721627E-4,
          2.3025169502943754E-4,
          2.418679796392098E-4,
          3.1816752743907273E-4,
          2.962843282148242E-4,
          1.5187727694865316E-4,
          2.785685355775058E-4,
          2.1538723376579583E-4,
          2.3810382117517292E-4,
          3.198896301910281E-4,
          3.465975751169026E-4,
          3.219533246010542E-4,
          3.219533246010542E-4,
          3.3493252703920007E-4,
          3.109411336481571E-4,
          3.027880156878382E-4,
          3.004066238645464E-4,
          2.782383235171437E-4,
          8.120857819449157E-5,
          2.6625610189512372E-5,
          1.6947689800872467E-5,
          7.225227454910055E-5,
          6.266428681556135E-5,
          4.983224789611995E-5,
          6.067685899324715E-5,
          8.808047277852893E-5,
          1.2111878459108993E-4,
          1.2111878459108993E-4,
          1.4706095680594444E-4,
          1.4706095680594444E-4,
          1.4706095680594444E-4,
          1.5602385974489152E-4,
          2.2775688557885587E-4,
          1.8879798881243914E-4,
          1.4902294788043946E-4,
          1.4404969988390803E-4,
          1.5440724382642657E-4,
          1.355768763460219E-4,
          1.517147320555523E-4,
          1.5433717635460198E-4,
          1.0218792886007577E-4,
          6.771837070118636E-5,
          9.506155038252473E-5,
          1.1657734285108745E-4,
          9.086987847695127E-5,
          6.935127748874947E-5,
          4.1605268052080646E-5,
          7.158306107157841E-5,
          8.599868306191638E-5,
          5.937919195275754E-5,
          3.7551117202383466E-6,
          2.3903783130663214E-6,
          2.4783828393992735E-6,
          2.6060388336190954E-6,
          2.6191046345047653E-6,
          3.1990828119887738E-6,
          7.352868578891503E-6,
          1.3580222002929077E-5,
          1.3580222002929077E-5,
          2.6694053303799592E-5,
          5.737816081818892E-6,
          8.225812962336931E-6,
          2.0041332390974276E-5,
          3.6441299016587436E-5,
          2.5599032596801408E-5,
          2.343743108212948E-5,
          2.2514355805469677E-5,
          2.1968860892229713E-5,
          1.3233016034064349E-5,
          1.3233016034064349E-5,
          9.31049362407066E-6,
          9.31049362407066E-6,
          8.27249459689483E-6,
          3.980549081461504E-6,
          2.748679662545328E-6,
          1.8812868347595213E-6,
          1.3055791896476876E-6,
          2.0728953131765593E-6,
          1.7940257066584309E-6,
          1.7940257066584309E-6,
          1.7940257066584309E-6,
          4.524940777628217E-6,
          8.919777428673115E-6,
          7.556559467047919E-6,
          7.140737579902634E-5,
          2.0703428162960336E-6,
          2.832477184711024E-5,
          6.048609793651849E-5,
          5.839945515617728E-6,
          4.241476290189894E-6,
          4.241476290189894E-6,
          6.5905528572329786E-6,
          1.6136822296175524E-6,
          2.5802826257859124E-6,
          2.9783103627778473E-7,
          2.188291574611867E-7,
          2.635284772622981E-7,
          2.3680532024172862E-7,
          2.358648032441124E-7,
          2.5739979037098237E-7,
          4.6913612550270045E-7,
          4.6913612550270045E-7,
          5.46947262591857E-7,
          3.8301024574138864E-7,
          4.228816123941215E-7,
          2.69190110202544E-7,
          3.022734631485946E-7,
          3.022734631485946E-7,
          3.022734631485946E-7,
          3.022734631485946E-7,
          6.250987212297332E-7,
          1.0746207408374175E-6,
          2.070848267976544E-6,
          5.795786819362547E-6
         ],
         "type": "scatter"
        }
       ],
       "layout": {
        "template": {
         "data": {
          "bar": [
           {
            "error_x": {
             "color": "#f2f5fa"
            },
            "error_y": {
             "color": "#f2f5fa"
            },
            "marker": {
             "line": {
              "color": "rgb(17,17,17)",
              "width": 0.5
             },
             "pattern": {
              "fillmode": "overlay",
              "size": 10,
              "solidity": 0.2
             }
            },
            "type": "bar"
           }
          ],
          "barpolar": [
           {
            "marker": {
             "line": {
              "color": "rgb(17,17,17)",
              "width": 0.5
             },
             "pattern": {
              "fillmode": "overlay",
              "size": 10,
              "solidity": 0.2
             }
            },
            "type": "barpolar"
           }
          ],
          "carpet": [
           {
            "aaxis": {
             "endlinecolor": "#A2B1C6",
             "gridcolor": "#506784",
             "linecolor": "#506784",
             "minorgridcolor": "#506784",
             "startlinecolor": "#A2B1C6"
            },
            "baxis": {
             "endlinecolor": "#A2B1C6",
             "gridcolor": "#506784",
             "linecolor": "#506784",
             "minorgridcolor": "#506784",
             "startlinecolor": "#A2B1C6"
            },
            "type": "carpet"
           }
          ],
          "choropleth": [
           {
            "colorbar": {
             "outlinewidth": 0,
             "ticks": ""
            },
            "type": "choropleth"
           }
          ],
          "contour": [
           {
            "colorbar": {
             "outlinewidth": 0,
             "ticks": ""
            },
            "colorscale": [
             [
              0.0,
              "#0d0887"
             ],
             [
              0.1111111111111111,
              "#46039f"
             ],
             [
              0.2222222222222222,
              "#7201a8"
             ],
             [
              0.3333333333333333,
              "#9c179e"
             ],
             [
              0.4444444444444444,
              "#bd3786"
             ],
             [
              0.5555555555555556,
              "#d8576b"
             ],
             [
              0.6666666666666666,
              "#ed7953"
             ],
             [
              0.7777777777777778,
              "#fb9f3a"
             ],
             [
              0.8888888888888888,
              "#fdca26"
             ],
             [
              1.0,
              "#f0f921"
             ]
            ],
            "type": "contour"
           }
          ],
          "contourcarpet": [
           {
            "colorbar": {
             "outlinewidth": 0,
             "ticks": ""
            },
            "type": "contourcarpet"
           }
          ],
          "heatmap": [
           {
            "colorbar": {
             "outlinewidth": 0,
             "ticks": ""
            },
            "colorscale": [
             [
              0.0,
              "#0d0887"
             ],
             [
              0.1111111111111111,
              "#46039f"
             ],
             [
              0.2222222222222222,
              "#7201a8"
             ],
             [
              0.3333333333333333,
              "#9c179e"
             ],
             [
              0.4444444444444444,
              "#bd3786"
             ],
             [
              0.5555555555555556,
              "#d8576b"
             ],
             [
              0.6666666666666666,
              "#ed7953"
             ],
             [
              0.7777777777777778,
              "#fb9f3a"
             ],
             [
              0.8888888888888888,
              "#fdca26"
             ],
             [
              1.0,
              "#f0f921"
             ]
            ],
            "type": "heatmap"
           }
          ],
          "heatmapgl": [
           {
            "colorbar": {
             "outlinewidth": 0,
             "ticks": ""
            },
            "colorscale": [
             [
              0.0,
              "#0d0887"
             ],
             [
              0.1111111111111111,
              "#46039f"
             ],
             [
              0.2222222222222222,
              "#7201a8"
             ],
             [
              0.3333333333333333,
              "#9c179e"
             ],
             [
              0.4444444444444444,
              "#bd3786"
             ],
             [
              0.5555555555555556,
              "#d8576b"
             ],
             [
              0.6666666666666666,
              "#ed7953"
             ],
             [
              0.7777777777777778,
              "#fb9f3a"
             ],
             [
              0.8888888888888888,
              "#fdca26"
             ],
             [
              1.0,
              "#f0f921"
             ]
            ],
            "type": "heatmapgl"
           }
          ],
          "histogram": [
           {
            "marker": {
             "pattern": {
              "fillmode": "overlay",
              "size": 10,
              "solidity": 0.2
             }
            },
            "type": "histogram"
           }
          ],
          "histogram2d": [
           {
            "colorbar": {
             "outlinewidth": 0,
             "ticks": ""
            },
            "colorscale": [
             [
              0.0,
              "#0d0887"
             ],
             [
              0.1111111111111111,
              "#46039f"
             ],
             [
              0.2222222222222222,
              "#7201a8"
             ],
             [
              0.3333333333333333,
              "#9c179e"
             ],
             [
              0.4444444444444444,
              "#bd3786"
             ],
             [
              0.5555555555555556,
              "#d8576b"
             ],
             [
              0.6666666666666666,
              "#ed7953"
             ],
             [
              0.7777777777777778,
              "#fb9f3a"
             ],
             [
              0.8888888888888888,
              "#fdca26"
             ],
             [
              1.0,
              "#f0f921"
             ]
            ],
            "type": "histogram2d"
           }
          ],
          "histogram2dcontour": [
           {
            "colorbar": {
             "outlinewidth": 0,
             "ticks": ""
            },
            "colorscale": [
             [
              0.0,
              "#0d0887"
             ],
             [
              0.1111111111111111,
              "#46039f"
             ],
             [
              0.2222222222222222,
              "#7201a8"
             ],
             [
              0.3333333333333333,
              "#9c179e"
             ],
             [
              0.4444444444444444,
              "#bd3786"
             ],
             [
              0.5555555555555556,
              "#d8576b"
             ],
             [
              0.6666666666666666,
              "#ed7953"
             ],
             [
              0.7777777777777778,
              "#fb9f3a"
             ],
             [
              0.8888888888888888,
              "#fdca26"
             ],
             [
              1.0,
              "#f0f921"
             ]
            ],
            "type": "histogram2dcontour"
           }
          ],
          "mesh3d": [
           {
            "colorbar": {
             "outlinewidth": 0,
             "ticks": ""
            },
            "type": "mesh3d"
           }
          ],
          "parcoords": [
           {
            "line": {
             "colorbar": {
              "outlinewidth": 0,
              "ticks": ""
             }
            },
            "type": "parcoords"
           }
          ],
          "pie": [
           {
            "automargin": true,
            "type": "pie"
           }
          ],
          "scatter": [
           {
            "marker": {
             "line": {
              "color": "#283442"
             }
            },
            "type": "scatter"
           }
          ],
          "scatter3d": [
           {
            "line": {
             "colorbar": {
              "outlinewidth": 0,
              "ticks": ""
             }
            },
            "marker": {
             "colorbar": {
              "outlinewidth": 0,
              "ticks": ""
             }
            },
            "type": "scatter3d"
           }
          ],
          "scattercarpet": [
           {
            "marker": {
             "colorbar": {
              "outlinewidth": 0,
              "ticks": ""
             }
            },
            "type": "scattercarpet"
           }
          ],
          "scattergeo": [
           {
            "marker": {
             "colorbar": {
              "outlinewidth": 0,
              "ticks": ""
             }
            },
            "type": "scattergeo"
           }
          ],
          "scattergl": [
           {
            "marker": {
             "line": {
              "color": "#283442"
             }
            },
            "type": "scattergl"
           }
          ],
          "scattermapbox": [
           {
            "marker": {
             "colorbar": {
              "outlinewidth": 0,
              "ticks": ""
             }
            },
            "type": "scattermapbox"
           }
          ],
          "scatterpolar": [
           {
            "marker": {
             "colorbar": {
              "outlinewidth": 0,
              "ticks": ""
             }
            },
            "type": "scatterpolar"
           }
          ],
          "scatterpolargl": [
           {
            "marker": {
             "colorbar": {
              "outlinewidth": 0,
              "ticks": ""
             }
            },
            "type": "scatterpolargl"
           }
          ],
          "scatterternary": [
           {
            "marker": {
             "colorbar": {
              "outlinewidth": 0,
              "ticks": ""
             }
            },
            "type": "scatterternary"
           }
          ],
          "surface": [
           {
            "colorbar": {
             "outlinewidth": 0,
             "ticks": ""
            },
            "colorscale": [
             [
              0.0,
              "#0d0887"
             ],
             [
              0.1111111111111111,
              "#46039f"
             ],
             [
              0.2222222222222222,
              "#7201a8"
             ],
             [
              0.3333333333333333,
              "#9c179e"
             ],
             [
              0.4444444444444444,
              "#bd3786"
             ],
             [
              0.5555555555555556,
              "#d8576b"
             ],
             [
              0.6666666666666666,
              "#ed7953"
             ],
             [
              0.7777777777777778,
              "#fb9f3a"
             ],
             [
              0.8888888888888888,
              "#fdca26"
             ],
             [
              1.0,
              "#f0f921"
             ]
            ],
            "type": "surface"
           }
          ],
          "table": [
           {
            "cells": {
             "fill": {
              "color": "#506784"
             },
             "line": {
              "color": "rgb(17,17,17)"
             }
            },
            "header": {
             "fill": {
              "color": "#2a3f5f"
             },
             "line": {
              "color": "rgb(17,17,17)"
             }
            },
            "type": "table"
           }
          ]
         },
         "layout": {
          "annotationdefaults": {
           "arrowcolor": "#f2f5fa",
           "arrowhead": 0,
           "arrowwidth": 1
          },
          "autotypenumbers": "strict",
          "coloraxis": {
           "colorbar": {
            "outlinewidth": 0,
            "ticks": ""
           }
          },
          "colorscale": {
           "diverging": [
            [
             0,
             "#8e0152"
            ],
            [
             0.1,
             "#c51b7d"
            ],
            [
             0.2,
             "#de77ae"
            ],
            [
             0.3,
             "#f1b6da"
            ],
            [
             0.4,
             "#fde0ef"
            ],
            [
             0.5,
             "#f7f7f7"
            ],
            [
             0.6,
             "#e6f5d0"
            ],
            [
             0.7,
             "#b8e186"
            ],
            [
             0.8,
             "#7fbc41"
            ],
            [
             0.9,
             "#4d9221"
            ],
            [
             1,
             "#276419"
            ]
           ],
           "sequential": [
            [
             0.0,
             "#0d0887"
            ],
            [
             0.1111111111111111,
             "#46039f"
            ],
            [
             0.2222222222222222,
             "#7201a8"
            ],
            [
             0.3333333333333333,
             "#9c179e"
            ],
            [
             0.4444444444444444,
             "#bd3786"
            ],
            [
             0.5555555555555556,
             "#d8576b"
            ],
            [
             0.6666666666666666,
             "#ed7953"
            ],
            [
             0.7777777777777778,
             "#fb9f3a"
            ],
            [
             0.8888888888888888,
             "#fdca26"
            ],
            [
             1.0,
             "#f0f921"
            ]
           ],
           "sequentialminus": [
            [
             0.0,
             "#0d0887"
            ],
            [
             0.1111111111111111,
             "#46039f"
            ],
            [
             0.2222222222222222,
             "#7201a8"
            ],
            [
             0.3333333333333333,
             "#9c179e"
            ],
            [
             0.4444444444444444,
             "#bd3786"
            ],
            [
             0.5555555555555556,
             "#d8576b"
            ],
            [
             0.6666666666666666,
             "#ed7953"
            ],
            [
             0.7777777777777778,
             "#fb9f3a"
            ],
            [
             0.8888888888888888,
             "#fdca26"
            ],
            [
             1.0,
             "#f0f921"
            ]
           ]
          },
          "colorway": [
           "#636efa",
           "#EF553B",
           "#00cc96",
           "#ab63fa",
           "#FFA15A",
           "#19d3f3",
           "#FF6692",
           "#B6E880",
           "#FF97FF",
           "#FECB52"
          ],
          "font": {
           "color": "#f2f5fa"
          },
          "geo": {
           "bgcolor": "rgb(17,17,17)",
           "lakecolor": "rgb(17,17,17)",
           "landcolor": "rgb(17,17,17)",
           "showlakes": true,
           "showland": true,
           "subunitcolor": "#506784"
          },
          "hoverlabel": {
           "align": "left"
          },
          "hovermode": "closest",
          "mapbox": {
           "style": "dark"
          },
          "paper_bgcolor": "rgb(17,17,17)",
          "plot_bgcolor": "rgb(17,17,17)",
          "polar": {
           "angularaxis": {
            "gridcolor": "#506784",
            "linecolor": "#506784",
            "ticks": ""
           },
           "bgcolor": "rgb(17,17,17)",
           "radialaxis": {
            "gridcolor": "#506784",
            "linecolor": "#506784",
            "ticks": ""
           }
          },
          "scene": {
           "xaxis": {
            "backgroundcolor": "rgb(17,17,17)",
            "gridcolor": "#506784",
            "gridwidth": 2,
            "linecolor": "#506784",
            "showbackground": true,
            "ticks": "",
            "zerolinecolor": "#C8D4E3"
           },
           "yaxis": {
            "backgroundcolor": "rgb(17,17,17)",
            "gridcolor": "#506784",
            "gridwidth": 2,
            "linecolor": "#506784",
            "showbackground": true,
            "ticks": "",
            "zerolinecolor": "#C8D4E3"
           },
           "zaxis": {
            "backgroundcolor": "rgb(17,17,17)",
            "gridcolor": "#506784",
            "gridwidth": 2,
            "linecolor": "#506784",
            "showbackground": true,
            "ticks": "",
            "zerolinecolor": "#C8D4E3"
           }
          },
          "shapedefaults": {
           "line": {
            "color": "#f2f5fa"
           }
          },
          "sliderdefaults": {
           "bgcolor": "#C8D4E3",
           "bordercolor": "rgb(17,17,17)",
           "borderwidth": 1,
           "tickwidth": 0
          },
          "ternary": {
           "aaxis": {
            "gridcolor": "#506784",
            "linecolor": "#506784",
            "ticks": ""
           },
           "baxis": {
            "gridcolor": "#506784",
            "linecolor": "#506784",
            "ticks": ""
           },
           "bgcolor": "rgb(17,17,17)",
           "caxis": {
            "gridcolor": "#506784",
            "linecolor": "#506784",
            "ticks": ""
           }
          },
          "title": {
           "x": 0.05
          },
          "updatemenudefaults": {
           "bgcolor": "#506784",
           "borderwidth": 0
          },
          "xaxis": {
           "automargin": true,
           "gridcolor": "#283442",
           "linecolor": "#506784",
           "ticks": "",
           "title": {
            "standoff": 15
           },
           "zerolinecolor": "#283442",
           "zerolinewidth": 2
          },
          "yaxis": {
           "automargin": true,
           "gridcolor": "#283442",
           "linecolor": "#506784",
           "ticks": "",
           "title": {
            "standoff": 15
           },
           "zerolinecolor": "#283442",
           "zerolinewidth": 2
          }
         }
        },
        "title": {
         "text": "Probability of event"
        }
       },
       "config": {
        "plotlyServerURL": "https://plot.ly"
       }
      },
      "text/html": "<div>                            <div id=\"c0f70e50-93e9-4861-afb8-bfc03f58fa88\" class=\"plotly-graph-div\" style=\"height:525px; width:100%;\"></div>            <script type=\"text/javascript\">                require([\"plotly\"], function(Plotly) {                    window.PLOTLYENV=window.PLOTLYENV || {};                                    if (document.getElementById(\"c0f70e50-93e9-4861-afb8-bfc03f58fa88\")) {                    Plotly.newPlot(                        \"c0f70e50-93e9-4861-afb8-bfc03f58fa88\",                        [{\"groupnorm\":\"percent\",\"line\":{\"width\":0.25},\"mode\":\"lines\",\"name\":\"No event\",\"stackgroup\":\"one\",\"text\":[\"[30.11.2021..30.12.2021]\",\"[01.12.2021..01.01.2022]\",\"[02.12.2021..02.01.2022]\",\"[03.12.2021..03.01.2022]\",\"[04.12.2021..04.01.2022]\",\"[05.12.2021..05.01.2022]\",\"[06.12.2021..06.01.2022]\",\"[07.12.2021..07.01.2022]\",\"[08.12.2021..08.01.2022]\",\"[09.12.2021..09.01.2022]\",\"[10.12.2021..10.01.2022]\",\"[11.12.2021..11.01.2022]\",\"[12.12.2021..12.01.2022]\",\"[13.12.2021..13.01.2022]\",\"[14.12.2021..14.01.2022]\",\"[15.12.2021..15.01.2022]\",\"[16.12.2021..16.01.2022]\",\"[17.12.2021..17.01.2022]\",\"[18.12.2021..18.01.2022]\",\"[19.12.2021..19.01.2022]\",\"[20.12.2021..20.01.2022]\",\"[21.12.2021..21.01.2022]\",\"[22.12.2021..22.01.2022]\",\"[23.12.2021..23.01.2022]\",\"[24.12.2021..24.01.2022]\",\"[25.12.2021..25.01.2022]\",\"[26.12.2021..26.01.2022]\",\"[27.12.2021..27.01.2022]\",\"[28.12.2021..28.01.2022]\",\"[29.12.2021..29.01.2022]\",\"[30.12.2021..30.01.2022]\",\"[01.01.2022..01.02.2022]\",\"[02.01.2022..02.02.2022]\",\"[03.01.2022..03.02.2022]\",\"[04.01.2022..04.02.2022]\",\"[05.01.2022..05.02.2022]\",\"[06.01.2022..06.02.2022]\",\"[07.01.2022..07.02.2022]\",\"[08.01.2022..08.02.2022]\",\"[09.01.2022..09.02.2022]\",\"[10.01.2022..10.02.2022]\",\"[11.01.2022..11.02.2022]\",\"[12.01.2022..12.02.2022]\",\"[13.01.2022..13.02.2022]\",\"[14.01.2022..14.02.2022]\",\"[15.01.2022..15.02.2022]\",\"[16.01.2022..16.02.2022]\",\"[17.01.2022..17.02.2022]\",\"[18.01.2022..18.02.2022]\",\"[19.01.2022..19.02.2022]\",\"[20.01.2022..20.02.2022]\",\"[21.01.2022..21.02.2022]\",\"[22.01.2022..22.02.2022]\",\"[23.01.2022..23.02.2022]\",\"[24.01.2022..24.02.2022]\",\"[25.01.2022..25.02.2022]\",\"[26.01.2022..26.02.2022]\",\"[27.01.2022..27.02.2022]\",\"[28.01.2022..28.02.2022]\",\"[29.01.2022..28.02.2022]\",\"[30.01.2022..28.02.2022]\",\"[31.01.2022..28.02.2022]\",\"[01.02.2022..01.03.2022]\",\"[02.02.2022..02.03.2022]\",\"[03.02.2022..03.03.2022]\",\"[04.02.2022..04.03.2022]\",\"[05.02.2022..05.03.2022]\",\"[06.02.2022..06.03.2022]\",\"[07.02.2022..07.03.2022]\",\"[08.02.2022..08.03.2022]\",\"[09.02.2022..09.03.2022]\",\"[10.02.2022..10.03.2022]\",\"[11.02.2022..11.03.2022]\",\"[12.02.2022..12.03.2022]\",\"[13.02.2022..13.03.2022]\",\"[14.02.2022..14.03.2022]\",\"[15.02.2022..15.03.2022]\",\"[16.02.2022..16.03.2022]\",\"[17.02.2022..17.03.2022]\",\"[18.02.2022..18.03.2022]\",\"[19.02.2022..19.03.2022]\",\"[20.02.2022..20.03.2022]\",\"[21.02.2022..21.03.2022]\",\"[22.02.2022..22.03.2022]\",\"[23.02.2022..23.03.2022]\",\"[24.02.2022..24.03.2022]\",\"[25.02.2022..25.03.2022]\",\"[26.02.2022..26.03.2022]\",\"[27.02.2022..27.03.2022]\",\"[28.02.2022..28.03.2022]\",\"[28.02.2022..28.03.2022]\",\"[28.02.2022..28.03.2022]\",\"[01.03.2022..01.04.2022]\",\"[02.03.2022..02.04.2022]\",\"[03.03.2022..03.04.2022]\",\"[04.03.2022..04.04.2022]\",\"[05.03.2022..05.04.2022]\",\"[06.03.2022..06.04.2022]\",\"[07.03.2022..07.04.2022]\",\"[08.03.2022..08.04.2022]\",\"[09.03.2022..09.04.2022]\",\"[10.03.2022..10.04.2022]\",\"[11.03.2022..11.04.2022]\",\"[12.03.2022..12.04.2022]\",\"[13.03.2022..13.04.2022]\",\"[14.03.2022..14.04.2022]\",\"[15.03.2022..15.04.2022]\",\"[16.03.2022..16.04.2022]\",\"[17.03.2022..17.04.2022]\",\"[18.03.2022..18.04.2022]\",\"[19.03.2022..19.04.2022]\",\"[20.03.2022..20.04.2022]\",\"[21.03.2022..21.04.2022]\",\"[22.03.2022..22.04.2022]\",\"[23.03.2022..23.04.2022]\",\"[24.03.2022..24.04.2022]\",\"[25.03.2022..25.04.2022]\",\"[26.03.2022..26.04.2022]\",\"[27.03.2022..27.04.2022]\",\"[28.03.2022..28.04.2022]\",\"[29.03.2022..29.04.2022]\",\"[30.03.2022..30.04.2022]\",\"[31.03.2022..30.04.2022]\"],\"x\":[\"2021-08-31T00:00:00\",\"2021-09-01T00:00:00\",\"2021-09-02T00:00:00\",\"2021-09-03T00:00:00\",\"2021-09-04T00:00:00\",\"2021-09-05T00:00:00\",\"2021-09-06T00:00:00\",\"2021-09-07T00:00:00\",\"2021-09-08T00:00:00\",\"2021-09-09T00:00:00\",\"2021-09-10T00:00:00\",\"2021-09-11T00:00:00\",\"2021-09-12T00:00:00\",\"2021-09-13T00:00:00\",\"2021-09-14T00:00:00\",\"2021-09-15T00:00:00\",\"2021-09-16T00:00:00\",\"2021-09-17T00:00:00\",\"2021-09-18T00:00:00\",\"2021-09-19T00:00:00\",\"2021-09-20T00:00:00\",\"2021-09-21T00:00:00\",\"2021-09-22T00:00:00\",\"2021-09-23T00:00:00\",\"2021-09-24T00:00:00\",\"2021-09-25T00:00:00\",\"2021-09-26T00:00:00\",\"2021-09-27T00:00:00\",\"2021-09-28T00:00:00\",\"2021-09-29T00:00:00\",\"2021-09-30T00:00:00\",\"2021-10-01T00:00:00\",\"2021-10-02T00:00:00\",\"2021-10-03T00:00:00\",\"2021-10-04T00:00:00\",\"2021-10-05T00:00:00\",\"2021-10-06T00:00:00\",\"2021-10-07T00:00:00\",\"2021-10-08T00:00:00\",\"2021-10-09T00:00:00\",\"2021-10-10T00:00:00\",\"2021-10-11T00:00:00\",\"2021-10-12T00:00:00\",\"2021-10-13T00:00:00\",\"2021-10-14T00:00:00\",\"2021-10-15T00:00:00\",\"2021-10-16T00:00:00\",\"2021-10-17T00:00:00\",\"2021-10-18T00:00:00\",\"2021-10-19T00:00:00\",\"2021-10-20T00:00:00\",\"2021-10-21T00:00:00\",\"2021-10-22T00:00:00\",\"2021-10-23T00:00:00\",\"2021-10-24T00:00:00\",\"2021-10-25T00:00:00\",\"2021-10-26T00:00:00\",\"2021-10-27T00:00:00\",\"2021-10-28T00:00:00\",\"2021-10-29T00:00:00\",\"2021-10-30T00:00:00\",\"2021-10-31T00:00:00\",\"2021-11-01T00:00:00\",\"2021-11-02T00:00:00\",\"2021-11-03T00:00:00\",\"2021-11-04T00:00:00\",\"2021-11-05T00:00:00\",\"2021-11-06T00:00:00\",\"2021-11-07T00:00:00\",\"2021-11-08T00:00:00\",\"2021-11-09T00:00:00\",\"2021-11-10T00:00:00\",\"2021-11-11T00:00:00\",\"2021-11-12T00:00:00\",\"2021-11-13T00:00:00\",\"2021-11-14T00:00:00\",\"2021-11-15T00:00:00\",\"2021-11-16T00:00:00\",\"2021-11-17T00:00:00\",\"2021-11-18T00:00:00\",\"2021-11-19T00:00:00\",\"2021-11-20T00:00:00\",\"2021-11-21T00:00:00\",\"2021-11-22T00:00:00\",\"2021-11-23T00:00:00\",\"2021-11-24T00:00:00\",\"2021-11-25T00:00:00\",\"2021-11-26T00:00:00\",\"2021-11-27T00:00:00\",\"2021-11-28T00:00:00\",\"2021-11-29T00:00:00\",\"2021-11-30T00:00:00\",\"2021-12-01T00:00:00\",\"2021-12-02T00:00:00\",\"2021-12-03T00:00:00\",\"2021-12-04T00:00:00\",\"2021-12-05T00:00:00\",\"2021-12-06T00:00:00\",\"2021-12-07T00:00:00\",\"2021-12-08T00:00:00\",\"2021-12-09T00:00:00\",\"2021-12-10T00:00:00\",\"2021-12-11T00:00:00\",\"2021-12-12T00:00:00\",\"2021-12-13T00:00:00\",\"2021-12-14T00:00:00\",\"2021-12-15T00:00:00\",\"2021-12-16T00:00:00\",\"2021-12-17T00:00:00\",\"2021-12-18T00:00:00\",\"2021-12-19T00:00:00\",\"2021-12-20T00:00:00\",\"2021-12-21T00:00:00\",\"2021-12-22T00:00:00\",\"2021-12-23T00:00:00\",\"2021-12-24T00:00:00\",\"2021-12-25T00:00:00\",\"2021-12-26T00:00:00\",\"2021-12-27T00:00:00\",\"2021-12-28T00:00:00\",\"2021-12-29T00:00:00\",\"2021-12-30T00:00:00\",\"2021-12-31T00:00:00\"],\"y\":[0.9998252391815186,0.9998252391815186,0.9998252391815186,0.999725341796875,0.9997908473014832,0.9997374415397644,0.9997736215591431,0.999751627445221,0.9997878670692444,0.9997878670692444,0.9997697472572327,0.9997581243515015,0.999681830406189,0.9997037053108215,0.9998481273651123,0.9997214078903198,0.9997845888137817,0.9997618794441223,0.9996801018714905,0.9996533989906311,0.9996780753135681,0.9996780753135681,0.9996650815010071,0.9996890425682068,0.999697208404541,0.999699592590332,0.9997217655181885,0.9999188184738159,0.9999733567237854,0.9999830722808838,0.9999277591705322,0.9999373555183411,0.9999501705169678,0.9999393224716187,0.999911904335022,0.9998788833618164,0.9998788833618164,0.9998529553413391,0.9998529553413391,0.9998529553413391,0.999843955039978,0.9997722506523132,0.9998111724853516,0.9998509883880615,0.9998559355735779,0.999845564365387,0.999864399433136,0.9998483061790466,0.9998456835746765,0.999897837638855,0.9999322891235352,0.9999049305915833,0.9998834133148193,0.9999091029167175,0.9999306201934814,0.9999583959579468,0.9999284148216248,0.9999139904975891,0.9999406337738037,0.9999962449073792,0.999997615814209,0.9999974966049194,0.9999973773956299,0.9999973773956299,0.9999967813491821,0.9999926686286926,0.9999864101409912,0.9999864101409912,0.9999732971191406,0.9999942779541016,0.999991774559021,0.9999799728393555,0.9999635815620422,0.9999744296073914,0.9999765753746033,0.9999774694442749,0.9999780058860779,0.9999867677688599,0.9999867677688599,0.999990701675415,0.999990701675415,0.9999917149543762,0.9999960064888,0.9999972581863403,0.9999980926513672,0.9999986886978149,0.9999979138374329,0.9999982118606567,0.9999982118606567,0.9999982118606567,0.9999954700469971,0.9999910593032837,0.9999924302101135,0.9999285936355591,0.9999979138374329,0.9999716877937317,0.999939501285553,0.999994158744812,0.999995768070221,0.999995768070221,0.9999933838844299,0.9999983906745911,0.9999974370002747,0.9999997019767761,0.9999997615814209,0.9999997615814209,0.9999997615814209,0.9999997615814209,0.9999997615814209,0.9999995231628418,0.9999995231628418,0.999999463558197,0.9999996423721313,0.9999995827674866,0.9999997019767761,0.9999997019767761,0.9999997019767761,0.9999997019767761,0.9999997019767761,0.9999994039535522,0.999998927116394,0.9999979138374329,0.9999942183494568],\"type\":\"scatter\"},{\"line\":{\"width\":0.25},\"mode\":\"lines\",\"name\":\"Event predicted\",\"stackgroup\":\"one\",\"text\":[\"[30.11.2021..30.12.2021]\",\"[01.12.2021..01.01.2022]\",\"[02.12.2021..02.01.2022]\",\"[03.12.2021..03.01.2022]\",\"[04.12.2021..04.01.2022]\",\"[05.12.2021..05.01.2022]\",\"[06.12.2021..06.01.2022]\",\"[07.12.2021..07.01.2022]\",\"[08.12.2021..08.01.2022]\",\"[09.12.2021..09.01.2022]\",\"[10.12.2021..10.01.2022]\",\"[11.12.2021..11.01.2022]\",\"[12.12.2021..12.01.2022]\",\"[13.12.2021..13.01.2022]\",\"[14.12.2021..14.01.2022]\",\"[15.12.2021..15.01.2022]\",\"[16.12.2021..16.01.2022]\",\"[17.12.2021..17.01.2022]\",\"[18.12.2021..18.01.2022]\",\"[19.12.2021..19.01.2022]\",\"[20.12.2021..20.01.2022]\",\"[21.12.2021..21.01.2022]\",\"[22.12.2021..22.01.2022]\",\"[23.12.2021..23.01.2022]\",\"[24.12.2021..24.01.2022]\",\"[25.12.2021..25.01.2022]\",\"[26.12.2021..26.01.2022]\",\"[27.12.2021..27.01.2022]\",\"[28.12.2021..28.01.2022]\",\"[29.12.2021..29.01.2022]\",\"[30.12.2021..30.01.2022]\",\"[01.01.2022..01.02.2022]\",\"[02.01.2022..02.02.2022]\",\"[03.01.2022..03.02.2022]\",\"[04.01.2022..04.02.2022]\",\"[05.01.2022..05.02.2022]\",\"[06.01.2022..06.02.2022]\",\"[07.01.2022..07.02.2022]\",\"[08.01.2022..08.02.2022]\",\"[09.01.2022..09.02.2022]\",\"[10.01.2022..10.02.2022]\",\"[11.01.2022..11.02.2022]\",\"[12.01.2022..12.02.2022]\",\"[13.01.2022..13.02.2022]\",\"[14.01.2022..14.02.2022]\",\"[15.01.2022..15.02.2022]\",\"[16.01.2022..16.02.2022]\",\"[17.01.2022..17.02.2022]\",\"[18.01.2022..18.02.2022]\",\"[19.01.2022..19.02.2022]\",\"[20.01.2022..20.02.2022]\",\"[21.01.2022..21.02.2022]\",\"[22.01.2022..22.02.2022]\",\"[23.01.2022..23.02.2022]\",\"[24.01.2022..24.02.2022]\",\"[25.01.2022..25.02.2022]\",\"[26.01.2022..26.02.2022]\",\"[27.01.2022..27.02.2022]\",\"[28.01.2022..28.02.2022]\",\"[29.01.2022..28.02.2022]\",\"[30.01.2022..28.02.2022]\",\"[31.01.2022..28.02.2022]\",\"[01.02.2022..01.03.2022]\",\"[02.02.2022..02.03.2022]\",\"[03.02.2022..03.03.2022]\",\"[04.02.2022..04.03.2022]\",\"[05.02.2022..05.03.2022]\",\"[06.02.2022..06.03.2022]\",\"[07.02.2022..07.03.2022]\",\"[08.02.2022..08.03.2022]\",\"[09.02.2022..09.03.2022]\",\"[10.02.2022..10.03.2022]\",\"[11.02.2022..11.03.2022]\",\"[12.02.2022..12.03.2022]\",\"[13.02.2022..13.03.2022]\",\"[14.02.2022..14.03.2022]\",\"[15.02.2022..15.03.2022]\",\"[16.02.2022..16.03.2022]\",\"[17.02.2022..17.03.2022]\",\"[18.02.2022..18.03.2022]\",\"[19.02.2022..19.03.2022]\",\"[20.02.2022..20.03.2022]\",\"[21.02.2022..21.03.2022]\",\"[22.02.2022..22.03.2022]\",\"[23.02.2022..23.03.2022]\",\"[24.02.2022..24.03.2022]\",\"[25.02.2022..25.03.2022]\",\"[26.02.2022..26.03.2022]\",\"[27.02.2022..27.03.2022]\",\"[28.02.2022..28.03.2022]\",\"[28.02.2022..28.03.2022]\",\"[28.02.2022..28.03.2022]\",\"[01.03.2022..01.04.2022]\",\"[02.03.2022..02.04.2022]\",\"[03.03.2022..03.04.2022]\",\"[04.03.2022..04.04.2022]\",\"[05.03.2022..05.04.2022]\",\"[06.03.2022..06.04.2022]\",\"[07.03.2022..07.04.2022]\",\"[08.03.2022..08.04.2022]\",\"[09.03.2022..09.04.2022]\",\"[10.03.2022..10.04.2022]\",\"[11.03.2022..11.04.2022]\",\"[12.03.2022..12.04.2022]\",\"[13.03.2022..13.04.2022]\",\"[14.03.2022..14.04.2022]\",\"[15.03.2022..15.04.2022]\",\"[16.03.2022..16.04.2022]\",\"[17.03.2022..17.04.2022]\",\"[18.03.2022..18.04.2022]\",\"[19.03.2022..19.04.2022]\",\"[20.03.2022..20.04.2022]\",\"[21.03.2022..21.04.2022]\",\"[22.03.2022..22.04.2022]\",\"[23.03.2022..23.04.2022]\",\"[24.03.2022..24.04.2022]\",\"[25.03.2022..25.04.2022]\",\"[26.03.2022..26.04.2022]\",\"[27.03.2022..27.04.2022]\",\"[28.03.2022..28.04.2022]\",\"[29.03.2022..29.04.2022]\",\"[30.03.2022..30.04.2022]\",\"[31.03.2022..30.04.2022]\"],\"x\":[\"2021-08-31T00:00:00\",\"2021-09-01T00:00:00\",\"2021-09-02T00:00:00\",\"2021-09-03T00:00:00\",\"2021-09-04T00:00:00\",\"2021-09-05T00:00:00\",\"2021-09-06T00:00:00\",\"2021-09-07T00:00:00\",\"2021-09-08T00:00:00\",\"2021-09-09T00:00:00\",\"2021-09-10T00:00:00\",\"2021-09-11T00:00:00\",\"2021-09-12T00:00:00\",\"2021-09-13T00:00:00\",\"2021-09-14T00:00:00\",\"2021-09-15T00:00:00\",\"2021-09-16T00:00:00\",\"2021-09-17T00:00:00\",\"2021-09-18T00:00:00\",\"2021-09-19T00:00:00\",\"2021-09-20T00:00:00\",\"2021-09-21T00:00:00\",\"2021-09-22T00:00:00\",\"2021-09-23T00:00:00\",\"2021-09-24T00:00:00\",\"2021-09-25T00:00:00\",\"2021-09-26T00:00:00\",\"2021-09-27T00:00:00\",\"2021-09-28T00:00:00\",\"2021-09-29T00:00:00\",\"2021-09-30T00:00:00\",\"2021-10-01T00:00:00\",\"2021-10-02T00:00:00\",\"2021-10-03T00:00:00\",\"2021-10-04T00:00:00\",\"2021-10-05T00:00:00\",\"2021-10-06T00:00:00\",\"2021-10-07T00:00:00\",\"2021-10-08T00:00:00\",\"2021-10-09T00:00:00\",\"2021-10-10T00:00:00\",\"2021-10-11T00:00:00\",\"2021-10-12T00:00:00\",\"2021-10-13T00:00:00\",\"2021-10-14T00:00:00\",\"2021-10-15T00:00:00\",\"2021-10-16T00:00:00\",\"2021-10-17T00:00:00\",\"2021-10-18T00:00:00\",\"2021-10-19T00:00:00\",\"2021-10-20T00:00:00\",\"2021-10-21T00:00:00\",\"2021-10-22T00:00:00\",\"2021-10-23T00:00:00\",\"2021-10-24T00:00:00\",\"2021-10-25T00:00:00\",\"2021-10-26T00:00:00\",\"2021-10-27T00:00:00\",\"2021-10-28T00:00:00\",\"2021-10-29T00:00:00\",\"2021-10-30T00:00:00\",\"2021-10-31T00:00:00\",\"2021-11-01T00:00:00\",\"2021-11-02T00:00:00\",\"2021-11-03T00:00:00\",\"2021-11-04T00:00:00\",\"2021-11-05T00:00:00\",\"2021-11-06T00:00:00\",\"2021-11-07T00:00:00\",\"2021-11-08T00:00:00\",\"2021-11-09T00:00:00\",\"2021-11-10T00:00:00\",\"2021-11-11T00:00:00\",\"2021-11-12T00:00:00\",\"2021-11-13T00:00:00\",\"2021-11-14T00:00:00\",\"2021-11-15T00:00:00\",\"2021-11-16T00:00:00\",\"2021-11-17T00:00:00\",\"2021-11-18T00:00:00\",\"2021-11-19T00:00:00\",\"2021-11-20T00:00:00\",\"2021-11-21T00:00:00\",\"2021-11-22T00:00:00\",\"2021-11-23T00:00:00\",\"2021-11-24T00:00:00\",\"2021-11-25T00:00:00\",\"2021-11-26T00:00:00\",\"2021-11-27T00:00:00\",\"2021-11-28T00:00:00\",\"2021-11-29T00:00:00\",\"2021-11-30T00:00:00\",\"2021-12-01T00:00:00\",\"2021-12-02T00:00:00\",\"2021-12-03T00:00:00\",\"2021-12-04T00:00:00\",\"2021-12-05T00:00:00\",\"2021-12-06T00:00:00\",\"2021-12-07T00:00:00\",\"2021-12-08T00:00:00\",\"2021-12-09T00:00:00\",\"2021-12-10T00:00:00\",\"2021-12-11T00:00:00\",\"2021-12-12T00:00:00\",\"2021-12-13T00:00:00\",\"2021-12-14T00:00:00\",\"2021-12-15T00:00:00\",\"2021-12-16T00:00:00\",\"2021-12-17T00:00:00\",\"2021-12-18T00:00:00\",\"2021-12-19T00:00:00\",\"2021-12-20T00:00:00\",\"2021-12-21T00:00:00\",\"2021-12-22T00:00:00\",\"2021-12-23T00:00:00\",\"2021-12-24T00:00:00\",\"2021-12-25T00:00:00\",\"2021-12-26T00:00:00\",\"2021-12-27T00:00:00\",\"2021-12-28T00:00:00\",\"2021-12-29T00:00:00\",\"2021-12-30T00:00:00\",\"2021-12-31T00:00:00\"],\"y\":[0.0001747846690705046,0.0001747846690705046,0.0001747846690705046,0.0002746781974565238,0.000209166290005669,0.00026254652766510844,0.000226386240683496,0.0002483863499946892,0.00021212853607721627,0.00021212853607721627,0.00023025169502943754,0.0002418679796392098,0.00031816752743907273,0.0002962843282148242,0.00015187727694865316,0.0002785685355775058,0.00021538723376579583,0.00023810382117517292,0.0003198896301910281,0.0003465975751169026,0.0003219533246010542,0.0003219533246010542,0.00033493252703920007,0.0003109411336481571,0.0003027880156878382,0.0003004066238645464,0.0002782383235171437,8.120857819449157e-05,2.6625610189512372e-05,1.6947689800872467e-05,7.225227454910055e-05,6.266428681556135e-05,4.983224789611995e-05,6.067685899324715e-05,8.808047277852893e-05,0.00012111878459108993,0.00012111878459108993,0.00014706095680594444,0.00014706095680594444,0.00014706095680594444,0.00015602385974489152,0.00022775688557885587,0.00018879798881243914,0.00014902294788043946,0.00014404969988390803,0.00015440724382642657,0.0001355768763460219,0.0001517147320555523,0.00015433717635460198,0.00010218792886007577,6.771837070118636e-05,9.506155038252473e-05,0.00011657734285108745,9.086987847695127e-05,6.935127748874947e-05,4.1605268052080646e-05,7.158306107157841e-05,8.599868306191638e-05,5.937919195275754e-05,3.7551117202383466e-06,2.3903783130663214e-06,2.4783828393992735e-06,2.6060388336190954e-06,2.6191046345047653e-06,3.1990828119887738e-06,7.352868578891503e-06,1.3580222002929077e-05,1.3580222002929077e-05,2.6694053303799592e-05,5.737816081818892e-06,8.225812962336931e-06,2.0041332390974276e-05,3.6441299016587436e-05,2.5599032596801408e-05,2.343743108212948e-05,2.2514355805469677e-05,2.1968860892229713e-05,1.3233016034064349e-05,1.3233016034064349e-05,9.31049362407066e-06,9.31049362407066e-06,8.27249459689483e-06,3.980549081461504e-06,2.748679662545328e-06,1.8812868347595213e-06,1.3055791896476876e-06,2.0728953131765593e-06,1.7940257066584309e-06,1.7940257066584309e-06,1.7940257066584309e-06,4.524940777628217e-06,8.919777428673115e-06,7.556559467047919e-06,7.140737579902634e-05,2.0703428162960336e-06,2.832477184711024e-05,6.048609793651849e-05,5.839945515617728e-06,4.241476290189894e-06,4.241476290189894e-06,6.5905528572329786e-06,1.6136822296175524e-06,2.5802826257859124e-06,2.9783103627778473e-07,2.188291574611867e-07,2.635284772622981e-07,2.3680532024172862e-07,2.358648032441124e-07,2.5739979037098237e-07,4.6913612550270045e-07,4.6913612550270045e-07,5.46947262591857e-07,3.8301024574138864e-07,4.228816123941215e-07,2.69190110202544e-07,3.022734631485946e-07,3.022734631485946e-07,3.022734631485946e-07,3.022734631485946e-07,6.250987212297332e-07,1.0746207408374175e-06,2.070848267976544e-06,5.795786819362547e-06],\"type\":\"scatter\"}],                        {\"template\":{\"data\":{\"bar\":[{\"error_x\":{\"color\":\"#f2f5fa\"},\"error_y\":{\"color\":\"#f2f5fa\"},\"marker\":{\"line\":{\"color\":\"rgb(17,17,17)\",\"width\":0.5},\"pattern\":{\"fillmode\":\"overlay\",\"size\":10,\"solidity\":0.2}},\"type\":\"bar\"}],\"barpolar\":[{\"marker\":{\"line\":{\"color\":\"rgb(17,17,17)\",\"width\":0.5},\"pattern\":{\"fillmode\":\"overlay\",\"size\":10,\"solidity\":0.2}},\"type\":\"barpolar\"}],\"carpet\":[{\"aaxis\":{\"endlinecolor\":\"#A2B1C6\",\"gridcolor\":\"#506784\",\"linecolor\":\"#506784\",\"minorgridcolor\":\"#506784\",\"startlinecolor\":\"#A2B1C6\"},\"baxis\":{\"endlinecolor\":\"#A2B1C6\",\"gridcolor\":\"#506784\",\"linecolor\":\"#506784\",\"minorgridcolor\":\"#506784\",\"startlinecolor\":\"#A2B1C6\"},\"type\":\"carpet\"}],\"choropleth\":[{\"colorbar\":{\"outlinewidth\":0,\"ticks\":\"\"},\"type\":\"choropleth\"}],\"contour\":[{\"colorbar\":{\"outlinewidth\":0,\"ticks\":\"\"},\"colorscale\":[[0.0,\"#0d0887\"],[0.1111111111111111,\"#46039f\"],[0.2222222222222222,\"#7201a8\"],[0.3333333333333333,\"#9c179e\"],[0.4444444444444444,\"#bd3786\"],[0.5555555555555556,\"#d8576b\"],[0.6666666666666666,\"#ed7953\"],[0.7777777777777778,\"#fb9f3a\"],[0.8888888888888888,\"#fdca26\"],[1.0,\"#f0f921\"]],\"type\":\"contour\"}],\"contourcarpet\":[{\"colorbar\":{\"outlinewidth\":0,\"ticks\":\"\"},\"type\":\"contourcarpet\"}],\"heatmap\":[{\"colorbar\":{\"outlinewidth\":0,\"ticks\":\"\"},\"colorscale\":[[0.0,\"#0d0887\"],[0.1111111111111111,\"#46039f\"],[0.2222222222222222,\"#7201a8\"],[0.3333333333333333,\"#9c179e\"],[0.4444444444444444,\"#bd3786\"],[0.5555555555555556,\"#d8576b\"],[0.6666666666666666,\"#ed7953\"],[0.7777777777777778,\"#fb9f3a\"],[0.8888888888888888,\"#fdca26\"],[1.0,\"#f0f921\"]],\"type\":\"heatmap\"}],\"heatmapgl\":[{\"colorbar\":{\"outlinewidth\":0,\"ticks\":\"\"},\"colorscale\":[[0.0,\"#0d0887\"],[0.1111111111111111,\"#46039f\"],[0.2222222222222222,\"#7201a8\"],[0.3333333333333333,\"#9c179e\"],[0.4444444444444444,\"#bd3786\"],[0.5555555555555556,\"#d8576b\"],[0.6666666666666666,\"#ed7953\"],[0.7777777777777778,\"#fb9f3a\"],[0.8888888888888888,\"#fdca26\"],[1.0,\"#f0f921\"]],\"type\":\"heatmapgl\"}],\"histogram\":[{\"marker\":{\"pattern\":{\"fillmode\":\"overlay\",\"size\":10,\"solidity\":0.2}},\"type\":\"histogram\"}],\"histogram2d\":[{\"colorbar\":{\"outlinewidth\":0,\"ticks\":\"\"},\"colorscale\":[[0.0,\"#0d0887\"],[0.1111111111111111,\"#46039f\"],[0.2222222222222222,\"#7201a8\"],[0.3333333333333333,\"#9c179e\"],[0.4444444444444444,\"#bd3786\"],[0.5555555555555556,\"#d8576b\"],[0.6666666666666666,\"#ed7953\"],[0.7777777777777778,\"#fb9f3a\"],[0.8888888888888888,\"#fdca26\"],[1.0,\"#f0f921\"]],\"type\":\"histogram2d\"}],\"histogram2dcontour\":[{\"colorbar\":{\"outlinewidth\":0,\"ticks\":\"\"},\"colorscale\":[[0.0,\"#0d0887\"],[0.1111111111111111,\"#46039f\"],[0.2222222222222222,\"#7201a8\"],[0.3333333333333333,\"#9c179e\"],[0.4444444444444444,\"#bd3786\"],[0.5555555555555556,\"#d8576b\"],[0.6666666666666666,\"#ed7953\"],[0.7777777777777778,\"#fb9f3a\"],[0.8888888888888888,\"#fdca26\"],[1.0,\"#f0f921\"]],\"type\":\"histogram2dcontour\"}],\"mesh3d\":[{\"colorbar\":{\"outlinewidth\":0,\"ticks\":\"\"},\"type\":\"mesh3d\"}],\"parcoords\":[{\"line\":{\"colorbar\":{\"outlinewidth\":0,\"ticks\":\"\"}},\"type\":\"parcoords\"}],\"pie\":[{\"automargin\":true,\"type\":\"pie\"}],\"scatter\":[{\"marker\":{\"line\":{\"color\":\"#283442\"}},\"type\":\"scatter\"}],\"scatter3d\":[{\"line\":{\"colorbar\":{\"outlinewidth\":0,\"ticks\":\"\"}},\"marker\":{\"colorbar\":{\"outlinewidth\":0,\"ticks\":\"\"}},\"type\":\"scatter3d\"}],\"scattercarpet\":[{\"marker\":{\"colorbar\":{\"outlinewidth\":0,\"ticks\":\"\"}},\"type\":\"scattercarpet\"}],\"scattergeo\":[{\"marker\":{\"colorbar\":{\"outlinewidth\":0,\"ticks\":\"\"}},\"type\":\"scattergeo\"}],\"scattergl\":[{\"marker\":{\"line\":{\"color\":\"#283442\"}},\"type\":\"scattergl\"}],\"scattermapbox\":[{\"marker\":{\"colorbar\":{\"outlinewidth\":0,\"ticks\":\"\"}},\"type\":\"scattermapbox\"}],\"scatterpolar\":[{\"marker\":{\"colorbar\":{\"outlinewidth\":0,\"ticks\":\"\"}},\"type\":\"scatterpolar\"}],\"scatterpolargl\":[{\"marker\":{\"colorbar\":{\"outlinewidth\":0,\"ticks\":\"\"}},\"type\":\"scatterpolargl\"}],\"scatterternary\":[{\"marker\":{\"colorbar\":{\"outlinewidth\":0,\"ticks\":\"\"}},\"type\":\"scatterternary\"}],\"surface\":[{\"colorbar\":{\"outlinewidth\":0,\"ticks\":\"\"},\"colorscale\":[[0.0,\"#0d0887\"],[0.1111111111111111,\"#46039f\"],[0.2222222222222222,\"#7201a8\"],[0.3333333333333333,\"#9c179e\"],[0.4444444444444444,\"#bd3786\"],[0.5555555555555556,\"#d8576b\"],[0.6666666666666666,\"#ed7953\"],[0.7777777777777778,\"#fb9f3a\"],[0.8888888888888888,\"#fdca26\"],[1.0,\"#f0f921\"]],\"type\":\"surface\"}],\"table\":[{\"cells\":{\"fill\":{\"color\":\"#506784\"},\"line\":{\"color\":\"rgb(17,17,17)\"}},\"header\":{\"fill\":{\"color\":\"#2a3f5f\"},\"line\":{\"color\":\"rgb(17,17,17)\"}},\"type\":\"table\"}]},\"layout\":{\"annotationdefaults\":{\"arrowcolor\":\"#f2f5fa\",\"arrowhead\":0,\"arrowwidth\":1},\"autotypenumbers\":\"strict\",\"coloraxis\":{\"colorbar\":{\"outlinewidth\":0,\"ticks\":\"\"}},\"colorscale\":{\"diverging\":[[0,\"#8e0152\"],[0.1,\"#c51b7d\"],[0.2,\"#de77ae\"],[0.3,\"#f1b6da\"],[0.4,\"#fde0ef\"],[0.5,\"#f7f7f7\"],[0.6,\"#e6f5d0\"],[0.7,\"#b8e186\"],[0.8,\"#7fbc41\"],[0.9,\"#4d9221\"],[1,\"#276419\"]],\"sequential\":[[0.0,\"#0d0887\"],[0.1111111111111111,\"#46039f\"],[0.2222222222222222,\"#7201a8\"],[0.3333333333333333,\"#9c179e\"],[0.4444444444444444,\"#bd3786\"],[0.5555555555555556,\"#d8576b\"],[0.6666666666666666,\"#ed7953\"],[0.7777777777777778,\"#fb9f3a\"],[0.8888888888888888,\"#fdca26\"],[1.0,\"#f0f921\"]],\"sequentialminus\":[[0.0,\"#0d0887\"],[0.1111111111111111,\"#46039f\"],[0.2222222222222222,\"#7201a8\"],[0.3333333333333333,\"#9c179e\"],[0.4444444444444444,\"#bd3786\"],[0.5555555555555556,\"#d8576b\"],[0.6666666666666666,\"#ed7953\"],[0.7777777777777778,\"#fb9f3a\"],[0.8888888888888888,\"#fdca26\"],[1.0,\"#f0f921\"]]},\"colorway\":[\"#636efa\",\"#EF553B\",\"#00cc96\",\"#ab63fa\",\"#FFA15A\",\"#19d3f3\",\"#FF6692\",\"#B6E880\",\"#FF97FF\",\"#FECB52\"],\"font\":{\"color\":\"#f2f5fa\"},\"geo\":{\"bgcolor\":\"rgb(17,17,17)\",\"lakecolor\":\"rgb(17,17,17)\",\"landcolor\":\"rgb(17,17,17)\",\"showlakes\":true,\"showland\":true,\"subunitcolor\":\"#506784\"},\"hoverlabel\":{\"align\":\"left\"},\"hovermode\":\"closest\",\"mapbox\":{\"style\":\"dark\"},\"paper_bgcolor\":\"rgb(17,17,17)\",\"plot_bgcolor\":\"rgb(17,17,17)\",\"polar\":{\"angularaxis\":{\"gridcolor\":\"#506784\",\"linecolor\":\"#506784\",\"ticks\":\"\"},\"bgcolor\":\"rgb(17,17,17)\",\"radialaxis\":{\"gridcolor\":\"#506784\",\"linecolor\":\"#506784\",\"ticks\":\"\"}},\"scene\":{\"xaxis\":{\"backgroundcolor\":\"rgb(17,17,17)\",\"gridcolor\":\"#506784\",\"gridwidth\":2,\"linecolor\":\"#506784\",\"showbackground\":true,\"ticks\":\"\",\"zerolinecolor\":\"#C8D4E3\"},\"yaxis\":{\"backgroundcolor\":\"rgb(17,17,17)\",\"gridcolor\":\"#506784\",\"gridwidth\":2,\"linecolor\":\"#506784\",\"showbackground\":true,\"ticks\":\"\",\"zerolinecolor\":\"#C8D4E3\"},\"zaxis\":{\"backgroundcolor\":\"rgb(17,17,17)\",\"gridcolor\":\"#506784\",\"gridwidth\":2,\"linecolor\":\"#506784\",\"showbackground\":true,\"ticks\":\"\",\"zerolinecolor\":\"#C8D4E3\"}},\"shapedefaults\":{\"line\":{\"color\":\"#f2f5fa\"}},\"sliderdefaults\":{\"bgcolor\":\"#C8D4E3\",\"bordercolor\":\"rgb(17,17,17)\",\"borderwidth\":1,\"tickwidth\":0},\"ternary\":{\"aaxis\":{\"gridcolor\":\"#506784\",\"linecolor\":\"#506784\",\"ticks\":\"\"},\"baxis\":{\"gridcolor\":\"#506784\",\"linecolor\":\"#506784\",\"ticks\":\"\"},\"bgcolor\":\"rgb(17,17,17)\",\"caxis\":{\"gridcolor\":\"#506784\",\"linecolor\":\"#506784\",\"ticks\":\"\"}},\"title\":{\"x\":0.05},\"updatemenudefaults\":{\"bgcolor\":\"#506784\",\"borderwidth\":0},\"xaxis\":{\"automargin\":true,\"gridcolor\":\"#283442\",\"linecolor\":\"#506784\",\"ticks\":\"\",\"title\":{\"standoff\":15},\"zerolinecolor\":\"#283442\",\"zerolinewidth\":2},\"yaxis\":{\"automargin\":true,\"gridcolor\":\"#283442\",\"linecolor\":\"#506784\",\"ticks\":\"\",\"title\":{\"standoff\":15},\"zerolinecolor\":\"#283442\",\"zerolinewidth\":2}}},\"title\":{\"text\":\"Probability of event\"}},                        {\"responsive\": true}                    ).then(function(){\n                            \nvar gd = document.getElementById('c0f70e50-93e9-4861-afb8-bfc03f58fa88');\nvar x = new MutationObserver(function (mutations, observer) {{\n        var display = window.getComputedStyle(gd).display;\n        if (!display || display === 'none') {{\n            console.log([gd, 'removed!']);\n            Plotly.purge(gd);\n            observer.disconnect();\n        }}\n}});\n\n// Listen for the removal of the full notebook cells\nvar notebookContainer = gd.closest('#notebook-container');\nif (notebookContainer) {{\n    x.observe(notebookContainer, {childList: true});\n}}\n\n// Listen for the clearing of the current output cell\nvar outputEl = gd.closest('.output');\nif (outputEl) {{\n    x.observe(outputEl, {childList: true});\n}}\n\n                        })                };                });            </script>        </div>"
     },
     "metadata": {},
     "output_type": "display_data"
    }
   ],
   "source": [
    "figure_x = reserved_data[condition]['to date']\n",
    "figure_x_text = figure_x.map(lambda e: f'[{(e + DATE_TARGET_OFFSET).strftime(\"%d.%m.%Y\")}..{(e + DATE_TARGET_OFFSET + DATE_TARGET_DURATION).strftime(\"%d.%m.%Y\")}]')\n",
    "fig = go.Figure()\n",
    "fig.add_trace(go.Scatter(\n",
    "    x=figure_x,\n",
    "    y=1-result_proba[:,0],\n",
    "    mode='lines',\n",
    "    stackgroup='one',\n",
    "    line=dict(width=.25),\n",
    "    groupnorm='percent',\n",
    "    name='No event',\n",
    "    text=figure_x_text\n",
    "))\n",
    "fig.add_trace(go.Scatter(\n",
    "    x=figure_x,\n",
    "    y=result_proba[:,0],\n",
    "    mode='lines',\n",
    "    stackgroup='one',\n",
    "    line=dict(width=.25),\n",
    "    name='Event predicted',\n",
    "    text=figure_x_text\n",
    "))\n",
    "fig.update_layout(\n",
    "    title='Probability of event',\n",
    "    # width=500, height=500\n",
    ")\n",
    "fig.show()"
   ]
  },
  {
   "cell_type": "code",
   "execution_count": 56,
   "metadata": {
    "collapsed": false,
    "pycharm": {
     "name": "#%%\n"
    }
   },
   "outputs": [],
   "source": [
    "result = pd.DataFrame(reserved_data[condition])"
   ]
  },
  {
   "cell_type": "code",
   "execution_count": 57,
   "metadata": {
    "collapsed": false,
    "pycharm": {
     "name": "#%%\n"
    }
   },
   "outputs": [
    {
     "data": {
      "text/plain": "Series([], Name: to date, dtype: object)"
     },
     "execution_count": 57,
     "metadata": {},
     "output_type": "execute_result"
    }
   ],
   "source": [
    "result['predicted'] = result_pred\n",
    "result[(result['predicted'] > 0)]['to date'].map(\n",
    "    lambda date:\n",
    "    f'K >= {STARTING_EVENT_CLASS}; Dates [{(date + DATE_TARGET_OFFSET).strftime(\"%d.%m.%Y\")}..{(date + DATE_TARGET_OFFSET + DATE_TARGET_DURATION).strftime(\"%d.%m.%Y\")}]'\n",
    ")"
   ]
  },
  {
   "cell_type": "code",
   "execution_count": 57,
   "metadata": {
    "collapsed": false,
    "pycharm": {
     "name": "#%%\n"
    }
   },
   "outputs": [],
   "source": []
  }
 ],
 "metadata": {
  "kernelspec": {
   "display_name": "Python 3",
   "language": "python",
   "name": "python3"
  },
  "language_info": {
   "codemirror_mode": {
    "name": "ipython",
    "version": 2
   },
   "file_extension": ".py",
   "mimetype": "text/x-python",
   "name": "python",
   "nbconvert_exporter": "python",
   "pygments_lexer": "ipython2",
   "version": "3.10.3"
  }
 },
 "nbformat": 4,
 "nbformat_minor": 0
}